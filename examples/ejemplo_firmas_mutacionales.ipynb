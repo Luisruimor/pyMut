{
 "cells": [
  {
   "cell_type": "markdown",
   "metadata": {
    "vscode": {
     "languageId": "raw"
    }
   },
   "source": [
    "# Análisis de Firmas Mutacionales con pyMut\n",
    "Este notebook demuestra cómo usar **pyMut** para realizar análisis de firmas mutacionales de forma **simple y directa**.\n",
    "\n",
    "pyMut proporciona una API de alto nivel que permite generar análisis completos con pocas líneas de código.\n",
    "\n",
    "## ¿Qué son las firmas mutacionales?\n",
    "\n",
    "Las firmas mutacionales son patrones característicos que revelan procesos mutagénicos específicos:\n",
    "- Exposición al tabaco\n",
    "- Daño por radiación UV  \n",
    "- Defectos en reparación del ADN\n",
    "- Procesos de envejecimiento\n",
    "\n",
    "---\n"
   ]
  },
  {
   "cell_type": "markdown",
   "metadata": {
    "vscode": {
     "languageId": "raw"
    }
   },
   "source": [
    "## 1. Configuración Simple\n"
   ]
  },
  {
   "cell_type": "code",
   "execution_count": 7,
   "metadata": {},
   "outputs": [
    {
     "name": "stdout",
     "output_type": "stream",
     "text": [
      "✅ High-quality configuration activated for matplotlib\n",
      "   • DPI: 300 (high resolution)\n",
      "   • Margins: automatic (tight)\n",
      "   • Format: optimized PNG\n",
      "   ℹ️  Now all figures will be automatically saved in high quality\n",
      "✅ pyMut configurado correctamente\n"
     ]
    }
   ],
   "source": [
    "# Importaciones simples\n",
    "import pandas as pd\n",
    "import numpy as np\n",
    "from pyMut import PyMutation\n",
    "from pyMut.core import MutationMetadata\n",
    "\n",
    "# Configurar para gráficos de alta calidad\n",
    "PyMutation.configure_high_quality_plots()\n",
    "\n",
    "print(\"✅ pyMut configurado correctamente\")\n"
   ]
  },
  {
   "cell_type": "markdown",
   "metadata": {
    "vscode": {
     "languageId": "raw"
    }
   },
   "source": [
    "## 2. Cargar Datos\n"
   ]
  },
  {
   "cell_type": "code",
   "execution_count": 9,
   "metadata": {},
   "outputs": [
    {
     "name": "stdout",
     "output_type": "stream",
     "text": [
      "📁 Loading TCGA LAML data...\n",
      "✅ Data loaded successfully!\n",
      "   • 2,207 mutations\n",
      "   • 193 unique samples\n",
      "   • 1,611 unique genes\n",
      "\n",
      "📊 Data format: Wide format (samples as columns)\n",
      "   • VCF-like columns: CHROM, POS, REF, ALT, FILTER\n",
      "   • Sample columns: ['TCGA-AB-2988', 'TCGA-AB-2869', 'TCGA-AB-3009']... (showing first 3)\n",
      "   • Gene info: Hugo_Symbol, Variant_Classification\n",
      "\n",
      "🔍 First 3 rows (selected columns):\n",
      "  CHROM        POS REF ALT TCGA-AB-2988 TCGA-AB-2869 Hugo_Symbol  \\\n",
      "0    17   67170916   T   C          T|C          T|T      ABCA10   \n",
      "1     1   94490593   C   T          C|C          C|T       ABCA4   \n",
      "2     2  169780249   G   A          G|G          G|G      ABCB11   \n",
      "\n",
      "  Variant_Classification  \n",
      "0            SPLICE_SITE  \n",
      "1      MISSENSE_MUTATION  \n",
      "2      MISSENSE_MUTATION  \n",
      "\n",
      "🎯 PyMutation object created successfully with TCGA LAML data!\n",
      "   • Ready for mutational signature analysis\n",
      "   • Data format: Wide (samples as columns)\n",
      "   • Total samples: 193\n"
     ]
    }
   ],
   "source": [
    "# Cargar datos reales de TCGA LAML (formato wide ya procesado)\n",
    "import os\n",
    "\n",
    "# Ruta al archivo de datos TCGA\n",
    "data_path = \"../src/pyMut/data/examples/tcga_laml_converted.tsv\"\n",
    "\n",
    "# Verificar que el archivo existe\n",
    "if not os.path.exists(data_path):\n",
    "    raise FileNotFoundError(f\"No se encontró el archivo de datos: {data_path}\")\n",
    "\n",
    "# Cargar datos reales\n",
    "print(\"📁 Loading TCGA LAML data...\")\n",
    "datos = pd.read_csv(data_path, sep='\\t')\n",
    "\n",
    "# Obtener columnas de muestras (formato TCGA-AB-XXXX)\n",
    "sample_columns = [col for col in datos.columns if col.startswith('TCGA-AB-')]\n",
    "n_samples = len(sample_columns)\n",
    "\n",
    "# Mostrar información básica de los datos\n",
    "print(f\"✅ Data loaded successfully!\")\n",
    "print(f\"   • {len(datos):,} mutations\")\n",
    "print(f\"   • {n_samples:,} unique samples\")\n",
    "print(f\"   • {datos['Hugo_Symbol'].nunique():,} unique genes\")\n",
    "\n",
    "# Mostrar las primeras columnas para verificar el formato\n",
    "print(f\"\\n📊 Data format: Wide format (samples as columns)\")\n",
    "print(f\"   • VCF-like columns: CHROM, POS, REF, ALT, FILTER\")\n",
    "print(f\"   • Sample columns: {sample_columns[:3]}... (showing first 3)\")\n",
    "print(f\"   • Gene info: Hugo_Symbol, Variant_Classification\")\n",
    "\n",
    "print(f\"\\n🔍 First 3 rows (selected columns):\")\n",
    "preview_cols = ['CHROM', 'POS', 'REF', 'ALT'] + sample_columns[:2] + ['Hugo_Symbol', 'Variant_Classification']\n",
    "print(datos[preview_cols].head(3))\n",
    "\n",
    "# Crear objeto PyMutation con datos reales\n",
    "metadata = MutationMetadata(\n",
    "    source_format=\"TCGA_VCF_like\", \n",
    "    file_path=data_path,\n",
    "    filters=[\"PASS\"], \n",
    "    fasta=\"GRCh37\"\n",
    ")\n",
    "\n",
    "py_mut = PyMutation(datos, metadata)\n",
    "\n",
    "print(f\"\\n🎯 PyMutation object created successfully with TCGA LAML data!\")\n",
    "print(f\"   • Ready for mutational signature analysis\")\n",
    "print(f\"   • Data format: Wide (samples as columns)\")\n",
    "print(f\"   • Total samples: {n_samples}\")\n"
   ]
  },
  {
   "cell_type": "markdown",
   "metadata": {
    "vscode": {
     "languageId": "raw"
    }
   },
   "source": [
    "## 3. Análisis Completo\n",
    "\n",
    "**¡Esta es la potencia de pyMut!** Una sola llamada genera todo el análisis:\n",
    "\n",
    "- Extracción automática de la matriz de 96 categorías\n",
    "- Factorización NMF para identificar firmas\n",
    "- Perfiles de firmas mutacionales\n",
    "- Similitud con firmas COSMIC conocidas  \n",
    "- Mapas de calor de contribuciones\n",
    "- Gráficos de barras y donas\n"
   ]
  },
  {
   "cell_type": "code",
   "execution_count": 10,
   "metadata": {},
   "outputs": [
    {
     "name": "stdout",
     "output_type": "stream",
     "text": [
      "Extracting mutation matrix...\n",
      "Matrix shape: (0, 96)\n",
      "Total mutations: 0\n",
      "Warning: No mutations found in data\n",
      "💾 Analysis saved as: analisis_mutational_signature_completo.png\n"
     ]
    },
    {
     "data": {
      "text/plain": [
       "<Figure size 6000x7200 with 0 Axes>"
      ]
     },
     "metadata": {},
     "output_type": "display_data"
    }
   ],
   "source": [
    "fig_completo = py_mut.mutational_signature_plot(\n",
    "    n_signatures=3,\n",
    "    title=\"TCGA LAML - Mutational Signature Analysis\",\n",
    "    figsize=(20, 24),\n",
    "    show_interactive=False\n",
    ")\n",
    "\n",
    "# Guardar el análisis completo\n",
    "fig_completo.savefig(\"analisis_mutational_signature_completo.png\")\n",
    "print(\"💾 Analysis saved as: analisis_mutational_signature_completo.png\")\n"
   ]
  },
  {
   "cell_type": "markdown",
   "metadata": {
    "vscode": {
     "languageId": "raw"
    }
   },
   "source": [
    "## 4. Análisis Específicos (Opcional)\n",
    "\n",
    "Si necesitas solo una visualización específica, pyMut también lo permite:\n"
   ]
  },
  {
   "cell_type": "code",
   "execution_count": 11,
   "metadata": {},
   "outputs": [
    {
     "ename": "ValueError",
     "evalue": "Found array with 0 sample(s) (shape=(0, 96)) while a minimum of 1 is required by NMF.",
     "output_type": "error",
     "traceback": [
      "\u001b[0;31m---------------------------------------------------------------------------\u001b[0m",
      "\u001b[0;31mValueError\u001b[0m                                Traceback (most recent call last)",
      "Cell \u001b[0;32mIn[11], line 10\u001b[0m\n\u001b[1;32m      8\u001b[0m \u001b[38;5;66;03m# Ejemplo de perfiles de firmas mutacionales únicamente\u001b[39;00m\n\u001b[1;32m      9\u001b[0m matriz, muestras \u001b[38;5;241m=\u001b[39m extract_mutation_matrix(datos)\n\u001b[0;32m---> 10\u001b[0m W, H \u001b[38;5;241m=\u001b[39m \u001b[43mperform_nmf\u001b[49m\u001b[43m(\u001b[49m\u001b[43mmatriz\u001b[49m\u001b[43m,\u001b[49m\u001b[43m \u001b[49m\u001b[43mn_signatures\u001b[49m\u001b[38;5;241;43m=\u001b[39;49m\u001b[38;5;241;43m3\u001b[39;49m\u001b[43m)\u001b[49m\n\u001b[1;32m     12\u001b[0m fig_perfiles \u001b[38;5;241m=\u001b[39m create_signature_profile_plot(\n\u001b[1;32m     13\u001b[0m     H, \n\u001b[1;32m     14\u001b[0m     signature_names\u001b[38;5;241m=\u001b[39m[\u001b[38;5;124m\"\u001b[39m\u001b[38;5;124mSignature 1\u001b[39m\u001b[38;5;124m\"\u001b[39m, \u001b[38;5;124m\"\u001b[39m\u001b[38;5;124mSignature 2\u001b[39m\u001b[38;5;124m\"\u001b[39m, \u001b[38;5;124m\"\u001b[39m\u001b[38;5;124mSignature 3\u001b[39m\u001b[38;5;124m\"\u001b[39m],\n\u001b[1;32m     15\u001b[0m     figsize\u001b[38;5;241m=\u001b[39m(\u001b[38;5;241m20\u001b[39m, \u001b[38;5;241m6\u001b[39m)\n\u001b[1;32m     16\u001b[0m )\n\u001b[1;32m     18\u001b[0m \u001b[38;5;28mprint\u001b[39m(\u001b[38;5;124m\"\u001b[39m\u001b[38;5;124m📊 Individual signature profiles generated\u001b[39m\u001b[38;5;124m\"\u001b[39m)\n",
      "File \u001b[0;32m~/pyMut/src/pyMut/visualizations/mutational_signature.py:214\u001b[0m, in \u001b[0;36mperform_nmf\u001b[0;34m(matrix, n_signatures, random_state)\u001b[0m\n\u001b[1;32m    201\u001b[0m \u001b[38;5;250m\u001b[39m\u001b[38;5;124;03m\"\"\"\u001b[39;00m\n\u001b[1;32m    202\u001b[0m \u001b[38;5;124;03mPerform Non-negative Matrix Factorization to extract mutational signatures.\u001b[39;00m\n\u001b[1;32m    203\u001b[0m \u001b[38;5;124;03m\u001b[39;00m\n\u001b[0;32m   (...)\u001b[0m\n\u001b[1;32m    211\u001b[0m \u001b[38;5;124;03m    H: Signature profile matrix (signatures x 96 categories)\u001b[39;00m\n\u001b[1;32m    212\u001b[0m \u001b[38;5;124;03m\"\"\"\u001b[39;00m\n\u001b[1;32m    213\u001b[0m model \u001b[38;5;241m=\u001b[39m NMF(n_components\u001b[38;5;241m=\u001b[39mn_signatures, init\u001b[38;5;241m=\u001b[39m\u001b[38;5;124m'\u001b[39m\u001b[38;5;124mrandom\u001b[39m\u001b[38;5;124m'\u001b[39m, random_state\u001b[38;5;241m=\u001b[39mrandom_state)\n\u001b[0;32m--> 214\u001b[0m W \u001b[38;5;241m=\u001b[39m \u001b[43mmodel\u001b[49m\u001b[38;5;241;43m.\u001b[39;49m\u001b[43mfit_transform\u001b[49m\u001b[43m(\u001b[49m\u001b[43mmatrix\u001b[49m\u001b[43m \u001b[49m\u001b[38;5;241;43m+\u001b[39;49m\u001b[43m \u001b[49m\u001b[38;5;241;43m1e-6\u001b[39;49m\u001b[43m)\u001b[49m  \u001b[38;5;66;03m# Add small value to avoid zeros\u001b[39;00m\n\u001b[1;32m    215\u001b[0m H \u001b[38;5;241m=\u001b[39m model\u001b[38;5;241m.\u001b[39mcomponents_\n\u001b[1;32m    217\u001b[0m \u001b[38;5;28;01mreturn\u001b[39;00m W, H\n",
      "File \u001b[0;32m~/.local/lib/python3.10/site-packages/sklearn/utils/_set_output.py:140\u001b[0m, in \u001b[0;36m_wrap_method_output.<locals>.wrapped\u001b[0;34m(self, X, *args, **kwargs)\u001b[0m\n\u001b[1;32m    138\u001b[0m \u001b[38;5;129m@wraps\u001b[39m(f)\n\u001b[1;32m    139\u001b[0m \u001b[38;5;28;01mdef\u001b[39;00m \u001b[38;5;21mwrapped\u001b[39m(\u001b[38;5;28mself\u001b[39m, X, \u001b[38;5;241m*\u001b[39margs, \u001b[38;5;241m*\u001b[39m\u001b[38;5;241m*\u001b[39mkwargs):\n\u001b[0;32m--> 140\u001b[0m     data_to_wrap \u001b[38;5;241m=\u001b[39m \u001b[43mf\u001b[49m\u001b[43m(\u001b[49m\u001b[38;5;28;43mself\u001b[39;49m\u001b[43m,\u001b[49m\u001b[43m \u001b[49m\u001b[43mX\u001b[49m\u001b[43m,\u001b[49m\u001b[43m \u001b[49m\u001b[38;5;241;43m*\u001b[39;49m\u001b[43margs\u001b[49m\u001b[43m,\u001b[49m\u001b[43m \u001b[49m\u001b[38;5;241;43m*\u001b[39;49m\u001b[38;5;241;43m*\u001b[39;49m\u001b[43mkwargs\u001b[49m\u001b[43m)\u001b[49m\n\u001b[1;32m    141\u001b[0m     \u001b[38;5;28;01mif\u001b[39;00m \u001b[38;5;28misinstance\u001b[39m(data_to_wrap, \u001b[38;5;28mtuple\u001b[39m):\n\u001b[1;32m    142\u001b[0m         \u001b[38;5;66;03m# only wrap the first output for cross decomposition\u001b[39;00m\n\u001b[1;32m    143\u001b[0m         return_tuple \u001b[38;5;241m=\u001b[39m (\n\u001b[1;32m    144\u001b[0m             _wrap_data_with_container(method, data_to_wrap[\u001b[38;5;241m0\u001b[39m], X, \u001b[38;5;28mself\u001b[39m),\n\u001b[1;32m    145\u001b[0m             \u001b[38;5;241m*\u001b[39mdata_to_wrap[\u001b[38;5;241m1\u001b[39m:],\n\u001b[1;32m    146\u001b[0m         )\n",
      "File \u001b[0;32m~/.local/lib/python3.10/site-packages/sklearn/base.py:1151\u001b[0m, in \u001b[0;36m_fit_context.<locals>.decorator.<locals>.wrapper\u001b[0;34m(estimator, *args, **kwargs)\u001b[0m\n\u001b[1;32m   1144\u001b[0m     estimator\u001b[38;5;241m.\u001b[39m_validate_params()\n\u001b[1;32m   1146\u001b[0m \u001b[38;5;28;01mwith\u001b[39;00m config_context(\n\u001b[1;32m   1147\u001b[0m     skip_parameter_validation\u001b[38;5;241m=\u001b[39m(\n\u001b[1;32m   1148\u001b[0m         prefer_skip_nested_validation \u001b[38;5;129;01mor\u001b[39;00m global_skip_validation\n\u001b[1;32m   1149\u001b[0m     )\n\u001b[1;32m   1150\u001b[0m ):\n\u001b[0;32m-> 1151\u001b[0m     \u001b[38;5;28;01mreturn\u001b[39;00m \u001b[43mfit_method\u001b[49m\u001b[43m(\u001b[49m\u001b[43mestimator\u001b[49m\u001b[43m,\u001b[49m\u001b[43m \u001b[49m\u001b[38;5;241;43m*\u001b[39;49m\u001b[43margs\u001b[49m\u001b[43m,\u001b[49m\u001b[43m \u001b[49m\u001b[38;5;241;43m*\u001b[39;49m\u001b[38;5;241;43m*\u001b[39;49m\u001b[43mkwargs\u001b[49m\u001b[43m)\u001b[49m\n",
      "File \u001b[0;32m~/.local/lib/python3.10/site-packages/sklearn/decomposition/_nmf.py:1601\u001b[0m, in \u001b[0;36mNMF.fit_transform\u001b[0;34m(self, X, y, W, H)\u001b[0m\n\u001b[1;32m   1573\u001b[0m \u001b[38;5;129m@_fit_context\u001b[39m(prefer_skip_nested_validation\u001b[38;5;241m=\u001b[39m\u001b[38;5;28;01mTrue\u001b[39;00m)\n\u001b[1;32m   1574\u001b[0m \u001b[38;5;28;01mdef\u001b[39;00m \u001b[38;5;21mfit_transform\u001b[39m(\u001b[38;5;28mself\u001b[39m, X, y\u001b[38;5;241m=\u001b[39m\u001b[38;5;28;01mNone\u001b[39;00m, W\u001b[38;5;241m=\u001b[39m\u001b[38;5;28;01mNone\u001b[39;00m, H\u001b[38;5;241m=\u001b[39m\u001b[38;5;28;01mNone\u001b[39;00m):\n\u001b[1;32m   1575\u001b[0m \u001b[38;5;250m    \u001b[39m\u001b[38;5;124;03m\"\"\"Learn a NMF model for the data X and returns the transformed data.\u001b[39;00m\n\u001b[1;32m   1576\u001b[0m \n\u001b[1;32m   1577\u001b[0m \u001b[38;5;124;03m    This is more efficient than calling fit followed by transform.\u001b[39;00m\n\u001b[0;32m   (...)\u001b[0m\n\u001b[1;32m   1599\u001b[0m \u001b[38;5;124;03m        Transformed data.\u001b[39;00m\n\u001b[1;32m   1600\u001b[0m \u001b[38;5;124;03m    \"\"\"\u001b[39;00m\n\u001b[0;32m-> 1601\u001b[0m     X \u001b[38;5;241m=\u001b[39m \u001b[38;5;28;43mself\u001b[39;49m\u001b[38;5;241;43m.\u001b[39;49m\u001b[43m_validate_data\u001b[49m\u001b[43m(\u001b[49m\n\u001b[1;32m   1602\u001b[0m \u001b[43m        \u001b[49m\u001b[43mX\u001b[49m\u001b[43m,\u001b[49m\u001b[43m \u001b[49m\u001b[43maccept_sparse\u001b[49m\u001b[38;5;241;43m=\u001b[39;49m\u001b[43m(\u001b[49m\u001b[38;5;124;43m\"\u001b[39;49m\u001b[38;5;124;43mcsr\u001b[39;49m\u001b[38;5;124;43m\"\u001b[39;49m\u001b[43m,\u001b[49m\u001b[43m \u001b[49m\u001b[38;5;124;43m\"\u001b[39;49m\u001b[38;5;124;43mcsc\u001b[39;49m\u001b[38;5;124;43m\"\u001b[39;49m\u001b[43m)\u001b[49m\u001b[43m,\u001b[49m\u001b[43m \u001b[49m\u001b[43mdtype\u001b[49m\u001b[38;5;241;43m=\u001b[39;49m\u001b[43m[\u001b[49m\u001b[43mnp\u001b[49m\u001b[38;5;241;43m.\u001b[39;49m\u001b[43mfloat64\u001b[49m\u001b[43m,\u001b[49m\u001b[43m \u001b[49m\u001b[43mnp\u001b[49m\u001b[38;5;241;43m.\u001b[39;49m\u001b[43mfloat32\u001b[49m\u001b[43m]\u001b[49m\n\u001b[1;32m   1603\u001b[0m \u001b[43m    \u001b[49m\u001b[43m)\u001b[49m\n\u001b[1;32m   1605\u001b[0m     \u001b[38;5;28;01mwith\u001b[39;00m config_context(assume_finite\u001b[38;5;241m=\u001b[39m\u001b[38;5;28;01mTrue\u001b[39;00m):\n\u001b[1;32m   1606\u001b[0m         W, H, n_iter \u001b[38;5;241m=\u001b[39m \u001b[38;5;28mself\u001b[39m\u001b[38;5;241m.\u001b[39m_fit_transform(X, W\u001b[38;5;241m=\u001b[39mW, H\u001b[38;5;241m=\u001b[39mH)\n",
      "File \u001b[0;32m~/.local/lib/python3.10/site-packages/sklearn/base.py:604\u001b[0m, in \u001b[0;36mBaseEstimator._validate_data\u001b[0;34m(self, X, y, reset, validate_separately, cast_to_ndarray, **check_params)\u001b[0m\n\u001b[1;32m    602\u001b[0m         out \u001b[38;5;241m=\u001b[39m X, y\n\u001b[1;32m    603\u001b[0m \u001b[38;5;28;01melif\u001b[39;00m \u001b[38;5;129;01mnot\u001b[39;00m no_val_X \u001b[38;5;129;01mand\u001b[39;00m no_val_y:\n\u001b[0;32m--> 604\u001b[0m     out \u001b[38;5;241m=\u001b[39m \u001b[43mcheck_array\u001b[49m\u001b[43m(\u001b[49m\u001b[43mX\u001b[49m\u001b[43m,\u001b[49m\u001b[43m \u001b[49m\u001b[43minput_name\u001b[49m\u001b[38;5;241;43m=\u001b[39;49m\u001b[38;5;124;43m\"\u001b[39;49m\u001b[38;5;124;43mX\u001b[39;49m\u001b[38;5;124;43m\"\u001b[39;49m\u001b[43m,\u001b[49m\u001b[43m \u001b[49m\u001b[38;5;241;43m*\u001b[39;49m\u001b[38;5;241;43m*\u001b[39;49m\u001b[43mcheck_params\u001b[49m\u001b[43m)\u001b[49m\n\u001b[1;32m    605\u001b[0m \u001b[38;5;28;01melif\u001b[39;00m no_val_X \u001b[38;5;129;01mand\u001b[39;00m \u001b[38;5;129;01mnot\u001b[39;00m no_val_y:\n\u001b[1;32m    606\u001b[0m     out \u001b[38;5;241m=\u001b[39m _check_y(y, \u001b[38;5;241m*\u001b[39m\u001b[38;5;241m*\u001b[39mcheck_params)\n",
      "File \u001b[0;32m~/.local/lib/python3.10/site-packages/sklearn/utils/validation.py:969\u001b[0m, in \u001b[0;36mcheck_array\u001b[0;34m(array, accept_sparse, accept_large_sparse, dtype, order, copy, force_all_finite, ensure_2d, allow_nd, ensure_min_samples, ensure_min_features, estimator, input_name)\u001b[0m\n\u001b[1;32m    967\u001b[0m     n_samples \u001b[38;5;241m=\u001b[39m _num_samples(array)\n\u001b[1;32m    968\u001b[0m     \u001b[38;5;28;01mif\u001b[39;00m n_samples \u001b[38;5;241m<\u001b[39m ensure_min_samples:\n\u001b[0;32m--> 969\u001b[0m         \u001b[38;5;28;01mraise\u001b[39;00m \u001b[38;5;167;01mValueError\u001b[39;00m(\n\u001b[1;32m    970\u001b[0m             \u001b[38;5;124m\"\u001b[39m\u001b[38;5;124mFound array with \u001b[39m\u001b[38;5;132;01m%d\u001b[39;00m\u001b[38;5;124m sample(s) (shape=\u001b[39m\u001b[38;5;132;01m%s\u001b[39;00m\u001b[38;5;124m) while a\u001b[39m\u001b[38;5;124m\"\u001b[39m\n\u001b[1;32m    971\u001b[0m             \u001b[38;5;124m\"\u001b[39m\u001b[38;5;124m minimum of \u001b[39m\u001b[38;5;132;01m%d\u001b[39;00m\u001b[38;5;124m is required\u001b[39m\u001b[38;5;132;01m%s\u001b[39;00m\u001b[38;5;124m.\u001b[39m\u001b[38;5;124m\"\u001b[39m\n\u001b[1;32m    972\u001b[0m             \u001b[38;5;241m%\u001b[39m (n_samples, array\u001b[38;5;241m.\u001b[39mshape, ensure_min_samples, context)\n\u001b[1;32m    973\u001b[0m         )\n\u001b[1;32m    975\u001b[0m \u001b[38;5;28;01mif\u001b[39;00m ensure_min_features \u001b[38;5;241m>\u001b[39m \u001b[38;5;241m0\u001b[39m \u001b[38;5;129;01mand\u001b[39;00m array\u001b[38;5;241m.\u001b[39mndim \u001b[38;5;241m==\u001b[39m \u001b[38;5;241m2\u001b[39m:\n\u001b[1;32m    976\u001b[0m     n_features \u001b[38;5;241m=\u001b[39m array\u001b[38;5;241m.\u001b[39mshape[\u001b[38;5;241m1\u001b[39m]\n",
      "\u001b[0;31mValueError\u001b[0m: Found array with 0 sample(s) (shape=(0, 96)) while a minimum of 1 is required by NMF."
     ]
    }
   ],
   "source": [
    "# Si solo necesitas una visualización específica, puedes usar las funciones individuales\n",
    "from pyMut.visualizations.mutational_signature import (\n",
    "    extract_mutation_matrix,\n",
    "    perform_nmf, \n",
    "    create_signature_profile_plot\n",
    ")\n",
    "\n",
    "# Ejemplo de perfiles de firmas mutacionales únicamente\n",
    "matriz, muestras = extract_mutation_matrix(datos)\n",
    "W, H = perform_nmf(matriz, n_signatures=3)\n",
    "\n",
    "fig_perfiles = create_signature_profile_plot(\n",
    "    H, \n",
    "    signature_names=[\"Signature 1\", \"Signature 2\", \"Signature 3\"],\n",
    "    figsize=(20, 6)\n",
    ")\n",
    "\n",
    "print(\"📊 Individual signature profiles generated\")\n",
    "fig_perfiles.savefig(\"perfiles_firmas_mutacionales.png\")\n",
    "print(\"💾 Signature profiles saved as: perfiles_firmas_mutacionales.png\")"
   ]
  }
 ],
 "metadata": {
  "kernelspec": {
   "display_name": "Python 3",
   "language": "python",
   "name": "python3"
  },
  "language_info": {
   "codemirror_mode": {
    "name": "ipython",
    "version": 3
   },
   "file_extension": ".py",
   "mimetype": "text/x-python",
   "name": "python",
   "nbconvert_exporter": "python",
   "pygments_lexer": "ipython3",
   "version": "3.10.12"
  }
 },
 "nbformat": 4,
 "nbformat_minor": 2
}
