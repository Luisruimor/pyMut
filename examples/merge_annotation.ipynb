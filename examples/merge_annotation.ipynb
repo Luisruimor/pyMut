{
 "cells": [
  {
   "metadata": {},
   "cell_type": "markdown",
   "source": [
    "# VEP Annotation Merge Demo\n",
    "\n",
    "Este notebook demuestra el uso del módulo `merge_vep_annotation.py` de pyMut para fusionar anotaciones VEP con datos MAF.\n",
    "\n",
    "## Descripción del módulo\n",
    "\n",
    "El módulo `merge_vep_annotation` permite combinar las anotaciones generadas por VEP (Variant Effect Predictor) con archivos MAF (Mutation Annotation Format), enriqueciendo los datos de mutaciones con información detallada sobre consecuencias funcionales, dominios proteicos, y otros metadatos importantes.\n"
   ],
   "id": "7559588b7472b44d"
  },
  {
   "metadata": {},
   "cell_type": "markdown",
   "source": "## 1. Importar librerías y configurar el entorno\n",
   "id": "2b16aaea184dcf8d"
  },
  {
   "metadata": {
    "ExecuteTime": {
     "end_time": "2025-07-10T10:56:31.696931Z",
     "start_time": "2025-07-10T10:56:30.988162Z"
    }
   },
   "cell_type": "code",
   "source": [
    "import sys\n",
    "import os\n",
    "\n",
    "sys.path.insert(0, '../src')\n",
    "\n",
    "# Importar la función específica\n",
    "from pyMut.utils.merge_vep_annotation import merge_maf_with_vep_annotations\n",
    "\n",
    "print(\"=== TEST: merge_maf_with_vep_annotations ===\")\n",
    "\n",
    "try:\n",
    "    maf_file = \"../src/pyMut/data/examples/tcga_laml.maf.gz\"\n",
    "    vep_file = \"../src/pyMut/data/examples/annVEP_tcga_laml/tcga_laml_vep.txt\"\n",
    "    # output_file = \"merged_maf_with_vep.tsv.gz\"\n",
    "\n",
    "\n",
    "    print(f\"Archivo MAF: {maf_file}\")\n",
    "    print(f\"Archivo VEP: {vep_file}\")\n",
    "\n",
    "    # Verificar que los archivos existen\n",
    "    if not os.path.exists(maf_file):\n",
    "        print(f\"✗ Error: No se encuentra el archivo MAF: {maf_file}\")\n",
    "    elif not os.path.exists(vep_file):\n",
    "        print(f\"✗ Error: No se encuentra el archivo VEP: {vep_file}\")\n",
    "    else:\n",
    "        print(\"✓ Archivos de entrada encontrados\")\n",
    "\n",
    "        # Ejecutar la función de merge\n",
    "        print(\"\\nEjecutando merge_maf_with_vep_annotations...\")\n",
    "        result_df, output_path = merge_maf_with_vep_annotations(\n",
    "            maf_file=maf_file,\n",
    "            vep_file=vep_file\n",
    "        )\n",
    "\n",
    "        print(f\"✓ Merge completado exitosamente!\")\n",
    "        print(f\"✓ Archivo de salida generado: {output_path}\")\n",
    "        print(f\"✓ Número de mutaciones procesadas: {len(result_df)}\")\n",
    "        print(f\"✓ Número de columnas en el resultado: {len(result_df.columns)}\")\n",
    "\n",
    "        # Ejecutar la funcion de merge con compresión\n",
    "        print(f\"\\n=== Demostrando compresión ===\")\n",
    "        result_df_compressed, output_path_compressed = merge_maf_with_vep_annotations(\n",
    "            maf_file=maf_file,\n",
    "            vep_file=vep_file,\n",
    "            compress=True\n",
    "        )\n",
    "\n",
    "        print(f\"✓ Archivo comprimido generado: {output_path_compressed}\")\n",
    "except Exception as e:\n",
    "    print(f\"✗ Error durante el test: {e}\")\n",
    "    import traceback\n",
    "\n",
    "    traceback.print_exc()\n"
   ],
   "id": "3966891d76f90564",
   "outputs": [
    {
     "name": "stderr",
     "output_type": "stream",
     "text": [
      "2025-07-10 12:56:31,449 | INFO | pyMut.utils.merge_vep_annotation | Reading MAF file: ../src/pyMut/data/examples/tcga_laml.maf.gz\n",
      "2025-07-10 12:56:31,457 | INFO | pyMut.utils.merge_vep_annotation | MAF file loaded: 2207 rows, 17 columns\n",
      "2025-07-10 12:56:31,457 | INFO | pyMut.utils.merge_vep_annotation | Reading VEP file: ../src/pyMut/data/examples/annVEP_tcga_laml/tcga_laml_vep.txt\n",
      "2025-07-10 12:56:31,462 | INFO | pyMut.utils.merge_vep_annotation | VEP file loaded: 1619 rows, 14 columns\n",
      "2025-07-10 12:56:31,463 | INFO | pyMut.utils.merge_vep_annotation | Creating region keys for MAF data...\n",
      "2025-07-10 12:56:31,482 | INFO | pyMut.utils.merge_vep_annotation | Parsing VEP Extra column...\n",
      "2025-07-10 12:56:31,491 | INFO | pyMut.utils.merge_vep_annotation | Filtered to 1422 meaningful annotations\n",
      "2025-07-10 12:56:31,491 | INFO | pyMut.utils.merge_vep_annotation | Performing optimized merge with DuckDB...\n",
      "2025-07-10 12:56:31,549 | INFO | pyMut.utils.merge_vep_annotation | Merge completed: 2431 rows, 39 columns\n",
      "2025-07-10 12:56:31,549 | INFO | pyMut.utils.merge_vep_annotation | Saving annotated file to: ../src/pyMut/data/examples/tcga_laml_VEP_annotated.maf\n",
      "2025-07-10 12:56:31,565 | INFO | pyMut.utils.merge_vep_annotation | Reading MAF file: ../src/pyMut/data/examples/tcga_laml.maf.gz\n",
      "2025-07-10 12:56:31,570 | INFO | pyMut.utils.merge_vep_annotation | MAF file loaded: 2207 rows, 17 columns\n",
      "2025-07-10 12:56:31,571 | INFO | pyMut.utils.merge_vep_annotation | Reading VEP file: ../src/pyMut/data/examples/annVEP_tcga_laml/tcga_laml_vep.txt\n",
      "2025-07-10 12:56:31,576 | INFO | pyMut.utils.merge_vep_annotation | VEP file loaded: 1619 rows, 14 columns\n",
      "2025-07-10 12:56:31,576 | INFO | pyMut.utils.merge_vep_annotation | Creating region keys for MAF data...\n",
      "2025-07-10 12:56:31,595 | INFO | pyMut.utils.merge_vep_annotation | Parsing VEP Extra column...\n",
      "2025-07-10 12:56:31,604 | INFO | pyMut.utils.merge_vep_annotation | Filtered to 1422 meaningful annotations\n",
      "2025-07-10 12:56:31,604 | INFO | pyMut.utils.merge_vep_annotation | Performing optimized merge with DuckDB...\n"
     ]
    },
    {
     "name": "stdout",
     "output_type": "stream",
     "text": [
      "=== TEST: merge_maf_with_vep_annotations ===\n",
      "Archivo MAF: ../src/pyMut/data/examples/tcga_laml.maf.gz\n",
      "Archivo VEP: ../src/pyMut/data/examples/annVEP_tcga_laml/tcga_laml_vep.txt\n",
      "✓ Archivos de entrada encontrados\n",
      "\n",
      "Ejecutando merge_maf_with_vep_annotations...\n",
      "✓ Merge completado exitosamente!\n",
      "✓ Archivo de salida generado: ../src/pyMut/data/examples/tcga_laml_VEP_annotated.maf\n",
      "✓ Número de mutaciones procesadas: 2431\n",
      "✓ Número de columnas en el resultado: 39\n",
      "\n",
      "=== Demostrando compresión ===\n"
     ]
    },
    {
     "name": "stderr",
     "output_type": "stream",
     "text": [
      "2025-07-10 12:56:31,665 | INFO | pyMut.utils.merge_vep_annotation | Merge completed: 2431 rows, 39 columns\n",
      "2025-07-10 12:56:31,666 | INFO | pyMut.utils.merge_vep_annotation | Saving annotated file to: ../src/pyMut/data/examples/tcga_laml_VEP_annotated.maf.gz\n"
     ]
    },
    {
     "name": "stdout",
     "output_type": "stream",
     "text": [
      "✓ Archivo comprimido generado: ../src/pyMut/data/examples/tcga_laml_VEP_annotated.maf.gz\n"
     ]
    }
   ],
   "execution_count": 1
  }
 ],
 "metadata": {},
 "nbformat": 4,
 "nbformat_minor": 5
}
