{
 "cells": [
  {
   "metadata": {},
   "cell_type": "markdown",
   "source": "# Prueba del método read_vcf con subset de 50k\n",
   "id": "6d0e4371843a35dc"
  },
  {
   "metadata": {},
   "cell_type": "code",
   "source": [
    "import sys\n",
    "import os\n",
    "\n",
    "# Configurar el directorio del proyecto\n",
    "project_root = os.path.abspath(os.path.join(os.getcwd(), '..', 'src'))\n",
    "if project_root not in sys.path:\n",
    "    sys.path.append(project_root)\n",
    "\n",
    "print('✅ PYTHONPATH configurado para incluir:', project_root)\n"
   ],
   "id": "1ede4f3ce41a34c3",
   "outputs": [],
   "execution_count": null
  },
  {
   "metadata": {},
   "cell_type": "markdown",
   "source": "## Importar la función read_vcf\n",
   "id": "fc782d7699f7987c"
  },
  {
   "metadata": {
    "ExecuteTime": {
     "end_time": "2025-07-07T10:01:23.202337Z",
     "start_time": "2025-07-07T10:01:22.722594Z"
    }
   },
   "cell_type": "code",
   "source": [
    "from pyMut import read_vcf\n",
    "\n",
    "print(\"✅ Función read_vcf importada correctamente\")\n"
   ],
   "id": "d7bc84a5f1dc8c3e",
   "outputs": [
    {
     "name": "stdout",
     "output_type": "stream",
     "text": [
      "✅ Función read_vcf importada correctamente\n"
     ]
    }
   ],
   "execution_count": 2
  },
  {
   "metadata": {},
   "cell_type": "markdown",
   "source": "## Definir ruta del archivo subset de 250k\n",
   "id": "8230ea724b1f48e0"
  },
  {
   "metadata": {
    "ExecuteTime": {
     "end_time": "2025-07-07T10:01:23.290485Z",
     "start_time": "2025-07-07T10:01:23.288215Z"
    }
   },
   "cell_type": "code",
   "source": [
    "# Ruta al archivo VCF de subset de 250k variantes\n",
    "vcf_path = \"../src/pyMut/data/subsets/subset_50k_variants.vcf\"\n",
    "\n",
    "print(\"📁 Archivo a procesar:\")\n",
    "print(f\"  - 50k subset: {vcf_path}\")\n",
    "\n",
    "# Verificar que el archivo existe\n",
    "if os.path.exists(vcf_path):\n",
    "    print(\"✅ Archivo encontrado\")\n",
    "else:\n",
    "    print(\"❌ Archivo no encontrado\")\n"
   ],
   "id": "3b7ba734c53ba92b",
   "outputs": [
    {
     "name": "stdout",
     "output_type": "stream",
     "text": [
      "📁 Archivo a procesar:\n",
      "  - 50k subset: ../src/pyMut/data/subsets/subset_50k_variants.vcf\n",
      "✅ Archivo encontrado\n"
     ]
    }
   ],
   "execution_count": 3
  },
  {
   "metadata": {},
   "cell_type": "markdown",
   "source": [
    "## Leer archivo VCF de 50k con configuración optimizada\n",
    "\n",
    "Usamos la configuración optimizada de pandas + PyArrow:\n"
   ],
   "id": "72ddb1efa44a89"
  },
  {
   "metadata": {
    "ExecuteTime": {
     "end_time": "2025-07-07T10:04:06.951231Z",
     "start_time": "2025-07-07T10:01:23.350041Z"
    }
   },
   "cell_type": "code",
   "source": [
    "print(\"📖 Leyendo archivo subset de 50k variantes...\")\n",
    "\n",
    "try:\n",
    "    # Leer con configuración optimizada (solo pandas + PyArrow)\n",
    "    pymutation_obj = read_vcf(vcf_path)\n",
    "\n",
    "    print(\"✅ Objeto PyMutation creado exitosamente\")\n",
    "    print(f\"   Forma del DataFrame: {pymutation_obj.data.shape}\")\n",
    "    print(f\"   Número de variantes: {len(pymutation_obj.data)}\")\n",
    "    print(f\"   Número de columnas: {len(pymutation_obj.data.columns)}\")\n",
    "\n",
    "except Exception as e:\n",
    "    print(f\"❌ Error al leer el archivo: {e}\")\n",
    "    import traceback\n",
    "    traceback.print_exc()\n",
    "\n"
   ],
   "id": "afe3cd00589a5cdf",
   "outputs": [
    {
     "name": "stderr",
     "output_type": "stream",
     "text": [
      "2025-07-07 12:01:23,351 | INFO | pyMut.input | Starting optimized VCF reading: ../src/pyMut/data/subsets/subset_50k_variants.vcf\n",
      "2025-07-07 12:01:23,352 | INFO | pyMut.input | ============================================================\n",
      "2025-07-07 12:01:23,352 | INFO | pyMut.input | SYSTEM CONFIGURATION\n",
      "2025-07-07 12:01:23,352 | INFO | pyMut.input | ============================================================\n",
      "2025-07-07 12:01:23,353 | INFO | pyMut.input | CPU: 12 cores available\n",
      "2025-07-07 12:01:23,354 | INFO | pyMut.input | MEMORY:\n",
      "2025-07-07 12:01:23,354 | INFO | pyMut.input |   Total: 31.26 GB\n",
      "2025-07-07 12:01:23,354 | INFO | pyMut.input |   Available: 22.11 GB\n",
      "2025-07-07 12:01:23,354 | INFO | pyMut.input |   Used: 8.63 GB (29.3%)\n",
      "2025-07-07 12:01:23,355 | INFO | pyMut.input | DISK (current directory):\n",
      "2025-07-07 12:01:23,355 | INFO | pyMut.input |   Total: 409.14 GB\n",
      "2025-07-07 12:01:23,355 | INFO | pyMut.input |   Free: 284.40 GB\n",
      "2025-07-07 12:01:23,355 | INFO | pyMut.input |   Used: 103.89 GB (25.4%)\n",
      "2025-07-07 12:01:23,355 | INFO | pyMut.input | AVAILABLE LIBRARIES:\n",
      "2025-07-07 12:01:23,356 | INFO | pyMut.input |   PyArrow: ✓\n",
      "2025-07-07 12:01:23,356 | INFO | pyMut.input |   cyvcf2: ✓\n",
      "2025-07-07 12:01:23,356 | INFO | pyMut.input |   psutil: ✓\n",
      "2025-07-07 12:01:23,356 | INFO | pyMut.input | ============================================================\n",
      "2025-07-07 12:01:23,358 | INFO | pyMut.input | Reading VCF with pandas + pyarrow optimization...\n"
     ]
    },
    {
     "name": "stdout",
     "output_type": "stream",
     "text": [
      "📖 Leyendo archivo subset de 50k variantes...\n"
     ]
    },
    {
     "name": "stderr",
     "output_type": "stream",
     "text": [
      "2025-07-07 12:01:36,741 | INFO | pyMut.input | Pandas reading completed.\n",
      "2025-07-07 12:01:36,793 | INFO | pyMut.input | Expanding INFO column with vectorized operations...\n",
      "2025-07-07 12:01:37,334 | INFO | pyMut.input | Detected 2555 sample columns. Starting vectorized genotype conversion...\n",
      "2025-07-07 12:03:57,720 | INFO | pyMut.input | GT conversion: 140.39 s\n",
      "2025-07-07 12:03:59,332 | INFO | pyMut.input | Saving to cache: ../src/pyMut/data/subsets/.pymut_cache/subset_50k_variants_4af024cc2f46c45a.parquet\n",
      "2025-07-07 12:04:06,944 | INFO | pyMut.input | VCF processed successfully: 50000 rows, 2569 columns in 163.59 seconds\n"
     ]
    },
    {
     "name": "stdout",
     "output_type": "stream",
     "text": [
      "✅ Objeto PyMutation creado exitosamente\n",
      "   Forma del DataFrame: (50000, 2569)\n",
      "   Número de variantes: 50000\n",
      "   Número de columnas: 2569\n"
     ]
    }
   ],
   "execution_count": 4
  },
  {
   "metadata": {},
   "cell_type": "markdown",
   "source": "## Mostrar primeras filas del DataFrame\n",
   "id": "edba9489ca6e5371"
  },
  {
   "metadata": {
    "ExecuteTime": {
     "end_time": "2025-07-07T10:04:07.048975Z",
     "start_time": "2025-07-07T10:04:07.034406Z"
    }
   },
   "cell_type": "code",
   "source": [
    "print(\"\\n🔍 Primeras 3 filas del subset de 50k:\")\n",
    "pymutation_obj.head(3)\n"
   ],
   "id": "c49a3dad446978d8",
   "outputs": [
    {
     "name": "stdout",
     "output_type": "stream",
     "text": [
      "\n",
      "🔍 Primeras 3 filas del subset de 50k:\n"
     ]
    },
    {
     "data": {
      "text/plain": [
       "   CHROM    POS ID REF ALT QUAL FILTER HG00096 HG00097 HG00099  ... VT NS  \\\n",
       "0  chr10  11501  .   C   A    .   PASS     C|A     C|C     C|C  ...  .  .   \n",
       "1  chr10  36097  .   G   A    .   PASS     G|A     A|G     G|G  ...  .  .   \n",
       "2  chr10  45900  .   C   T    .   PASS     C|C     C|C     C|C  ...  .  .   \n",
       "\n",
       "  EX_TARGET                                               INFO FORMAT   AC  \\\n",
       "0         .  AC=286;AN=5096;DP=20462;AF=0.06;EAS_AF=0;EUR_A...     GT  286   \n",
       "1         .  AC=992;AN=5096;DP=18607;AF=0.19;EAS_AF=0.26;EU...     GT  992   \n",
       "2         .  AC=2;AN=5096;DP=19215;AF=0;EAS_AF=0;EUR_AF=0;A...     GT    2   \n",
       "\n",
       "     AN     DP    AF AFR_AF  \n",
       "0  5096  20462  0.06   0.08  \n",
       "1  5096  18607  0.19   0.18  \n",
       "2  5096  19215     0      0  \n",
       "\n",
       "[3 rows x 2569 columns]"
      ],
      "text/html": [
       "<div>\n",
       "<style scoped>\n",
       "    .dataframe tbody tr th:only-of-type {\n",
       "        vertical-align: middle;\n",
       "    }\n",
       "\n",
       "    .dataframe tbody tr th {\n",
       "        vertical-align: top;\n",
       "    }\n",
       "\n",
       "    .dataframe thead th {\n",
       "        text-align: right;\n",
       "    }\n",
       "</style>\n",
       "<table border=\"1\" class=\"dataframe\">\n",
       "  <thead>\n",
       "    <tr style=\"text-align: right;\">\n",
       "      <th></th>\n",
       "      <th>CHROM</th>\n",
       "      <th>POS</th>\n",
       "      <th>ID</th>\n",
       "      <th>REF</th>\n",
       "      <th>ALT</th>\n",
       "      <th>QUAL</th>\n",
       "      <th>FILTER</th>\n",
       "      <th>HG00096</th>\n",
       "      <th>HG00097</th>\n",
       "      <th>HG00099</th>\n",
       "      <th>...</th>\n",
       "      <th>VT</th>\n",
       "      <th>NS</th>\n",
       "      <th>EX_TARGET</th>\n",
       "      <th>INFO</th>\n",
       "      <th>FORMAT</th>\n",
       "      <th>AC</th>\n",
       "      <th>AN</th>\n",
       "      <th>DP</th>\n",
       "      <th>AF</th>\n",
       "      <th>AFR_AF</th>\n",
       "    </tr>\n",
       "  </thead>\n",
       "  <tbody>\n",
       "    <tr>\n",
       "      <th>0</th>\n",
       "      <td>chr10</td>\n",
       "      <td>11501</td>\n",
       "      <td>.</td>\n",
       "      <td>C</td>\n",
       "      <td>A</td>\n",
       "      <td>.</td>\n",
       "      <td>PASS</td>\n",
       "      <td>C|A</td>\n",
       "      <td>C|C</td>\n",
       "      <td>C|C</td>\n",
       "      <td>...</td>\n",
       "      <td>.</td>\n",
       "      <td>.</td>\n",
       "      <td>.</td>\n",
       "      <td>AC=286;AN=5096;DP=20462;AF=0.06;EAS_AF=0;EUR_A...</td>\n",
       "      <td>GT</td>\n",
       "      <td>286</td>\n",
       "      <td>5096</td>\n",
       "      <td>20462</td>\n",
       "      <td>0.06</td>\n",
       "      <td>0.08</td>\n",
       "    </tr>\n",
       "    <tr>\n",
       "      <th>1</th>\n",
       "      <td>chr10</td>\n",
       "      <td>36097</td>\n",
       "      <td>.</td>\n",
       "      <td>G</td>\n",
       "      <td>A</td>\n",
       "      <td>.</td>\n",
       "      <td>PASS</td>\n",
       "      <td>G|A</td>\n",
       "      <td>A|G</td>\n",
       "      <td>G|G</td>\n",
       "      <td>...</td>\n",
       "      <td>.</td>\n",
       "      <td>.</td>\n",
       "      <td>.</td>\n",
       "      <td>AC=992;AN=5096;DP=18607;AF=0.19;EAS_AF=0.26;EU...</td>\n",
       "      <td>GT</td>\n",
       "      <td>992</td>\n",
       "      <td>5096</td>\n",
       "      <td>18607</td>\n",
       "      <td>0.19</td>\n",
       "      <td>0.18</td>\n",
       "    </tr>\n",
       "    <tr>\n",
       "      <th>2</th>\n",
       "      <td>chr10</td>\n",
       "      <td>45900</td>\n",
       "      <td>.</td>\n",
       "      <td>C</td>\n",
       "      <td>T</td>\n",
       "      <td>.</td>\n",
       "      <td>PASS</td>\n",
       "      <td>C|C</td>\n",
       "      <td>C|C</td>\n",
       "      <td>C|C</td>\n",
       "      <td>...</td>\n",
       "      <td>.</td>\n",
       "      <td>.</td>\n",
       "      <td>.</td>\n",
       "      <td>AC=2;AN=5096;DP=19215;AF=0;EAS_AF=0;EUR_AF=0;A...</td>\n",
       "      <td>GT</td>\n",
       "      <td>2</td>\n",
       "      <td>5096</td>\n",
       "      <td>19215</td>\n",
       "      <td>0</td>\n",
       "      <td>0</td>\n",
       "    </tr>\n",
       "  </tbody>\n",
       "</table>\n",
       "<p>3 rows × 2569 columns</p>\n",
       "</div>"
      ]
     },
     "execution_count": 6,
     "metadata": {},
     "output_type": "execute_result"
    }
   ],
   "execution_count": 6
  }
 ],
 "metadata": {},
 "nbformat": 4,
 "nbformat_minor": 5
}
