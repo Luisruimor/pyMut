{
 "cells": [
  {
   "metadata": {},
   "cell_type": "markdown",
   "source": [
    "# VCF Subset Extraction Demo - pyMut\n",
    "\n",
    "\n"
   ],
   "id": "b80e3a83815f0d01"
  },
  {
   "metadata": {},
   "cell_type": "code",
   "source": [
    "import sys\n",
    "import os\n",
    "import logging\n",
    "\n",
    "# Configurar el directorio del proyecto\n",
    "project_root = os.path.abspath(os.path.join(os.getcwd(), '..', '..', 'src'))\n",
    "if project_root not in sys.path:\n",
    "    sys.path.append(project_root)\n",
    "\n",
    "print('✅ PYTHONPATH configurado para incluir:', project_root)\n"
   ],
   "id": "93514b059b9e4dca",
   "outputs": [],
   "execution_count": null
  },
  {
   "metadata": {},
   "cell_type": "markdown",
   "source": [
    "## Configuración de Logging\n",
    "\n",
    "Configuramos el logging para ver **todos los detalles** del proceso de extracción.\n"
   ],
   "id": "238e756b1f7180a9"
  },
  {
   "metadata": {
    "ExecuteTime": {
     "end_time": "2025-07-06T21:32:16.465946Z",
     "start_time": "2025-07-06T21:32:16.463818Z"
    }
   },
   "cell_type": "code",
   "source": [
    "# Configurar logging para ver todos los detalles\n",
    "logging.basicConfig(\n",
    "    level=logging.INFO,\n",
    "    format=\"%(asctime)s | %(levelname)s | %(name)s | %(message)s\",\n",
    "    force=True  # Forzar reconfiguración si ya existe\n",
    ")\n",
    "\n",
    "# Obtener el logger específico de pyMut.input\n",
    "logger = logging.getLogger('pyMut.input')\n",
    "logger.setLevel(logging.INFO)"
   ],
   "id": "b4b5b7047770701c",
   "outputs": [],
   "execution_count": 2
  },
  {
   "metadata": {},
   "cell_type": "markdown",
   "source": [
    "## Importar la Función de Extracción\n",
    "\n",
    "Importamos la función que nos permite extraer subconjuntos del VCF.\n"
   ],
   "id": "6044f2a6ebb08995"
  },
  {
   "metadata": {
    "ExecuteTime": {
     "end_time": "2025-07-06T21:32:20.622139Z",
     "start_time": "2025-07-06T21:32:20.618939Z"
    }
   },
   "cell_type": "code",
   "source": [
    "from pyMut.utils.create_subset import extract_vcf_subset\n",
    "\n",
    "print(\"✅ Función extract_vcf_subset importada correctamente\")\n"
   ],
   "id": "6077ea435e735f22",
   "outputs": [
    {
     "name": "stdout",
     "output_type": "stream",
     "text": [
      "✅ Función extract_vcf_subset importada correctamente\n"
     ]
    }
   ],
   "execution_count": 4
  },
  {
   "metadata": {},
   "cell_type": "markdown",
   "source": "## Extracción",
   "id": "bc5ea7975cc7fae5"
  },
  {
   "metadata": {
    "ExecuteTime": {
     "end_time": "2025-07-06T21:32:25.625295Z",
     "start_time": "2025-07-06T21:32:25.540623Z"
    }
   },
   "cell_type": "code",
   "source": [
    "from pathlib import Path\n",
    "\n",
    "vcf_file = \"../src/pyMut/data/examples/ALL.chr10.shapeit2_integrated_snvindels_v2a_27022019.GRCh38.phased.vcf.gz\"\n",
    "\n",
    "# Extraer 1000 variantes \n",
    "output_file_2 = \"../docs/examples/subset_demo_1000_python.vcf\"\n",
    "\n",
    "success = extract_vcf_subset(\n",
    "    input_vcf_path=vcf_file,\n",
    "    output_vcf_path=output_file_2,\n",
    "    max_variants=1000,\n",
    ")\n",
    "\n",
    "print(f\"\\n📊 Resultado: {'✅ ÉXITO' if success else '❌ FALLÓ'}\")\n",
    "if success and Path(output_file_2).exists():\n",
    "    size_kb = Path(output_file_2).stat().st_size / 1024\n",
    "    print(f\"📄 Archivo creado: {output_file_2} ({size_kb:.1f} KB)\")\n"
   ],
   "id": "ecd3ad17e8597fec",
   "outputs": [
    {
     "name": "stderr",
     "output_type": "stream",
     "text": [
      "2025-07-06 23:32:25,542 | INFO | pyMut.utils.create_subset | Extracting VCF subset\n",
      "2025-07-06 23:32:25,542 | INFO | pyMut.utils.create_subset | Input: ../../src/pyMut/data/examples/ALL.chr10.shapeit2_integrated_snvindels_v2a_27022019.GRCh38.phased.vcf.gz\n",
      "2025-07-06 23:32:25,542 | INFO | pyMut.utils.create_subset | Output: subset_demo_1000_python.vcf\n",
      "2025-07-06 23:32:25,543 | INFO | pyMut.utils.create_subset | Max variants: 1000\n",
      "2025-07-06 23:32:25,543 | INFO | pyMut.utils.create_subset | Chromosome filter: None\n",
      "2025-07-06 23:32:25,543 | INFO | pyMut.utils.create_subset | Position range: None-None\n",
      "2025-07-06 23:32:25,621 | INFO | pyMut.utils.create_subset | VCF subset extraction completed successfully\n",
      "2025-07-06 23:32:25,621 | INFO | pyMut.utils.create_subset | Variants extracted: 1000\n",
      "2025-07-06 23:32:25,621 | INFO | pyMut.utils.create_subset | Input file size: 641.30 MB\n",
      "2025-07-06 23:32:25,622 | INFO | pyMut.utils.create_subset | Output file size: 9.85 MB\n",
      "2025-07-06 23:32:25,622 | INFO | pyMut.utils.create_subset | Size reduction: 65.1x\n"
     ]
    },
    {
     "name": "stdout",
     "output_type": "stream",
     "text": [
      "\n",
      "📊 Resultado: ✅ ÉXITO\n",
      "📄 Archivo creado: subset_demo_1000_python.vcf (10090.9 KB)\n"
     ]
    }
   ],
   "execution_count": 5
  }
 ],
 "metadata": {},
 "nbformat": 4,
 "nbformat_minor": 5
}
