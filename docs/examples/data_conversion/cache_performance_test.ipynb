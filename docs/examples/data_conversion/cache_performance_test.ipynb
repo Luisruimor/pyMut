{
 "cells": [
  {
   "metadata": {},
   "cell_type": "markdown",
   "source": [
    "# Performance Test for pyMut Cache Mechanism\n",
    "\n",
    "This notebook tests the performance of the caching mechanism in pyMut's `read_vcf` and `read_maf` functions. We'll measure the time and memory usage for first-time reading (no cache) and subsequent readings (with cache) to demonstrate the improvement provided by the cache.\n"
   ],
   "id": "8f08b8562baea5ea"
  },
  {
   "metadata": {
    "ExecuteTime": {
     "end_time": "2025-07-29T17:25:06.703829Z",
     "start_time": "2025-07-29T17:25:06.058853Z"
    }
   },
   "cell_type": "code",
   "source": [
    "import time\n",
    "import os\n",
    "import psutil\n",
    "import pandas as pd\n",
    "import matplotlib.pyplot as plt\n",
    "from pathlib import Path\n",
    "import shutil\n",
    "\n",
    "# Import pyMut functions\n",
    "from pyMut.input import read_vcf, read_maf\n"
   ],
   "id": "ffa695dfb149d539",
   "outputs": [],
   "execution_count": 1
  },
  {
   "metadata": {},
   "cell_type": "markdown",
   "source": [
    "## Setup Performance Measurement Functions\n",
    "\n",
    "We'll define functions to measure execution time and memory usage.\n"
   ],
   "id": "6553bfbc8a55c2a5"
  },
  {
   "metadata": {
    "ExecuteTime": {
     "end_time": "2025-07-29T17:25:06.794768Z",
     "start_time": "2025-07-29T17:25:06.791743Z"
    }
   },
   "cell_type": "code",
   "source": [
    "def measure_performance(func, *args, **kwargs):\n",
    "    \"\"\"\n",
    "    Measure execution time and peak memory usage of a function.\n",
    "    \n",
    "    Parameters\n",
    "    ----------\n",
    "    func : callable\n",
    "        The function to measure\n",
    "    *args, **kwargs\n",
    "        Arguments to pass to the function\n",
    "        \n",
    "    Returns\n",
    "    -------\n",
    "    tuple\n",
    "        (result, execution_time_seconds, peak_memory_mb)\n",
    "    \"\"\"\n",
    "    # Get current process\n",
    "    process = psutil.Process(os.getpid())\n",
    "    \n",
    "    # Get initial memory usage\n",
    "    initial_memory = process.memory_info().rss / (1024 * 1024)  # Convert to MB\n",
    "    \n",
    "    # Measure execution time\n",
    "    start_time = time.time()\n",
    "    result = func(*args, **kwargs)\n",
    "    execution_time = time.time() - start_time\n",
    "    \n",
    "    # Get peak memory usage\n",
    "    peak_memory = process.memory_info().rss / (1024 * 1024)  # Convert to MB\n",
    "    memory_used = peak_memory - initial_memory\n",
    "    \n",
    "    return result, execution_time, memory_used\n",
    "\n",
    "def clear_cache(file_path):\n",
    "    \"\"\"\n",
    "    Clear the cache for a specific file.\n",
    "    \n",
    "    Parameters\n",
    "    ----------\n",
    "    file_path : str or Path\n",
    "        Path to the file whose cache should be cleared\n",
    "    \"\"\"\n",
    "    file_path = Path(file_path)\n",
    "    cache_dir = file_path.parent / \".pymut_cache\"\n",
    "    \n",
    "    if cache_dir.exists():\n",
    "        print(f\"Clearing cache directory: {cache_dir}\")\n",
    "        shutil.rmtree(cache_dir)\n",
    "        print(\"Cache cleared.\")\n",
    "    else:\n",
    "        print(f\"No cache directory found at {cache_dir}\")\n"
   ],
   "id": "9a1fff7485cf9073",
   "outputs": [],
   "execution_count": 2
  },
  {
   "metadata": {},
   "cell_type": "markdown",
   "source": [
    "## Test Files\n",
    "\n",
    "We'll test the following files:\n",
    "1. VCF file (2k variants): `subset_2k_variants.vcf`\n",
    "2. VCF file (50k variants): `subset_50k_variants.vcf`\n",
    "3. MAF file: `tcga_laml.maf.gz`\n"
   ],
   "id": "d5b9328080540955"
  },
  {
   "metadata": {
    "ExecuteTime": {
     "end_time": "2025-07-29T17:25:06.807281Z",
     "start_time": "2025-07-29T17:25:06.804431Z"
    }
   },
   "cell_type": "code",
   "source": [
    "# Define file paths\n",
    "vcf_file_2k = Path(\"../../../src/pyMut/data/subsets/subset_2k_variants.vcf\")\n",
    "vcf_file_50k = Path(\"../../../src/pyMut/data/subsets/subset_50k_variants.vcf\")\n",
    "maf_file = Path(\"../../../src/pyMut/data/examples/MAF/tcga_laml.maf.gz\")\n",
    "\n",
    "# Check if files exist\n",
    "print(f\"VCF file (2k variants) exists: {vcf_file_2k.exists()}\")\n",
    "print(f\"VCF file (50k variants) exists: {vcf_file_50k.exists()}\")\n",
    "print(f\"MAF file exists: {maf_file.exists()}\")\n"
   ],
   "id": "1043e1dfbce4b75b",
   "outputs": [
    {
     "name": "stdout",
     "output_type": "stream",
     "text": [
      "VCF file (2k variants) exists: True\n",
      "VCF file (50k variants) exists: True\n",
      "MAF file exists: True\n"
     ]
    }
   ],
   "execution_count": 3
  },
  {
   "metadata": {},
   "cell_type": "markdown",
   "source": [
    "## Test 1: Performance of read_vcf with 2k variants\n",
    "\n",
    "We'll test the performance of `read_vcf` with `subset_2k_variants.vcf`.\n"
   ],
   "id": "481ae5293b437a14"
  },
  {
   "metadata": {
    "ExecuteTime": {
     "end_time": "2025-07-29T17:25:14.042650Z",
     "start_time": "2025-07-29T17:25:06.824044Z"
    }
   },
   "cell_type": "code",
   "source": [
    "# Clear any existing cache\n",
    "clear_cache(vcf_file_2k)\n",
    "\n",
    "# First read (no cache)\n",
    "print(\"First read (no cache):\")\n",
    "result_vcf_2k_1, time_vcf_2k_1, memory_vcf_2k_1 = measure_performance(read_vcf, vcf_file_2k, \"38\")\n",
    "print(f\"Time: {time_vcf_2k_1:.2f} seconds\")\n",
    "print(f\"Memory: {memory_vcf_2k_1:.2f} MB\")\n",
    "print(f\"Result shape: {result_vcf_2k_1.data.shape}\")\n",
    "\n",
    "# Second read (with cache)\n",
    "print(\"\\nSecond read (with cache):\")\n",
    "result_vcf_2k_2, time_vcf_2k_2, memory_vcf_2k_2 = measure_performance(read_vcf, vcf_file_2k, \"38\")\n",
    "print(f\"Time: {time_vcf_2k_2:.2f} seconds\")\n",
    "print(f\"Memory: {memory_vcf_2k_2:.2f} MB\")\n",
    "print(f\"Result shape: {result_vcf_2k_2.data.shape}\")\n",
    "\n",
    "# Calculate improvement\n",
    "time_improvement_vcf_2k = (time_vcf_2k_1 - time_vcf_2k_2) / time_vcf_2k_1 * 100\n",
    "memory_improvement_vcf_2k = (memory_vcf_2k_1 - memory_vcf_2k_2) / memory_vcf_2k_1 * 100\n",
    "\n",
    "print(f\"\\nImprovement with cache:\")\n",
    "print(f\"Time: {time_improvement_vcf_2k:.2f}%\")\n",
    "print(f\"Memory: {memory_improvement_vcf_2k:.2f}%\")\n"
   ],
   "id": "96abc3fa622b7dad",
   "outputs": [
    {
     "name": "stderr",
     "output_type": "stream",
     "text": [
      "2025-07-29 19:25:06,831 | INFO | pyMut.input | Starting optimized VCF reading: ../../../src/pyMut/data/subsets/subset_2k_variants.vcf\n",
      "2025-07-29 19:25:06,833 | INFO | pyMut.input | Reading VCF with pandas + pyarrow optimization...\n"
     ]
    },
    {
     "name": "stdout",
     "output_type": "stream",
     "text": [
      "Clearing cache directory: ../../../src/pyMut/data/subsets/.pymut_cache\n",
      "Cache cleared.\n",
      "First read (no cache):\n"
     ]
    },
    {
     "name": "stderr",
     "output_type": "stream",
     "text": [
      "2025-07-29 19:25:07,373 | INFO | pyMut.input | Pandas reading completed.\n",
      "2025-07-29 19:25:07,411 | INFO | pyMut.input | Starting vectorized genotype conversion before INFO expansion...\n",
      "2025-07-29 19:25:13,149 | INFO | pyMut.input | GT conversion completed: 5.74 s\n",
      "2025-07-29 19:25:13,150 | INFO | pyMut.input | Expanding INFO column with vectorized operations...\n",
      "2025-07-29 19:25:13,347 | INFO | pyMut.input | Generating Hugo_Symbol column from VEP_SYMBOL and VEP_NEAREST...\n",
      "2025-07-29 19:25:13,369 | INFO | pyMut.input | Using 2548 sample columns for output organization\n",
      "2025-07-29 19:25:13,480 | INFO | pyMut.input | Saving to cache: ../../../src/pyMut/data/subsets/.pymut_cache/subset_2k_variants_4b3c7b666b78f046.parquet\n",
      "2025-07-29 19:25:13,838 | INFO | pyMut.input | VCF processed successfully: 2000 rows, 2567 columns in 7.01 seconds\n",
      "2025-07-29 19:25:13,839 | INFO | pyMut.input | Starting optimized VCF reading: ../../../src/pyMut/data/subsets/subset_2k_variants.vcf\n",
      "2025-07-29 19:25:13,839 | INFO | pyMut.input | Loading from cache: ../../../src/pyMut/data/subsets/.pymut_cache/subset_2k_variants_4b3c7b666b78f046.parquet\n"
     ]
    },
    {
     "name": "stdout",
     "output_type": "stream",
     "text": [
      "Time: 7.01 seconds\n",
      "Memory: 543.73 MB\n",
      "Result shape: (2000, 2567)\n",
      "\n",
      "Second read (with cache):\n"
     ]
    },
    {
     "name": "stderr",
     "output_type": "stream",
     "text": [
      "2025-07-29 19:25:14,040 | INFO | pyMut.input | Cache loaded successfully in 0.20 seconds\n"
     ]
    },
    {
     "name": "stdout",
     "output_type": "stream",
     "text": [
      "Time: 0.20 seconds\n",
      "Memory: 115.80 MB\n",
      "Result shape: (2000, 2567)\n",
      "\n",
      "Improvement with cache:\n",
      "Time: 97.12%\n",
      "Memory: 78.70%\n"
     ]
    }
   ],
   "execution_count": 4
  },
  {
   "metadata": {},
   "cell_type": "markdown",
   "source": [
    "## Test 2: Performance of read_maf\n",
    "\n",
    "We'll test the performance of `read_maf` with `tcga_laml.maf.gz`.\n"
   ],
   "id": "8bd482ea2cad471f"
  },
  {
   "metadata": {
    "ExecuteTime": {
     "end_time": "2025-07-29T17:25:14.188979Z",
     "start_time": "2025-07-29T17:25:14.061698Z"
    }
   },
   "cell_type": "code",
   "source": [
    "# Clear any existing cache\n",
    "clear_cache(maf_file)\n",
    "\n",
    "# First read (no cache)\n",
    "print(\"First read (no cache):\")\n",
    "result_maf_1, time_maf_1, memory_maf_1 = measure_performance(read_maf, maf_file, \"37\")\n",
    "print(f\"Time: {time_maf_1:.2f} seconds\")\n",
    "print(f\"Memory: {memory_maf_1:.2f} MB\")\n",
    "print(f\"Result shape: {result_maf_1.data.shape}\")\n",
    "\n",
    "# Second read (with cache)\n",
    "print(\"\\nSecond read (with cache):\")\n",
    "result_maf_2, time_maf_2, memory_maf_2 = measure_performance(read_maf, maf_file, \"37\")\n",
    "print(f\"Time: {time_maf_2:.2f} seconds\")\n",
    "print(f\"Memory: {memory_maf_2:.2f} MB\")\n",
    "print(f\"Result shape: {result_maf_2.data.shape}\")\n",
    "\n",
    "# Calculate improvement\n",
    "time_improvement_maf = (time_maf_1 - time_maf_2) / time_maf_1 * 100\n",
    "memory_improvement_maf = (memory_maf_1 - memory_maf_2) / memory_maf_1 * 100\n",
    "\n",
    "print(f\"\\nImprovement with cache:\")\n",
    "print(f\"Time: {time_improvement_maf:.2f}%\")\n",
    "print(f\"Memory: {memory_improvement_maf:.2f}%\")\n"
   ],
   "id": "83b126b78f632fdb",
   "outputs": [
    {
     "name": "stderr",
     "output_type": "stream",
     "text": [
      "2025-07-29 19:25:14,066 | INFO | pyMut.input | Starting MAF reading: ../../../src/pyMut/data/examples/MAF/tcga_laml.maf.gz\n",
      "2025-07-29 19:25:14,069 | INFO | pyMut.input | Reading MAF with 'pyarrow' engine…\n",
      "2025-07-29 19:25:14,075 | INFO | pyMut.input | Reading with 'pyarrow' completed.\n",
      "2025-07-29 19:25:14,081 | INFO | pyMut.input | Detected 193 unique samples.\n",
      "2025-07-29 19:25:14,139 | INFO | pyMut.input | Saving to cache: ../../../src/pyMut/data/examples/MAF/.pymut_cache/tcga_laml.maf_cfe34708e25aba6b.parquet\n",
      "2025-07-29 19:25:14,171 | INFO | pyMut.input | MAF processed successfully: 2207 rows, 216 columns in 0.10 seconds\n",
      "2025-07-29 19:25:14,172 | INFO | pyMut.input | Starting MAF reading: ../../../src/pyMut/data/examples/MAF/tcga_laml.maf.gz\n",
      "2025-07-29 19:25:14,173 | INFO | pyMut.input | Loading from cache: ../../../src/pyMut/data/examples/MAF/.pymut_cache/tcga_laml.maf_cfe34708e25aba6b.parquet\n",
      "2025-07-29 19:25:14,186 | INFO | pyMut.input | Cache loaded successfully in 0.01 seconds\n"
     ]
    },
    {
     "name": "stdout",
     "output_type": "stream",
     "text": [
      "Clearing cache directory: ../../../src/pyMut/data/examples/MAF/.pymut_cache\n",
      "Cache cleared.\n",
      "First read (no cache):\n",
      "Time: 0.11 seconds\n",
      "Memory: 10.80 MB\n",
      "Result shape: (2207, 216)\n",
      "\n",
      "Second read (with cache):\n",
      "Time: 0.01 seconds\n",
      "Memory: 2.80 MB\n",
      "Result shape: (2207, 216)\n",
      "\n",
      "Improvement with cache:\n",
      "Time: 86.18%\n",
      "Memory: 74.10%\n"
     ]
    }
   ],
   "execution_count": 5
  },
  {
   "metadata": {},
   "cell_type": "markdown",
   "source": [
    "## Test 3: Performance of read_vcf with 50k variants\n",
    "\n",
    "We'll test the performance of `read_vcf` with `subset_50k_variants.vcf`.\n"
   ],
   "id": "848e261232d7798"
  },
  {
   "metadata": {
    "ExecuteTime": {
     "end_time": "2025-07-29T17:28:50.082133Z",
     "start_time": "2025-07-29T17:25:14.202004Z"
    }
   },
   "cell_type": "code",
   "source": [
    "# Clear any existing cache\n",
    "clear_cache(vcf_file_50k)\n",
    "\n",
    "# First read (no cache)\n",
    "print(\"First read (no cache):\")\n",
    "result_vcf_50k_1, time_vcf_50k_1, memory_vcf_50k_1 = measure_performance(read_vcf, vcf_file_50k, \"38\")\n",
    "print(f\"Time: {time_vcf_50k_1:.2f} seconds\")\n",
    "print(f\"Memory: {memory_vcf_50k_1:.2f} MB\")\n",
    "print(f\"Result shape: {result_vcf_50k_1.data.shape}\")\n",
    "\n",
    "# Second read (with cache)\n",
    "print(\"\\nSecond read (with cache):\")\n",
    "result_vcf_50k_2, time_vcf_50k_2, memory_vcf_50k_2 = measure_performance(read_vcf, vcf_file_50k, \"38\")\n",
    "print(f\"Time: {time_vcf_50k_2:.2f} seconds\")\n",
    "print(f\"Memory: {memory_vcf_50k_2:.2f} MB\")\n",
    "print(f\"Result shape: {result_vcf_50k_2.data.shape}\")\n",
    "\n",
    "# Calculate improvement\n",
    "time_improvement_vcf_50k = (time_vcf_50k_1 - time_vcf_50k_2) / time_vcf_50k_1 * 100\n",
    "memory_improvement_vcf_50k = (memory_vcf_50k_1 - memory_vcf_50k_2) / memory_vcf_50k_1 * 100\n",
    "\n",
    "print(f\"\\nImprovement with cache:\")\n",
    "print(f\"Time: {time_improvement_vcf_50k:.2f}%\")\n",
    "print(f\"Memory: {memory_improvement_vcf_50k:.2f}%\")\n"
   ],
   "id": "bb421e5e303a4201",
   "outputs": [
    {
     "name": "stderr",
     "output_type": "stream",
     "text": [
      "2025-07-29 19:25:14,205 | INFO | pyMut.input | Starting optimized VCF reading: ../../../src/pyMut/data/subsets/subset_50k_variants.vcf\n",
      "2025-07-29 19:25:14,206 | INFO | pyMut.input | Reading VCF with pandas + pyarrow optimization...\n"
     ]
    },
    {
     "name": "stdout",
     "output_type": "stream",
     "text": [
      "Clearing cache directory: ../../../src/pyMut/data/subsets/.pymut_cache\n",
      "Cache cleared.\n",
      "First read (no cache):\n"
     ]
    },
    {
     "name": "stderr",
     "output_type": "stream",
     "text": [
      "2025-07-29 19:25:32,404 | INFO | pyMut.input | Pandas reading completed.\n",
      "2025-07-29 19:25:32,427 | INFO | pyMut.input | Starting vectorized genotype conversion before INFO expansion...\n",
      "2025-07-29 19:27:54,633 | INFO | pyMut.input | GT conversion completed: 142.20 s\n",
      "2025-07-29 19:27:54,637 | INFO | pyMut.input | Expanding INFO column with vectorized operations...\n",
      "2025-07-29 19:28:23,368 | INFO | pyMut.input | Generating Hugo_Symbol column from VEP_SYMBOL and VEP_NEAREST...\n",
      "2025-07-29 19:28:23,394 | INFO | pyMut.input | Using 2548 sample columns for output organization\n",
      "2025-07-29 19:28:38,247 | INFO | pyMut.input | Saving to cache: ../../../src/pyMut/data/subsets/.pymut_cache/subset_50k_variants_ad5e52b08a424b5e.parquet\n",
      "2025-07-29 19:28:48,191 | INFO | pyMut.input | VCF processed successfully: 50000 rows, 2567 columns in 213.99 seconds\n",
      "2025-07-29 19:28:48,207 | INFO | pyMut.input | Starting optimized VCF reading: ../../../src/pyMut/data/subsets/subset_50k_variants.vcf\n",
      "2025-07-29 19:28:48,208 | INFO | pyMut.input | Loading from cache: ../../../src/pyMut/data/subsets/.pymut_cache/subset_50k_variants_ad5e52b08a424b5e.parquet\n"
     ]
    },
    {
     "name": "stdout",
     "output_type": "stream",
     "text": [
      "Time: 214.00 seconds\n",
      "Memory: 1280.31 MB\n",
      "Result shape: (50000, 2567)\n",
      "\n",
      "Second read (with cache):\n"
     ]
    },
    {
     "name": "stderr",
     "output_type": "stream",
     "text": [
      "2025-07-29 19:28:50,080 | INFO | pyMut.input | Cache loaded successfully in 1.87 seconds\n"
     ]
    },
    {
     "name": "stdout",
     "output_type": "stream",
     "text": [
      "Time: 1.87 seconds\n",
      "Memory: -70.66 MB\n",
      "Result shape: (50000, 2567)\n",
      "\n",
      "Improvement with cache:\n",
      "Time: 99.12%\n",
      "Memory: 105.52%\n"
     ]
    }
   ],
   "execution_count": 6
  },
  {
   "metadata": {},
   "cell_type": "markdown",
   "source": [
    "## Results Table\n",
    "\n",
    "Let's create a table with the results as requested in the format:\n",
    "\n",
    "COLUMNAS: PRIMERA_LECTURA, LECTURAS_POSTERIORES, MEJORA\n",
    "FILAS: TIEMPO, MEMORIA PICO\n"
   ],
   "id": "24bd16b344854e75"
  },
  {
   "metadata": {
    "ExecuteTime": {
     "end_time": "2025-07-29T17:28:50.157345Z",
     "start_time": "2025-07-29T17:28:50.138431Z"
    }
   },
   "cell_type": "code",
   "source": [
    "# Create results table for VCF (2k variants)\n",
    "vcf_2k_results = pd.DataFrame(\n",
    "    {\n",
    "        \"PRIMERA_LECTURA\": [f\"{time_vcf_2k_1:.2f} s\", f\"{memory_vcf_2k_1:.2f} MB\"],\n",
    "        \"LECTURAS_POSTERIORES\": [f\"{time_vcf_2k_2:.2f} s\", f\"{memory_vcf_2k_2:.2f} MB\"],\n",
    "        \"MEJORA\": [f\"{time_improvement_vcf_2k:.2f}%\", f\"{memory_improvement_vcf_2k:.2f}%\"]\n",
    "    },\n",
    "    index=[\"TIEMPO\", \"MEMORIA PICO\"]\n",
    ")\n",
    "\n",
    "# Create results table for VCF (50k variants)\n",
    "vcf_50k_results = pd.DataFrame(\n",
    "    {\n",
    "        \"PRIMERA_LECTURA\": [f\"{time_vcf_50k_1:.2f} s\", f\"{memory_vcf_50k_1:.2f} MB\"],\n",
    "        \"LECTURAS_POSTERIORES\": [f\"{time_vcf_50k_2:.2f} s\", f\"{memory_vcf_50k_2:.2f} MB\"],\n",
    "        \"MEJORA\": [f\"{time_improvement_vcf_50k:.2f}%\", f\"{memory_improvement_vcf_50k:.2f}%\"]\n",
    "    },\n",
    "    index=[\"TIEMPO\", \"MEMORIA PICO\"]\n",
    ")\n",
    "\n",
    "# Create results table for MAF\n",
    "maf_results = pd.DataFrame(\n",
    "    {\n",
    "        \"PRIMERA_LECTURA\": [f\"{time_maf_1:.2f} s\", f\"{memory_maf_1:.2f} MB\"],\n",
    "        \"LECTURAS_POSTERIORES\": [f\"{time_maf_2:.2f} s\", f\"{memory_maf_2:.2f} MB\"],\n",
    "        \"MEJORA\": [f\"{time_improvement_maf:.2f}%\", f\"{memory_improvement_maf:.2f}%\"]\n",
    "    },\n",
    "    index=[\"TIEMPO\", \"MEMORIA PICO\"]\n",
    ")\n",
    "\n",
    "print(\"Results for VCF (subset_2k_variants.vcf):\")\n",
    "display(vcf_2k_results)\n",
    "\n",
    "print(\"\\nResults for VCF (subset_50k_variants.vcf):\")\n",
    "display(vcf_50k_results)\n",
    "\n",
    "print(\"\\nResults for MAF (tcga_laml.maf.gz):\")\n",
    "display(maf_results)\n"
   ],
   "id": "fba6b0e1371ac0d",
   "outputs": [
    {
     "name": "stdout",
     "output_type": "stream",
     "text": [
      "Results for VCF (subset_2k_variants.vcf):\n"
     ]
    },
    {
     "data": {
      "text/plain": [
       "             PRIMERA_LECTURA LECTURAS_POSTERIORES  MEJORA\n",
       "TIEMPO                7.01 s               0.20 s  97.12%\n",
       "MEMORIA PICO       543.73 MB            115.80 MB  78.70%"
      ],
      "text/html": [
       "<div>\n",
       "<style scoped>\n",
       "    .dataframe tbody tr th:only-of-type {\n",
       "        vertical-align: middle;\n",
       "    }\n",
       "\n",
       "    .dataframe tbody tr th {\n",
       "        vertical-align: top;\n",
       "    }\n",
       "\n",
       "    .dataframe thead th {\n",
       "        text-align: right;\n",
       "    }\n",
       "</style>\n",
       "<table border=\"1\" class=\"dataframe\">\n",
       "  <thead>\n",
       "    <tr style=\"text-align: right;\">\n",
       "      <th></th>\n",
       "      <th>PRIMERA_LECTURA</th>\n",
       "      <th>LECTURAS_POSTERIORES</th>\n",
       "      <th>MEJORA</th>\n",
       "    </tr>\n",
       "  </thead>\n",
       "  <tbody>\n",
       "    <tr>\n",
       "      <th>TIEMPO</th>\n",
       "      <td>7.01 s</td>\n",
       "      <td>0.20 s</td>\n",
       "      <td>97.12%</td>\n",
       "    </tr>\n",
       "    <tr>\n",
       "      <th>MEMORIA PICO</th>\n",
       "      <td>543.73 MB</td>\n",
       "      <td>115.80 MB</td>\n",
       "      <td>78.70%</td>\n",
       "    </tr>\n",
       "  </tbody>\n",
       "</table>\n",
       "</div>"
      ]
     },
     "metadata": {},
     "output_type": "display_data"
    },
    {
     "name": "stdout",
     "output_type": "stream",
     "text": [
      "\n",
      "Results for VCF (subset_50k_variants.vcf):\n"
     ]
    },
    {
     "data": {
      "text/plain": [
       "             PRIMERA_LECTURA LECTURAS_POSTERIORES   MEJORA\n",
       "TIEMPO              214.00 s               1.87 s   99.12%\n",
       "MEMORIA PICO      1280.31 MB            -70.66 MB  105.52%"
      ],
      "text/html": [
       "<div>\n",
       "<style scoped>\n",
       "    .dataframe tbody tr th:only-of-type {\n",
       "        vertical-align: middle;\n",
       "    }\n",
       "\n",
       "    .dataframe tbody tr th {\n",
       "        vertical-align: top;\n",
       "    }\n",
       "\n",
       "    .dataframe thead th {\n",
       "        text-align: right;\n",
       "    }\n",
       "</style>\n",
       "<table border=\"1\" class=\"dataframe\">\n",
       "  <thead>\n",
       "    <tr style=\"text-align: right;\">\n",
       "      <th></th>\n",
       "      <th>PRIMERA_LECTURA</th>\n",
       "      <th>LECTURAS_POSTERIORES</th>\n",
       "      <th>MEJORA</th>\n",
       "    </tr>\n",
       "  </thead>\n",
       "  <tbody>\n",
       "    <tr>\n",
       "      <th>TIEMPO</th>\n",
       "      <td>214.00 s</td>\n",
       "      <td>1.87 s</td>\n",
       "      <td>99.12%</td>\n",
       "    </tr>\n",
       "    <tr>\n",
       "      <th>MEMORIA PICO</th>\n",
       "      <td>1280.31 MB</td>\n",
       "      <td>-70.66 MB</td>\n",
       "      <td>105.52%</td>\n",
       "    </tr>\n",
       "  </tbody>\n",
       "</table>\n",
       "</div>"
      ]
     },
     "metadata": {},
     "output_type": "display_data"
    },
    {
     "name": "stdout",
     "output_type": "stream",
     "text": [
      "\n",
      "Results for MAF (tcga_laml.maf.gz):\n"
     ]
    },
    {
     "data": {
      "text/plain": [
       "             PRIMERA_LECTURA LECTURAS_POSTERIORES  MEJORA\n",
       "TIEMPO                0.11 s               0.01 s  86.18%\n",
       "MEMORIA PICO        10.80 MB              2.80 MB  74.10%"
      ],
      "text/html": [
       "<div>\n",
       "<style scoped>\n",
       "    .dataframe tbody tr th:only-of-type {\n",
       "        vertical-align: middle;\n",
       "    }\n",
       "\n",
       "    .dataframe tbody tr th {\n",
       "        vertical-align: top;\n",
       "    }\n",
       "\n",
       "    .dataframe thead th {\n",
       "        text-align: right;\n",
       "    }\n",
       "</style>\n",
       "<table border=\"1\" class=\"dataframe\">\n",
       "  <thead>\n",
       "    <tr style=\"text-align: right;\">\n",
       "      <th></th>\n",
       "      <th>PRIMERA_LECTURA</th>\n",
       "      <th>LECTURAS_POSTERIORES</th>\n",
       "      <th>MEJORA</th>\n",
       "    </tr>\n",
       "  </thead>\n",
       "  <tbody>\n",
       "    <tr>\n",
       "      <th>TIEMPO</th>\n",
       "      <td>0.11 s</td>\n",
       "      <td>0.01 s</td>\n",
       "      <td>86.18%</td>\n",
       "    </tr>\n",
       "    <tr>\n",
       "      <th>MEMORIA PICO</th>\n",
       "      <td>10.80 MB</td>\n",
       "      <td>2.80 MB</td>\n",
       "      <td>74.10%</td>\n",
       "    </tr>\n",
       "  </tbody>\n",
       "</table>\n",
       "</div>"
      ]
     },
     "metadata": {},
     "output_type": "display_data"
    }
   ],
   "execution_count": 7
  },
  {
   "metadata": {},
   "cell_type": "markdown",
   "source": [
    "## Visualization\n",
    "\n",
    "Let's visualize the results with bar charts.\n"
   ],
   "id": "a6f72181aed309ee"
  },
  {
   "metadata": {
    "ExecuteTime": {
     "end_time": "2025-07-29T17:28:50.438726Z",
     "start_time": "2025-07-29T17:28:50.287400Z"
    }
   },
   "cell_type": "code",
   "source": [
    "# Create a figure with two subplots\n",
    "fig, (ax1, ax2) = plt.subplots(1, 2, figsize=(15, 6))\n",
    "\n",
    "# Data for plotting\n",
    "file_types = ['VCF (2k)', 'VCF (50k)', 'MAF']\n",
    "first_read_times = [time_vcf_2k_1, time_vcf_50k_1, time_maf_1]\n",
    "subsequent_read_times = [time_vcf_2k_2, time_vcf_50k_2, time_maf_2]\n",
    "first_read_memory = [memory_vcf_2k_1, memory_vcf_50k_1, memory_maf_1]\n",
    "subsequent_read_memory = [memory_vcf_2k_2, memory_vcf_50k_2, memory_maf_2]\n",
    "\n",
    "# Plot execution times\n",
    "x = range(len(file_types))\n",
    "width = 0.35\n",
    "ax1.bar([i - width/2 for i in x], first_read_times, width, label='First Read')\n",
    "ax1.bar([i + width/2 for i in x], subsequent_read_times, width, label='Subsequent Reads')\n",
    "ax1.set_ylabel('Time (seconds)')\n",
    "ax1.set_title('Execution Time Comparison')\n",
    "ax1.set_xticks(x)\n",
    "ax1.set_xticklabels(file_types)\n",
    "ax1.legend()\n",
    "\n",
    "# Plot memory usage\n",
    "ax2.bar([i - width/2 for i in x], first_read_memory, width, label='First Read')\n",
    "ax2.bar([i + width/2 for i in x], subsequent_read_memory, width, label='Subsequent Reads')\n",
    "ax2.set_ylabel('Memory (MB)')\n",
    "ax2.set_title('Memory Usage Comparison')\n",
    "ax2.set_xticks(x)\n",
    "ax2.set_xticklabels(file_types)\n",
    "ax2.legend()\n",
    "\n",
    "plt.tight_layout()\n",
    "plt.show()\n"
   ],
   "id": "ee4c5c23dd5bb6f0",
   "outputs": [
    {
     "data": {
      "text/plain": [
       "<Figure size 1500x600 with 2 Axes>"
      ],
      "image/png": "[encoded data removed]"
     },
     "metadata": {},
     "output_type": "display_data"
    }
   ],
   "execution_count": 8
  },
  {
   "metadata": {},
   "cell_type": "markdown",
   "source": [
    "## Conclusion\n",
    "\n",
    "The results demonstrate the effectiveness of the caching mechanism in pyMut's `read_vcf` and `read_maf` functions. The cache significantly reduces both execution time and memory usage for subsequent reads of the same file.\n",
    "\n",
    "Key observations:\n",
    "1. **Time Improvement**: Subsequent reads are much faster than the first read, with improvements shown for both small (2k variants) and larger (50k variants) VCF files, as well as for MAF files.\n",
    "2. **Memory Improvement**: The cache also reduces memory usage across all file types tested.\n",
    "3. **Scaling with File Size**: The comparison between the 2k and 50k variant VCF files shows how the caching mechanism performs with different file sizes.\n",
    "\n",
    "The test with the 50k variants VCF file provides additional evidence of the cache's effectiveness with larger datasets, which is particularly important for real-world genomic analyses that often involve files with tens or hundreds of thousands of variants.\n",
    "\n",
    "This performance improvement is particularly valuable for workflows that repeatedly access the same files, such as in interactive analysis sessions or batch processing pipelines. The larger the file, the more significant the time and memory savings from using the cache."
   ],
   "id": "a1325efeb977a7f5"
  }
 ],
 "metadata": {},
 "nbformat": 4,
 "nbformat_minor": 5
}
