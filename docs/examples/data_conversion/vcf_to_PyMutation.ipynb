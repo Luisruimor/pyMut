{
 "cells": [
  {
   "cell_type": "markdown",
   "id": "859ba7e963744fa1",
   "metadata": {},
   "source": [
    "# VCF to PyMutation Conversion\n"
   ]
  },
  {
   "cell_type": "code",
   "id": "97b7e8a3a632a9ce",
   "metadata": {
    "ExecuteTime": {
     "end_time": "2025-07-20T22:38:50.877784Z",
     "start_time": "2025-07-20T22:38:50.873904Z"
    }
   },
   "source": [
    "import sys\n",
    "import os\n",
    "\n",
    "# Añadir la ruta de VEP al PATH\n",
    "vep_path = \"../../../../ensembl-vep\"\n",
    "if vep_path not in os.environ[\"PATH\"]:\n",
    "    os.environ[\"PATH\"] = vep_path + \":\" + os.environ[\"PATH\"]\n",
    "\n",
    "print(\"PATH actualizado:\", os.environ[\"PATH\"])\n",
    "\n",
    "# Configurar el directorio del proyecto\n",
    "project_root = os.path.abspath(os.path.join(os.getcwd(), '..', '..', '..', 'src'))\n",
    "if project_root not in sys.path:\n",
    "    sys.path.append(project_root)\n",
    "\n",
    "print('✅ PYTHONPATH configurado para incluir:', project_root)\n"
   ],
   "outputs": [
    {
     "name": "stdout",
     "output_type": "stream",
     "text": [
      "PATH actualizado: ../../../../ensembl-vep:/home/luisruimore/anaconda3/envs/pyMutation/bin:/home/luisruimore/anaconda3/condabin:/home/luisruimore/.deno/bin:/usr/local/sbin:/usr/local/bin:/usr/sbin:/usr/bin:/sbin:/bin:/usr/games:/usr/local/games:/snap/bin:/snap/bin\n",
      "✅ PYTHONPATH configurado para incluir: /home/luisruimore/Escritorio/TFG/src\n"
     ]
    }
   ],
   "execution_count": 1
  },
  {
   "cell_type": "markdown",
   "id": "fc782d7699f7987c",
   "metadata": {},
   "source": [
    "## Importar la función read_vcf\n"
   ]
  },
  {
   "cell_type": "code",
   "id": "d7bc84a5f1dc8c3e",
   "metadata": {
    "ExecuteTime": {
     "end_time": "2025-07-20T22:38:51.565933Z",
     "start_time": "2025-07-20T22:38:51.042033Z"
    }
   },
   "source": [
    "from pyMut import read_vcf\n",
    "\n",
    "print(\"✅ Función read_vcf importada correctamente\")\n"
   ],
   "outputs": [
    {
     "name": "stdout",
     "output_type": "stream",
     "text": [
      "✅ Función read_vcf importada correctamente\n"
     ]
    }
   ],
   "execution_count": 2
  },
  {
   "cell_type": "markdown",
   "id": "8230ea724b1f48e0",
   "metadata": {},
   "source": [
    "## Definir ruta del archivo subset de 250k\n"
   ]
  },
  {
   "metadata": {
    "ExecuteTime": {
     "end_time": "2025-07-20T22:38:51.576267Z",
     "start_time": "2025-07-20T22:38:51.573462Z"
    }
   },
   "cell_type": "code",
   "source": [
    "# Ruta al archivo VCF de subset de 50k variantes con anotaciones VEP\n",
    "vcf_path = \"../../../src/pyMut/data/examples/VCF/subset_50k_variants_vep_protein_gene_variant_class.vcf.gz\"\n",
    "\n",
    "print(\"📁 Archivo a procesar:\")\n",
    "print(f\"  - 50k subset: {vcf_path}\")\n",
    "\n",
    "# Verificar que el archivo existe\n",
    "if os.path.exists(vcf_path):\n",
    "    print(\"✅ Archivo encontrado\")\n",
    "else:\n",
    "    print(\"❌ Archivo no encontrado\")\n"
   ],
   "id": "6870898692021a3e",
   "outputs": [
    {
     "name": "stdout",
     "output_type": "stream",
     "text": [
      "📁 Archivo a procesar:\n",
      "  - 50k subset: ../../../src/pyMut/data/examples/VCF/subset_50k_variants_vep_protein_gene_variant_class.vcf.gz\n",
      "✅ Archivo encontrado\n"
     ]
    }
   ],
   "execution_count": 3
  },
  {
   "cell_type": "markdown",
   "id": "72ddb1efa44a89",
   "metadata": {},
   "source": [
    "## Leer archivo VCF de 50k con configuración optimizada\n",
    "\n",
    "Usamos la configuración optimizada de pandas + PyArrow:\n"
   ]
  },
  {
   "cell_type": "code",
   "id": "afe3cd00589a5cdf",
   "metadata": {
    "ExecuteTime": {
     "end_time": "2025-07-20T22:41:48.470475Z",
     "start_time": "2025-07-20T22:38:51.620851Z"
    }
   },
   "source": [
    "print(\"📖 Leyendo archivo subset de 50k variantes...\")\n",
    "\n",
    "try:\n",
    "    # Leer con configuración optimizada (solo pandas + PyArrow)\n",
    "    pymutation_obj = read_vcf(vcf_path)\n",
    "\n",
    "    print(\"✅ Objeto PyMutation creado exitosamente\")\n",
    "    print(f\"   Forma del DataFrame: {pymutation_obj.data.shape}\")\n",
    "    print(f\"   Número de variantes: {len(pymutation_obj.data)}\")\n",
    "    print(f\"   Número de columnas: {len(pymutation_obj.data.columns)}\")\n",
    "\n",
    "except Exception as e:\n",
    "    print(f\"❌ Error al leer el archivo: {e}\")\n",
    "    import traceback\n",
    "    traceback.print_exc()\n",
    "\n"
   ],
   "outputs": [
    {
     "name": "stderr",
     "output_type": "stream",
     "text": [
      "2025-07-21 00:38:51,622 | INFO | pyMut.input | Starting optimized VCF reading: ../../../src/pyMut/data/examples/VCF/subset_50k_variants_vep_protein_gene_variant_class.vcf.gz\n",
      "2025-07-21 00:38:51,623 | INFO | pyMut.input | Reading VCF with pandas + pyarrow optimization...\n"
     ]
    },
    {
     "name": "stdout",
     "output_type": "stream",
     "text": [
      "📖 Leyendo archivo subset de 50k variantes...\n"
     ]
    },
    {
     "name": "stderr",
     "output_type": "stream",
     "text": [
      "2025-07-21 00:39:09,734 | INFO | pyMut.input | Pandas reading completed.\n",
      "2025-07-21 00:39:09,760 | INFO | pyMut.input | Expanding INFO column with vectorized operations...\n",
      "2025-07-21 00:39:10,355 | INFO | pyMut.input | Expanding VEP CSQ annotations into individual columns...\n",
      "2025-07-21 00:39:10,958 | INFO | pyMut.input | CSQ expanded into 31 VEP annotation columns in 0.60 s\n",
      "2025-07-21 00:39:10,959 | INFO | pyMut.input | Generating Hugo_Symbol column from VEP_SYMBOL and VEP_NEAREST...\n",
      "2025-07-21 00:39:10,988 | INFO | pyMut.input | Hugo_Symbol column generated in 0.03 s\n",
      "2025-07-21 00:39:10,991 | INFO | pyMut.input | Generating Variant_Classification from VEP_Consequence and VEP_VARIANT_CLASS...\n",
      "2025-07-21 00:39:17,595 | INFO | pyMut.input | Variant_Classification generated in 6.60 s\n",
      "2025-07-21 00:39:17,600 | INFO | pyMut.input | Generating Variant_Type from VEP_VARIANT_CLASS...\n",
      "2025-07-21 00:39:24,034 | INFO | pyMut.input | Variant_Type generated in 6.43 s\n",
      "2025-07-21 00:39:24,037 | INFO | pyMut.input | Detected 2555 sample columns. Starting vectorized genotype conversion...\n",
      "2025-07-21 00:41:39,582 | INFO | pyMut.input | GT conversion: 135.54 s\n",
      "2025-07-21 00:41:41,151 | INFO | pyMut.input | Saving to cache: ../../../src/pyMut/data/examples/VCF/.pymut_cache/subset_50k_variants_vep_protein_gene_variant_class.vcf_fa6ec84755a0393b.parquet\n",
      "2025-07-21 00:41:48,419 | INFO | pyMut.input | VCF processed successfully: 50000 rows, 2602 columns in 176.80 seconds\n"
     ]
    },
    {
     "name": "stdout",
     "output_type": "stream",
     "text": [
      "✅ Objeto PyMutation creado exitosamente\n",
      "   Forma del DataFrame: (50000, 2602)\n",
      "   Número de variantes: 50000\n",
      "   Número de columnas: 2602\n"
     ]
    }
   ],
   "execution_count": 4
  },
  {
   "cell_type": "markdown",
   "id": "edba9489ca6e5371",
   "metadata": {},
   "source": [
    "## Mostrar primeras filas del DataFrame\n"
   ]
  },
  {
   "cell_type": "code",
   "id": "c49a3dad446978d8",
   "metadata": {
    "ExecuteTime": {
     "end_time": "2025-07-20T22:41:48.504415Z",
     "start_time": "2025-07-20T22:41:48.483516Z"
    }
   },
   "source": [
    "print(\"\\n🔍 Primeras 3 filas del subset de 50k:\")\n",
    "pymutation_obj.head(3)\n"
   ],
   "outputs": [
    {
     "name": "stdout",
     "output_type": "stream",
     "text": [
      "\n",
      "🔍 Primeras 3 filas del subset de 50k:\n"
     ]
    },
    {
     "data": {
      "text/plain": [
       "   CHROM    POS ID REF ALT QUAL FILTER HG00096 HG00097 HG00099  ...  \\\n",
       "0  chr10  11501  .   C   A    .   PASS     C|A     C|C     C|C  ...   \n",
       "1  chr10  36097  .   G   A    .   PASS     G|A     A|G     G|G  ...   \n",
       "2  chr10  45900  .   C   T    .   PASS     C|C     C|C     C|C  ...   \n",
       "\n",
       "          VEP_ENSP VEP_SWISSPROT VEP_TREMBL    VEP_UNIPARC  \\\n",
       "0                                                            \n",
       "1                                                            \n",
       "2  ENSP00000456206    Q3ZCM7.157             UPI000007238E   \n",
       "\n",
       "  VEP_UNIPROT_ISOFORM VEP_NEAREST VEP_DOMAINS Hugo_Symbol  \\\n",
       "0                           TUBB8                   TUBB8   \n",
       "1                           TUBB8                   TUBB8   \n",
       "2                           TUBB8                   TUBB8   \n",
       "\n",
       "  Variant_Classification Variant_Type  \n",
       "0                 INTRON          SNP  \n",
       "1                 INTRON          SNP  \n",
       "2                3'FLANK          SNP  \n",
       "\n",
       "[3 rows x 2602 columns]"
      ],
      "text/html": [
       "<div>\n",
       "<style scoped>\n",
       "    .dataframe tbody tr th:only-of-type {\n",
       "        vertical-align: middle;\n",
       "    }\n",
       "\n",
       "    .dataframe tbody tr th {\n",
       "        vertical-align: top;\n",
       "    }\n",
       "\n",
       "    .dataframe thead th {\n",
       "        text-align: right;\n",
       "    }\n",
       "</style>\n",
       "<table border=\"1\" class=\"dataframe\">\n",
       "  <thead>\n",
       "    <tr style=\"text-align: right;\">\n",
       "      <th></th>\n",
       "      <th>CHROM</th>\n",
       "      <th>POS</th>\n",
       "      <th>ID</th>\n",
       "      <th>REF</th>\n",
       "      <th>ALT</th>\n",
       "      <th>QUAL</th>\n",
       "      <th>FILTER</th>\n",
       "      <th>HG00096</th>\n",
       "      <th>HG00097</th>\n",
       "      <th>HG00099</th>\n",
       "      <th>...</th>\n",
       "      <th>VEP_ENSP</th>\n",
       "      <th>VEP_SWISSPROT</th>\n",
       "      <th>VEP_TREMBL</th>\n",
       "      <th>VEP_UNIPARC</th>\n",
       "      <th>VEP_UNIPROT_ISOFORM</th>\n",
       "      <th>VEP_NEAREST</th>\n",
       "      <th>VEP_DOMAINS</th>\n",
       "      <th>Hugo_Symbol</th>\n",
       "      <th>Variant_Classification</th>\n",
       "      <th>Variant_Type</th>\n",
       "    </tr>\n",
       "  </thead>\n",
       "  <tbody>\n",
       "    <tr>\n",
       "      <th>0</th>\n",
       "      <td>chr10</td>\n",
       "      <td>11501</td>\n",
       "      <td>.</td>\n",
       "      <td>C</td>\n",
       "      <td>A</td>\n",
       "      <td>.</td>\n",
       "      <td>PASS</td>\n",
       "      <td>C|A</td>\n",
       "      <td>C|C</td>\n",
       "      <td>C|C</td>\n",
       "      <td>...</td>\n",
       "      <td></td>\n",
       "      <td></td>\n",
       "      <td></td>\n",
       "      <td></td>\n",
       "      <td></td>\n",
       "      <td>TUBB8</td>\n",
       "      <td></td>\n",
       "      <td>TUBB8</td>\n",
       "      <td>INTRON</td>\n",
       "      <td>SNP</td>\n",
       "    </tr>\n",
       "    <tr>\n",
       "      <th>1</th>\n",
       "      <td>chr10</td>\n",
       "      <td>36097</td>\n",
       "      <td>.</td>\n",
       "      <td>G</td>\n",
       "      <td>A</td>\n",
       "      <td>.</td>\n",
       "      <td>PASS</td>\n",
       "      <td>G|A</td>\n",
       "      <td>A|G</td>\n",
       "      <td>G|G</td>\n",
       "      <td>...</td>\n",
       "      <td></td>\n",
       "      <td></td>\n",
       "      <td></td>\n",
       "      <td></td>\n",
       "      <td></td>\n",
       "      <td>TUBB8</td>\n",
       "      <td></td>\n",
       "      <td>TUBB8</td>\n",
       "      <td>INTRON</td>\n",
       "      <td>SNP</td>\n",
       "    </tr>\n",
       "    <tr>\n",
       "      <th>2</th>\n",
       "      <td>chr10</td>\n",
       "      <td>45900</td>\n",
       "      <td>.</td>\n",
       "      <td>C</td>\n",
       "      <td>T</td>\n",
       "      <td>.</td>\n",
       "      <td>PASS</td>\n",
       "      <td>C|C</td>\n",
       "      <td>C|C</td>\n",
       "      <td>C|C</td>\n",
       "      <td>...</td>\n",
       "      <td>ENSP00000456206</td>\n",
       "      <td>Q3ZCM7.157</td>\n",
       "      <td></td>\n",
       "      <td>UPI000007238E</td>\n",
       "      <td></td>\n",
       "      <td>TUBB8</td>\n",
       "      <td></td>\n",
       "      <td>TUBB8</td>\n",
       "      <td>3'FLANK</td>\n",
       "      <td>SNP</td>\n",
       "    </tr>\n",
       "  </tbody>\n",
       "</table>\n",
       "<p>3 rows × 2602 columns</p>\n",
       "</div>"
      ]
     },
     "execution_count": 5,
     "metadata": {},
     "output_type": "execute_result"
    }
   ],
   "execution_count": 5
  },
  {
   "cell_type": "markdown",
   "id": "dac656157712f976",
   "metadata": {},
   "source": [
    "## Mostrar lista de las columnas disponibles (sin samples)\n",
    "\n",
    "La columna CSQ contiene las anotaciones de consecuencias de VEP (Variant Effect Predictor) con información sobre el impacto de las variantes en los genes.\n"
   ]
  },
  {
   "cell_type": "code",
   "id": "400cef086a7218b1",
   "metadata": {
    "ExecuteTime": {
     "end_time": "2025-07-20T22:41:48.814061Z",
     "start_time": "2025-07-20T22:41:48.787251Z"
    }
   },
   "source": [
    "# Mostrar las columnas disponibles en el DataFrame sin incluir los samples (PyMutation.samples)\n",
    "print(\"\\nColumnas disponibles (sin samples):\")\n",
    "columns = pymutation_obj.data.columns.tolist()\n",
    "samples = pymutation_obj.samples\n",
    "\n",
    "# Mostrar solo las columnas que no son samples\n",
    "columns_without_samples = [col for col in columns if col not in samples]\n",
    "print(columns_without_samples)\n"
   ],
   "outputs": [
    {
     "name": "stdout",
     "output_type": "stream",
     "text": [
      "\n",
      "Columnas disponibles (sin samples):\n",
      "['CHROM', 'POS', 'ID', 'REF', 'ALT', 'QUAL', 'FILTER', 'FORMAT', 'AC', 'AN', 'DP', 'AF', 'AFR_AF', 'VEP_Allele', 'VEP_Consequence', 'VEP_IMPACT', 'VEP_SYMBOL', 'VEP_Gene', 'VEP_Feature_type', 'VEP_Feature', 'VEP_BIOTYPE', 'VEP_EXON', 'VEP_INTRON', 'VEP_HGVSc', 'VEP_HGVSp', 'VEP_cDNA_position', 'VEP_CDS_position', 'VEP_Protein_position', 'VEP_Amino_acids', 'VEP_Codons', 'VEP_Existing_variation', 'VEP_DISTANCE', 'VEP_STRAND', 'VEP_FLAGS', 'VEP_VARIANT_CLASS', 'VEP_SYMBOL_SOURCE', 'VEP_HGNC_ID', 'VEP_ENSP', 'VEP_SWISSPROT', 'VEP_TREMBL', 'VEP_UNIPARC', 'VEP_UNIPROT_ISOFORM', 'VEP_NEAREST', 'VEP_DOMAINS', 'Hugo_Symbol', 'Variant_Classification', 'Variant_Type']\n"
     ]
    }
   ],
   "execution_count": 6
  },
  {
   "metadata": {
    "ExecuteTime": {
     "end_time": "2025-07-20T22:41:49.098711Z",
     "start_time": "2025-07-20T22:41:49.088162Z"
    }
   },
   "cell_type": "code",
   "source": [
    "# Muestrame un dataframe solo con 'VEP_SYMBOL', 'VEP_Gene','VEP_NEAREST'\n",
    "vep_columns = ['VEP_SYMBOL','VEP_NEAREST','Hugo_Symbol','VEP_Consequence', 'VEP_VARIANT_CLASS', 'Variant_Classification', 'Variant_Type']\n",
    "vep_df = pymutation_obj.data[vep_columns]\n",
    "print(\"\\n🔍 DataFrame con columnas VEP:\")\n",
    "vep_df.head(1000)"
   ],
   "id": "eb6756cf9416adb2",
   "outputs": [
    {
     "name": "stdout",
     "output_type": "stream",
     "text": [
      "\n",
      "🔍 DataFrame con columnas VEP:\n"
     ]
    },
    {
     "data": {
      "text/plain": [
       "    VEP_SYMBOL VEP_NEAREST Hugo_Symbol  \\\n",
       "0                    TUBB8       TUBB8   \n",
       "1                    TUBB8       TUBB8   \n",
       "2        TUBB8       TUBB8       TUBB8   \n",
       "3        TUBB8       TUBB8       TUBB8   \n",
       "4        TUBB8       TUBB8       TUBB8   \n",
       "..         ...         ...         ...   \n",
       "995     IL9RP2       TUBB8      IL9RP2   \n",
       "996     IL9RP2       TUBB8      IL9RP2   \n",
       "997     IL9RP2       TUBB8      IL9RP2   \n",
       "998     IL9RP2       TUBB8      IL9RP2   \n",
       "999     IL9RP2       TUBB8      IL9RP2   \n",
       "\n",
       "                                  VEP_Consequence VEP_VARIANT_CLASS  \\\n",
       "0    intron_variant&non_coding_transcript_variant               SNV   \n",
       "1    intron_variant&non_coding_transcript_variant               SNV   \n",
       "2                         downstream_gene_variant               SNV   \n",
       "3                             3_prime_UTR_variant          deletion   \n",
       "4                                inframe_deletion          deletion   \n",
       "..                                            ...               ...   \n",
       "995                         upstream_gene_variant               SNV   \n",
       "996                         upstream_gene_variant               SNV   \n",
       "997                         upstream_gene_variant               SNV   \n",
       "998                         upstream_gene_variant               SNV   \n",
       "999                         upstream_gene_variant               SNV   \n",
       "\n",
       "    Variant_Classification Variant_Type  \n",
       "0                   INTRON          SNP  \n",
       "1                   INTRON          SNP  \n",
       "2                  3'FLANK          SNP  \n",
       "3                3'UTR_DEL          DEL  \n",
       "4                  RNA_DEL          DEL  \n",
       "..                     ...          ...  \n",
       "995                5'FLANK          SNP  \n",
       "996                5'FLANK          SNP  \n",
       "997                5'FLANK          SNP  \n",
       "998                5'FLANK          SNP  \n",
       "999                5'FLANK          SNP  \n",
       "\n",
       "[1000 rows x 7 columns]"
      ],
      "text/html": [
       "<div>\n",
       "<style scoped>\n",
       "    .dataframe tbody tr th:only-of-type {\n",
       "        vertical-align: middle;\n",
       "    }\n",
       "\n",
       "    .dataframe tbody tr th {\n",
       "        vertical-align: top;\n",
       "    }\n",
       "\n",
       "    .dataframe thead th {\n",
       "        text-align: right;\n",
       "    }\n",
       "</style>\n",
       "<table border=\"1\" class=\"dataframe\">\n",
       "  <thead>\n",
       "    <tr style=\"text-align: right;\">\n",
       "      <th></th>\n",
       "      <th>VEP_SYMBOL</th>\n",
       "      <th>VEP_NEAREST</th>\n",
       "      <th>Hugo_Symbol</th>\n",
       "      <th>VEP_Consequence</th>\n",
       "      <th>VEP_VARIANT_CLASS</th>\n",
       "      <th>Variant_Classification</th>\n",
       "      <th>Variant_Type</th>\n",
       "    </tr>\n",
       "  </thead>\n",
       "  <tbody>\n",
       "    <tr>\n",
       "      <th>0</th>\n",
       "      <td></td>\n",
       "      <td>TUBB8</td>\n",
       "      <td>TUBB8</td>\n",
       "      <td>intron_variant&amp;non_coding_transcript_variant</td>\n",
       "      <td>SNV</td>\n",
       "      <td>INTRON</td>\n",
       "      <td>SNP</td>\n",
       "    </tr>\n",
       "    <tr>\n",
       "      <th>1</th>\n",
       "      <td></td>\n",
       "      <td>TUBB8</td>\n",
       "      <td>TUBB8</td>\n",
       "      <td>intron_variant&amp;non_coding_transcript_variant</td>\n",
       "      <td>SNV</td>\n",
       "      <td>INTRON</td>\n",
       "      <td>SNP</td>\n",
       "    </tr>\n",
       "    <tr>\n",
       "      <th>2</th>\n",
       "      <td>TUBB8</td>\n",
       "      <td>TUBB8</td>\n",
       "      <td>TUBB8</td>\n",
       "      <td>downstream_gene_variant</td>\n",
       "      <td>SNV</td>\n",
       "      <td>3'FLANK</td>\n",
       "      <td>SNP</td>\n",
       "    </tr>\n",
       "    <tr>\n",
       "      <th>3</th>\n",
       "      <td>TUBB8</td>\n",
       "      <td>TUBB8</td>\n",
       "      <td>TUBB8</td>\n",
       "      <td>3_prime_UTR_variant</td>\n",
       "      <td>deletion</td>\n",
       "      <td>3'UTR_DEL</td>\n",
       "      <td>DEL</td>\n",
       "    </tr>\n",
       "    <tr>\n",
       "      <th>4</th>\n",
       "      <td>TUBB8</td>\n",
       "      <td>TUBB8</td>\n",
       "      <td>TUBB8</td>\n",
       "      <td>inframe_deletion</td>\n",
       "      <td>deletion</td>\n",
       "      <td>RNA_DEL</td>\n",
       "      <td>DEL</td>\n",
       "    </tr>\n",
       "    <tr>\n",
       "      <th>...</th>\n",
       "      <td>...</td>\n",
       "      <td>...</td>\n",
       "      <td>...</td>\n",
       "      <td>...</td>\n",
       "      <td>...</td>\n",
       "      <td>...</td>\n",
       "      <td>...</td>\n",
       "    </tr>\n",
       "    <tr>\n",
       "      <th>995</th>\n",
       "      <td>IL9RP2</td>\n",
       "      <td>TUBB8</td>\n",
       "      <td>IL9RP2</td>\n",
       "      <td>upstream_gene_variant</td>\n",
       "      <td>SNV</td>\n",
       "      <td>5'FLANK</td>\n",
       "      <td>SNP</td>\n",
       "    </tr>\n",
       "    <tr>\n",
       "      <th>996</th>\n",
       "      <td>IL9RP2</td>\n",
       "      <td>TUBB8</td>\n",
       "      <td>IL9RP2</td>\n",
       "      <td>upstream_gene_variant</td>\n",
       "      <td>SNV</td>\n",
       "      <td>5'FLANK</td>\n",
       "      <td>SNP</td>\n",
       "    </tr>\n",
       "    <tr>\n",
       "      <th>997</th>\n",
       "      <td>IL9RP2</td>\n",
       "      <td>TUBB8</td>\n",
       "      <td>IL9RP2</td>\n",
       "      <td>upstream_gene_variant</td>\n",
       "      <td>SNV</td>\n",
       "      <td>5'FLANK</td>\n",
       "      <td>SNP</td>\n",
       "    </tr>\n",
       "    <tr>\n",
       "      <th>998</th>\n",
       "      <td>IL9RP2</td>\n",
       "      <td>TUBB8</td>\n",
       "      <td>IL9RP2</td>\n",
       "      <td>upstream_gene_variant</td>\n",
       "      <td>SNV</td>\n",
       "      <td>5'FLANK</td>\n",
       "      <td>SNP</td>\n",
       "    </tr>\n",
       "    <tr>\n",
       "      <th>999</th>\n",
       "      <td>IL9RP2</td>\n",
       "      <td>TUBB8</td>\n",
       "      <td>IL9RP2</td>\n",
       "      <td>upstream_gene_variant</td>\n",
       "      <td>SNV</td>\n",
       "      <td>5'FLANK</td>\n",
       "      <td>SNP</td>\n",
       "    </tr>\n",
       "  </tbody>\n",
       "</table>\n",
       "<p>1000 rows × 7 columns</p>\n",
       "</div>"
      ]
     },
     "execution_count": 7,
     "metadata": {},
     "output_type": "execute_result"
    }
   ],
   "execution_count": 7
  },
  {
   "metadata": {
    "ExecuteTime": {
     "end_time": "2025-07-20T22:41:49.185202Z",
     "start_time": "2025-07-20T22:41:49.177795Z"
    }
   },
   "cell_type": "code",
   "source": [
    "# Mira los diferentes valores de 'Hugo_Symbol'\n",
    "print(\"\\nValores únicos de 'Hugo_Symbol':\")\n",
    "unique_hugo_symbols = vep_df['Hugo_Symbol'].unique()\n",
    "print(unique_hugo_symbols)"
   ],
   "id": "8967c6d6dd886e01",
   "outputs": [
    {
     "name": "stdout",
     "output_type": "stream",
     "text": [
      "\n",
      "Valores únicos de 'Hugo_Symbol':\n",
      "['TUBB8' 'IL9RP2' 'ZMYND11' 'DIP2C' 'LARP4B' 'LARP4B-DT' 'GTPBP4' 'IDI2'\n",
      " 'IDI2-AS1' 'IDI1' 'WDR37' 'ADARB2' 'LINC00200']\n"
     ]
    }
   ],
   "execution_count": 8
  }
 ],
 "metadata": {
  "kernelspec": {
   "display_name": "Python 3 (ipykernel)",
   "language": "python",
   "name": "python3"
  },
  "language_info": {
   "codemirror_mode": {
    "name": "ipython",
    "version": 3
   },
   "file_extension": ".py",
   "mimetype": "text/x-python",
   "name": "python",
   "nbconvert_exporter": "python",
   "pygments_lexer": "ipython3",
   "version": "3.10.17"
  }
 },
 "nbformat": 4,
 "nbformat_minor": 5
}
