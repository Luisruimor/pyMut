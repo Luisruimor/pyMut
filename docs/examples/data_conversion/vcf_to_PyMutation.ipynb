{
 "cells": [
  {
   "cell_type": "markdown",
   "id": "859ba7e963744fa1",
   "metadata": {},
   "source": [
    "# VCF to PyMutation Conversion\n"
   ]
  },
  {
   "cell_type": "code",
   "id": "97b7e8a3a632a9ce",
   "metadata": {
    "ExecuteTime": {
     "end_time": "2025-07-18T13:49:19.891329Z",
     "start_time": "2025-07-18T13:49:19.888616Z"
    }
   },
   "source": [
    "import sys\n",
    "import os\n",
    "\n",
    "# Configurar el directorio del proyecto\n",
    "project_root = os.path.abspath(os.path.join(os.getcwd(), '..', '..', '..', 'src'))\n",
    "if project_root not in sys.path:\n",
    "    sys.path.append(project_root)\n",
    "\n",
    "print('✅ PYTHONPATH configurado para incluir:', project_root)\n"
   ],
   "outputs": [
    {
     "name": "stdout",
     "output_type": "stream",
     "text": [
      "✅ PYTHONPATH configurado para incluir: /home/luisruimore/Escritorio/TFG/src\n"
     ]
    }
   ],
   "execution_count": 1
  },
  {
   "cell_type": "markdown",
   "id": "fc782d7699f7987c",
   "metadata": {},
   "source": [
    "## Importar la función read_vcf\n"
   ]
  },
  {
   "cell_type": "code",
   "id": "d7bc84a5f1dc8c3e",
   "metadata": {
    "ExecuteTime": {
     "end_time": "2025-07-18T13:49:20.480887Z",
     "start_time": "2025-07-18T13:49:20.046763Z"
    }
   },
   "source": [
    "from pyMut import read_vcf\n",
    "\n",
    "print(\"✅ Función read_vcf importada correctamente\")\n"
   ],
   "outputs": [
    {
     "name": "stdout",
     "output_type": "stream",
     "text": [
      "✅ Función read_vcf importada correctamente\n"
     ]
    }
   ],
   "execution_count": 2
  },
  {
   "cell_type": "markdown",
   "id": "8230ea724b1f48e0",
   "metadata": {},
   "source": [
    "## Definir ruta del archivo subset de 250k\n"
   ]
  },
  {
   "cell_type": "code",
   "id": "3b7ba734c53ba92b",
   "metadata": {
    "ExecuteTime": {
     "end_time": "2025-07-18T13:49:20.498394Z",
     "start_time": "2025-07-18T13:49:20.495987Z"
    }
   },
   "source": [
    "# Ruta al archivo VCF de subset de 50k variantes con anotaciones VEP\n",
    "vcf_path = \"../../../subset_50k_variants.vep_gene_annotation.vcf\"\n",
    "\n",
    "print(\"📁 Archivo a procesar:\")\n",
    "print(f\"  - 50k subset: {vcf_path}\")\n",
    "\n",
    "# Verificar que el archivo existe\n",
    "if os.path.exists(vcf_path):\n",
    "    print(\"✅ Archivo encontrado\")\n",
    "else:\n",
    "    print(\"❌ Archivo no encontrado\")\n"
   ],
   "outputs": [
    {
     "name": "stdout",
     "output_type": "stream",
     "text": [
      "📁 Archivo a procesar:\n",
      "  - 50k subset: ../../../subset_50k_variants.vep_gene_annotation.vcf\n",
      "✅ Archivo encontrado\n"
     ]
    }
   ],
   "execution_count": 3
  },
  {
   "cell_type": "markdown",
   "id": "72ddb1efa44a89",
   "metadata": {},
   "source": [
    "## Leer archivo VCF de 50k con configuración optimizada\n",
    "\n",
    "Usamos la configuración optimizada de pandas + PyArrow:\n"
   ]
  },
  {
   "cell_type": "code",
   "id": "afe3cd00589a5cdf",
   "metadata": {
    "ExecuteTime": {
     "end_time": "2025-07-18T13:52:09.085855Z",
     "start_time": "2025-07-18T13:49:20.542401Z"
    }
   },
   "source": [
    "print(\"📖 Leyendo archivo subset de 50k variantes...\")\n",
    "\n",
    "try:\n",
    "    # Leer con configuración optimizada (solo pandas + PyArrow)\n",
    "    pymutation_obj = read_vcf(vcf_path)\n",
    "\n",
    "    print(\"✅ Objeto PyMutation creado exitosamente\")\n",
    "    print(f\"   Forma del DataFrame: {pymutation_obj.data.shape}\")\n",
    "    print(f\"   Número de variantes: {len(pymutation_obj.data)}\")\n",
    "    print(f\"   Número de columnas: {len(pymutation_obj.data.columns)}\")\n",
    "\n",
    "except Exception as e:\n",
    "    print(f\"❌ Error al leer el archivo: {e}\")\n",
    "    import traceback\n",
    "    traceback.print_exc()\n",
    "\n"
   ],
   "outputs": [
    {
     "name": "stderr",
     "output_type": "stream",
     "text": [
      "2025-07-18 15:49:20,543 | INFO | pyMut.input | Starting optimized VCF reading: ../../../subset_50k_variants.vep_gene_annotation.vcf\n",
      "2025-07-18 15:49:20,544 | INFO | pyMut.input | ============================================================\n",
      "2025-07-18 15:49:20,544 | INFO | pyMut.input | SYSTEM CONFIGURATION\n",
      "2025-07-18 15:49:20,545 | INFO | pyMut.input | ============================================================\n",
      "2025-07-18 15:49:20,545 | INFO | pyMut.input | CPU: 12 cores available\n",
      "2025-07-18 15:49:20,546 | INFO | pyMut.input | MEMORY:\n",
      "2025-07-18 15:49:20,546 | INFO | pyMut.input |   Total: 31.26 GB\n",
      "2025-07-18 15:49:20,547 | INFO | pyMut.input |   Available: 18.14 GB\n",
      "2025-07-18 15:49:20,547 | INFO | pyMut.input |   Used: 12.46 GB (42.0%)\n",
      "2025-07-18 15:49:20,547 | INFO | pyMut.input | DISK (current directory):\n",
      "2025-07-18 15:49:20,548 | INFO | pyMut.input |   Total: 409.14 GB\n",
      "2025-07-18 15:49:20,548 | INFO | pyMut.input |   Free: 156.64 GB\n",
      "2025-07-18 15:49:20,548 | INFO | pyMut.input |   Used: 231.65 GB (56.6%)\n",
      "2025-07-18 15:49:20,549 | INFO | pyMut.input | AVAILABLE LIBRARIES:\n",
      "2025-07-18 15:49:20,549 | INFO | pyMut.input |   PyArrow: ✓\n",
      "2025-07-18 15:49:20,549 | INFO | pyMut.input |   cyvcf2: ✓\n",
      "2025-07-18 15:49:20,549 | INFO | pyMut.input |   psutil: ✓\n",
      "2025-07-18 15:49:20,549 | INFO | pyMut.input | ============================================================\n",
      "2025-07-18 15:49:20,550 | INFO | pyMut.input | Reading VCF with pandas + pyarrow optimization...\n"
     ]
    },
    {
     "name": "stdout",
     "output_type": "stream",
     "text": [
      "📖 Leyendo archivo subset de 50k variantes...\n"
     ]
    },
    {
     "name": "stderr",
     "output_type": "stream",
     "text": [
      "2025-07-18 15:49:38,477 | INFO | pyMut.input | Pandas reading completed.\n",
      "2025-07-18 15:49:38,504 | INFO | pyMut.input | Expanding INFO column with vectorized operations...\n",
      "2025-07-18 15:49:39,090 | INFO | pyMut.input | Expanding VEP CSQ annotations into individual columns...\n",
      "2025-07-18 15:49:39,580 | INFO | pyMut.input | CSQ expanded into 23 VEP annotation columns in 0.49 s\n",
      "2025-07-18 15:49:39,580 | INFO | pyMut.input | Detected 2555 sample columns. Starting vectorized genotype conversion...\n",
      "2025-07-18 15:52:00,015 | INFO | pyMut.input | GT conversion: 140.43 s\n",
      "2025-07-18 15:52:01,687 | INFO | pyMut.input | Saving to cache: ../../../.pymut_cache/subset_50k_variants.vep_gene_annotation_e0e4d99b05b85f8e.parquet\n",
      "2025-07-18 15:52:09,044 | INFO | pyMut.input | VCF processed successfully: 50000 rows, 2591 columns in 168.50 seconds\n"
     ]
    },
    {
     "name": "stdout",
     "output_type": "stream",
     "text": [
      "✅ Objeto PyMutation creado exitosamente\n",
      "   Forma del DataFrame: (50000, 2591)\n",
      "   Número de variantes: 50000\n",
      "   Número de columnas: 2591\n"
     ]
    }
   ],
   "execution_count": 4
  },
  {
   "cell_type": "markdown",
   "id": "edba9489ca6e5371",
   "metadata": {},
   "source": [
    "## Mostrar primeras filas del DataFrame\n"
   ]
  },
  {
   "cell_type": "code",
   "id": "c49a3dad446978d8",
   "metadata": {
    "ExecuteTime": {
     "end_time": "2025-07-18T13:52:09.113602Z",
     "start_time": "2025-07-18T13:52:09.096892Z"
    }
   },
   "source": [
    "print(\"\\n🔍 Primeras 3 filas del subset de 50k:\")\n",
    "pymutation_obj.head(3)\n"
   ],
   "outputs": [
    {
     "name": "stdout",
     "output_type": "stream",
     "text": [
      "\n",
      "🔍 Primeras 3 filas del subset de 50k:\n"
     ]
    },
    {
     "data": {
      "text/plain": [
       "   CHROM    POS ID REF ALT QUAL FILTER HG00096 HG00097 HG00099  ...  \\\n",
       "0  chr10  11501  .   C   A    .   PASS     C|A     C|C     C|C  ...   \n",
       "1  chr10  36097  .   G   A    .   PASS     G|A     A|G     G|G  ...   \n",
       "2  chr10  45900  .   C   T    .   PASS     C|C     C|C     C|C  ...   \n",
       "\n",
       "  VEP_CDS_position VEP_Protein_position VEP_Amino_acids VEP_Codons  \\\n",
       "0             None                 None            None       None   \n",
       "1             None                 None            None       None   \n",
       "2             None                 None            None       None   \n",
       "\n",
       "  VEP_Existing_variation VEP_DISTANCE VEP_STRAND VEP_FLAGS VEP_SYMBOL_SOURCE  \\\n",
       "0                   None         None          1      None              None   \n",
       "1                   None         None          1      None              None   \n",
       "2                   None          988         -1      None              HGNC   \n",
       "\n",
       "  VEP_HGNC_ID  \n",
       "0        None  \n",
       "1        None  \n",
       "2  HGNC:20773  \n",
       "\n",
       "[3 rows x 2591 columns]"
      ],
      "text/html": [
       "<div>\n",
       "<style scoped>\n",
       "    .dataframe tbody tr th:only-of-type {\n",
       "        vertical-align: middle;\n",
       "    }\n",
       "\n",
       "    .dataframe tbody tr th {\n",
       "        vertical-align: top;\n",
       "    }\n",
       "\n",
       "    .dataframe thead th {\n",
       "        text-align: right;\n",
       "    }\n",
       "</style>\n",
       "<table border=\"1\" class=\"dataframe\">\n",
       "  <thead>\n",
       "    <tr style=\"text-align: right;\">\n",
       "      <th></th>\n",
       "      <th>CHROM</th>\n",
       "      <th>POS</th>\n",
       "      <th>ID</th>\n",
       "      <th>REF</th>\n",
       "      <th>ALT</th>\n",
       "      <th>QUAL</th>\n",
       "      <th>FILTER</th>\n",
       "      <th>HG00096</th>\n",
       "      <th>HG00097</th>\n",
       "      <th>HG00099</th>\n",
       "      <th>...</th>\n",
       "      <th>VEP_CDS_position</th>\n",
       "      <th>VEP_Protein_position</th>\n",
       "      <th>VEP_Amino_acids</th>\n",
       "      <th>VEP_Codons</th>\n",
       "      <th>VEP_Existing_variation</th>\n",
       "      <th>VEP_DISTANCE</th>\n",
       "      <th>VEP_STRAND</th>\n",
       "      <th>VEP_FLAGS</th>\n",
       "      <th>VEP_SYMBOL_SOURCE</th>\n",
       "      <th>VEP_HGNC_ID</th>\n",
       "    </tr>\n",
       "  </thead>\n",
       "  <tbody>\n",
       "    <tr>\n",
       "      <th>0</th>\n",
       "      <td>chr10</td>\n",
       "      <td>11501</td>\n",
       "      <td>.</td>\n",
       "      <td>C</td>\n",
       "      <td>A</td>\n",
       "      <td>.</td>\n",
       "      <td>PASS</td>\n",
       "      <td>C|A</td>\n",
       "      <td>C|C</td>\n",
       "      <td>C|C</td>\n",
       "      <td>...</td>\n",
       "      <td>None</td>\n",
       "      <td>None</td>\n",
       "      <td>None</td>\n",
       "      <td>None</td>\n",
       "      <td>None</td>\n",
       "      <td>None</td>\n",
       "      <td>1</td>\n",
       "      <td>None</td>\n",
       "      <td>None</td>\n",
       "      <td>None</td>\n",
       "    </tr>\n",
       "    <tr>\n",
       "      <th>1</th>\n",
       "      <td>chr10</td>\n",
       "      <td>36097</td>\n",
       "      <td>.</td>\n",
       "      <td>G</td>\n",
       "      <td>A</td>\n",
       "      <td>.</td>\n",
       "      <td>PASS</td>\n",
       "      <td>G|A</td>\n",
       "      <td>A|G</td>\n",
       "      <td>G|G</td>\n",
       "      <td>...</td>\n",
       "      <td>None</td>\n",
       "      <td>None</td>\n",
       "      <td>None</td>\n",
       "      <td>None</td>\n",
       "      <td>None</td>\n",
       "      <td>None</td>\n",
       "      <td>1</td>\n",
       "      <td>None</td>\n",
       "      <td>None</td>\n",
       "      <td>None</td>\n",
       "    </tr>\n",
       "    <tr>\n",
       "      <th>2</th>\n",
       "      <td>chr10</td>\n",
       "      <td>45900</td>\n",
       "      <td>.</td>\n",
       "      <td>C</td>\n",
       "      <td>T</td>\n",
       "      <td>.</td>\n",
       "      <td>PASS</td>\n",
       "      <td>C|C</td>\n",
       "      <td>C|C</td>\n",
       "      <td>C|C</td>\n",
       "      <td>...</td>\n",
       "      <td>None</td>\n",
       "      <td>None</td>\n",
       "      <td>None</td>\n",
       "      <td>None</td>\n",
       "      <td>None</td>\n",
       "      <td>988</td>\n",
       "      <td>-1</td>\n",
       "      <td>None</td>\n",
       "      <td>HGNC</td>\n",
       "      <td>HGNC:20773</td>\n",
       "    </tr>\n",
       "  </tbody>\n",
       "</table>\n",
       "<p>3 rows × 2591 columns</p>\n",
       "</div>"
      ]
     },
     "execution_count": 5,
     "metadata": {},
     "output_type": "execute_result"
    }
   ],
   "execution_count": 5
  },
  {
   "cell_type": "markdown",
   "id": "dac656157712f976",
   "metadata": {},
   "source": [
    "## Mostrar lista de las columnas disponibles (sin samples)\n",
    "\n",
    "La columna CSQ contiene las anotaciones de consecuencias de VEP (Variant Effect Predictor) con información sobre el impacto de las variantes en los genes.\n"
   ]
  },
  {
   "cell_type": "code",
   "id": "400cef086a7218b1",
   "metadata": {
    "ExecuteTime": {
     "end_time": "2025-07-18T14:04:17.705215Z",
     "start_time": "2025-07-18T14:04:17.679726Z"
    }
   },
   "source": [
    "# Mostrar las columnas disponibles en el DataFrame sin incluir los samples (PyMutation.samples)\n",
    "print(\"\\nColumnas disponibles (sin samples):\")\n",
    "columns = pymutation_obj.data.columns.tolist()\n",
    "samples = pymutation_obj.samples\n",
    "\n",
    "# Mostrar solo las columnas que no son samples\n",
    "columns_without_samples = [col for col in columns if col not in samples]\n",
    "print(columns_without_samples)\n"
   ],
   "outputs": [
    {
     "name": "stdout",
     "output_type": "stream",
     "text": [
      "\n",
      "Columnas disponibles (sin samples):\n",
      "['CHROM', 'POS', 'ID', 'REF', 'ALT', 'QUAL', 'FILTER', 'FORMAT', 'AC', 'AN', 'DP', 'AF', 'AFR_AF', 'VEP_Allele', 'VEP_Consequence', 'VEP_IMPACT', 'VEP_SYMBOL', 'VEP_Gene', 'VEP_Feature_type', 'VEP_Feature', 'VEP_BIOTYPE', 'VEP_EXON', 'VEP_INTRON', 'VEP_HGVSc', 'VEP_HGVSp', 'VEP_cDNA_position', 'VEP_CDS_position', 'VEP_Protein_position', 'VEP_Amino_acids', 'VEP_Codons', 'VEP_Existing_variation', 'VEP_DISTANCE', 'VEP_STRAND', 'VEP_FLAGS', 'VEP_SYMBOL_SOURCE', 'VEP_HGNC_ID']\n"
     ]
    }
   ],
   "execution_count": 14
  }
 ],
 "metadata": {
  "kernelspec": {
   "display_name": "Python 3 (ipykernel)",
   "language": "python",
   "name": "python3"
  },
  "language_info": {
   "codemirror_mode": {
    "name": "ipython",
    "version": 3
   },
   "file_extension": ".py",
   "mimetype": "text/x-python",
   "name": "python",
   "nbconvert_exporter": "python",
   "pygments_lexer": "ipython3",
   "version": "3.10.17"
  }
 },
 "nbformat": 4,
 "nbformat_minor": 5
}
