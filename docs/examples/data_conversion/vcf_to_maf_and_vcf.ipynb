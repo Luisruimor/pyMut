{
 "cells": [
  {
   "metadata": {},
   "cell_type": "markdown",
   "source": [
    "# VCF to MAF and VCF Conversion\n",
    "\n",
    "This notebook demonstrates how to:\n",
    "1. Read a VCF file using `read_vcf` with assembly=38\n",
    "2. Export the PyMutation object to MAF format using `to_maf`\n",
    "3. Export the PyMutation object to VCF format using `to_vcf`\n",
    "4. Read the exported MAF file using `read_maf`\n"
   ],
   "id": "2f090bf06aee135"
  },
  {
   "metadata": {
    "ExecuteTime": {
     "end_time": "2025-07-29T17:30:53.875262Z",
     "start_time": "2025-07-29T17:30:53.870830Z"
    }
   },
   "cell_type": "code",
   "source": [
    "import sys\n",
    "import os\n",
    "\n",
    "# Configure project directory\n",
    "project_root = os.path.abspath(os.path.join(os.getcwd(), '..', '..', '..', 'src'))\n",
    "if project_root not in sys.path:\n",
    "    sys.path.append(project_root)\n",
    "\n",
    "print('✅ PYTHONPATH configured to include:', project_root)\n"
   ],
   "id": "5a6a787182d9b070",
   "outputs": [
    {
     "name": "stdout",
     "output_type": "stream",
     "text": [
      "✅ PYTHONPATH configured to include: /Users/luis/Desktop/pyMut/src\n"
     ]
    }
   ],
   "execution_count": 1
  },
  {
   "metadata": {},
   "cell_type": "markdown",
   "source": "## Import the necessary functions\n",
   "id": "3aca0e76686e368f"
  },
  {
   "metadata": {
    "ExecuteTime": {
     "end_time": "2025-07-29T17:30:54.604567Z",
     "start_time": "2025-07-29T17:30:53.961529Z"
    }
   },
   "cell_type": "code",
   "source": [
    "from pyMut import read_vcf, read_maf\n",
    "\n",
    "print(\"✅ Functions imported correctly\")\n"
   ],
   "id": "17bda90fc124fdd6",
   "outputs": [
    {
     "name": "stdout",
     "output_type": "stream",
     "text": [
      "✅ Functions imported correctly\n"
     ]
    }
   ],
   "execution_count": 2
  },
  {
   "metadata": {},
   "cell_type": "markdown",
   "source": "## Define the path to the VCF file\n",
   "id": "d7e0981532800016"
  },
  {
   "metadata": {
    "ExecuteTime": {
     "end_time": "2025-07-29T17:30:54.615483Z",
     "start_time": "2025-07-29T17:30:54.613258Z"
    }
   },
   "cell_type": "code",
   "source": [
    "# Path to the VCF file with VEP annotations\n",
    "vcf_path = \"../../../src/pyMut/data/examples/VCF/subset_1k_variants_ALL.chr10.shapeit2_integrated_snvindels_v2a_27022019.GRCh38.phased_vep_protein_gene_variant_class.vcf\"\n",
    "\n",
    "print(\"📁 File to process:\")\n",
    "print(f\"  - VCF file: {vcf_path}\")\n",
    "\n",
    "# Verify that the file exists\n",
    "if os.path.exists(vcf_path):\n",
    "    print(\"✅ File found\")\n",
    "else:\n",
    "    print(\"❌ File not found\")\n"
   ],
   "id": "c277992c0c99d321",
   "outputs": [
    {
     "name": "stdout",
     "output_type": "stream",
     "text": [
      "📁 File to process:\n",
      "  - VCF file: ../../../src/pyMut/data/examples/VCF/subset_1k_variants_ALL.chr10.shapeit2_integrated_snvindels_v2a_27022019.GRCh38.phased_vep_protein_gene_variant_class.vcf\n",
      "✅ File found\n"
     ]
    }
   ],
   "execution_count": 3
  },
  {
   "metadata": {},
   "cell_type": "markdown",
   "source": "## Read the VCF file with assembly=38\n",
   "id": "7bb7aae3f8d8b053"
  },
  {
   "metadata": {
    "ExecuteTime": {
     "end_time": "2025-07-29T17:30:54.907906Z",
     "start_time": "2025-07-29T17:30:54.737726Z"
    }
   },
   "cell_type": "code",
   "source": [
    "print(\"📖 Reading VCF file...\")\n",
    "\n",
    "try:\n",
    "    # Read the VCF file with assembly=38\n",
    "    pymutation_obj = read_vcf(vcf_path, \"38\")\n",
    "    \n",
    "    print(\"✅ PyMutation object created successfully\")\n",
    "    print(f\"   DataFrame shape: {pymutation_obj.data.shape}\")\n",
    "    print(f\"   Number of variants: {len(pymutation_obj.data)}\")\n",
    "    print(f\"   Number of columns: {len(pymutation_obj.data.columns)}\")\n",
    "    print(f\"   Number of samples: {len(pymutation_obj.samples)}\")\n",
    "    \n",
    "except Exception as e:\n",
    "    print(f\"❌ Error reading the file: {e}\")\n",
    "    import traceback\n",
    "    traceback.print_exc()\n"
   ],
   "id": "848ffd96b577ec63",
   "outputs": [
    {
     "name": "stderr",
     "output_type": "stream",
     "text": [
      "2025-07-29 19:30:54,739 | INFO | pyMut.input | Starting optimized VCF reading: ../../../src/pyMut/data/examples/VCF/subset_1k_variants_ALL.chr10.shapeit2_integrated_snvindels_v2a_27022019.GRCh38.phased_vep_protein_gene_variant_class.vcf\n",
      "2025-07-29 19:30:54,740 | INFO | pyMut.input | Loading from cache: ../../../src/pyMut/data/examples/VCF/.pymut_cache/subset_1k_variants_ALL.chr10.shapeit2_integrated_snvindels_v2a_27022019.GRCh38.phased_vep_protein_gene_variant_class_459f83c3aa1088de.parquet\n"
     ]
    },
    {
     "name": "stdout",
     "output_type": "stream",
     "text": [
      "📖 Reading VCF file...\n"
     ]
    },
    {
     "name": "stderr",
     "output_type": "stream",
     "text": [
      "2025-07-29 19:30:54,906 | INFO | pyMut.input | Cache loaded successfully in 0.17 seconds\n"
     ]
    },
    {
     "name": "stdout",
     "output_type": "stream",
     "text": [
      "✅ PyMutation object created successfully\n",
      "   DataFrame shape: (1000, 2601)\n",
      "   Number of variants: 1000\n",
      "   Number of columns: 2601\n",
      "   Number of samples: 2548\n"
     ]
    }
   ],
   "execution_count": 4
  },
  {
   "metadata": {},
   "cell_type": "markdown",
   "source": "## Show the first rows of the DataFrame\n",
   "id": "98a22457a1239c9a"
  },
  {
   "metadata": {
    "ExecuteTime": {
     "end_time": "2025-07-29T17:30:54.929379Z",
     "start_time": "2025-07-29T17:30:54.916152Z"
    }
   },
   "cell_type": "code",
   "source": [
    "print(\"🔍 First 3 rows of the DataFrame:\")\n",
    "pymutation_obj.head(3)\n"
   ],
   "id": "8d341ed80bbebb2a",
   "outputs": [
    {
     "name": "stdout",
     "output_type": "stream",
     "text": [
      "🔍 First 3 rows of the DataFrame:\n"
     ]
    },
    {
     "data": {
      "text/plain": [
       "   CHROM    POS ID REF ALT QUAL FILTER HG00096 HG00097 HG00099  ...  \\\n",
       "0  chr10  11501  .   C   A    .   PASS     C|A     C|C     C|C  ...   \n",
       "1  chr10  36097  .   G   A    .   PASS     G|A     A|G     G|G  ...   \n",
       "2  chr10  45900  .   C   T    .   PASS     C|C     C|C     C|C  ...   \n",
       "\n",
       "          VEP_ENSP VEP_SWISSPROT VEP_TREMBL    VEP_UNIPARC  \\\n",
       "0                                                            \n",
       "1                                                            \n",
       "2  ENSP00000456206    Q3ZCM7.157             UPI000007238E   \n",
       "\n",
       "  VEP_UNIPROT_ISOFORM VEP_NEAREST VEP_DOMAINS Hugo_Symbol  \\\n",
       "0                           TUBB8                   TUBB8   \n",
       "1                           TUBB8                   TUBB8   \n",
       "2                           TUBB8                   TUBB8   \n",
       "\n",
       "  Variant_Classification Variant_Type  \n",
       "0                 INTRON          SNP  \n",
       "1                 INTRON          SNP  \n",
       "2                3'FLANK          SNP  \n",
       "\n",
       "[3 rows x 2601 columns]"
      ],
      "text/html": [
       "<div>\n",
       "<style scoped>\n",
       "    .dataframe tbody tr th:only-of-type {\n",
       "        vertical-align: middle;\n",
       "    }\n",
       "\n",
       "    .dataframe tbody tr th {\n",
       "        vertical-align: top;\n",
       "    }\n",
       "\n",
       "    .dataframe thead th {\n",
       "        text-align: right;\n",
       "    }\n",
       "</style>\n",
       "<table border=\"1\" class=\"dataframe\">\n",
       "  <thead>\n",
       "    <tr style=\"text-align: right;\">\n",
       "      <th></th>\n",
       "      <th>CHROM</th>\n",
       "      <th>POS</th>\n",
       "      <th>ID</th>\n",
       "      <th>REF</th>\n",
       "      <th>ALT</th>\n",
       "      <th>QUAL</th>\n",
       "      <th>FILTER</th>\n",
       "      <th>HG00096</th>\n",
       "      <th>HG00097</th>\n",
       "      <th>HG00099</th>\n",
       "      <th>...</th>\n",
       "      <th>VEP_ENSP</th>\n",
       "      <th>VEP_SWISSPROT</th>\n",
       "      <th>VEP_TREMBL</th>\n",
       "      <th>VEP_UNIPARC</th>\n",
       "      <th>VEP_UNIPROT_ISOFORM</th>\n",
       "      <th>VEP_NEAREST</th>\n",
       "      <th>VEP_DOMAINS</th>\n",
       "      <th>Hugo_Symbol</th>\n",
       "      <th>Variant_Classification</th>\n",
       "      <th>Variant_Type</th>\n",
       "    </tr>\n",
       "  </thead>\n",
       "  <tbody>\n",
       "    <tr>\n",
       "      <th>0</th>\n",
       "      <td>chr10</td>\n",
       "      <td>11501</td>\n",
       "      <td>.</td>\n",
       "      <td>C</td>\n",
       "      <td>A</td>\n",
       "      <td>.</td>\n",
       "      <td>PASS</td>\n",
       "      <td>C|A</td>\n",
       "      <td>C|C</td>\n",
       "      <td>C|C</td>\n",
       "      <td>...</td>\n",
       "      <td></td>\n",
       "      <td></td>\n",
       "      <td></td>\n",
       "      <td></td>\n",
       "      <td></td>\n",
       "      <td>TUBB8</td>\n",
       "      <td></td>\n",
       "      <td>TUBB8</td>\n",
       "      <td>INTRON</td>\n",
       "      <td>SNP</td>\n",
       "    </tr>\n",
       "    <tr>\n",
       "      <th>1</th>\n",
       "      <td>chr10</td>\n",
       "      <td>36097</td>\n",
       "      <td>.</td>\n",
       "      <td>G</td>\n",
       "      <td>A</td>\n",
       "      <td>.</td>\n",
       "      <td>PASS</td>\n",
       "      <td>G|A</td>\n",
       "      <td>A|G</td>\n",
       "      <td>G|G</td>\n",
       "      <td>...</td>\n",
       "      <td></td>\n",
       "      <td></td>\n",
       "      <td></td>\n",
       "      <td></td>\n",
       "      <td></td>\n",
       "      <td>TUBB8</td>\n",
       "      <td></td>\n",
       "      <td>TUBB8</td>\n",
       "      <td>INTRON</td>\n",
       "      <td>SNP</td>\n",
       "    </tr>\n",
       "    <tr>\n",
       "      <th>2</th>\n",
       "      <td>chr10</td>\n",
       "      <td>45900</td>\n",
       "      <td>.</td>\n",
       "      <td>C</td>\n",
       "      <td>T</td>\n",
       "      <td>.</td>\n",
       "      <td>PASS</td>\n",
       "      <td>C|C</td>\n",
       "      <td>C|C</td>\n",
       "      <td>C|C</td>\n",
       "      <td>...</td>\n",
       "      <td>ENSP00000456206</td>\n",
       "      <td>Q3ZCM7.157</td>\n",
       "      <td></td>\n",
       "      <td>UPI000007238E</td>\n",
       "      <td></td>\n",
       "      <td>TUBB8</td>\n",
       "      <td></td>\n",
       "      <td>TUBB8</td>\n",
       "      <td>3'FLANK</td>\n",
       "      <td>SNP</td>\n",
       "    </tr>\n",
       "  </tbody>\n",
       "</table>\n",
       "<p>3 rows × 2601 columns</p>\n",
       "</div>"
      ]
     },
     "execution_count": 5,
     "metadata": {},
     "output_type": "execute_result"
    }
   ],
   "execution_count": 5
  },
  {
   "metadata": {},
   "cell_type": "markdown",
   "source": "## Define output paths for MAF and VCF exports\n",
   "id": "221ff92e0fc40acb"
  },
  {
   "metadata": {
    "ExecuteTime": {
     "end_time": "2025-07-29T17:30:55.080744Z",
     "start_time": "2025-07-29T17:30:55.077551Z"
    }
   },
   "cell_type": "code",
   "source": [
    "# Create output directory if it doesn't exist\n",
    "output_dir = \"./output\"\n",
    "os.makedirs(output_dir, exist_ok=True)\n",
    "\n",
    "# Define output paths\n",
    "maf_output_path = os.path.join(output_dir, \"vcf_to_maf_output.maf\")\n",
    "vcf_output_path = os.path.join(output_dir, \"vcf_to_vcf_output.vcf\")\n",
    "\n",
    "print(f\"📁 Output files will be saved to:\")\n",
    "print(f\"  - MAF output: {maf_output_path}\")\n",
    "print(f\"  - VCF output: {vcf_output_path}\")\n"
   ],
   "id": "f4c3bd10283f8818",
   "outputs": [
    {
     "name": "stdout",
     "output_type": "stream",
     "text": [
      "📁 Output files will be saved to:\n",
      "  - MAF output: ./output/vcf_to_maf_output.maf\n",
      "  - VCF output: ./output/vcf_to_vcf_output.vcf\n"
     ]
    }
   ],
   "execution_count": 6
  },
  {
   "metadata": {},
   "cell_type": "markdown",
   "source": "## Export to MAF format\n",
   "id": "430f19d7fa117347"
  },
  {
   "metadata": {
    "ExecuteTime": {
     "end_time": "2025-07-29T17:34:14.743569Z",
     "start_time": "2025-07-29T17:30:55.089102Z"
    }
   },
   "cell_type": "code",
   "source": [
    "print(\"📝 Exporting to MAF format...\")\n",
    "\n",
    "try:\n",
    "    # Export to MAF format\n",
    "    pymutation_obj.to_maf(maf_output_path)\n",
    "    \n",
    "    # Check if the file was created\n",
    "    if os.path.exists(maf_output_path):\n",
    "        print(f\"✅ MAF file created successfully: {maf_output_path}\")\n",
    "        print(f\"   File size: {os.path.getsize(maf_output_path) / (1024 * 1024):.2f} MB\")\n",
    "    else:\n",
    "        print(f\"❌ MAF file was not created\")\n",
    "        \n",
    "except Exception as e:\n",
    "    print(f\"❌ Error exporting to MAF: {e}\")\n",
    "    import traceback\n",
    "    traceback.print_exc()\n"
   ],
   "id": "a2191deaf040be83",
   "outputs": [
    {
     "name": "stderr",
     "output_type": "stream",
     "text": [
      "2025-07-29 19:30:55,090 | INFO | pyMut.output | Starting MAF export to: output/vcf_to_maf_output.maf\n",
      "2025-07-29 19:30:55,106 | INFO | pyMut.output | Starting to process 1000 variants from 2548 samples\n"
     ]
    },
    {
     "name": "stdout",
     "output_type": "stream",
     "text": [
      "📝 Exporting to MAF format...\n"
     ]
    },
    {
     "name": "stderr",
     "output_type": "stream",
     "text": [
      "2025-07-29 19:30:55,126 | INFO | pyMut.output | Processing sample 1/2548: HG00096 (0.0%)\n",
      "2025-07-29 19:30:55,175 | INFO | pyMut.output | Sample HG00096: 49 variants found\n",
      "2025-07-29 19:30:58,973 | INFO | pyMut.output | Processing sample 50/2548: HG00149 (2.0%)\n",
      "2025-07-29 19:30:59,015 | INFO | pyMut.output | Sample HG00149: 122 variants found\n",
      "2025-07-29 19:31:02,854 | INFO | pyMut.output | Processing sample 100/2548: HG00256 (3.9%)\n",
      "2025-07-29 19:31:02,893 | INFO | pyMut.output | Sample HG00256: 94 variants found\n",
      "2025-07-29 19:31:06,728 | INFO | pyMut.output | Processing sample 150/2548: HG00328 (5.9%)\n",
      "2025-07-29 19:31:06,768 | INFO | pyMut.output | Sample HG00328: 49 variants found\n",
      "2025-07-29 19:31:10,627 | INFO | pyMut.output | Processing sample 200/2548: HG00406 (7.8%)\n",
      "2025-07-29 19:31:10,666 | INFO | pyMut.output | Sample HG00406: 8 variants found\n",
      "2025-07-29 19:31:14,477 | INFO | pyMut.output | Processing sample 250/2548: HG00581 (9.8%)\n",
      "2025-07-29 19:31:14,516 | INFO | pyMut.output | Sample HG00581: 53 variants found\n",
      "2025-07-29 19:31:18,320 | INFO | pyMut.output | Processing sample 300/2548: HG00698 (11.8%)\n",
      "2025-07-29 19:31:18,359 | INFO | pyMut.output | Sample HG00698: 59 variants found\n",
      "2025-07-29 19:31:22,200 | INFO | pyMut.output | Processing sample 350/2548: HG01072 (13.7%)\n",
      "2025-07-29 19:31:22,241 | INFO | pyMut.output | Sample HG01072: 87 variants found\n",
      "2025-07-29 19:31:26,079 | INFO | pyMut.output | Processing sample 400/2548: HG01173 (15.7%)\n",
      "2025-07-29 19:31:26,119 | INFO | pyMut.output | Sample HG01173: 109 variants found\n",
      "2025-07-29 19:31:29,948 | INFO | pyMut.output | Processing sample 450/2548: HG01348 (17.7%)\n",
      "2025-07-29 19:31:29,988 | INFO | pyMut.output | Sample HG01348: 58 variants found\n",
      "2025-07-29 19:31:33,829 | INFO | pyMut.output | Processing sample 500/2548: HG01465 (19.6%)\n",
      "2025-07-29 19:31:33,868 | INFO | pyMut.output | Sample HG01465: 96 variants found\n",
      "2025-07-29 19:31:37,735 | INFO | pyMut.output | Processing sample 550/2548: HG01589 (21.6%)\n",
      "2025-07-29 19:31:37,775 | INFO | pyMut.output | Sample HG01589: 50 variants found\n",
      "2025-07-29 19:31:41,649 | INFO | pyMut.output | Processing sample 600/2548: HG01704 (23.5%)\n",
      "2025-07-29 19:31:41,689 | INFO | pyMut.output | Sample HG01704: 50 variants found\n",
      "2025-07-29 19:31:45,642 | INFO | pyMut.output | Processing sample 650/2548: HG01815 (25.5%)\n",
      "2025-07-29 19:31:45,681 | INFO | pyMut.output | Sample HG01815: 88 variants found\n",
      "2025-07-29 19:31:49,495 | INFO | pyMut.output | Processing sample 700/2548: HG01914 (27.5%)\n",
      "2025-07-29 19:31:49,535 | INFO | pyMut.output | Sample HG01914: 135 variants found\n",
      "2025-07-29 19:31:53,354 | INFO | pyMut.output | Processing sample 750/2548: HG02003 (29.4%)\n",
      "2025-07-29 19:31:53,393 | INFO | pyMut.output | Sample HG02003: 51 variants found\n",
      "2025-07-29 19:31:57,201 | INFO | pyMut.output | Processing sample 800/2548: HG02089 (31.4%)\n",
      "2025-07-29 19:31:57,240 | INFO | pyMut.output | Sample HG02089: 76 variants found\n",
      "2025-07-29 19:32:01,009 | INFO | pyMut.output | Processing sample 850/2548: HG02184 (33.4%)\n",
      "2025-07-29 19:32:01,047 | INFO | pyMut.output | Sample HG02184: 13 variants found\n",
      "2025-07-29 19:32:04,820 | INFO | pyMut.output | Processing sample 900/2548: HG02309 (35.3%)\n",
      "2025-07-29 19:32:04,860 | INFO | pyMut.output | Sample HG02309: 146 variants found\n",
      "2025-07-29 19:32:08,658 | INFO | pyMut.output | Processing sample 950/2548: HG02407 (37.3%)\n",
      "2025-07-29 19:32:08,699 | INFO | pyMut.output | Sample HG02407: 59 variants found\n",
      "2025-07-29 19:32:12,604 | INFO | pyMut.output | Processing sample 1000/2548: HG02549 (39.2%)\n",
      "2025-07-29 19:32:12,645 | INFO | pyMut.output | Sample HG02549: 120 variants found\n",
      "2025-07-29 19:32:16,468 | INFO | pyMut.output | Processing sample 1050/2548: HG02658 (41.2%)\n",
      "2025-07-29 19:32:16,507 | INFO | pyMut.output | Sample HG02658: 50 variants found\n",
      "2025-07-29 19:32:20,329 | INFO | pyMut.output | Processing sample 1100/2548: HG02783 (43.2%)\n",
      "2025-07-29 19:32:20,369 | INFO | pyMut.output | Sample HG02783: 47 variants found\n",
      "2025-07-29 19:32:24,192 | INFO | pyMut.output | Processing sample 1150/2548: HG02944 (45.1%)\n",
      "2025-07-29 19:32:24,234 | INFO | pyMut.output | Sample HG02944: 128 variants found\n",
      "2025-07-29 19:32:28,062 | INFO | pyMut.output | Processing sample 1200/2548: HG03077 (47.1%)\n",
      "2025-07-29 19:32:28,102 | INFO | pyMut.output | Sample HG03077: 56 variants found\n",
      "2025-07-29 19:32:31,962 | INFO | pyMut.output | Processing sample 1250/2548: HG03190 (49.1%)\n",
      "2025-07-29 19:32:32,001 | INFO | pyMut.output | Sample HG03190: 115 variants found\n",
      "2025-07-29 19:32:35,878 | INFO | pyMut.output | Processing sample 1300/2548: HG03370 (51.0%)\n",
      "2025-07-29 19:32:35,917 | INFO | pyMut.output | Sample HG03370: 60 variants found\n",
      "2025-07-29 19:32:39,787 | INFO | pyMut.output | Processing sample 1350/2548: HG03514 (53.0%)\n",
      "2025-07-29 19:32:39,827 | INFO | pyMut.output | Sample HG03514: 100 variants found\n",
      "2025-07-29 19:32:43,643 | INFO | pyMut.output | Processing sample 1400/2548: HG03649 (54.9%)\n",
      "2025-07-29 19:32:43,682 | INFO | pyMut.output | Sample HG03649: 51 variants found\n",
      "2025-07-29 19:32:47,485 | INFO | pyMut.output | Processing sample 1450/2548: HG03743 (56.9%)\n",
      "2025-07-29 19:32:47,524 | INFO | pyMut.output | Sample HG03743: 7 variants found\n",
      "2025-07-29 19:32:51,323 | INFO | pyMut.output | Processing sample 1500/2548: HG03826 (58.9%)\n",
      "2025-07-29 19:32:51,364 | INFO | pyMut.output | Sample HG03826: 108 variants found\n",
      "2025-07-29 19:32:55,155 | INFO | pyMut.output | Processing sample 1550/2548: HG03910 (60.8%)\n",
      "2025-07-29 19:32:55,196 | INFO | pyMut.output | Sample HG03910: 49 variants found\n",
      "2025-07-29 19:32:58,980 | INFO | pyMut.output | Processing sample 1600/2548: HG04014 (62.8%)\n",
      "2025-07-29 19:32:59,021 | INFO | pyMut.output | Sample HG04014: 95 variants found\n",
      "2025-07-29 19:33:02,807 | INFO | pyMut.output | Processing sample 1650/2548: HG04161 (64.8%)\n",
      "2025-07-29 19:33:02,847 | INFO | pyMut.output | Sample HG04161: 60 variants found\n",
      "2025-07-29 19:33:06,650 | INFO | pyMut.output | Processing sample 1700/2548: NA10851 (66.7%)\n",
      "2025-07-29 19:33:06,689 | INFO | pyMut.output | Sample NA10851: 49 variants found\n",
      "2025-07-29 19:33:10,505 | INFO | pyMut.output | Processing sample 1750/2548: NA12400 (68.7%)\n",
      "2025-07-29 19:33:10,545 | INFO | pyMut.output | Sample NA12400: 70 variants found\n",
      "2025-07-29 19:33:14,357 | INFO | pyMut.output | Processing sample 1800/2548: NA18519 (70.6%)\n",
      "2025-07-29 19:33:14,397 | INFO | pyMut.output | Sample NA18519: 118 variants found\n",
      "2025-07-29 19:33:18,171 | INFO | pyMut.output | Processing sample 1850/2548: NA18582 (72.6%)\n",
      "2025-07-29 19:33:18,212 | INFO | pyMut.output | Sample NA18582: 78 variants found\n",
      "2025-07-29 19:33:21,981 | INFO | pyMut.output | Processing sample 1900/2548: NA18646 (74.6%)\n",
      "2025-07-29 19:33:22,021 | INFO | pyMut.output | Sample NA18646: 70 variants found\n",
      "2025-07-29 19:33:25,811 | INFO | pyMut.output | Processing sample 1950/2548: NA18950 (76.5%)\n",
      "2025-07-29 19:33:25,849 | INFO | pyMut.output | Sample NA18950: 5 variants found\n",
      "2025-07-29 19:33:29,657 | INFO | pyMut.output | Processing sample 2000/2548: NA19002 (78.5%)\n",
      "2025-07-29 19:33:29,696 | INFO | pyMut.output | Sample NA19002: 50 variants found\n",
      "2025-07-29 19:33:33,492 | INFO | pyMut.output | Processing sample 2050/2548: NA19079 (80.5%)\n",
      "2025-07-29 19:33:33,530 | INFO | pyMut.output | Sample NA19079: 7 variants found\n",
      "2025-07-29 19:33:37,345 | INFO | pyMut.output | Processing sample 2100/2548: NA19190 (82.4%)\n",
      "2025-07-29 19:33:37,385 | INFO | pyMut.output | Sample NA19190: 55 variants found\n",
      "2025-07-29 19:33:41,279 | INFO | pyMut.output | Processing sample 2150/2548: NA19360 (84.4%)\n",
      "2025-07-29 19:33:41,319 | INFO | pyMut.output | Sample NA19360: 123 variants found\n",
      "2025-07-29 19:33:45,125 | INFO | pyMut.output | Processing sample 2200/2548: NA19467 (86.3%)\n",
      "2025-07-29 19:33:45,165 | INFO | pyMut.output | Sample NA19467: 114 variants found\n",
      "2025-07-29 19:33:48,958 | INFO | pyMut.output | Processing sample 2250/2548: NA19741 (88.3%)\n",
      "2025-07-29 19:33:49,000 | INFO | pyMut.output | Sample NA19741: 116 variants found\n",
      "2025-07-29 19:33:52,805 | INFO | pyMut.output | Processing sample 2300/2548: NA20127 (90.3%)\n",
      "2025-07-29 19:33:52,847 | INFO | pyMut.output | Sample NA20127: 98 variants found\n",
      "2025-07-29 19:33:56,787 | INFO | pyMut.output | Processing sample 2350/2548: NA20520 (92.2%)\n",
      "2025-07-29 19:33:56,827 | INFO | pyMut.output | Sample NA20520: 51 variants found\n",
      "2025-07-29 19:34:00,874 | INFO | pyMut.output | Processing sample 2400/2548: NA20772 (94.2%)\n",
      "2025-07-29 19:34:00,918 | INFO | pyMut.output | Sample NA20772: 9 variants found\n",
      "2025-07-29 19:34:05,053 | INFO | pyMut.output | Processing sample 2450/2548: NA20853 (96.2%)\n",
      "2025-07-29 19:34:05,096 | INFO | pyMut.output | Sample NA20853: 44 variants found\n",
      "2025-07-29 19:34:09,070 | INFO | pyMut.output | Processing sample 2500/2548: NA21088 (98.1%)\n",
      "2025-07-29 19:34:09,111 | INFO | pyMut.output | Sample NA21088: 94 variants found\n",
      "2025-07-29 19:34:12,839 | INFO | pyMut.output | Processing sample 2548/2548: NA21144 (100.0%)\n",
      "2025-07-29 19:34:12,878 | INFO | pyMut.output | Sample NA21144: 49 variants found\n",
      "2025-07-29 19:34:13,272 | INFO | pyMut.output | Sample processing completed: 2548/2548 samples processed\n",
      "2025-07-29 19:34:13,272 | INFO | pyMut.output | Total variants found: 188125 variants\n",
      "2025-07-29 19:34:13,282 | INFO | pyMut.output | Using MAF_COL_ORDER.csv column order: 57 columns arranged\n",
      "2025-07-29 19:34:13,381 | INFO | pyMut.output | Writing large dataset (188125 variants) in chunks of 10000\n",
      "2025-07-29 19:34:13,448 | INFO | pyMut.output | Progress: 10000/188125 variants written (5.3%)\n",
      "2025-07-29 19:34:13,512 | INFO | pyMut.output | Progress: 20000/188125 variants written (10.6%)\n",
      "2025-07-29 19:34:13,579 | INFO | pyMut.output | Progress: 30000/188125 variants written (15.9%)\n",
      "2025-07-29 19:34:13,643 | INFO | pyMut.output | Progress: 40000/188125 variants written (21.3%)\n",
      "2025-07-29 19:34:13,715 | INFO | pyMut.output | Progress: 50000/188125 variants written (26.6%)\n",
      "2025-07-29 19:34:13,798 | INFO | pyMut.output | Progress: 60000/188125 variants written (31.9%)\n",
      "2025-07-29 19:34:13,864 | INFO | pyMut.output | Progress: 70000/188125 variants written (37.2%)\n",
      "2025-07-29 19:34:13,928 | INFO | pyMut.output | Progress: 80000/188125 variants written (42.5%)\n",
      "2025-07-29 19:34:13,993 | INFO | pyMut.output | Progress: 90000/188125 variants written (47.8%)\n",
      "2025-07-29 19:34:14,060 | INFO | pyMut.output | Progress: 100000/188125 variants written (53.2%)\n",
      "2025-07-29 19:34:14,129 | INFO | pyMut.output | Progress: 110000/188125 variants written (58.5%)\n",
      "2025-07-29 19:34:14,199 | INFO | pyMut.output | Progress: 120000/188125 variants written (63.8%)\n",
      "2025-07-29 19:34:14,268 | INFO | pyMut.output | Progress: 130000/188125 variants written (69.1%)\n",
      "2025-07-29 19:34:14,336 | INFO | pyMut.output | Progress: 140000/188125 variants written (74.4%)\n",
      "2025-07-29 19:34:14,401 | INFO | pyMut.output | Progress: 150000/188125 variants written (79.7%)\n",
      "2025-07-29 19:34:14,470 | INFO | pyMut.output | Progress: 160000/188125 variants written (85.0%)\n",
      "2025-07-29 19:34:14,535 | INFO | pyMut.output | Progress: 170000/188125 variants written (90.4%)\n",
      "2025-07-29 19:34:14,600 | INFO | pyMut.output | Progress: 180000/188125 variants written (95.7%)\n",
      "2025-07-29 19:34:14,655 | INFO | pyMut.output | Progress: 188125/188125 variants written (100.0%)\n",
      "2025-07-29 19:34:14,657 | INFO | pyMut.output | MAF export completed successfully: 188125 variants processed and written to output/vcf_to_maf_output.maf\n",
      "2025-07-29 19:34:14,657 | INFO | pyMut.output | Conversion summary: 2548 samples, 1000 input variants, 188125 output variants\n"
     ]
    },
    {
     "name": "stdout",
     "output_type": "stream",
     "text": [
      "✅ MAF file created successfully: ./output/vcf_to_maf_output.maf\n",
      "   File size: 53.29 MB\n"
     ]
    }
   ],
   "execution_count": 7
  },
  {
   "metadata": {},
   "cell_type": "markdown",
   "source": "## Export to VCF format\n",
   "id": "ddadc316265c55c3"
  },
  {
   "metadata": {
    "ExecuteTime": {
     "end_time": "2025-07-29T17:34:32.696653Z",
     "start_time": "2025-07-29T17:34:14.932582Z"
    }
   },
   "cell_type": "code",
   "source": [
    "print(\"📝 Exporting to VCF format...\")\n",
    "\n",
    "try:\n",
    "    # Export to VCF format\n",
    "    pymutation_obj.to_vcf(vcf_output_path)\n",
    "    \n",
    "    # Check if the file was created\n",
    "    if os.path.exists(vcf_output_path):\n",
    "        print(f\"✅ VCF file created successfully: {vcf_output_path}\")\n",
    "        print(f\"   File size: {os.path.getsize(vcf_output_path) / (1024 * 1024):.2f} MB\")\n",
    "    else:\n",
    "        print(f\"❌ VCF file was not created\")\n",
    "        \n",
    "except Exception as e:\n",
    "    print(f\"❌ Error exporting to VCF: {e}\")\n",
    "    import traceback\n",
    "    traceback.print_exc()\n"
   ],
   "id": "8cb67b386627dfca",
   "outputs": [
    {
     "name": "stderr",
     "output_type": "stream",
     "text": [
      "2025-07-29 19:34:14,933 | INFO | pyMut.output | Starting VCF export to: output/vcf_to_vcf_output.vcf\n"
     ]
    },
    {
     "name": "stdout",
     "output_type": "stream",
     "text": [
      "📝 Exporting to VCF format...\n"
     ]
    },
    {
     "name": "stderr",
     "output_type": "stream",
     "text": [
      "2025-07-29 19:34:14,948 | INFO | pyMut.output | Starting to process 1000 variants from 2548 samples\n",
      "2025-07-29 19:34:15,121 | INFO | pyMut.output | Processing genotype data to replace bases with indices\n",
      "2025-07-29 19:34:32,352 | INFO | pyMut.output | Writing 1000 variants to file\n",
      "2025-07-29 19:34:32,649 | INFO | pyMut.output | Progress: 1000/1000 variants written (100.0%)\n",
      "2025-07-29 19:34:32,651 | INFO | pyMut.output | VCF export completed successfully: 1000 variants processed and written to output/vcf_to_vcf_output.vcf\n",
      "2025-07-29 19:34:32,651 | INFO | pyMut.output | Conversion summary: 2548 samples, 1000 input variants, 1000 output variants\n"
     ]
    },
    {
     "name": "stdout",
     "output_type": "stream",
     "text": [
      "✅ VCF file created successfully: ./output/vcf_to_vcf_output.vcf\n",
      "   File size: 10.00 MB\n"
     ]
    }
   ],
   "execution_count": 8
  },
  {
   "metadata": {},
   "cell_type": "markdown",
   "source": "## Examine the exported files\n",
   "id": "8f696469f2afadfe"
  },
  {
   "metadata": {
    "ExecuteTime": {
     "end_time": "2025-07-29T17:34:32.850524Z",
     "start_time": "2025-07-29T17:34:32.710073Z"
    }
   },
   "cell_type": "code",
   "source": [
    "# Show the first few lines of the exported MAF file\n",
    "print(\"🔍 First 10 lines of the exported MAF file:\")\n",
    "!head -10 {maf_output_path}\n"
   ],
   "id": "ee999810af20b2c1",
   "outputs": [
    {
     "name": "stdout",
     "output_type": "stream",
     "text": [
      "🔍 First 10 lines of the exported MAF file:\n",
      "##INFO=<ID=AF,Number=A,Type=Float,Description=\"Estimated allele frequency in the range (0,1)\">\r\n",
      "##INFO=<ID=AC,Number=A,Type=Integer,Description=\"Total number of alternate alleles in called genotypes\">\r\n",
      "##INFO=<ID=NS,Number=1,Type=Integer,Description=\"Number of samples with data\">\r\n",
      "##INFO=<ID=AN,Number=1,Type=Integer,Description=\"Total number of alleles in called genotypes\">\r\n",
      "##INFO=<ID=EAS_AF,Number=A,Type=Float,Description=\"Allele frequency in the EAS populations calculated from AC and AN, in the range (0,1)\">\r\n",
      "##INFO=<ID=EUR_AF,Number=A,Type=Float,Description=\"Allele frequency in the EUR populations calculated from AC and AN, in the range (0,1)\">\r\n",
      "##INFO=<ID=AFR_AF,Number=A,Type=Float,Description=\"Allele frequency in the AFR populations calculated from AC and AN, in the range (0,1)\">\r\n",
      "##INFO=<ID=AMR_AF,Number=A,Type=Float,Description=\"Allele frequency in the AMR populations calculated from AC and AN, in the range (0,1)\">\r\n",
      "##INFO=<ID=SAS_AF,Number=A,Type=Float,Description=\"Allele frequency in the SAS populations calculated from AC and AN, in the range (0,1)\">\r\n",
      "##INFO=<ID=VT,Number=.,Type=String,Description=\"indicates what type of variant the line represents\">\r\n"
     ]
    }
   ],
   "execution_count": 9
  },
  {
   "metadata": {
    "ExecuteTime": {
     "end_time": "2025-07-29T17:34:32.990725Z",
     "start_time": "2025-07-29T17:34:32.859052Z"
    }
   },
   "cell_type": "code",
   "source": [
    "# Show the first few lines of the exported VCF file\n",
    "print(\"🔍 First 10 lines of the exported VCF file:\")\n",
    "!head -10 {vcf_output_path}\n"
   ],
   "id": "12fbdc07849c226a",
   "outputs": [
    {
     "name": "stdout",
     "output_type": "stream",
     "text": [
      "🔍 First 10 lines of the exported VCF file:\n",
      "##fileformat=VCFv4.3\r\n",
      "##fileDate=20250729\r\n",
      "##source=https://github.com/Luisruimor/pyMut\r\n",
      "##reference=38\r\n",
      "##FILTER=<ID=PASS,Description=\"All filters passed\">\r\n",
      "##contig=<ID=10>\r\n",
      "##FORMAT=<ID=GT,Number=1,Type=String,Description=\"Phased Genotype\">\r\n",
      "##INFO=<ID=PMUT,Number=.,Type=String,Description=\"Consequence annotations columns from PyMut. Format: AC|AN|DP|AF|EAS_AF|EUR_AF|AFR_AF|AMR_AF|SAS_AF|VT|NS|EX_TARGET|VEP_Allele|VEP_Consequence|VEP_IMPACT|VEP_SYMBOL|VEP_Gene|VEP_Feature_type|VEP_Feature|VEP_BIOTYPE|VEP_EXON|VEP_INTRON|VEP_HGVSc|VEP_HGVSp|VEP_cDNA_position|VEP_CDS_position|VEP_Protein_position|VEP_Amino_acids|VEP_Codons|VEP_Existing_variation|VEP_DISTANCE|VEP_STRAND|VEP_FLAGS|VEP_VARIANT_CLASS|VEP_SYMBOL_SOURCE|VEP_HGNC_ID|VEP_ENSP|VEP_SWISSPROT|VEP_TREMBL|VEP_UNIPARC|VEP_UNIPROT_ISOFORM|VEP_NEAREST|VEP_DOMAINS|Hugo_Symbol|Variant_Classification|Variant_Type\">\r\n",
      "#CHROM\tPOS\tID\tREF\tALT\tQUAL\tFILTER\tINFO\tFORMAT\tHG00096\tHG00097\tHG00099\tHG00100\tHG00101\tHG00102\tHG00103\tHG00104\tHG00105\tHG00106\tHG00107\tHG00108\tHG00109\tHG00110\tHG00111\tHG00112\tHG00113\tHG00114\tHG00115\tHG00116\tHG00117\tHG00118\tHG00119\tHG00120\tHG00121\tHG00122\tHG00123\tHG00125\tHG00126\tHG00127\tHG00128\tHG00129\tHG00130\tHG00131\tHG00132\tHG00133\tHG00134\tHG00135\tHG00136\tHG00137\tHG00138\tHG00139\tHG00140\tHG00141\tHG00142\tHG00143\tHG00145\tHG00146\tHG00148\tHG00149\tHG00150\tHG00151\tHG00152\tHG00154\tHG00155\tHG00156\tHG00157\tHG00158\tHG00159\tHG00160\tHG00171\tHG00173\tHG00174\tHG00176\tHG00177\tHG00178\tHG00179\tHG00180\tHG00181\tHG00182\tHG00183\tHG00185\tHG00186\tHG00187\tHG00188\tHG00189\tHG00190\tHG00231\tHG00232\tHG00233\tHG00234\tHG00235\tHG00236\tHG00237\tHG00238\tHG00239\tHG00240\tHG00242\tHG00243\tHG00244\tHG00245\tHG00246\tHG00249\tHG00250\tHG00251\tHG00252\tHG00253\tHG00254\tHG00255\tHG00256\tHG00257\tHG00258\tHG00259\tHG00260\tHG00261\tHG00262\tHG00263\tHG00264\tHG00265\tHG00266\tHG00267\tHG00268\tHG00269\tHG00270\tHG00271\tHG00272\tHG00273\tHG00274\tHG00275\tHG00276\tHG00277\tHG00278\tHG00280\tHG00281\tHG00282\tHG00284\tHG00285\tHG00288\tHG00290\tHG00302\tHG00303\tHG00304\tHG00306\tHG00308\tHG00309\tHG00310\tHG00311\tHG00312\tHG00313\tHG00315\tHG00318\tHG00319\tHG00320\tHG00321\tHG00323\tHG00324\tHG00325\tHG00326\tHG00327\tHG00328\tHG00329\tHG00330\tHG00331\tHG00332\tHG00334\tHG00335\tHG00336\tHG00337\tHG00338\tHG00339\tHG00341\tHG00342\tHG00343\tHG00344\tHG00345\tHG00346\tHG00349\tHG00350\tHG00351\tHG00353\tHG00355\tHG00356\tHG00357\tHG00358\tHG00359\tHG00360\tHG00361\tHG00362\tHG00364\tHG00365\tHG00366\tHG00367\tHG00368\tHG00369\tHG00371\tHG00372\tHG00373\tHG00375\tHG00376\tHG00377\tHG00378\tHG00379\tHG00380\tHG00381\tHG00382\tHG00383\tHG00384\tHG00403\tHG00404\tHG00406\tHG00407\tHG00409\tHG00410\tHG00419\tHG00421\tHG00422\tHG00428\tHG00436\tHG00437\tHG00442\tHG00443\tHG00445\tHG00446\tHG00448\tHG00449\tHG00451\tHG00452\tHG00457\tHG00458\tHG00463\tHG00464\tHG00472\tHG00473\tHG00475\tHG00476\tHG00478\tHG00479\tHG00500\tHG00513\tHG00524\tHG00525\tHG00530\tHG00531\tHG00533\tHG00534\tHG00536\tHG00537\tHG00542\tHG00543\tHG00551\tHG00553\tHG00554\tHG00556\tHG00557\tHG00559\tHG00560\tHG00565\tHG00566\tHG00580\tHG00581\tHG00583\tHG00584\tHG00589\tHG00590\tHG00592\tHG00593\tHG00595\tHG00596\tHG00598\tHG00599\tHG00607\tHG00608\tHG00610\tHG00611\tHG00613\tHG00614\tHG00619\tHG00620\tHG00622\tHG00623\tHG00625\tHG00626\tHG00628\tHG00629\tHG00631\tHG00632\tHG00634\tHG00637\tHG00638\tHG00640\tHG00641\tHG00650\tHG00651\tHG00653\tHG00654\tHG00656\tHG00657\tHG00662\tHG00663\tHG00671\tHG00672\tHG00674\tHG00675\tHG00683\tHG00684\tHG00689\tHG00690\tHG00692\tHG00693\tHG00698\tHG00699\tHG00701\tHG00704\tHG00705\tHG00707\tHG00708\tHG00717\tHG00728\tHG00729\tHG00731\tHG00732\tHG00734\tHG00736\tHG00737\tHG00739\tHG00740\tHG00742\tHG00743\tHG00759\tHG00766\tHG00844\tHG00851\tHG00864\tHG00867\tHG00879\tHG00881\tHG00956\tHG00978\tHG00982\tHG01028\tHG01029\tHG01031\tHG01046\tHG01047\tHG01048\tHG01049\tHG01051\tHG01052\tHG01054\tHG01055\tHG01058\tHG01060\tHG01061\tHG01063\tHG01064\tHG01066\tHG01067\tHG01069\tHG01070\tHG01072\tHG01073\tHG01075\tHG01077\tHG01079\tHG01080\tHG01082\tHG01083\tHG01085\tHG01086\tHG01088\tHG01089\tHG01092\tHG01094\tHG01095\tHG01097\tHG01098\tHG01101\tHG01102\tHG01104\tHG01105\tHG01107\tHG01108\tHG01110\tHG01111\tHG01112\tHG01113\tHG01119\tHG01121\tHG01122\tHG01124\tHG01125\tHG01130\tHG01131\tHG01133\tHG01134\tHG01136\tHG01137\tHG01139\tHG01140\tHG01142\tHG01148\tHG01149\tHG01161\tHG01162\tHG01164\tHG01167\tHG01168\tHG01170\tHG01171\tHG01173\tHG01174\tHG01176\tHG01177\tHG01182\tHG01183\tHG01187\tHG01188\tHG01190\tHG01191\tHG01197\tHG01198\tHG01200\tHG01204\tHG01205\tHG01241\tHG01242\tHG01247\tHG01248\tHG01250\tHG01251\tHG01253\tHG01254\tHG01256\tHG01257\tHG01259\tHG01260\tHG01269\tHG01271\tHG01272\tHG01275\tHG01277\tHG01280\tHG01281\tHG01284\tHG01286\tHG01302\tHG01303\tHG01305\tHG01308\tHG01311\tHG01312\tHG01323\tHG01325\tHG01326\tHG01334\tHG01341\tHG01342\tHG01344\tHG01345\tHG01348\tHG01350\tHG01351\tHG01353\tHG01354\tHG01356\tHG01357\tHG01359\tHG01360\tHG01362\tHG01363\tHG01365\tHG01366\tHG01369\tHG01372\tHG01374\tHG01375\tHG01377\tHG01378\tHG01383\tHG01384\tHG01389\tHG01390\tHG01392\tHG01393\tHG01395\tHG01396\tHG01398\tHG01402\tHG01403\tHG01405\tHG01412\tHG01413\tHG01414\tHG01431\tHG01432\tHG01435\tHG01437\tHG01438\tHG01440\tHG01441\tHG01443\tHG01444\tHG01447\tHG01455\tHG01456\tHG01459\tHG01461\tHG01462\tHG01464\tHG01465\tHG01468\tHG01471\tHG01474\tHG01479\tHG01485\tHG01486\tHG01488\tHG01489\tHG01491\tHG01492\tHG01494\tHG01495\tHG01497\tHG01498\tHG01500\tHG01501\tHG01503\tHG01504\tHG01506\tHG01507\tHG01509\tHG01510\tHG01512\tHG01513\tHG01515\tHG01516\tHG01518\tHG01519\tHG01521\tHG01522\tHG01524\tHG01525\tHG01527\tHG01528\tHG01530\tHG01531\tHG01536\tHG01537\tHG01550\tHG01551\tHG01556\tHG01565\tHG01566\tHG01571\tHG01572\tHG01577\tHG01578\tHG01583\tHG01586\tHG01589\tHG01593\tHG01595\tHG01596\tHG01597\tHG01598\tHG01599\tHG01600\tHG01602\tHG01603\tHG01605\tHG01606\tHG01607\tHG01608\tHG01610\tHG01612\tHG01613\tHG01615\tHG01617\tHG01618\tHG01619\tHG01620\tHG01623\tHG01624\tHG01625\tHG01626\tHG01628\tHG01630\tHG01631\tHG01632\tHG01668\tHG01669\tHG01670\tHG01672\tHG01673\tHG01675\tHG01676\tHG01678\tHG01679\tHG01680\tHG01682\tHG01684\tHG01685\tHG01686\tHG01694\tHG01695\tHG01697\tHG01699\tHG01700\tHG01702\tHG01704\tHG01705\tHG01707\tHG01708\tHG01709\tHG01710\tHG01746\tHG01747\tHG01756\tHG01757\tHG01761\tHG01762\tHG01765\tHG01766\tHG01767\tHG01768\tHG01770\tHG01771\tHG01773\tHG01775\tHG01776\tHG01777\tHG01779\tHG01781\tHG01783\tHG01784\tHG01785\tHG01786\tHG01789\tHG01790\tHG01791\tHG01794\tHG01795\tHG01796\tHG01797\tHG01798\tHG01799\tHG01800\tHG01801\tHG01802\tHG01804\tHG01805\tHG01806\tHG01807\tHG01808\tHG01809\tHG01810\tHG01811\tHG01812\tHG01813\tHG01815\tHG01816\tHG01817\tHG01840\tHG01841\tHG01842\tHG01843\tHG01844\tHG01845\tHG01846\tHG01847\tHG01848\tHG01849\tHG01850\tHG01851\tHG01852\tHG01853\tHG01855\tHG01857\tHG01858\tHG01859\tHG01860\tHG01861\tHG01862\tHG01863\tHG01864\tHG01865\tHG01866\tHG01867\tHG01868\tHG01869\tHG01870\tHG01871\tHG01872\tHG01873\tHG01874\tHG01878\tHG01879\tHG01880\tHG01882\tHG01883\tHG01885\tHG01886\tHG01889\tHG01890\tHG01892\tHG01893\tHG01894\tHG01896\tHG01912\tHG01914\tHG01915\tHG01917\tHG01918\tHG01920\tHG01921\tHG01923\tHG01924\tHG01926\tHG01927\tHG01932\tHG01933\tHG01935\tHG01936\tHG01938\tHG01939\tHG01941\tHG01942\tHG01944\tHG01945\tHG01947\tHG01948\tHG01950\tHG01951\tHG01953\tHG01954\tHG01956\tHG01958\tHG01961\tHG01965\tHG01967\tHG01968\tHG01970\tHG01971\tHG01973\tHG01974\tHG01976\tHG01977\tHG01979\tHG01980\tHG01982\tHG01985\tHG01986\tHG01988\tHG01989\tHG01990\tHG01991\tHG01992\tHG01997\tHG02002\tHG02003\tHG02006\tHG02008\tHG02009\tHG02010\tHG02012\tHG02013\tHG02014\tHG02016\tHG02017\tHG02019\tHG02020\tHG02023\tHG02025\tHG02026\tHG02028\tHG02029\tHG02031\tHG02032\tHG02035\tHG02040\tHG02047\tHG02048\tHG02049\tHG02050\tHG02051\tHG02052\tHG02053\tHG02054\tHG02057\tHG02058\tHG02060\tHG02061\tHG02064\tHG02067\tHG02069\tHG02070\tHG02072\tHG02073\tHG02075\tHG02076\tHG02078\tHG02079\tHG02081\tHG02082\tHG02084\tHG02085\tHG02086\tHG02087\tHG02088\tHG02089\tHG02090\tHG02095\tHG02102\tHG02104\tHG02105\tHG02107\tHG02108\tHG02111\tHG02113\tHG02116\tHG02121\tHG02122\tHG02127\tHG02128\tHG02130\tHG02131\tHG02133\tHG02134\tHG02136\tHG02137\tHG02138\tHG02139\tHG02140\tHG02141\tHG02142\tHG02143\tHG02144\tHG02146\tHG02147\tHG02150\tHG02151\tHG02152\tHG02153\tHG02154\tHG02155\tHG02156\tHG02164\tHG02165\tHG02166\tHG02168\tHG02169\tHG02170\tHG02173\tHG02176\tHG02178\tHG02179\tHG02180\tHG02181\tHG02182\tHG02184\tHG02185\tHG02186\tHG02187\tHG02188\tHG02190\tHG02215\tHG02219\tHG02220\tHG02221\tHG02223\tHG02224\tHG02230\tHG02231\tHG02232\tHG02233\tHG02235\tHG02236\tHG02238\tHG02239\tHG02250\tHG02252\tHG02253\tHG02255\tHG02256\tHG02259\tHG02260\tHG02262\tHG02265\tHG02266\tHG02271\tHG02272\tHG02274\tHG02275\tHG02277\tHG02278\tHG02281\tHG02282\tHG02283\tHG02284\tHG02285\tHG02286\tHG02291\tHG02292\tHG02298\tHG02299\tHG02301\tHG02304\tHG02307\tHG02308\tHG02309\tHG02312\tHG02314\tHG02315\tHG02317\tHG02318\tHG02322\tHG02323\tHG02325\tHG02330\tHG02332\tHG02334\tHG02337\tHG02339\tHG02343\tHG02345\tHG02348\tHG02351\tHG02353\tHG02355\tHG02356\tHG02358\tHG02360\tHG02364\tHG02367\tHG02371\tHG02373\tHG02374\tHG02375\tHG02379\tHG02380\tHG02382\tHG02383\tHG02384\tHG02385\tHG02386\tHG02389\tHG02390\tHG02391\tHG02392\tHG02394\tHG02395\tHG02396\tHG02397\tHG02398\tHG02399\tHG02401\tHG02402\tHG02405\tHG02406\tHG02407\tHG02408\tHG02409\tHG02410\tHG02419\tHG02420\tHG02425\tHG02427\tHG02429\tHG02433\tHG02436\tHG02439\tHG02442\tHG02445\tHG02449\tHG02450\tHG02455\tHG02461\tHG02462\tHG02464\tHG02465\tHG02470\tHG02471\tHG02476\tHG02477\tHG02479\tHG02481\tHG02484\tHG02485\tHG02489\tHG02490\tHG02491\tHG02493\tHG02494\tHG02496\tHG02497\tHG02501\tHG02502\tHG02505\tHG02508\tHG02511\tHG02512\tHG02513\tHG02521\tHG02522\tHG02536\tHG02537\tHG02541\tHG02545\tHG02546\tHG02549\tHG02554\tHG02555\tHG02557\tHG02558\tHG02561\tHG02562\tHG02568\tHG02570\tHG02571\tHG02573\tHG02574\tHG02577\tHG02580\tHG02582\tHG02583\tHG02585\tHG02586\tHG02588\tHG02589\tHG02594\tHG02595\tHG02597\tHG02600\tHG02601\tHG02603\tHG02604\tHG02610\tHG02611\tHG02613\tHG02614\tHG02620\tHG02621\tHG02623\tHG02624\tHG02628\tHG02629\tHG02634\tHG02635\tHG02642\tHG02643\tHG02645\tHG02646\tHG02648\tHG02649\tHG02651\tHG02652\tHG02654\tHG02655\tHG02657\tHG02658\tHG02660\tHG02661\tHG02666\tHG02667\tHG02675\tHG02676\tHG02678\tHG02679\tHG02681\tHG02682\tHG02684\tHG02685\tHG02687\tHG02688\tHG02690\tHG02691\tHG02694\tHG02696\tHG02697\tHG02699\tHG02700\tHG02702\tHG02703\tHG02715\tHG02716\tHG02721\tHG02722\tHG02724\tHG02725\tHG02727\tHG02728\tHG02731\tHG02733\tHG02734\tHG02736\tHG02737\tHG02756\tHG02757\tHG02759\tHG02760\tHG02763\tHG02768\tHG02769\tHG02771\tHG02772\tHG02774\tHG02775\tHG02778\tHG02780\tHG02783\tHG02784\tHG02786\tHG02787\tHG02789\tHG02790\tHG02792\tHG02793\tHG02798\tHG02799\tHG02804\tHG02805\tHG02807\tHG02808\tHG02810\tHG02811\tHG02813\tHG02814\tHG02816\tHG02817\tHG02819\tHG02820\tHG02836\tHG02837\tHG02839\tHG02840\tHG02851\tHG02852\tHG02854\tHG02855\tHG02860\tHG02861\tHG02870\tHG02878\tHG02879\tHG02881\tHG02882\tHG02884\tHG02885\tHG02887\tHG02888\tHG02890\tHG02891\tHG02895\tHG02896\tHG02922\tHG02923\tHG02938\tHG02941\tHG02943\tHG02944\tHG02946\tHG02947\tHG02952\tHG02953\tHG02968\tHG02970\tHG02971\tHG02973\tHG02974\tHG02976\tHG02977\tHG02979\tHG02981\tHG02982\tHG02983\tHG03006\tHG03007\tHG03009\tHG03012\tHG03015\tHG03016\tHG03018\tHG03019\tHG03021\tHG03022\tHG03024\tHG03025\tHG03027\tHG03028\tHG03039\tHG03040\tHG03045\tHG03046\tHG03048\tHG03049\tHG03052\tHG03054\tHG03055\tHG03057\tHG03058\tHG03060\tHG03061\tHG03063\tHG03064\tHG03066\tHG03069\tHG03072\tHG03073\tHG03074\tHG03077\tHG03078\tHG03079\tHG03081\tHG03082\tHG03084\tHG03085\tHG03086\tHG03088\tHG03091\tHG03095\tHG03096\tHG03097\tHG03099\tHG03100\tHG03103\tHG03105\tHG03108\tHG03109\tHG03111\tHG03112\tHG03114\tHG03115\tHG03117\tHG03118\tHG03120\tHG03121\tHG03123\tHG03124\tHG03126\tHG03127\tHG03129\tHG03130\tHG03132\tHG03133\tHG03135\tHG03136\tHG03139\tHG03157\tHG03159\tHG03160\tHG03162\tHG03163\tHG03166\tHG03168\tHG03169\tHG03171\tHG03172\tHG03175\tHG03189\tHG03190\tHG03193\tHG03195\tHG03196\tHG03198\tHG03199\tHG03202\tHG03209\tHG03212\tHG03224\tHG03225\tHG03228\tHG03229\tHG03234\tHG03235\tHG03237\tHG03238\tHG03240\tHG03241\tHG03246\tHG03247\tHG03258\tHG03259\tHG03265\tHG03267\tHG03268\tHG03270\tHG03271\tHG03279\tHG03280\tHG03291\tHG03294\tHG03295\tHG03297\tHG03298\tHG03300\tHG03301\tHG03303\tHG03304\tHG03311\tHG03313\tHG03342\tHG03343\tHG03351\tHG03352\tHG03354\tHG03363\tHG03366\tHG03367\tHG03369\tHG03370\tHG03372\tHG03376\tHG03378\tHG03380\tHG03382\tHG03385\tHG03388\tHG03391\tHG03393\tHG03394\tHG03397\tHG03398\tHG03401\tHG03410\tHG03419\tHG03428\tHG03431\tHG03432\tHG03433\tHG03436\tHG03437\tHG03439\tHG03442\tHG03445\tHG03446\tHG03449\tHG03451\tHG03452\tHG03455\tHG03457\tHG03458\tHG03460\tHG03461\tHG03462\tHG03464\tHG03469\tHG03470\tHG03472\tHG03473\tHG03476\tHG03478\tHG03479\tHG03484\tHG03485\tHG03488\tHG03490\tHG03491\tHG03499\tHG03511\tHG03514\tHG03515\tHG03517\tHG03518\tHG03520\tHG03521\tHG03538\tHG03539\tHG03547\tHG03548\tHG03549\tHG03556\tHG03557\tHG03558\tHG03559\tHG03563\tHG03565\tHG03567\tHG03571\tHG03572\tHG03575\tHG03577\tHG03578\tHG03583\tHG03585\tHG03589\tHG03593\tHG03594\tHG03595\tHG03598\tHG03600\tHG03603\tHG03604\tHG03607\tHG03611\tHG03615\tHG03616\tHG03619\tHG03624\tHG03625\tHG03629\tHG03631\tHG03634\tHG03636\tHG03640\tHG03642\tHG03643\tHG03644\tHG03645\tHG03646\tHG03649\tHG03652\tHG03653\tHG03660\tHG03663\tHG03667\tHG03668\tHG03672\tHG03673\tHG03679\tHG03680\tHG03681\tHG03684\tHG03685\tHG03686\tHG03687\tHG03689\tHG03690\tHG03691\tHG03692\tHG03693\tHG03694\tHG03695\tHG03696\tHG03697\tHG03698\tHG03702\tHG03703\tHG03705\tHG03706\tHG03708\tHG03709\tHG03711\tHG03713\tHG03714\tHG03716\tHG03717\tHG03718\tHG03720\tHG03722\tHG03727\tHG03729\tHG03730\tHG03731\tHG03733\tHG03736\tHG03738\tHG03740\tHG03741\tHG03742\tHG03743\tHG03744\tHG03745\tHG03746\tHG03750\tHG03752\tHG03753\tHG03754\tHG03755\tHG03756\tHG03757\tHG03760\tHG03762\tHG03765\tHG03767\tHG03770\tHG03771\tHG03772\tHG03773\tHG03774\tHG03775\tHG03777\tHG03778\tHG03779\tHG03780\tHG03781\tHG03782\tHG03784\tHG03785\tHG03786\tHG03787\tHG03788\tHG03789\tHG03790\tHG03792\tHG03793\tHG03796\tHG03800\tHG03802\tHG03803\tHG03805\tHG03808\tHG03809\tHG03812\tHG03814\tHG03815\tHG03817\tHG03821\tHG03823\tHG03824\tHG03826\tHG03829\tHG03830\tHG03832\tHG03833\tHG03836\tHG03837\tHG03838\tHG03844\tHG03846\tHG03848\tHG03849\tHG03850\tHG03851\tHG03854\tHG03856\tHG03857\tHG03858\tHG03861\tHG03862\tHG03863\tHG03864\tHG03866\tHG03867\tHG03868\tHG03869\tHG03870\tHG03871\tHG03872\tHG03873\tHG03874\tHG03875\tHG03882\tHG03884\tHG03885\tHG03886\tHG03887\tHG03888\tHG03890\tHG03894\tHG03895\tHG03896\tHG03897\tHG03898\tHG03899\tHG03900\tHG03902\tHG03905\tHG03907\tHG03908\tHG03910\tHG03911\tHG03913\tHG03914\tHG03916\tHG03917\tHG03919\tHG03920\tHG03922\tHG03925\tHG03926\tHG03928\tHG03931\tHG03934\tHG03937\tHG03940\tHG03941\tHG03943\tHG03944\tHG03945\tHG03947\tHG03949\tHG03950\tHG03951\tHG03953\tHG03955\tHG03960\tHG03963\tHG03965\tHG03967\tHG03968\tHG03969\tHG03971\tHG03973\tHG03974\tHG03976\tHG03977\tHG03978\tHG03985\tHG03986\tHG03989\tHG03990\tHG03991\tHG03995\tHG03998\tHG03999\tHG04001\tHG04002\tHG04003\tHG04006\tHG04014\tHG04015\tHG04017\tHG04018\tHG04019\tHG04020\tHG04022\tHG04023\tHG04025\tHG04026\tHG04029\tHG04033\tHG04035\tHG04038\tHG04039\tHG04042\tHG04047\tHG04054\tHG04056\tHG04059\tHG04060\tHG04061\tHG04062\tHG04063\tHG04070\tHG04075\tHG04076\tHG04080\tHG04090\tHG04093\tHG04094\tHG04096\tHG04098\tHG04099\tHG04100\tHG04106\tHG04107\tHG04118\tHG04131\tHG04134\tHG04140\tHG04141\tHG04144\tHG04146\tHG04152\tHG04153\tHG04155\tHG04156\tHG04158\tHG04159\tHG04161\tHG04162\tHG04164\tHG04171\tHG04173\tHG04176\tHG04177\tHG04180\tHG04182\tHG04183\tHG04185\tHG04186\tHG04188\tHG04189\tHG04194\tHG04195\tHG04198\tHG04200\tHG04202\tHG04206\tHG04209\tHG04210\tHG04211\tHG04212\tHG04214\tHG04216\tHG04219\tHG04222\tHG04225\tHG04227\tHG04229\tHG04235\tHG04238\tHG04239\tHG04301\tHG04302\tHG04303\tNA06984\tNA06985\tNA06986\tNA06989\tNA06994\tNA07000\tNA07037\tNA07048\tNA07051\tNA07056\tNA07347\tNA07357\tNA10847\tNA10851\tNA11829\tNA11830\tNA11831\tNA11832\tNA11840\tNA11843\tNA11881\tNA11892\tNA11893\tNA11894\tNA11918\tNA11919\tNA11920\tNA11930\tNA11931\tNA11932\tNA11933\tNA11992\tNA11994\tNA11995\tNA12003\tNA12004\tNA12005\tNA12006\tNA12043\tNA12044\tNA12045\tNA12046\tNA12058\tNA12144\tNA12154\tNA12155\tNA12156\tNA12234\tNA12249\tNA12272\tNA12273\tNA12275\tNA12282\tNA12283\tNA12286\tNA12287\tNA12340\tNA12341\tNA12342\tNA12347\tNA12348\tNA12383\tNA12399\tNA12400\tNA12413\tNA12414\tNA12489\tNA12546\tNA12716\tNA12717\tNA12718\tNA12748\tNA12749\tNA12750\tNA12751\tNA12760\tNA12761\tNA12762\tNA12763\tNA12775\tNA12776\tNA12777\tNA12778\tNA12812\tNA12813\tNA12814\tNA12815\tNA12827\tNA12828\tNA12829\tNA12830\tNA12842\tNA12843\tNA12872\tNA12873\tNA12874\tNA12878\tNA12889\tNA12890\tNA18486\tNA18488\tNA18489\tNA18499\tNA18501\tNA18502\tNA18504\tNA18505\tNA18507\tNA18508\tNA18510\tNA18511\tNA18516\tNA18517\tNA18519\tNA18520\tNA18522\tNA18523\tNA18525\tNA18526\tNA18527\tNA18528\tNA18530\tNA18531\tNA18532\tNA18533\tNA18534\tNA18535\tNA18536\tNA18537\tNA18538\tNA18539\tNA18541\tNA18542\tNA18543\tNA18544\tNA18545\tNA18546\tNA18547\tNA18548\tNA18549\tNA18550\tNA18552\tNA18553\tNA18555\tNA18557\tNA18558\tNA18559\tNA18560\tNA18561\tNA18562\tNA18563\tNA18564\tNA18565\tNA18566\tNA18567\tNA18570\tNA18571\tNA18572\tNA18573\tNA18574\tNA18576\tNA18577\tNA18579\tNA18582\tNA18591\tNA18592\tNA18593\tNA18595\tNA18596\tNA18597\tNA18599\tNA18602\tNA18603\tNA18605\tNA18606\tNA18608\tNA18609\tNA18610\tNA18611\tNA18612\tNA18613\tNA18614\tNA18615\tNA18616\tNA18617\tNA18618\tNA18619\tNA18620\tNA18621\tNA18622\tNA18623\tNA18624\tNA18625\tNA18626\tNA18627\tNA18628\tNA18629\tNA18630\tNA18631\tNA18632\tNA18633\tNA18634\tNA18635\tNA18636\tNA18637\tNA18638\tNA18639\tNA18640\tNA18641\tNA18642\tNA18643\tNA18644\tNA18645\tNA18646\tNA18647\tNA18648\tNA18740\tNA18745\tNA18747\tNA18748\tNA18749\tNA18757\tNA18791\tNA18853\tNA18856\tNA18858\tNA18861\tNA18864\tNA18865\tNA18867\tNA18868\tNA18870\tNA18871\tNA18873\tNA18874\tNA18876\tNA18877\tNA18878\tNA18879\tNA18881\tNA18907\tNA18908\tNA18909\tNA18910\tNA18912\tNA18915\tNA18916\tNA18917\tNA18923\tNA18924\tNA18933\tNA18934\tNA18939\tNA18940\tNA18941\tNA18942\tNA18943\tNA18944\tNA18945\tNA18946\tNA18947\tNA18948\tNA18949\tNA18950\tNA18951\tNA18952\tNA18953\tNA18954\tNA18955\tNA18956\tNA18957\tNA18959\tNA18960\tNA18961\tNA18962\tNA18963\tNA18964\tNA18965\tNA18966\tNA18967\tNA18968\tNA18969\tNA18970\tNA18971\tNA18972\tNA18973\tNA18974\tNA18975\tNA18976\tNA18977\tNA18978\tNA18979\tNA18980\tNA18981\tNA18982\tNA18983\tNA18984\tNA18985\tNA18986\tNA18987\tNA18988\tNA18989\tNA18990\tNA18991\tNA18992\tNA18993\tNA18994\tNA18995\tNA18997\tNA18998\tNA18999\tNA19000\tNA19001\tNA19002\tNA19003\tNA19004\tNA19005\tNA19006\tNA19007\tNA19009\tNA19010\tNA19011\tNA19012\tNA19017\tNA19019\tNA19020\tNA19023\tNA19024\tNA19025\tNA19026\tNA19027\tNA19028\tNA19030\tNA19031\tNA19035\tNA19036\tNA19037\tNA19038\tNA19041\tNA19042\tNA19043\tNA19044\tNA19054\tNA19055\tNA19056\tNA19057\tNA19058\tNA19059\tNA19060\tNA19062\tNA19063\tNA19064\tNA19065\tNA19066\tNA19067\tNA19068\tNA19070\tNA19072\tNA19074\tNA19075\tNA19076\tNA19077\tNA19078\tNA19079\tNA19080\tNA19081\tNA19082\tNA19083\tNA19084\tNA19085\tNA19086\tNA19087\tNA19088\tNA19089\tNA19090\tNA19091\tNA19092\tNA19093\tNA19095\tNA19096\tNA19098\tNA19099\tNA19102\tNA19107\tNA19108\tNA19113\tNA19114\tNA19116\tNA19117\tNA19118\tNA19119\tNA19121\tNA19129\tNA19130\tNA19131\tNA19137\tNA19138\tNA19141\tNA19143\tNA19144\tNA19146\tNA19147\tNA19149\tNA19152\tNA19153\tNA19159\tNA19160\tNA19171\tNA19172\tNA19175\tNA19184\tNA19185\tNA19189\tNA19190\tNA19197\tNA19198\tNA19200\tNA19201\tNA19204\tNA19206\tNA19207\tNA19209\tNA19210\tNA19213\tNA19214\tNA19222\tNA19223\tNA19225\tNA19235\tNA19236\tNA19238\tNA19239\tNA19247\tNA19248\tNA19256\tNA19257\tNA19307\tNA19308\tNA19309\tNA19310\tNA19312\tNA19314\tNA19315\tNA19316\tNA19317\tNA19318\tNA19319\tNA19320\tNA19321\tNA19323\tNA19324\tNA19327\tNA19328\tNA19331\tNA19332\tNA19334\tNA19338\tNA19346\tNA19347\tNA19350\tNA19351\tNA19355\tNA19359\tNA19360\tNA19371\tNA19372\tNA19374\tNA19375\tNA19376\tNA19377\tNA19378\tNA19379\tNA19380\tNA19383\tNA19384\tNA19385\tNA19390\tNA19391\tNA19393\tNA19394\tNA19395\tNA19397\tNA19398\tNA19399\tNA19401\tNA19403\tNA19404\tNA19428\tNA19429\tNA19430\tNA19431\tNA19434\tNA19435\tNA19436\tNA19437\tNA19438\tNA19439\tNA19440\tNA19443\tNA19445\tNA19446\tNA19448\tNA19449\tNA19451\tNA19452\tNA19454\tNA19455\tNA19456\tNA19457\tNA19461\tNA19462\tNA19463\tNA19466\tNA19467\tNA19468\tNA19471\tNA19472\tNA19473\tNA19474\tNA19475\tNA19625\tNA19648\tNA19649\tNA19651\tNA19652\tNA19654\tNA19655\tNA19657\tNA19658\tNA19661\tNA19663\tNA19664\tNA19669\tNA19670\tNA19676\tNA19678\tNA19679\tNA19681\tNA19682\tNA19684\tNA19700\tNA19701\tNA19703\tNA19704\tNA19707\tNA19711\tNA19712\tNA19713\tNA19716\tNA19717\tNA19719\tNA19720\tNA19722\tNA19723\tNA19725\tNA19726\tNA19728\tNA19729\tNA19731\tNA19732\tNA19734\tNA19735\tNA19740\tNA19741\tNA19746\tNA19747\tNA19749\tNA19750\tNA19752\tNA19755\tNA19756\tNA19758\tNA19759\tNA19761\tNA19762\tNA19764\tNA19770\tNA19771\tNA19773\tNA19774\tNA19776\tNA19777\tNA19779\tNA19780\tNA19782\tNA19783\tNA19785\tNA19786\tNA19788\tNA19789\tNA19792\tNA19794\tNA19795\tNA19818\tNA19819\tNA19834\tNA19835\tNA19900\tNA19901\tNA19904\tNA19908\tNA19909\tNA19913\tNA19914\tNA19916\tNA19917\tNA19920\tNA19921\tNA19922\tNA19923\tNA19982\tNA19984\tNA20126\tNA20127\tNA20274\tNA20276\tNA20278\tNA20281\tNA20282\tNA20287\tNA20289\tNA20291\tNA20294\tNA20296\tNA20298\tNA20299\tNA20314\tNA20317\tNA20318\tNA20320\tNA20321\tNA20332\tNA20334\tNA20339\tNA20340\tNA20342\tNA20346\tNA20348\tNA20351\tNA20355\tNA20356\tNA20357\tNA20359\tNA20362\tNA20412\tNA20502\tNA20503\tNA20504\tNA20505\tNA20506\tNA20507\tNA20508\tNA20509\tNA20510\tNA20511\tNA20512\tNA20513\tNA20514\tNA20515\tNA20516\tNA20517\tNA20518\tNA20519\tNA20520\tNA20521\tNA20522\tNA20524\tNA20525\tNA20527\tNA20528\tNA20529\tNA20530\tNA20531\tNA20532\tNA20533\tNA20534\tNA20535\tNA20536\tNA20537\tNA20538\tNA20539\tNA20540\tNA20541\tNA20542\tNA20543\tNA20544\tNA20581\tNA20582\tNA20585\tNA20586\tNA20587\tNA20588\tNA20589\tNA20752\tNA20753\tNA20754\tNA20755\tNA20756\tNA20757\tNA20758\tNA20759\tNA20760\tNA20761\tNA20762\tNA20763\tNA20764\tNA20765\tNA20766\tNA20767\tNA20768\tNA20769\tNA20770\tNA20771\tNA20772\tNA20773\tNA20774\tNA20775\tNA20778\tNA20783\tNA20785\tNA20786\tNA20787\tNA20790\tNA20792\tNA20795\tNA20796\tNA20797\tNA20798\tNA20799\tNA20800\tNA20801\tNA20802\tNA20803\tNA20804\tNA20805\tNA20806\tNA20807\tNA20808\tNA20809\tNA20810\tNA20811\tNA20812\tNA20813\tNA20814\tNA20815\tNA20816\tNA20818\tNA20819\tNA20821\tNA20822\tNA20826\tNA20827\tNA20828\tNA20829\tNA20831\tNA20832\tNA20845\tNA20846\tNA20847\tNA20849\tNA20850\tNA20851\tNA20852\tNA20853\tNA20854\tNA20856\tNA20858\tNA20859\tNA20861\tNA20862\tNA20863\tNA20864\tNA20866\tNA20867\tNA20868\tNA20869\tNA20870\tNA20872\tNA20873\tNA20874\tNA20875\tNA20876\tNA20877\tNA20878\tNA20881\tNA20882\tNA20883\tNA20884\tNA20885\tNA20886\tNA20887\tNA20888\tNA20889\tNA20890\tNA20891\tNA20892\tNA20894\tNA20895\tNA20896\tNA20897\tNA20899\tNA20900\tNA20901\tNA20902\tNA20903\tNA20904\tNA20905\tNA20906\tNA20908\tNA20910\tNA20911\tNA21086\tNA21087\tNA21088\tNA21089\tNA21090\tNA21091\tNA21092\tNA21093\tNA21094\tNA21095\tNA21097\tNA21098\tNA21099\tNA21100\tNA21101\tNA21102\tNA21103\tNA21104\tNA21105\tNA21106\tNA21107\tNA21108\tNA21109\tNA21110\tNA21111\tNA21112\tNA21113\tNA21114\tNA21115\tNA21116\tNA21117\tNA21118\tNA21119\tNA21120\tNA21121\tNA21122\tNA21123\tNA21124\tNA21125\tNA21126\tNA21127\tNA21128\tNA21129\tNA21130\tNA21133\tNA21135\tNA21137\tNA21141\tNA21142\tNA21143\tNA21144\r\n",
      "10\t11501\t.\tC\tA\t.\tPASS\tPMUT=286|5096|20462|0.06|0|0.06|0.08|0.03|0.1|SNP|2548|.|A|intron_variant&non_coding_transcript_variant|MODIFIER||ENSG00000295340|Transcript|ENST00000729389|lncRNA||1/5||||||||||1||SNV||||||||TUBB8||TUBB8|INTRON|SNP\tGT\t0|1\t0|0\t0|0\t0|0\t0|0\t0|0\t0|0\t0|0\t0|0\t0|0\t0|0\t0|0\t0|0\t0|0\t0|0\t0|0\t0|0\t0|0\t1|0\t0|0\t0|0\t0|0\t0|0\t0|0\t0|0\t0|0\t0|0\t0|0\t0|0\t1|0\t0|0\t0|0\t0|0\t0|0\t0|0\t0|1\t0|0\t0|0\t0|0\t0|0\t0|0\t0|0\t0|0\t0|0\t0|0\t1|0\t1|0\t0|0\t0|0\t0|0\t0|0\t0|0\t0|0\t0|0\t0|0\t0|0\t0|0\t0|0\t0|1\t0|0\t0|0\t0|0\t0|1\t0|0\t0|0\t0|0\t0|0\t0|0\t0|0\t0|0\t0|0\t0|0\t0|0\t0|0\t0|0\t0|0\t0|0\t0|0\t0|0\t0|0\t0|0\t0|0\t0|0\t0|0\t0|0\t0|0\t0|0\t0|0\t0|0\t0|0\t0|0\t0|0\t0|0\t0|0\t0|0\t0|0\t0|0\t0|1\t0|0\t0|0\t0|0\t0|0\t0|0\t0|0\t0|0\t0|0\t0|0\t0|0\t0|0\t0|0\t0|0\t0|0\t0|0\t0|0\t0|0\t0|0\t0|0\t0|0\t0|0\t0|0\t0|0\t0|0\t0|0\t0|0\t0|0\t0|0\t0|0\t0|0\t0|0\t0|0\t0|0\t0|0\t0|0\t0|0\t0|0\t0|0\t0|0\t0|0\t0|0\t0|0\t0|0\t1|0\t0|0\t0|0\t0|0\t0|0\t0|0\t0|0\t0|0\t0|0\t0|0\t0|0\t0|0\t0|1\t0|0\t0|0\t0|1\t0|0\t0|0\t0|0\t1|0\t0|0\t0|0\t0|0\t0|0\t0|0\t0|0\t0|0\t0|0\t0|0\t0|1\t0|0\t0|0\t0|0\t0|0\t0|0\t0|0\t0|0\t0|0\t0|0\t0|0\t0|0\t0|0\t0|0\t0|0\t0|0\t0|0\t0|0\t0|0\t0|0\t0|0\t0|0\t0|0\t0|0\t0|0\t0|0\t0|0\t0|0\t0|0\t0|0\t0|0\t0|0\t0|0\t0|0\t0|0\t0|0\t0|0\t0|0\t0|0\t0|0\t0|0\t0|0\t0|0\t0|0\t0|0\t0|0\t0|0\t0|0\t0|0\t0|0\t0|0\t0|0\t0|0\t0|0\t0|0\t0|0\t0|0\t0|0\t0|0\t0|0\t0|0\t0|0\t0|0\t0|0\t0|0\t0|0\t0|0\t0|0\t0|0\t1|0\t0|0\t0|0\t0|0\t0|0\t0|0\t0|0\t0|0\t0|0\t0|0\t0|0\t0|0\t0|0\t0|0\t0|0\t0|0\t0|0\t0|0\t0|0\t0|0\t0|0\t0|0\t0|0\t0|0\t0|0\t0|0\t0|0\t0|0\t0|0\t0|0\t0|0\t0|0\t0|0\t0|0\t0|0\t0|0\t0|0\t0|0\t0|0\t0|0\t0|0\t0|0\t0|0\t0|0\t0|0\t0|0\t0|0\t0|0\t0|0\t0|0\t0|0\t0|0\t0|0\t0|0\t0|0\t0|0\t0|0\t0|0\t0|0\t0|0\t0|0\t0|0\t0|0\t0|0\t0|0\t0|0\t0|0\t0|0\t0|0\t0|0\t0|0\t0|0\t0|0\t0|0\t0|0\t0|0\t0|0\t0|0\t0|0\t0|0\t0|0\t0|0\t0|0\t0|0\t0|0\t0|0\t0|0\t0|0\t0|0\t0|0\t0|0\t0|0\t0|0\t0|0\t0|0\t0|0\t0|0\t0|0\t0|0\t0|0\t0|0\t0|0\t0|0\t0|0\t0|0\t0|1\t0|0\t0|0\t0|0\t0|0\t0|0\t0|0\t0|0\t0|0\t0|0\t0|0\t0|0\t0|0\t0|0\t0|0\t0|0\t1|0\t0|0\t0|0\t0|0\t0|0\t0|0\t0|0\t0|0\t0|0\t0|0\t0|0\t0|0\t0|0\t0|1\t0|0\t0|0\t0|0\t0|0\t0|0\t0|0\t1|0\t0|0\t0|0\t0|0\t0|0\t0|0\t0|0\t0|0\t0|0\t0|0\t0|0\t0|0\t0|1\t0|0\t0|0\t0|0\t0|0\t0|0\t0|0\t0|0\t0|0\t0|0\t0|0\t0|0\t0|0\t1|0\t0|0\t0|0\t0|0\t0|0\t0|0\t0|0\t0|0\t0|0\t0|0\t0|0\t0|0\t0|1\t0|0\t0|0\t0|0\t0|0\t0|0\t1|0\t1|0\t0|0\t0|0\t0|0\t0|0\t0|0\t0|0\t0|0\t0|0\t0|0\t0|0\t0|0\t0|0\t0|0\t0|1\t0|0\t1|0\t1|0\t0|0\t0|0\t0|0\t0|0\t0|0\t0|0\t0|0\t0|0\t0|0\t0|0\t0|0\t0|0\t0|0\t0|0\t0|0\t0|0\t0|0\t0|0\t0|0\t0|0\t0|0\t1|0\t0|0\t0|0\t0|0\t0|0\t0|0\t0|0\t0|0\t0|0\t0|1\t0|0\t0|0\t0|0\t0|0\t0|0\t0|0\t0|0\t0|0\t0|0\t0|0\t0|0\t0|0\t0|0\t0|0\t0|0\t0|0\t0|0\t0|0\t0|0\t0|0\t0|0\t0|0\t0|0\t0|0\t0|0\t0|0\t0|0\t0|0\t0|0\t0|0\t0|0\t0|0\t0|0\t0|0\t0|0\t0|0\t0|0\t0|0\t0|1\t0|0\t0|0\t0|0\t0|1\t0|0\t0|0\t0|0\t1|0\t0|0\t0|0\t0|0\t0|0\t0|0\t0|0\t0|0\t0|0\t0|0\t0|0\t0|0\t0|0\t0|0\t0|0\t0|0\t0|0\t0|0\t0|0\t0|0\t0|0\t0|0\t0|0\t0|0\t0|0\t0|0\t0|0\t0|1\t0|0\t0|0\t0|0\t0|0\t0|0\t0|0\t0|0\t0|0\t0|0\t0|0\t0|0\t0|0\t1|0\t0|0\t0|1\t0|0\t0|0\t0|0\t0|0\t0|0\t0|0\t0|0\t0|0\t0|0\t0|0\t0|0\t0|0\t0|0\t0|0\t0|0\t0|0\t0|0\t0|0\t0|0\t0|0\t0|0\t0|0\t0|0\t0|0\t0|0\t0|0\t0|0\t0|0\t0|0\t0|0\t0|0\t0|1\t0|0\t0|0\t0|0\t0|0\t0|0\t0|0\t1|0\t0|0\t0|0\t0|0\t0|0\t0|0\t0|0\t0|0\t0|0\t0|1\t0|0\t0|0\t0|1\t0|0\t0|0\t0|0\t0|0\t0|0\t0|0\t0|0\t0|0\t0|0\t0|1\t0|0\t0|0\t0|0\t1|0\t0|0\t0|0\t0|0\t0|0\t0|0\t0|0\t0|0\t0|0\t0|0\t0|0\t0|0\t0|0\t0|0\t0|0\t0|0\t0|0\t0|0\t0|0\t0|0\t0|0\t0|0\t0|0\t0|0\t0|0\t0|0\t0|0\t0|0\t0|0\t0|0\t0|0\t0|0\t0|0\t0|0\t0|0\t0|0\t0|0\t0|0\t0|0\t0|0\t0|0\t0|0\t0|0\t0|0\t0|0\t0|0\t0|0\t0|0\t0|0\t0|0\t0|0\t0|0\t0|0\t0|0\t0|0\t0|0\t0|0\t0|0\t0|0\t0|0\t0|0\t0|0\t0|0\t0|0\t0|0\t0|0\t0|0\t1|0\t0|0\t0|0\t0|0\t0|0\t1|0\t0|0\t0|0\t0|0\t0|0\t0|0\t0|0\t0|0\t1|0\t0|0\t0|0\t0|0\t0|0\t0|0\t0|0\t0|0\t0|0\t0|0\t0|0\t0|0\t0|0\t0|0\t0|0\t0|0\t0|0\t0|0\t0|0\t0|0\t0|0\t0|0\t0|0\t0|0\t0|0\t0|0\t0|0\t0|0\t0|0\t0|0\t0|0\t0|0\t0|0\t0|0\t0|0\t0|0\t0|0\t0|0\t1|0\t0|0\t0|0\t0|0\t0|0\t0|0\t0|0\t0|0\t0|1\t0|0\t1|0\t0|0\t0|0\t0|0\t0|0\t0|0\t0|0\t0|0\t0|0\t0|0\t0|0\t0|0\t0|0\t0|0\t0|0\t0|0\t0|0\t0|0\t0|0\t0|0\t0|0\t0|0\t0|0\t0|0\t0|0\t0|0\t0|0\t0|0\t0|0\t0|0\t0|0\t0|0\t0|0\t0|0\t0|0\t0|0\t0|0\t0|0\t0|0\t0|0\t0|0\t0|0\t0|0\t0|0\t0|0\t0|0\t0|0\t0|0\t0|0\t0|0\t0|0\t1|0\t0|1\t0|0\t0|0\t0|0\t0|0\t0|0\t0|0\t0|0\t0|0\t0|0\t0|0\t0|0\t0|0\t0|0\t0|0\t0|0\t0|0\t0|0\t0|0\t0|0\t0|0\t0|0\t0|0\t0|0\t0|0\t0|0\t0|0\t0|0\t0|0\t0|0\t0|0\t0|0\t0|0\t0|0\t0|0\t0|0\t0|0\t0|0\t0|0\t0|0\t0|0\t0|0\t0|0\t0|0\t0|0\t0|0\t0|0\t0|0\t0|0\t0|0\t0|0\t0|0\t0|0\t0|0\t0|0\t0|0\t0|0\t0|0\t0|0\t0|1\t0|0\t0|0\t0|0\t0|0\t0|0\t0|0\t0|0\t0|1\t0|0\t0|0\t0|0\t0|0\t0|0\t0|0\t0|0\t0|0\t0|0\t0|0\t0|0\t0|0\t0|0\t0|1\t0|1\t0|0\t0|0\t0|0\t0|0\t0|0\t0|0\t0|0\t0|0\t0|0\t0|0\t0|0\t0|0\t0|0\t1|0\t0|0\t0|0\t1|0\t0|0\t0|0\t0|1\t0|0\t1|0\t0|0\t0|0\t0|0\t0|0\t0|0\t0|0\t0|0\t0|0\t0|0\t0|0\t0|0\t0|0\t0|0\t0|0\t0|0\t0|0\t0|0\t0|0\t0|0\t0|0\t0|0\t0|0\t0|0\t0|0\t0|0\t0|0\t0|0\t0|0\t0|0\t0|0\t0|0\t0|0\t0|0\t0|0\t0|0\t0|0\t0|0\t0|0\t0|0\t0|0\t0|0\t0|0\t0|0\t0|0\t0|0\t0|0\t0|0\t0|0\t0|0\t0|0\t0|0\t0|0\t0|0\t0|1\t1|0\t0|0\t0|0\t0|0\t0|0\t0|0\t0|0\t0|0\t0|0\t0|0\t0|0\t0|0\t0|0\t0|0\t0|0\t0|0\t0|0\t0|0\t0|0\t0|0\t0|0\t0|0\t0|0\t0|0\t0|0\t0|0\t0|0\t0|0\t0|0\t0|0\t0|0\t0|0\t0|0\t0|0\t0|0\t1|0\t1|0\t0|1\t0|1\t0|0\t0|0\t0|0\t0|0\t0|0\t0|0\t0|0\t0|1\t0|0\t0|0\t0|0\t0|0\t0|0\t0|0\t0|0\t0|0\t0|0\t0|0\t1|0\t0|0\t0|0\t0|0\t0|0\t0|0\t0|1\t0|0\t0|0\t0|0\t0|1\t0|0\t0|0\t0|0\t0|0\t0|0\t0|0\t1|0\t0|0\t0|0\t0|0\t0|0\t0|0\t0|0\t0|0\t0|0\t0|0\t0|0\t0|1\t0|0\t0|0\t0|0\t0|0\t0|0\t0|0\t0|0\t0|0\t0|0\t0|0\t0|0\t0|0\t0|1\t0|0\t0|1\t0|0\t0|0\t1|0\t0|0\t0|0\t0|0\t0|0\t0|0\t0|0\t0|1\t0|0\t0|0\t0|1\t0|0\t0|0\t0|0\t1|0\t0|0\t0|0\t1|0\t0|0\t0|0\t0|0\t0|0\t1|0\t0|0\t0|0\t0|0\t1|0\t0|0\t0|0\t0|0\t0|0\t0|0\t0|0\t0|1\t0|0\t0|0\t0|0\t0|1\t0|0\t0|1\t0|1\t0|0\t0|0\t0|0\t0|0\t0|0\t0|0\t0|0\t0|0\t0|1\t0|1\t0|0\t0|0\t0|0\t0|0\t0|0\t0|0\t0|0\t0|0\t0|0\t1|0\t0|0\t0|0\t0|0\t0|0\t0|0\t0|0\t0|0\t0|0\t0|0\t0|0\t0|0\t0|0\t0|0\t0|0\t0|0\t0|1\t0|0\t0|1\t0|0\t0|0\t0|0\t0|0\t0|0\t1|0\t0|0\t1|0\t0|0\t0|0\t0|0\t0|0\t0|0\t0|0\t0|1\t0|0\t0|0\t0|0\t0|0\t0|0\t0|1\t0|0\t0|0\t0|0\t0|0\t0|0\t0|0\t0|0\t0|0\t0|0\t0|1\t1|0\t1|0\t0|0\t0|0\t0|0\t1|0\t0|0\t0|0\t1|0\t0|0\t0|0\t0|0\t0|0\t0|0\t0|0\t0|0\t0|0\t0|0\t0|0\t0|0\t0|0\t0|0\t0|1\t0|0\t0|1\t0|0\t0|0\t0|0\t0|0\t0|0\t1|0\t0|0\t0|0\t0|0\t0|0\t0|0\t0|0\t0|1\t0|0\t1|0\t1|0\t0|0\t0|0\t0|1\t0|0\t0|0\t0|0\t0|0\t0|0\t0|0\t0|0\t0|0\t0|0\t1|0\t0|0\t0|0\t0|0\t0|0\t0|0\t0|1\t0|0\t0|0\t0|0\t0|0\t0|0\t0|0\t0|0\t0|0\t0|0\t0|0\t0|0\t0|0\t0|0\t0|0\t0|0\t0|0\t0|0\t0|0\t0|0\t0|0\t0|0\t0|0\t0|0\t1|0\t0|0\t0|0\t0|0\t0|0\t0|0\t0|0\t0|0\t0|0\t0|1\t0|0\t0|0\t0|0\t0|0\t0|0\t0|1\t0|0\t0|0\t0|0\t1|0\t0|0\t0|0\t0|1\t0|0\t0|0\t0|0\t0|0\t0|1\t0|0\t1|0\t0|0\t0|0\t0|0\t0|0\t0|0\t0|0\t0|0\t0|1\t1|0\t1|0\t0|0\t0|1\t0|0\t0|0\t0|0\t0|0\t0|0\t0|0\t0|0\t0|0\t0|0\t0|0\t0|0\t0|0\t0|0\t0|0\t0|0\t0|0\t0|0\t0|0\t0|0\t0|0\t0|0\t0|0\t0|0\t0|0\t0|0\t0|0\t0|0\t0|0\t0|0\t0|1\t0|0\t0|0\t1|0\t0|0\t0|0\t0|0\t0|0\t0|0\t0|0\t0|0\t1|0\t0|1\t0|0\t0|0\t1|0\t0|0\t0|0\t0|0\t0|0\t0|0\t0|0\t0|1\t0|0\t0|0\t0|0\t0|0\t0|0\t0|0\t0|0\t0|0\t0|0\t0|0\t0|0\t0|0\t0|0\t0|0\t0|0\t0|0\t0|0\t0|0\t0|0\t0|0\t0|0\t0|0\t0|1\t0|0\t0|0\t0|1\t0|0\t0|0\t0|0\t0|0\t0|0\t0|0\t1|0\t1|0\t0|0\t0|1\t0|0\t0|0\t0|0\t0|0\t0|0\t0|0\t0|0\t0|0\t0|0\t0|0\t0|0\t0|0\t0|0\t0|0\t0|0\t0|0\t0|0\t0|0\t0|0\t0|0\t0|0\t0|0\t0|0\t0|0\t0|0\t0|0\t0|0\t0|0\t0|0\t0|0\t0|0\t0|0\t0|0\t0|0\t0|0\t0|0\t0|0\t0|0\t0|0\t0|0\t0|0\t1|0\t0|1\t0|0\t0|0\t1|0\t1|0\t0|0\t0|0\t0|0\t0|0\t0|1\t0|0\t0|0\t1|0\t0|0\t0|0\t0|0\t0|0\t1|0\t0|0\t0|0\t0|1\t0|0\t0|0\t0|1\t0|0\t0|0\t0|0\t1|0\t0|0\t0|0\t0|0\t0|0\t0|0\t0|0\t0|0\t0|0\t0|0\t0|1\t0|0\t0|0\t0|0\t0|0\t0|0\t0|0\t0|0\t0|0\t1|0\t1|0\t0|0\t0|0\t0|1\t0|0\t1|0\t0|0\t0|0\t0|0\t0|0\t0|0\t1|0\t0|0\t0|0\t0|0\t0|0\t0|0\t0|0\t0|0\t0|0\t0|0\t0|0\t0|0\t0|0\t0|0\t0|0\t0|0\t0|0\t0|0\t0|0\t0|0\t0|0\t0|0\t0|0\t1|0\t0|0\t0|1\t0|0\t0|0\t0|0\t0|1\t0|1\t0|0\t1|0\t0|0\t0|0\t0|1\t0|0\t0|0\t0|0\t1|0\t0|0\t0|0\t0|1\t0|1\t0|0\t0|1\t0|1\t0|1\t0|0\t1|0\t0|1\t0|0\t0|0\t0|0\t0|0\t0|0\t0|0\t0|0\t0|0\t1|0\t0|0\t0|0\t0|0\t0|0\t0|0\t0|1\t0|0\t0|1\t0|0\t0|0\t0|0\t0|0\t0|0\t0|0\t0|0\t0|1\t0|0\t0|0\t1|0\t1|0\t0|0\t1|0\t0|0\t0|0\t1|0\t0|0\t0|0\t0|0\t0|0\t0|0\t0|0\t0|0\t0|1\t0|0\t0|0\t0|1\t0|0\t0|0\t0|0\t0|0\t0|0\t0|0\t0|0\t0|0\t0|0\t1|0\t0|1\t0|1\t0|0\t0|1\t0|0\t1|0\t1|0\t0|0\t0|0\t0|1\t0|0\t0|0\t0|0\t0|0\t0|1\t1|0\t0|0\t0|0\t0|0\t0|0\t0|0\t0|0\t0|0\t0|0\t0|0\t0|0\t0|0\t0|0\t0|0\t0|1\t0|0\t0|0\t0|0\t0|0\t0|0\t0|0\t0|1\t0|0\t0|0\t1|0\t0|0\t0|1\t0|0\t1|0\t1|0\t0|0\t0|0\t0|0\t0|1\t0|0\t0|0\t0|0\t1|0\t0|0\t0|0\t0|0\t0|0\t0|0\t0|0\t0|1\t0|0\t0|0\t0|0\t0|0\t1|0\t0|0\t0|1\t0|0\t0|0\t0|0\t0|0\t0|0\t0|0\t0|0\t1|0\t0|0\t0|1\t1|0\t0|1\t0|0\t0|0\t0|0\t0|0\t0|0\t0|1\t0|0\t0|0\t0|0\t0|0\t1|0\t0|0\t0|0\t0|0\t0|0\t0|1\t0|1\t0|0\t0|0\t1|0\t0|0\t0|0\t0|0\t0|0\t0|0\t0|0\t0|0\t0|0\t0|0\t0|0\t1|0\t0|0\t0|0\t0|0\t0|0\t0|0\t0|0\t0|0\t0|0\t0|0\t0|0\t0|0\t0|0\t0|0\t0|0\t0|0\t0|0\t0|0\t1|0\t1|0\t0|0\t0|0\t0|0\t0|0\t0|0\t0|0\t0|1\t0|0\t0|0\t0|0\t0|0\t0|0\t0|0\t0|0\t0|0\t0|0\t0|0\t0|0\t0|1\t0|0\t0|0\t0|0\t0|1\t0|0\t0|0\t0|0\t1|0\t0|0\t0|1\t0|0\t0|1\t0|0\t0|0\t0|0\t0|0\t0|0\t0|0\t0|0\t0|1\t0|0\t0|0\t0|0\t0|1\t0|0\t0|0\t0|0\t0|0\t1|0\t1|0\t0|0\t0|0\t0|0\t0|0\t0|0\t0|0\t0|0\t0|0\t0|0\t0|0\t0|0\t0|0\t0|0\t1|0\t0|1\t0|0\t0|0\t0|0\t0|0\t0|0\t0|1\t0|0\t0|0\t0|0\t0|0\t0|0\t0|0\t0|0\t0|0\t0|0\t0|0\t0|0\t0|0\t0|0\t0|0\t0|0\t0|0\t0|0\t0|0\t0|0\t0|0\t0|0\t0|0\t0|0\t0|0\t0|0\t0|0\t0|0\t0|0\t0|0\t0|0\t0|0\t0|0\t0|0\t0|0\t0|0\t0|0\t0|0\t0|0\t0|0\t0|0\t0|0\t0|0\t0|0\t0|0\t0|0\t0|0\t0|0\t0|0\t0|0\t0|0\t0|0\t0|0\t0|0\t0|0\t0|0\t0|0\t0|0\t0|0\t0|0\t0|0\t0|0\t0|0\t0|0\t0|0\t0|0\t0|0\t0|0\t0|0\t0|0\t0|0\t0|0\t0|0\t0|0\t0|0\t0|0\t0|0\t0|0\t0|0\t0|0\t0|0\t0|0\t0|0\t0|0\t0|0\t0|0\t0|0\t0|0\t0|0\t0|0\t0|0\t0|0\t0|0\t0|0\t0|0\t0|0\t0|0\t0|0\t0|0\t0|0\t0|0\t0|0\t0|0\t0|0\t0|0\t0|0\t0|0\t0|0\t0|0\t0|0\t0|0\t0|0\t0|0\t0|0\t0|0\t0|0\t0|0\t0|0\t0|0\t0|0\t0|0\t0|0\t0|0\t0|0\t0|0\t0|1\t0|0\t1|0\t0|0\t0|0\t0|0\t0|0\t0|1\t1|0\t0|0\t0|0\t0|0\t0|0\t0|0\t0|0\t0|0\t0|0\t0|1\t0|0\t0|0\t0|0\t0|0\t0|0\t0|0\t0|0\t0|0\t0|0\t0|0\t0|0\t0|0\t0|0\t0|0\t0|0\t0|0\t0|0\t0|0\t0|0\t0|0\t0|0\t0|0\t0|0\t0|0\t0|0\t0|0\t0|0\t0|0\t0|0\t0|0\t0|0\t0|0\t0|0\t0|0\t0|0\t0|0\t0|0\t0|0\t0|0\t0|0\t0|0\t0|0\t0|0\t0|0\t0|0\t0|0\t0|0\t0|0\t0|0\t0|0\t0|0\t0|0\t0|0\t0|0\t0|0\t0|0\t0|0\t0|0\t0|0\t0|0\t0|0\t0|0\t0|0\t0|0\t0|0\t0|0\t0|0\t0|0\t0|0\t0|0\t0|0\t0|1\t0|0\t1|0\t0|1\t1|0\t0|0\t0|0\t0|0\t0|0\t0|0\t0|0\t0|1\t0|0\t0|0\t0|0\t0|0\t0|1\t0|0\t0|0\t0|0\t0|0\t0|0\t0|0\t0|0\t0|0\t0|0\t0|0\t0|0\t0|0\t0|0\t0|0\t0|0\t0|0\t0|0\t0|0\t0|0\t0|0\t0|0\t0|0\t0|0\t0|0\t0|0\t0|0\t0|0\t0|0\t0|0\t0|0\t0|0\t0|0\t0|0\t0|0\t0|0\t0|0\t0|0\t0|0\t0|0\t0|1\t0|0\t0|0\t0|0\t0|0\t0|0\t0|0\t0|0\t0|0\t0|0\t0|0\t0|0\t0|0\t0|0\t0|0\t0|0\t0|1\t0|0\t0|0\t0|0\t0|0\t0|0\t0|0\t0|0\t0|0\t0|1\t0|0\t0|0\t0|1\t0|0\t0|0\t0|0\t0|0\t0|0\t0|0\t0|0\t0|0\t0|1\t0|0\t0|1\t0|0\t0|0\t0|0\t0|0\t0|0\t0|0\t0|0\t0|0\t0|0\t0|0\t0|0\t0|0\t0|0\t0|0\t1|0\t0|0\t0|0\t0|0\t0|0\t0|0\t0|0\t0|0\t0|0\t0|0\t0|0\t0|0\t0|0\t0|0\t0|0\t0|0\t0|0\t0|0\t0|0\t0|0\t1|0\t0|0\t0|0\t0|0\t0|0\t0|0\t0|0\t0|0\t1|0\t0|0\t1|0\t0|0\t0|0\t0|0\t0|0\t1|0\t1|0\t0|0\t0|0\t0|0\t0|0\t1|0\t0|0\t0|0\t0|0\t0|0\t0|0\t0|0\t0|0\t0|0\t0|0\t1|0\t0|0\t0|1\t0|1\t0|0\t0|0\t0|0\t0|0\t0|0\t0|0\t0|1\t0|0\t0|0\t0|0\t0|0\t1|0\t0|0\t0|0\t0|0\t0|0\t0|0\t1|0\t0|0\t0|0\t0|0\t0|0\t0|0\t0|0\t0|0\t0|0\t0|0\t0|0\t0|0\t0|0\t0|0\t0|0\t0|0\t0|1\t0|0\t0|0\t0|0\t0|0\t0|0\t0|0\t0|0\t0|0\t0|0\t0|0\t0|0\t0|0\t0|0\t0|0\t0|0\t0|0\t0|0\t0|0\t0|0\t0|1\t0|0\t0|0\t0|0\t0|0\t0|0\t0|0\t0|0\t0|0\t0|0\t0|0\t0|0\t0|0\t0|0\t0|0\t0|0\t0|0\t0|0\t0|0\t0|0\t0|0\t0|0\t0|0\t0|0\t0|0\t0|0\t0|0\t0|0\t0|0\t0|0\t0|0\t0|0\t0|0\t0|0\t0|0\t0|0\t0|0\t0|0\t0|0\t0|0\t0|0\t0|0\t1|0\t0|0\t0|0\t0|1\t0|0\t0|0\t0|0\t0|0\t0|0\t0|0\t0|0\t0|0\t0|0\t1|0\t0|0\t0|0\t1|0\t0|0\t1|0\t1|0\t0|0\t0|0\t0|0\t0|0\t0|0\t0|0\t0|0\t0|0\t0|0\t0|0\t0|0\t0|0\t0|0\t0|0\t0|0\t0|0\t0|0\t0|0\t0|0\t0|0\t0|0\t0|0\t0|0\t0|0\t0|0\t0|0\t0|0\t0|0\t0|0\t0|0\t0|0\t0|0\t0|0\t0|0\t0|1\t0|0\t0|0\t0|0\t0|0\t0|0\t0|0\t0|0\t0|0\t0|1\t0|0\t0|0\t0|1\t0|0\t0|0\t1|0\t0|0\t0|0\t0|0\t0|0\t0|0\t1|0\t0|0\t0|0\t0|0\t0|0\t0|0\t0|0\t0|0\t0|0\t0|0\t0|0\t0|0\t0|0\t0|0\t0|0\t1|0\t0|0\t1|0\t0|0\t0|0\t0|0\t0|0\t0|0\t0|0\t0|0\t0|0\t0|0\t1|0\t0|0\t0|0\t0|0\t0|0\t0|0\t0|0\t0|0\t0|0\t0|0\t0|0\t0|0\t1|0\t0|0\t0|0\t0|0\t0|0\t0|0\t0|0\t0|0\t0|1\t1|0\t0|0\t0|0\t0|0\t0|0\t0|0\t0|0\t0|1\t1|0\t0|0\t0|0\t0|0\t0|0\t0|0\t0|0\t0|1\t0|0\t0|0\t0|0\t0|0\t0|0\t0|0\t0|0\t0|0\t0|0\t0|0\t0|0\t0|0\t0|0\t0|0\t0|1\t0|0\t0|0\t0|0\t0|0\t0|0\t0|0\t0|0\t0|0\t0|0\t0|0\t0|0\t0|1\t0|0\t0|0\t0|0\t0|0\t0|1\t0|0\t0|0\t0|0\t0|0\t0|0\t0|0\t1|0\t0|0\t1|0\t0|0\t0|0\t0|0\t0|0\t1|0\t0|0\t0|0\t0|0\t0|0\t0|0\t0|0\t0|0\t0|1\t0|0\t0|0\t0|0\t0|0\t0|0\t0|0\t0|0\t0|0\t0|0\t0|0\t0|0\t0|0\t0|0\t0|0\t1|0\t1|0\t0|0\t0|0\t0|0\t1|0\t0|0\t0|0\t0|1\t0|0\t0|0\t0|0\t0|1\t0|0\t0|0\t0|0\t0|1\t0|0\t0|1\t0|0\t0|1\t0|0\t0|0\t0|1\t0|0\t0|0\t0|0\t0|0\t0|0\t0|0\t0|0\t0|0\t0|0\t0|0\t0|0\t0|0\t0|0\t0|0\t0|0\t0|0\t0|0\t0|0\t0|0\t0|0\t0|0\t0|1\t0|0\t1|0\t0|0\t0|0\t0|0\t0|0\t0|0\t0|1\t0|0\t0|0\t0|0\t1|0\t0|0\t0|0\t0|0\t0|0\t0|1\t1|0\t0|0\t0|0\t0|0\t0|0\t0|0\t0|0\t0|0\t0|0\r\n"
     ]
    }
   ],
   "execution_count": 10
  },
  {
   "metadata": {},
   "cell_type": "markdown",
   "source": [
    "## Read the exported MAF file\n",
    "\n",
    "Now we'll read the MAF file that was generated using `to_maf()` to demonstrate the full conversion cycle.\n"
   ],
   "id": "e514d796e2679b7a"
  },
  {
   "metadata": {
    "ExecuteTime": {
     "end_time": "2025-07-29T17:35:23.895527Z",
     "start_time": "2025-07-29T17:34:32.999519Z"
    }
   },
   "cell_type": "code",
   "source": [
    "print(\"📖 Reading the exported MAF file...\")\n",
    "\n",
    "try:\n",
    "    # Read the MAF file with assembly=38 (same as the original VCF)\n",
    "    maf_pymutation_obj = read_maf(maf_output_path, \"38\")\n",
    "    \n",
    "    print(\"✅ PyMutation object created successfully from MAF\")\n",
    "    print(f\"   DataFrame shape: {maf_pymutation_obj.data.shape}\")\n",
    "    print(f\"   Number of variants: {len(maf_pymutation_obj.data)}\")\n",
    "    print(f\"   Number of columns: {len(maf_pymutation_obj.data.columns)}\")\n",
    "    print(f\"   Number of samples: {len(maf_pymutation_obj.samples)}\")\n",
    "    \n",
    "except Exception as e:\n",
    "    print(f\"❌ Error reading the MAF file: {e}\")\n",
    "    import traceback\n",
    "    traceback.print_exc()\n"
   ],
   "id": "470645ad2eedfcde",
   "outputs": [
    {
     "name": "stderr",
     "output_type": "stream",
     "text": [
      "2025-07-29 19:34:33,001 | INFO | pyMut.input | Starting MAF reading: output/vcf_to_maf_output.maf\n"
     ]
    },
    {
     "name": "stdout",
     "output_type": "stream",
     "text": [
      "📖 Reading the exported MAF file...\n"
     ]
    },
    {
     "name": "stderr",
     "output_type": "stream",
     "text": [
      "2025-07-29 19:34:33,065 | INFO | pyMut.input | Reading MAF with 'pyarrow' engine…\n",
      "2025-07-29 19:34:34,467 | INFO | pyMut.input | Reading with 'pyarrow' completed.\n",
      "2025-07-29 19:34:34,654 | INFO | pyMut.input | Detected 2548 unique samples.\n",
      "2025-07-29 19:35:01,385 | INFO | pyMut.input | Saving to cache: output/.pymut_cache/vcf_to_maf_output_0bf45773a91c2ef0.parquet\n",
      "2025-07-29 19:35:22,108 | INFO | pyMut.input | MAF processed successfully: 188125 rows, 2609 columns in 49.11 seconds\n"
     ]
    },
    {
     "name": "stdout",
     "output_type": "stream",
     "text": [
      "✅ PyMutation object created successfully from MAF\n",
      "   DataFrame shape: (188125, 2609)\n",
      "   Number of variants: 188125\n",
      "   Number of columns: 2609\n",
      "   Number of samples: 2548\n"
     ]
    }
   ],
   "execution_count": 11
  },
  {
   "metadata": {},
   "cell_type": "markdown",
   "source": "## Show the first rows of the MAF-derived PyMutation object\n",
   "id": "9a6b2114646e276"
  },
  {
   "metadata": {
    "ExecuteTime": {
     "end_time": "2025-07-29T17:35:23.964516Z",
     "start_time": "2025-07-29T17:35:23.951792Z"
    }
   },
   "cell_type": "code",
   "source": [
    "print(\"🔍 First 3 rows of the MAF-derived PyMutation object:\")\n",
    "maf_pymutation_obj.head(3)\n"
   ],
   "id": "59eae523659a3445",
   "outputs": [
    {
     "name": "stdout",
     "output_type": "stream",
     "text": [
      "🔍 First 3 rows of the MAF-derived PyMutation object:\n"
     ]
    },
    {
     "data": {
      "text/plain": [
       "   CHROM    POS ID REF ALT QUAL FILTER HG00096 HG00097 HG00099  ...  \\\n",
       "0  chr10  11501  .   C   A    .   PASS     C|A     C|C     C|C  ...   \n",
       "1  chr10  36097  .   G   A    .   PASS     G|A     G|G     G|G  ...   \n",
       "2  chr10  47876  .   C   T    .   PASS     C|T     C|C     C|C  ...   \n",
       "\n",
       "          VEP_ENSP VEP_IMPACT VEP_SWISSPROT EAS_AF      DP VEP_Allele  \\\n",
       "0             <NA>   MODIFIER          <NA>    0.0   20462          A   \n",
       "1             <NA>   MODIFIER          <NA>   0.26   18607          A   \n",
       "2  ENSP00000456206        LOW    Q3ZCM7.157   0.22  513338          T   \n",
       "\n",
       "  VEP_DISTANCE    NS AMR_AF VEP_UNIPROT_ISOFORM  \n",
       "0         <NA>  2548   0.03                None  \n",
       "1         <NA>  2548   0.18                None  \n",
       "2         <NA>  2548   0.24                None  \n",
       "\n",
       "[3 rows x 2609 columns]"
      ],
      "text/html": [
       "<div>\n",
       "<style scoped>\n",
       "    .dataframe tbody tr th:only-of-type {\n",
       "        vertical-align: middle;\n",
       "    }\n",
       "\n",
       "    .dataframe tbody tr th {\n",
       "        vertical-align: top;\n",
       "    }\n",
       "\n",
       "    .dataframe thead th {\n",
       "        text-align: right;\n",
       "    }\n",
       "</style>\n",
       "<table border=\"1\" class=\"dataframe\">\n",
       "  <thead>\n",
       "    <tr style=\"text-align: right;\">\n",
       "      <th></th>\n",
       "      <th>CHROM</th>\n",
       "      <th>POS</th>\n",
       "      <th>ID</th>\n",
       "      <th>REF</th>\n",
       "      <th>ALT</th>\n",
       "      <th>QUAL</th>\n",
       "      <th>FILTER</th>\n",
       "      <th>HG00096</th>\n",
       "      <th>HG00097</th>\n",
       "      <th>HG00099</th>\n",
       "      <th>...</th>\n",
       "      <th>VEP_ENSP</th>\n",
       "      <th>VEP_IMPACT</th>\n",
       "      <th>VEP_SWISSPROT</th>\n",
       "      <th>EAS_AF</th>\n",
       "      <th>DP</th>\n",
       "      <th>VEP_Allele</th>\n",
       "      <th>VEP_DISTANCE</th>\n",
       "      <th>NS</th>\n",
       "      <th>AMR_AF</th>\n",
       "      <th>VEP_UNIPROT_ISOFORM</th>\n",
       "    </tr>\n",
       "  </thead>\n",
       "  <tbody>\n",
       "    <tr>\n",
       "      <th>0</th>\n",
       "      <td>chr10</td>\n",
       "      <td>11501</td>\n",
       "      <td>.</td>\n",
       "      <td>C</td>\n",
       "      <td>A</td>\n",
       "      <td>.</td>\n",
       "      <td>PASS</td>\n",
       "      <td>C|A</td>\n",
       "      <td>C|C</td>\n",
       "      <td>C|C</td>\n",
       "      <td>...</td>\n",
       "      <td>&lt;NA&gt;</td>\n",
       "      <td>MODIFIER</td>\n",
       "      <td>&lt;NA&gt;</td>\n",
       "      <td>0.0</td>\n",
       "      <td>20462</td>\n",
       "      <td>A</td>\n",
       "      <td>&lt;NA&gt;</td>\n",
       "      <td>2548</td>\n",
       "      <td>0.03</td>\n",
       "      <td>None</td>\n",
       "    </tr>\n",
       "    <tr>\n",
       "      <th>1</th>\n",
       "      <td>chr10</td>\n",
       "      <td>36097</td>\n",
       "      <td>.</td>\n",
       "      <td>G</td>\n",
       "      <td>A</td>\n",
       "      <td>.</td>\n",
       "      <td>PASS</td>\n",
       "      <td>G|A</td>\n",
       "      <td>G|G</td>\n",
       "      <td>G|G</td>\n",
       "      <td>...</td>\n",
       "      <td>&lt;NA&gt;</td>\n",
       "      <td>MODIFIER</td>\n",
       "      <td>&lt;NA&gt;</td>\n",
       "      <td>0.26</td>\n",
       "      <td>18607</td>\n",
       "      <td>A</td>\n",
       "      <td>&lt;NA&gt;</td>\n",
       "      <td>2548</td>\n",
       "      <td>0.18</td>\n",
       "      <td>None</td>\n",
       "    </tr>\n",
       "    <tr>\n",
       "      <th>2</th>\n",
       "      <td>chr10</td>\n",
       "      <td>47876</td>\n",
       "      <td>.</td>\n",
       "      <td>C</td>\n",
       "      <td>T</td>\n",
       "      <td>.</td>\n",
       "      <td>PASS</td>\n",
       "      <td>C|T</td>\n",
       "      <td>C|C</td>\n",
       "      <td>C|C</td>\n",
       "      <td>...</td>\n",
       "      <td>ENSP00000456206</td>\n",
       "      <td>LOW</td>\n",
       "      <td>Q3ZCM7.157</td>\n",
       "      <td>0.22</td>\n",
       "      <td>513338</td>\n",
       "      <td>T</td>\n",
       "      <td>&lt;NA&gt;</td>\n",
       "      <td>2548</td>\n",
       "      <td>0.24</td>\n",
       "      <td>None</td>\n",
       "    </tr>\n",
       "  </tbody>\n",
       "</table>\n",
       "<p>3 rows × 2609 columns</p>\n",
       "</div>"
      ]
     },
     "execution_count": 12,
     "metadata": {},
     "output_type": "execute_result"
    }
   ],
   "execution_count": 12
  },
  {
   "metadata": {},
   "cell_type": "markdown",
   "source": [
    "## Summary\n",
    "\n",
    "In this notebook, we demonstrated how to:\n",
    "1. Read a VCF file using `read_vcf` with assembly=38\n",
    "2. Export the PyMutation object to MAF format using `to_maf`\n",
    "3. Export the PyMutation object to VCF format using `to_vcf`\n",
    "4. Read the exported MAF file using `read_maf`\n",
    "\n",
    "These conversion capabilities allow for seamless interoperability between different mutation data formats."
   ],
   "id": "8c30a2dda3aedcdb"
  }
 ],
 "metadata": {},
 "nbformat": 4,
 "nbformat_minor": 5
}
