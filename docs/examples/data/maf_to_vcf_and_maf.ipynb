{
 "cells": [
  {
   "cell_type": "markdown",
   "id": "fd43ac4920fc6515",
   "metadata": {},
   "source": [
    "# MAF to VCF and MAF Conversion\n",
    "\n",
    "This notebook demonstrates how to:\n",
    "1. Read a MAF file using `read_maf` with assembly=37\n",
    "2. Export the PyMutation object to VCF format using `to_vcf`\n",
    "3. Export the PyMutation object to MAF format using `to_maf`\n"
   ]
  },
  {
   "metadata": {},
   "cell_type": "markdown",
   "source": "## Import the necessary functions\n",
   "id": "fcd3012c7f7cd053"
  },
  {
   "metadata": {
    "ExecuteTime": {
     "end_time": "2025-07-31T23:51:46.777424Z",
     "start_time": "2025-07-31T23:51:46.145194Z"
    }
   },
   "cell_type": "code",
   "source": [
    "import os\n",
    "from pyMut import read_maf\n",
    "\n",
    "print(\"✅ Functions imported correctly\")\n"
   ],
   "id": "c59748a16145c5b4",
   "outputs": [
    {
     "name": "stdout",
     "output_type": "stream",
     "text": [
      "✅ Functions imported correctly\n"
     ]
    }
   ],
   "execution_count": 1
  },
  {
   "cell_type": "markdown",
   "id": "8eb4f957a05c97a3",
   "metadata": {},
   "source": "## Define the path to the MAF file\n"
  },
  {
   "cell_type": "code",
   "id": "a06cf21a276e091d",
   "metadata": {
    "ExecuteTime": {
     "end_time": "2025-07-31T23:51:46.866252Z",
     "start_time": "2025-07-31T23:51:46.863380Z"
    }
   },
   "source": [
    "# Path to the MAF file\n",
    "maf_path = \"../../../src/pyMut/data/examples/MAF/tcga_laml.maf.gz\"\n",
    "\n",
    "print(\"📁 File to process:\")\n",
    "print(f\"  - MAF file: {maf_path}\")\n",
    "\n",
    "# Verify that the file exists\n",
    "if os.path.exists(maf_path):\n",
    "    print(\"✅ File found\")\n",
    "else:\n",
    "    print(\"❌ File not found\")\n"
   ],
   "outputs": [
    {
     "name": "stdout",
     "output_type": "stream",
     "text": [
      "📁 File to process:\n",
      "  - MAF file: ../../../src/pyMut/data/examples/MAF/tcga_laml.maf.gz\n",
      "✅ File found\n"
     ]
    }
   ],
   "execution_count": 2
  },
  {
   "cell_type": "markdown",
   "id": "5d39b0a05086e96c",
   "metadata": {},
   "source": "## Read the MAF file with assembly=37\n"
  },
  {
   "cell_type": "code",
   "id": "b16f32bf8a160958",
   "metadata": {
    "ExecuteTime": {
     "end_time": "2025-07-31T23:51:46.913357Z",
     "start_time": "2025-07-31T23:51:46.879438Z"
    }
   },
   "source": [
    "print(\"📖 Reading MAF file...\")\n",
    "\n",
    "try:\n",
    "    # Read the MAF file with assembly=37\n",
    "    pymutation_obj = read_maf(maf_path, \"37\")\n",
    "    \n",
    "    print(\"✅ PyMutation object created successfully\")\n",
    "    print(f\"   DataFrame shape: {pymutation_obj.data.shape}\")\n",
    "    print(f\"   Number of variants: {len(pymutation_obj.data)}\")\n",
    "    print(f\"   Number of columns: {len(pymutation_obj.data.columns)}\")\n",
    "    print(f\"   Number of samples: {len(pymutation_obj.samples)}\")\n",
    "    \n",
    "except Exception as e:\n",
    "    print(f\"❌ Error reading the file: {e}\")\n",
    "    import traceback\n",
    "    traceback.print_exc()\n"
   ],
   "outputs": [
    {
     "name": "stderr",
     "output_type": "stream",
     "text": [
      "2025-08-01 01:51:46,880 | INFO | pyMut.input | Starting MAF reading: ../../../src/pyMut/data/examples/MAF/tcga_laml.maf.gz\n",
      "2025-08-01 01:51:46,881 | INFO | pyMut.input | Loading from cache: ../../../src/pyMut/data/examples/MAF/.pymut_cache/tcga_laml.maf_8bfbda65c4b23428.parquet\n",
      "2025-08-01 01:51:46,910 | INFO | pyMut.input | Cache loaded successfully in 0.03 seconds\n"
     ]
    },
    {
     "name": "stdout",
     "output_type": "stream",
     "text": [
      "📖 Reading MAF file...\n",
      "✅ PyMutation object created successfully\n",
      "   DataFrame shape: (2091, 216)\n",
      "   Number of variants: 2091\n",
      "   Number of columns: 216\n",
      "   Number of samples: 193\n"
     ]
    }
   ],
   "execution_count": 3
  },
  {
   "cell_type": "markdown",
   "id": "984cf412e66f4309",
   "metadata": {},
   "source": "## Show the first rows of the DataFrame\n"
  },
  {
   "cell_type": "code",
   "id": "6403827664c1e3dc",
   "metadata": {
    "ExecuteTime": {
     "end_time": "2025-07-31T23:51:46.959333Z",
     "start_time": "2025-07-31T23:51:46.941860Z"
    }
   },
   "source": [
    "print(\"🔍 First 3 rows of the DataFrame:\")\n",
    "pymutation_obj.head(3)\n"
   ],
   "outputs": [
    {
     "name": "stdout",
     "output_type": "stream",
     "text": [
      "🔍 First 3 rows of the DataFrame:\n"
     ]
    },
    {
     "data": {
      "text/plain": [
       "  CHROM        POS ID REF ALT QUAL FILTER TCGA-AB-2988 TCGA-AB-2869  \\\n",
       "0  chr9  100077177  .   T   C    .      .          T|T          T|T   \n",
       "1  chr9  100085148  .   G   A    .      .          G|G          G|G   \n",
       "2  chr9  100971322  .   A   C    .      .          A|A          A|A   \n",
       "\n",
       "  TCGA-AB-3009  ... Strand Variant_Classification Variant_Type  \\\n",
       "0          T|T  ...      +                 SILENT          SNP   \n",
       "1          G|G  ...      +      MISSENSE_MUTATION          SNP   \n",
       "2          A|A  ...      +      MISSENSE_MUTATION          SNP   \n",
       "\n",
       "  Reference_Allele Tumor_Seq_Allele1 Tumor_Seq_Allele2 Tumor_Sample_Barcode  \\\n",
       "0                T                 T                 C         TCGA-AB-2886   \n",
       "1                G                 G                 A         TCGA-AB-2917   \n",
       "2                A                 A                 C         TCGA-AB-2841   \n",
       "\n",
       "  Protein_Change i_TumorVAF_WU i_transcript_name  \n",
       "0        p.T431T          9.76       NM_020893.1  \n",
       "1        p.R581H          18.4       NM_020893.1  \n",
       "2        p.L593R         45.83       NM_018421.3  \n",
       "\n",
       "[3 rows x 216 columns]"
      ],
      "text/html": [
       "<div>\n",
       "<style scoped>\n",
       "    .dataframe tbody tr th:only-of-type {\n",
       "        vertical-align: middle;\n",
       "    }\n",
       "\n",
       "    .dataframe tbody tr th {\n",
       "        vertical-align: top;\n",
       "    }\n",
       "\n",
       "    .dataframe thead th {\n",
       "        text-align: right;\n",
       "    }\n",
       "</style>\n",
       "<table border=\"1\" class=\"dataframe\">\n",
       "  <thead>\n",
       "    <tr style=\"text-align: right;\">\n",
       "      <th></th>\n",
       "      <th>CHROM</th>\n",
       "      <th>POS</th>\n",
       "      <th>ID</th>\n",
       "      <th>REF</th>\n",
       "      <th>ALT</th>\n",
       "      <th>QUAL</th>\n",
       "      <th>FILTER</th>\n",
       "      <th>TCGA-AB-2988</th>\n",
       "      <th>TCGA-AB-2869</th>\n",
       "      <th>TCGA-AB-3009</th>\n",
       "      <th>...</th>\n",
       "      <th>Strand</th>\n",
       "      <th>Variant_Classification</th>\n",
       "      <th>Variant_Type</th>\n",
       "      <th>Reference_Allele</th>\n",
       "      <th>Tumor_Seq_Allele1</th>\n",
       "      <th>Tumor_Seq_Allele2</th>\n",
       "      <th>Tumor_Sample_Barcode</th>\n",
       "      <th>Protein_Change</th>\n",
       "      <th>i_TumorVAF_WU</th>\n",
       "      <th>i_transcript_name</th>\n",
       "    </tr>\n",
       "  </thead>\n",
       "  <tbody>\n",
       "    <tr>\n",
       "      <th>0</th>\n",
       "      <td>chr9</td>\n",
       "      <td>100077177</td>\n",
       "      <td>.</td>\n",
       "      <td>T</td>\n",
       "      <td>C</td>\n",
       "      <td>.</td>\n",
       "      <td>.</td>\n",
       "      <td>T|T</td>\n",
       "      <td>T|T</td>\n",
       "      <td>T|T</td>\n",
       "      <td>...</td>\n",
       "      <td>+</td>\n",
       "      <td>SILENT</td>\n",
       "      <td>SNP</td>\n",
       "      <td>T</td>\n",
       "      <td>T</td>\n",
       "      <td>C</td>\n",
       "      <td>TCGA-AB-2886</td>\n",
       "      <td>p.T431T</td>\n",
       "      <td>9.76</td>\n",
       "      <td>NM_020893.1</td>\n",
       "    </tr>\n",
       "    <tr>\n",
       "      <th>1</th>\n",
       "      <td>chr9</td>\n",
       "      <td>100085148</td>\n",
       "      <td>.</td>\n",
       "      <td>G</td>\n",
       "      <td>A</td>\n",
       "      <td>.</td>\n",
       "      <td>.</td>\n",
       "      <td>G|G</td>\n",
       "      <td>G|G</td>\n",
       "      <td>G|G</td>\n",
       "      <td>...</td>\n",
       "      <td>+</td>\n",
       "      <td>MISSENSE_MUTATION</td>\n",
       "      <td>SNP</td>\n",
       "      <td>G</td>\n",
       "      <td>G</td>\n",
       "      <td>A</td>\n",
       "      <td>TCGA-AB-2917</td>\n",
       "      <td>p.R581H</td>\n",
       "      <td>18.4</td>\n",
       "      <td>NM_020893.1</td>\n",
       "    </tr>\n",
       "    <tr>\n",
       "      <th>2</th>\n",
       "      <td>chr9</td>\n",
       "      <td>100971322</td>\n",
       "      <td>.</td>\n",
       "      <td>A</td>\n",
       "      <td>C</td>\n",
       "      <td>.</td>\n",
       "      <td>.</td>\n",
       "      <td>A|A</td>\n",
       "      <td>A|A</td>\n",
       "      <td>A|A</td>\n",
       "      <td>...</td>\n",
       "      <td>+</td>\n",
       "      <td>MISSENSE_MUTATION</td>\n",
       "      <td>SNP</td>\n",
       "      <td>A</td>\n",
       "      <td>A</td>\n",
       "      <td>C</td>\n",
       "      <td>TCGA-AB-2841</td>\n",
       "      <td>p.L593R</td>\n",
       "      <td>45.83</td>\n",
       "      <td>NM_018421.3</td>\n",
       "    </tr>\n",
       "  </tbody>\n",
       "</table>\n",
       "<p>3 rows × 216 columns</p>\n",
       "</div>"
      ]
     },
     "execution_count": 4,
     "metadata": {},
     "output_type": "execute_result"
    }
   ],
   "execution_count": 4
  },
  {
   "cell_type": "markdown",
   "id": "5a4489f6b199383e",
   "metadata": {},
   "source": "## Define output paths for VCF and MAF exports\n"
  },
  {
   "cell_type": "code",
   "id": "9340214ea0c57a6a",
   "metadata": {
    "ExecuteTime": {
     "end_time": "2025-07-31T23:51:47.041973Z",
     "start_time": "2025-07-31T23:51:47.039550Z"
    }
   },
   "source": [
    "# Create output directory if it doesn't exist\n",
    "output_dir = \"./output\"\n",
    "os.makedirs(output_dir, exist_ok=True)\n",
    "\n",
    "# Define output paths\n",
    "vcf_output_path = os.path.join(output_dir, \"maf_to_vcf_output.vcf\")\n",
    "maf_output_path = os.path.join(output_dir, \"maf_to_maf_output.maf\")\n",
    "\n",
    "print(\"📁 Output files will be saved to:\")\n",
    "print(f\"  - VCF output: {vcf_output_path}\")\n",
    "print(f\"  - MAF output: {maf_output_path}\")\n"
   ],
   "outputs": [
    {
     "name": "stdout",
     "output_type": "stream",
     "text": [
      "📁 Output files will be saved to:\n",
      "  - VCF output: ./output/maf_to_vcf_output.vcf\n",
      "  - MAF output: ./output/maf_to_maf_output.maf\n"
     ]
    }
   ],
   "execution_count": 5
  },
  {
   "cell_type": "markdown",
   "id": "a1c39d05369e7432",
   "metadata": {},
   "source": "## Export to VCF format\n"
  },
  {
   "cell_type": "code",
   "id": "462b333d33dbd2e1",
   "metadata": {
    "ExecuteTime": {
     "end_time": "2025-07-31T23:51:51.025617Z",
     "start_time": "2025-07-31T23:51:47.146278Z"
    }
   },
   "source": [
    "print(\"📝 Exporting to VCF format...\")\n",
    "\n",
    "try:\n",
    "    # Export to VCF format\n",
    "    pymutation_obj.to_vcf(vcf_output_path)\n",
    "    \n",
    "    # Check if the file was created\n",
    "    if os.path.exists(vcf_output_path):\n",
    "        print(f\"✅ VCF file created successfully: {vcf_output_path}\")\n",
    "        print(f\"   File size: {os.path.getsize(vcf_output_path) / (1024 * 1024):.2f} MB\")\n",
    "    else:\n",
    "        print(\"❌ VCF file was not created\")\n",
    "        \n",
    "except Exception as e:\n",
    "    print(f\"❌ Error exporting to VCF: {e}\")\n",
    "    import traceback\n",
    "    traceback.print_exc()\n"
   ],
   "outputs": [
    {
     "name": "stderr",
     "output_type": "stream",
     "text": [
      "2025-08-01 01:51:47,147 | INFO | pyMut.output | Starting VCF export to: output/maf_to_vcf_output.vcf\n",
      "2025-08-01 01:51:47,150 | INFO | pyMut.output | Starting to process 2091 variants from 193 samples\n"
     ]
    },
    {
     "name": "stdout",
     "output_type": "stream",
     "text": [
      "📝 Exporting to VCF format...\n"
     ]
    },
    {
     "name": "stderr",
     "output_type": "stream",
     "text": [
      "2025-08-01 01:51:47,263 | INFO | pyMut.output | Processing genotype data to replace bases with indices\n",
      "2025-08-01 01:51:50,943 | INFO | pyMut.output | Writing 2091 variants to file\n",
      "2025-08-01 01:51:51,008 | INFO | pyMut.output | Progress: 2091/2091 variants written (100.0%)\n",
      "2025-08-01 01:51:51,011 | INFO | pyMut.output | VCF export completed successfully: 2091 variants processed and written to output/maf_to_vcf_output.vcf\n",
      "2025-08-01 01:51:51,012 | INFO | pyMut.output | Conversion summary: 193 samples, 2091 input variants, 2091 output variants\n"
     ]
    },
    {
     "name": "stdout",
     "output_type": "stream",
     "text": [
      "✅ VCF file created successfully: ./output/maf_to_vcf_output.vcf\n",
      "   File size: 1.84 MB\n"
     ]
    }
   ],
   "execution_count": 6
  },
  {
   "cell_type": "markdown",
   "id": "6ab6a27bf03c7a6f",
   "metadata": {},
   "source": "## Export to MAF format\n"
  },
  {
   "cell_type": "code",
   "id": "5680eef196ac41d9",
   "metadata": {
    "ExecuteTime": {
     "end_time": "2025-07-31T23:51:53.263074Z",
     "start_time": "2025-07-31T23:51:51.036595Z"
    }
   },
   "source": [
    "print(\"📝 Exporting to MAF format...\")\n",
    "\n",
    "try:\n",
    "    # Export to MAF format\n",
    "    pymutation_obj.to_maf(maf_output_path)\n",
    "    \n",
    "    # Check if the file was created\n",
    "    if os.path.exists(maf_output_path):\n",
    "        print(f\"✅ MAF file created successfully: {maf_output_path}\")\n",
    "        print(f\"   File size: {os.path.getsize(maf_output_path) / (1024 * 1024):.2f} MB\")\n",
    "    else:\n",
    "        print(\"❌ MAF file was not created\")\n",
    "        \n",
    "except Exception as e:\n",
    "    print(f\"❌ Error exporting to MAF: {e}\")\n",
    "    import traceback\n",
    "    traceback.print_exc()\n"
   ],
   "outputs": [
    {
     "name": "stderr",
     "output_type": "stream",
     "text": [
      "2025-08-01 01:51:51,038 | INFO | pyMut.output | Starting MAF export to: output/maf_to_maf_output.maf\n",
      "2025-08-01 01:51:51,039 | INFO | pyMut.output | Starting to process 2091 variants from 193 samples\n",
      "2025-08-01 01:51:51,043 | INFO | pyMut.output | Processing sample 1/193: TCGA-AB-2988 (0.5%)\n",
      "2025-08-01 01:51:51,056 | INFO | pyMut.output | Sample TCGA-AB-2988: 15 variants found\n",
      "2025-08-01 01:51:51,085 | INFO | pyMut.output | Processing sample 3/193: TCGA-AB-3009 (1.6%)\n",
      "2025-08-01 01:51:51,098 | INFO | pyMut.output | Sample TCGA-AB-3009: 42 variants found\n",
      "2025-08-01 01:51:51,132 | INFO | pyMut.output | Processing sample 6/193: TCGA-AB-2920 (3.1%)\n",
      "2025-08-01 01:51:51,144 | INFO | pyMut.output | Sample TCGA-AB-2920: 11 variants found\n",
      "2025-08-01 01:51:51,180 | INFO | pyMut.output | Processing sample 9/193: TCGA-AB-2999 (4.7%)\n",
      "2025-08-01 01:51:51,191 | INFO | pyMut.output | Sample TCGA-AB-2999: 11 variants found\n",
      "2025-08-01 01:51:51,224 | INFO | pyMut.output | Processing sample 12/193: TCGA-AB-2923 (6.2%)\n"
     ]
    },
    {
     "name": "stdout",
     "output_type": "stream",
     "text": [
      "📝 Exporting to MAF format...\n"
     ]
    },
    {
     "name": "stderr",
     "output_type": "stream",
     "text": [
      "2025-08-01 01:51:51,235 | INFO | pyMut.output | Sample TCGA-AB-2923: 23 variants found\n",
      "2025-08-01 01:51:51,269 | INFO | pyMut.output | Processing sample 15/193: TCGA-AB-2931 (7.8%)\n",
      "2025-08-01 01:51:51,280 | INFO | pyMut.output | Sample TCGA-AB-2931: 11 variants found\n",
      "2025-08-01 01:51:51,312 | INFO | pyMut.output | Processing sample 18/193: TCGA-AB-2906 (9.3%)\n",
      "2025-08-01 01:51:51,322 | INFO | pyMut.output | Sample TCGA-AB-2906: 15 variants found\n",
      "2025-08-01 01:51:51,354 | INFO | pyMut.output | Processing sample 21/193: TCGA-AB-2945 (10.9%)\n",
      "2025-08-01 01:51:51,363 | INFO | pyMut.output | Sample TCGA-AB-2945: 13 variants found\n",
      "2025-08-01 01:51:51,396 | INFO | pyMut.output | Processing sample 24/193: TCGA-AB-2952 (12.4%)\n",
      "2025-08-01 01:51:51,407 | INFO | pyMut.output | Sample TCGA-AB-2952: 15 variants found\n",
      "2025-08-01 01:51:51,439 | INFO | pyMut.output | Processing sample 27/193: TCGA-AB-2862 (14.0%)\n",
      "2025-08-01 01:51:51,451 | INFO | pyMut.output | Sample TCGA-AB-2862: 11 variants found\n",
      "2025-08-01 01:51:51,485 | INFO | pyMut.output | Processing sample 30/193: TCGA-AB-2911 (15.5%)\n",
      "2025-08-01 01:51:51,496 | INFO | pyMut.output | Sample TCGA-AB-2911: 2 variants found\n",
      "2025-08-01 01:51:51,528 | INFO | pyMut.output | Processing sample 33/193: TCGA-AB-2910 (17.1%)\n",
      "2025-08-01 01:51:51,539 | INFO | pyMut.output | Sample TCGA-AB-2910: 12 variants found\n",
      "2025-08-01 01:51:51,572 | INFO | pyMut.output | Processing sample 36/193: TCGA-AB-2822 (18.7%)\n",
      "2025-08-01 01:51:51,583 | INFO | pyMut.output | Sample TCGA-AB-2822: 22 variants found\n",
      "2025-08-01 01:51:51,618 | INFO | pyMut.output | Processing sample 39/193: TCGA-AB-2807 (20.2%)\n",
      "2025-08-01 01:51:51,629 | INFO | pyMut.output | Sample TCGA-AB-2807: 29 variants found\n",
      "2025-08-01 01:51:51,662 | INFO | pyMut.output | Processing sample 42/193: TCGA-AB-2897 (21.8%)\n",
      "2025-08-01 01:51:51,673 | INFO | pyMut.output | Sample TCGA-AB-2897: 7 variants found\n",
      "2025-08-01 01:51:51,708 | INFO | pyMut.output | Processing sample 45/193: TCGA-AB-2929 (23.3%)\n",
      "2025-08-01 01:51:51,719 | INFO | pyMut.output | Sample TCGA-AB-2929: 16 variants found\n",
      "2025-08-01 01:51:51,752 | INFO | pyMut.output | Processing sample 48/193: TCGA-AB-2935 (24.9%)\n",
      "2025-08-01 01:51:51,763 | INFO | pyMut.output | Sample TCGA-AB-2935: 10 variants found\n",
      "2025-08-01 01:51:51,799 | INFO | pyMut.output | Processing sample 51/193: TCGA-AB-2889 (26.4%)\n",
      "2025-08-01 01:51:51,811 | INFO | pyMut.output | Sample TCGA-AB-2889: 5 variants found\n",
      "2025-08-01 01:51:51,848 | INFO | pyMut.output | Processing sample 54/193: TCGA-AB-2990 (28.0%)\n",
      "2025-08-01 01:51:51,859 | INFO | pyMut.output | Sample TCGA-AB-2990: 9 variants found\n",
      "2025-08-01 01:51:51,892 | INFO | pyMut.output | Processing sample 57/193: TCGA-AB-2864 (29.5%)\n",
      "2025-08-01 01:51:51,902 | INFO | pyMut.output | Sample TCGA-AB-2864: 16 variants found\n",
      "2025-08-01 01:51:51,929 | INFO | pyMut.output | Processing sample 60/193: TCGA-AB-2903 (31.1%)\n",
      "2025-08-01 01:51:51,934 | INFO | pyMut.output | Sample TCGA-AB-2903: 1 variants found\n",
      "2025-08-01 01:51:51,960 | INFO | pyMut.output | Processing sample 63/193: TCGA-AB-2959 (32.6%)\n",
      "2025-08-01 01:51:51,967 | INFO | pyMut.output | Sample TCGA-AB-2959: 27 variants found\n",
      "2025-08-01 01:51:51,988 | INFO | pyMut.output | Processing sample 66/193: TCGA-AB-2888 (34.2%)\n",
      "2025-08-01 01:51:51,993 | INFO | pyMut.output | Sample TCGA-AB-2888: 9 variants found\n",
      "2025-08-01 01:51:52,013 | INFO | pyMut.output | Processing sample 69/193: TCGA-AB-3002 (35.8%)\n",
      "2025-08-01 01:51:52,019 | INFO | pyMut.output | Sample TCGA-AB-3002: 27 variants found\n",
      "2025-08-01 01:51:52,042 | INFO | pyMut.output | Processing sample 72/193: TCGA-AB-2991 (37.3%)\n",
      "2025-08-01 01:51:52,048 | INFO | pyMut.output | Sample TCGA-AB-2991: 8 variants found\n",
      "2025-08-01 01:51:52,143 | INFO | pyMut.output | Processing sample 75/193: TCGA-AB-2874 (38.9%)\n",
      "2025-08-01 01:51:52,150 | INFO | pyMut.output | Sample TCGA-AB-2874: 15 variants found\n",
      "2025-08-01 01:51:52,171 | INFO | pyMut.output | Processing sample 78/193: TCGA-AB-2821 (40.4%)\n",
      "2025-08-01 01:51:52,176 | INFO | pyMut.output | Sample TCGA-AB-2821: 15 variants found\n",
      "2025-08-01 01:51:52,195 | INFO | pyMut.output | Processing sample 81/193: TCGA-AB-2814 (42.0%)\n",
      "2025-08-01 01:51:52,200 | INFO | pyMut.output | Sample TCGA-AB-2814: 10 variants found\n",
      "2025-08-01 01:51:52,221 | INFO | pyMut.output | Processing sample 84/193: TCGA-AB-2978 (43.5%)\n",
      "2025-08-01 01:51:52,226 | INFO | pyMut.output | Sample TCGA-AB-2978: 18 variants found\n",
      "2025-08-01 01:51:52,246 | INFO | pyMut.output | Processing sample 87/193: TCGA-AB-3006 (45.1%)\n",
      "2025-08-01 01:51:52,253 | INFO | pyMut.output | Sample TCGA-AB-3006: 19 variants found\n",
      "2025-08-01 01:51:52,274 | INFO | pyMut.output | Processing sample 90/193: TCGA-AB-2857 (46.6%)\n",
      "2025-08-01 01:51:52,279 | INFO | pyMut.output | Sample TCGA-AB-2857: 14 variants found\n",
      "2025-08-01 01:51:52,299 | INFO | pyMut.output | Processing sample 93/193: TCGA-AB-2813 (48.2%)\n",
      "2025-08-01 01:51:52,304 | INFO | pyMut.output | Sample TCGA-AB-2813: 16 variants found\n",
      "2025-08-01 01:51:52,323 | INFO | pyMut.output | Processing sample 96/193: TCGA-AB-2970 (49.7%)\n",
      "2025-08-01 01:51:52,329 | INFO | pyMut.output | Sample TCGA-AB-2970: 8 variants found\n",
      "2025-08-01 01:51:52,351 | INFO | pyMut.output | Processing sample 99/193: TCGA-AB-2971 (51.3%)\n",
      "2025-08-01 01:51:52,356 | INFO | pyMut.output | Sample TCGA-AB-2971: 11 variants found\n",
      "2025-08-01 01:51:52,376 | INFO | pyMut.output | Processing sample 102/193: TCGA-AB-2985 (52.8%)\n",
      "2025-08-01 01:51:52,383 | INFO | pyMut.output | Sample TCGA-AB-2985: 5 variants found\n",
      "2025-08-01 01:51:52,404 | INFO | pyMut.output | Processing sample 105/193: TCGA-AB-2851 (54.4%)\n",
      "2025-08-01 01:51:52,409 | INFO | pyMut.output | Sample TCGA-AB-2851: 7 variants found\n",
      "2025-08-01 01:51:52,428 | INFO | pyMut.output | Processing sample 108/193: TCGA-AB-2858 (56.0%)\n",
      "2025-08-01 01:51:52,434 | INFO | pyMut.output | Sample TCGA-AB-2858: 13 variants found\n",
      "2025-08-01 01:51:52,453 | INFO | pyMut.output | Processing sample 111/193: TCGA-AB-2868 (57.5%)\n",
      "2025-08-01 01:51:52,458 | INFO | pyMut.output | Sample TCGA-AB-2868: 13 variants found\n",
      "2025-08-01 01:51:52,478 | INFO | pyMut.output | Processing sample 114/193: TCGA-AB-2937 (59.1%)\n",
      "2025-08-01 01:51:52,484 | INFO | pyMut.output | Sample TCGA-AB-2937: 12 variants found\n",
      "2025-08-01 01:51:52,503 | INFO | pyMut.output | Processing sample 117/193: TCGA-AB-2881 (60.6%)\n",
      "2025-08-01 01:51:52,510 | INFO | pyMut.output | Sample TCGA-AB-2881: 9 variants found\n",
      "2025-08-01 01:51:52,531 | INFO | pyMut.output | Processing sample 120/193: TCGA-AB-2803 (62.2%)\n",
      "2025-08-01 01:51:52,536 | INFO | pyMut.output | Sample TCGA-AB-2803: 15 variants found\n",
      "2025-08-01 01:51:52,556 | INFO | pyMut.output | Processing sample 123/193: TCGA-AB-2806 (63.7%)\n",
      "2025-08-01 01:51:52,561 | INFO | pyMut.output | Sample TCGA-AB-2806: 17 variants found\n",
      "2025-08-01 01:51:52,580 | INFO | pyMut.output | Processing sample 126/193: TCGA-AB-2810 (65.3%)\n",
      "2025-08-01 01:51:52,587 | INFO | pyMut.output | Sample TCGA-AB-2810: 14 variants found\n",
      "2025-08-01 01:51:52,607 | INFO | pyMut.output | Processing sample 129/193: TCGA-AB-2849 (66.8%)\n",
      "2025-08-01 01:51:52,612 | INFO | pyMut.output | Sample TCGA-AB-2849: 26 variants found\n",
      "2025-08-01 01:51:52,632 | INFO | pyMut.output | Processing sample 132/193: TCGA-AB-2928 (68.4%)\n",
      "2025-08-01 01:51:52,638 | INFO | pyMut.output | Sample TCGA-AB-2928: 10 variants found\n",
      "2025-08-01 01:51:52,659 | INFO | pyMut.output | Processing sample 135/193: TCGA-AB-2843 (69.9%)\n",
      "2025-08-01 01:51:52,664 | INFO | pyMut.output | Sample TCGA-AB-2843: 12 variants found\n",
      "2025-08-01 01:51:52,685 | INFO | pyMut.output | Processing sample 138/193: TCGA-AB-2940 (71.5%)\n",
      "2025-08-01 01:51:52,691 | INFO | pyMut.output | Sample TCGA-AB-2940: 4 variants found\n",
      "2025-08-01 01:51:52,710 | INFO | pyMut.output | Processing sample 141/193: TCGA-AB-3007 (73.1%)\n",
      "2025-08-01 01:51:52,716 | INFO | pyMut.output | Sample TCGA-AB-3007: 8 variants found\n",
      "2025-08-01 01:51:52,736 | INFO | pyMut.output | Processing sample 144/193: TCGA-AB-2983 (74.6%)\n",
      "2025-08-01 01:51:52,741 | INFO | pyMut.output | Sample TCGA-AB-2983: 14 variants found\n",
      "2025-08-01 01:51:52,762 | INFO | pyMut.output | Processing sample 147/193: TCGA-AB-2829 (76.2%)\n",
      "2025-08-01 01:51:52,768 | INFO | pyMut.output | Sample TCGA-AB-2829: 10 variants found\n",
      "2025-08-01 01:51:52,788 | INFO | pyMut.output | Processing sample 150/193: TCGA-AB-2946 (77.7%)\n",
      "2025-08-01 01:51:52,794 | INFO | pyMut.output | Sample TCGA-AB-2946: 3 variants found\n",
      "2025-08-01 01:51:52,814 | INFO | pyMut.output | Processing sample 153/193: TCGA-AB-2809 (79.3%)\n",
      "2025-08-01 01:51:52,819 | INFO | pyMut.output | Sample TCGA-AB-2809: 4 variants found\n",
      "2025-08-01 01:51:52,838 | INFO | pyMut.output | Processing sample 156/193: TCGA-AB-2873 (80.8%)\n",
      "2025-08-01 01:51:52,843 | INFO | pyMut.output | Sample TCGA-AB-2873: 2 variants found\n",
      "2025-08-01 01:51:52,862 | INFO | pyMut.output | Processing sample 159/193: TCGA-AB-2919 (82.4%)\n",
      "2025-08-01 01:51:52,867 | INFO | pyMut.output | Sample TCGA-AB-2919: 11 variants found\n",
      "2025-08-01 01:51:52,888 | INFO | pyMut.output | Processing sample 162/193: TCGA-AB-2967 (83.9%)\n",
      "2025-08-01 01:51:52,893 | INFO | pyMut.output | Sample TCGA-AB-2967: 11 variants found\n",
      "2025-08-01 01:51:52,913 | INFO | pyMut.output | Processing sample 165/193: TCGA-AB-2981 (85.5%)\n",
      "2025-08-01 01:51:52,918 | INFO | pyMut.output | Sample TCGA-AB-2981: 6 variants found\n",
      "2025-08-01 01:51:52,939 | INFO | pyMut.output | Processing sample 168/193: TCGA-AB-2877 (87.0%)\n",
      "2025-08-01 01:51:52,946 | INFO | pyMut.output | Sample TCGA-AB-2877: 20 variants found\n",
      "2025-08-01 01:51:52,967 | INFO | pyMut.output | Processing sample 171/193: TCGA-AB-2998 (88.6%)\n",
      "2025-08-01 01:51:52,971 | INFO | pyMut.output | Sample TCGA-AB-2998: 10 variants found\n",
      "2025-08-01 01:51:52,991 | INFO | pyMut.output | Processing sample 174/193: TCGA-AB-2982 (90.2%)\n",
      "2025-08-01 01:51:52,997 | INFO | pyMut.output | Sample TCGA-AB-2982: 2 variants found\n",
      "2025-08-01 01:51:53,016 | INFO | pyMut.output | Processing sample 177/193: TCGA-AB-2840 (91.7%)\n",
      "2025-08-01 01:51:53,023 | INFO | pyMut.output | Sample TCGA-AB-2840: 1 variants found\n",
      "2025-08-01 01:51:53,044 | INFO | pyMut.output | Processing sample 180/193: TCGA-AB-2942 (93.3%)\n",
      "2025-08-01 01:51:53,050 | INFO | pyMut.output | Sample TCGA-AB-2942: 1 variants found\n",
      "2025-08-01 01:51:53,072 | INFO | pyMut.output | Processing sample 183/193: TCGA-AB-2826 (94.8%)\n",
      "2025-08-01 01:51:53,077 | INFO | pyMut.output | Sample TCGA-AB-2826: 4 variants found\n",
      "2025-08-01 01:51:53,099 | INFO | pyMut.output | Processing sample 186/193: TCGA-AB-2948 (96.4%)\n",
      "2025-08-01 01:51:53,105 | INFO | pyMut.output | Sample TCGA-AB-2948: 2 variants found\n",
      "2025-08-01 01:51:53,125 | INFO | pyMut.output | Processing sample 189/193: TCGA-AB-2941 (97.9%)\n",
      "2025-08-01 01:51:53,131 | INFO | pyMut.output | Sample TCGA-AB-2941: 5 variants found\n",
      "2025-08-01 01:51:53,152 | INFO | pyMut.output | Processing sample 192/193: TCGA-AB-2855 (99.5%)\n",
      "2025-08-01 01:51:53,158 | INFO | pyMut.output | Sample TCGA-AB-2855: 4 variants found\n",
      "2025-08-01 01:51:53,162 | INFO | pyMut.output | Processing sample 193/193: TCGA-AB-2933 (100.0%)\n",
      "2025-08-01 01:51:53,170 | INFO | pyMut.output | Sample TCGA-AB-2933: 1 variants found\n",
      "2025-08-01 01:51:53,226 | INFO | pyMut.output | Sample processing completed: 193/193 samples processed\n",
      "2025-08-01 01:51:53,226 | INFO | pyMut.output | Total variants found: 2207 variants\n",
      "2025-08-01 01:51:53,235 | INFO | pyMut.output | Using MAF_COL_ORDER.csv column order: 21 columns arranged\n",
      "2025-08-01 01:51:53,239 | INFO | pyMut.output | Writing 2207 variants to file\n",
      "2025-08-01 01:51:53,254 | INFO | pyMut.output | Progress: 2207/2207 variants written (100.0%)\n",
      "2025-08-01 01:51:53,255 | INFO | pyMut.output | MAF export completed successfully: 2207 variants processed and written to output/maf_to_maf_output.maf\n",
      "2025-08-01 01:51:53,255 | INFO | pyMut.output | Conversion summary: 193 samples, 2091 input variants, 2207 output variants\n"
     ]
    },
    {
     "name": "stdout",
     "output_type": "stream",
     "text": [
      "✅ MAF file created successfully: ./output/maf_to_maf_output.maf\n",
      "   File size: 0.35 MB\n"
     ]
    }
   ],
   "execution_count": 7
  },
  {
   "cell_type": "markdown",
   "id": "7317d2cac9e63dba",
   "metadata": {},
   "source": "## Examine the exported files\n"
  },
  {
   "cell_type": "code",
   "id": "1cd4f327e87989a2",
   "metadata": {
    "ExecuteTime": {
     "end_time": "2025-07-31T23:51:53.569501Z",
     "start_time": "2025-07-31T23:51:53.284476Z"
    }
   },
   "source": [
    "# Show the first few lines of the exported VCF file\n",
    "print(\"🔍 First 10 lines of the exported VCF file:\")\n",
    "!head -10 {vcf_output_path}\n"
   ],
   "outputs": [
    {
     "name": "stdout",
     "output_type": "stream",
     "text": [
      "🔍 First 10 lines of the exported VCF file:\n",
      "/bin/bash: warning: setlocale: LC_ALL: cannot change locale (en_US.UTF-8)\r\n",
      "##fileformat=VCFv4.3\r\n",
      "##fileDate=20250801\r\n",
      "##source=https://github.com/Luisruimor/pyMut\r\n",
      "##reference=37\r\n",
      "##FILTER=<ID=PASS,Description=\"All filters passed\">\r\n",
      "##contig=<ID=9>\r\n",
      "##contig=<ID=X>\r\n",
      "##contig=<ID=14>\r\n",
      "##contig=<ID=2>\r\n",
      "##contig=<ID=12>\r\n"
     ]
    }
   ],
   "execution_count": 8
  },
  {
   "cell_type": "code",
   "id": "52add0ad475ffe67",
   "metadata": {
    "ExecuteTime": {
     "end_time": "2025-07-31T23:51:53.860900Z",
     "start_time": "2025-07-31T23:51:53.585654Z"
    }
   },
   "source": [
    "# Show the first few lines of the exported MAF file\n",
    "print(\"🔍 First 10 lines of the exported MAF file:\")\n",
    "!head -10 {maf_output_path}\n"
   ],
   "outputs": [
    {
     "name": "stdout",
     "output_type": "stream",
     "text": [
      "🔍 First 10 lines of the exported MAF file:\n",
      "/bin/bash: warning: setlocale: LC_ALL: cannot change locale (en_US.UTF-8)\r\n",
      "Hugo_Symbol\tEntrez_Gene_Id\tCenter\tNCBI_Build\tNCBI_Build\tChromosome\tStart_Position\tStart_Position\tEnd_Position\tStrand\tVariant_Classification\tVariant_Type\tReference_Allele\tReference_Allele\tTumor_Seq_Allele1\tTumor_Seq_Allele1\tTumor_Seq_Allele2\tTumor_Seq_Allele2\tdbSNP_RS\tTumor_Sample_Barcode\tTumor_Sample_Barcode\tFILTER\ti_TumorVAF_WU\tEnd_position\tProtein_Change\ti_transcript_name\tQUAL\r\n",
      "BAAT\t570\tgenome.wustl.edu\t37\t37\t9\t104124840\t104124840\t104124840\t+\tMISSENSE_MUTATION\tSNP\tG\tG\tG\tG\tA\tA\t.\tTCGA-AB-2988\tTCGA-AB-2988\t.\t48.35\t104124840\tp.T376M\tNM_001701.1\t.\r\n",
      "TKTL1\t8277\tgenome.wustl.edu\t37\t37\tX\t153557894\t153557894\t153557894\t+\tSILENT\tSNP\tC\tC\tC\tC\tT\tT\t.\tTCGA-AB-2988\tTCGA-AB-2988\t.\t41.11\t153557894\tp.A549A\tNM_012253.1\t.\r\n",
      "ANG\t283\tgenome.wustl.edu\t37\t37\t14\t21161742\t21161742\t21161742\t+\tMISSENSE_MUTATION\tSNP\tG\tG\tG\tG\tA\tA\t.\tTCGA-AB-2988\tTCGA-AB-2988\t.\t47.43\t21161742\tp.V7I\tNM_001097577.2\t.\r\n",
      "DNMT3A\t1788\tgenome.wustl.edu\t37\t37\t2\t25457161\t25457161\t25457161\t+\tMISSENSE_MUTATION\tSNP\tA\tA\tA\tA\tC\tC\t.\tTCGA-AB-2988\tTCGA-AB-2988\t.\t45.44\t25457161\tp.F909C\tNM_022552.3\t.\r\n",
      "LRWD1\t222229\tgenome.wustl.edu\t37\t37\t7\t102106693\t102106693\t102106693\t+\tMISSENSE_MUTATION\tSNP\tC\tC\tC\tC\tA\tA\t.\tTCGA-AB-2988\tTCGA-AB-2988\t.\t46.34\t102106693\tp.N136K\tNM_152892.1\t.\r\n",
      "GUCA2A\t2980\tgenome.wustl.edu\t37\t37\t1\t42629190\t42629190\t42629190\t+\tMISSENSE_MUTATION\tSNP\tA\tA\tA\tA\tG\tG\t.\tTCGA-AB-2988\tTCGA-AB-2988\t.\t42.08\t42629190\tp.F56S\tNM_033553.2\t.\r\n",
      "SPTBN5\t51332\tgenome.wustl.edu\t37\t37\t15\t42168393\t42168393\t42168393\t+\tSILENT\tSNP\tG\tG\tG\tG\tA\tA\t.\tTCGA-AB-2988\tTCGA-AB-2988\t.\t49.28\t42168393\tp.N1347N\tNM_016642.2\t.\r\n",
      "SLC17A3\t10786\tgenome.wustl.edu\t37\t37\t6\t25850330\t25850330\t25850330\t+\tMISSENSE_MUTATION\tSNP\tG\tG\tG\tG\tA\tA\t.\tTCGA-AB-2988\tTCGA-AB-2988\t.\t44.82\t25850330\tp.L279F\tNM_001098486.1\t.\r\n",
      "NPM1\t4869\tgenome.wustl.edu\t37\t37\t5\t170837547\t170837547\t170837547\t+\tFRAME_SHIFT_INS\tINS\t-\t-\t-\t-\tCATG\tCATG\t.\tTCGA-AB-2988\tTCGA-AB-2988\t.\t\t170837548\tp.WQ288fs\tNM_002520.1\t.\r\n"
     ]
    }
   ],
   "execution_count": 9
  },
  {
   "cell_type": "markdown",
   "id": "9b46d392a97c7edb",
   "metadata": {},
   "source": [
    "## Summary\n",
    "\n",
    "In this notebook, we demonstrated how to:\n",
    "1. Read a MAF file using `read_maf` with assembly=37\n",
    "2. Export the PyMutation object to VCF format using `to_vcf`\n",
    "3. Export the PyMutation object to MAF format using `to_maf`\n",
    "\n",
    "These conversion capabilities allow for seamless interoperability between different mutation data formats."
   ]
  }
 ],
 "metadata": {},
 "nbformat": 4,
 "nbformat_minor": 5
}
