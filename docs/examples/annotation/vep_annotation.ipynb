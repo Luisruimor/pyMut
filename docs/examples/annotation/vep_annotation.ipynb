{
 "cells": [
  {
   "metadata": {},
   "cell_type": "markdown",
   "source": [
    "# VEP Annotation Demo\n",
    "\n",
    "This notebook demonstrates how to use VEP (Variant Effect Predictor) to annotate genomic variants from both VCF and MAF files. We'll use the pyMut library's VEP annotation functions to:\n",
    "\n",
    "1. Annotate a VCF file with GRCh38 assembly: `subset_1k_variants_ALL.chr10.shapeit2_integrated_snvindels_v2a_27022019.GRCh38.phased.vcf`\n",
    "2. Annotate a MAF file with GRCh37 assembly: `tcga_laml.maf.gz`\n",
    "\n",
    "The notebook will show how to load these files, perform VEP annotation, and display the results with minimal output to avoid noise.\n"
   ],
   "id": "d953d4d97525fea8"
  },
  {
   "metadata": {
    "ExecuteTime": {
     "end_time": "2025-07-31T23:22:54.991896Z",
     "start_time": "2025-07-31T23:22:54.406494Z"
    }
   },
   "cell_type": "code",
   "source": [
    "from pathlib import Path\n",
    "import os\n",
    "\n",
    "# Import VEP annotation functions\n",
    "from pyMut.annotate.vep_annotate import (\n",
    "    wrap_vcf_vep_annotate_unified,\n",
    "    wrap_maf_vep_annotate_protein\n",
    ")\n",
    "# Set Perl environment variable for VEP\n",
    "os.environ['LC_ALL'] = 'C'\n",
    "os.environ['LANG'] = 'C'\n"
   ],
   "id": "d01fe10b29ba89c1",
   "outputs": [],
   "execution_count": 1
  },
  {
   "metadata": {},
   "cell_type": "markdown",
   "source": [
    "## Define File Paths\n",
    "\n",
    "We'll define the paths to the input files and VEP resources needed for annotation.\n"
   ],
   "id": "21784a4ec53f106b"
  },
  {
   "metadata": {
    "ExecuteTime": {
     "end_time": "2025-07-31T23:22:55.082172Z",
     "start_time": "2025-07-31T23:22:55.078483Z"
    }
   },
   "cell_type": "code",
   "source": [
    "# Input files\n",
    "VCF_FILE = \"../../../src/pyMut/data/examples/VCF/subset_1k_variants_ALL.chr10.shapeit2_integrated_snvindels_v2a_27022019.GRCh38.phased.vcf\"\n",
    "MAF_FILE = \"../../../src/pyMut/data/examples/MAF/tcga_laml.maf.gz\"\n",
    "\n",
    "# VEP cache directories and FASTA files\n",
    "VCF_CACHE_DIR = \"../../../src/pyMut/data/resources/vep/homo_sapiens_vep_114_GRCh38\"\n",
    "MAF_CACHE_DIR = \"../../../src/pyMut/data/resources/vep/homo_sapiens_vep_114_GRCh37\"\n",
    "VCF_FASTA = \"../../../src/pyMut/data/resources/genome/GRCh38/GRCh38.p14.genome.fa\"\n",
    "MAF_FASTA = \"../../../src/pyMut/data/resources/genome/GRCh37/GRCh37.p13.genome.fa\"\n",
    "\n",
    "# Check if files exist\n",
    "vcf_exists = Path(VCF_FILE).exists()\n",
    "maf_exists = Path(MAF_FILE).exists()\n",
    "vcf_cache_exists = Path(VCF_CACHE_DIR).exists()\n",
    "maf_cache_exists = Path(MAF_CACHE_DIR).exists()\n",
    "vcf_fasta_exists = Path(VCF_FASTA).exists()\n",
    "maf_fasta_exists = Path(MAF_FASTA).exists()\n",
    "\n",
    "print(\"File availability check:\")\n",
    "print(f\"VCF file: {'✓' if vcf_exists else '✗'}\")\n",
    "print(f\"MAF file: {'✓' if maf_exists else '✗'}\")\n",
    "print(f\"VCF cache: {'✓' if vcf_cache_exists else '✗'}\")\n",
    "print(f\"MAF cache: {'✓' if maf_cache_exists else '✗'}\")\n",
    "print(f\"VCF FASTA: {'✓' if vcf_fasta_exists else '✗'}\")\n",
    "print(f\"MAF FASTA: {'✓' if maf_fasta_exists else '✗'}\")\n"
   ],
   "id": "457120b08558326e",
   "outputs": [
    {
     "name": "stdout",
     "output_type": "stream",
     "text": [
      "File availability check:\n",
      "VCF file: ✓\n",
      "MAF file: ✓\n",
      "VCF cache: ✓\n",
      "MAF cache: ✓\n",
      "VCF FASTA: ✓\n",
      "MAF FASTA: ✓\n"
     ]
    }
   ],
   "execution_count": 2
  },
  {
   "metadata": {},
   "cell_type": "markdown",
   "source": [
    "## Part 1: VCF File VEP Annotation\n",
    "\n",
    "We'll annotate the VCF file using VEP with protein, gene, and variant class annotations.\n"
   ],
   "id": "f26af6edd38c40b"
  },
  {
   "metadata": {
    "ExecuteTime": {
     "end_time": "2025-07-31T23:22:56.799319Z",
     "start_time": "2025-07-31T23:22:55.131663Z"
    }
   },
   "cell_type": "code",
   "source": [
    "if vcf_exists and vcf_cache_exists and vcf_fasta_exists:\n",
    "    try:\n",
    "        # Perform VEP annotation on VCF file\n",
    "        # We'll annotate with protein, gene, and variant class information\n",
    "        success, result = wrap_vcf_vep_annotate_unified(\n",
    "            VCF_FILE, \n",
    "            VCF_CACHE_DIR, \n",
    "            VCF_FASTA,\n",
    "            annotate_protein=True,\n",
    "            annotate_gene=True,\n",
    "            annotate_variant_class=True,\n",
    "            no_stats=True  # Minimize output noise\n",
    "        )\n",
    "        \n",
    "        if success:\n",
    "            print(\"✓ VCF annotation completed successfully\")\n",
    "            print(f\"Output: {result}\")\n",
    "        else:\n",
    "            print(\"✗ VCF annotation failed\")\n",
    "            print(f\"Error: {result}\")\n",
    "            \n",
    "    except Exception as e:\n",
    "        print(f\"✗ Error during VCF annotation: {e}\")\n",
    "else:\n",
    "    missing_files = []\n",
    "    if not vcf_exists:\n",
    "        missing_files.append(\"VCF file\")\n",
    "    if not vcf_cache_exists:\n",
    "        missing_files.append(\"VCF cache directory\")\n",
    "    if not vcf_fasta_exists:\n",
    "        missing_files.append(\"VCF FASTA file\")\n",
    "    \n",
    "    print(f\"✗ Cannot perform VCF annotation. Missing: {', '.join(missing_files)}\")\n"
   ],
   "id": "e7b5be7bd6840032",
   "outputs": [
    {
     "name": "stderr",
     "output_type": "stream",
     "text": [
      "2025-08-01 01:22:55,133 | INFO | pyMut.annotate.vep_annotate | Starting unified VEP annotation for VCF file: ../../../src/pyMut/data/examples/VCF/subset_1k_variants_ALL.chr10.shapeit2_integrated_snvindels_v2a_27022019.GRCh38.phased.vcf\n",
      "2025-08-01 01:22:55,134 | INFO | pyMut.annotate.vep_annotate | Extracted from cache: assembly=GRCh38, version=114\n",
      "2025-08-01 01:22:55,136 | INFO | pyMut.annotate.vep_annotate | Auto-constructed chr synonyms path: ../../../src/pyMut/data/resources/vep/homo_sapiens_vep_114_GRCh38/homo_sapiens/114_GRCh38/chr_synonyms.txt\n",
      "2025-08-01 01:22:55,137 | INFO | pyMut.annotate.vep_annotate | Running unified VEP annotation: vep --input_file ../../../src/pyMut/data/examples/VCF/subset_1k_variants_ALL.chr10.shapeit2_integrated_snvindels_v2a_27022019.GRCh38.phased.vcf --vcf --offline --cache --cache_version 114 --dir_cache ../../../src/pyMut/data/resources/vep/homo_sapiens_vep_114_GRCh38 --assembly GRCh38 --synonyms ../../../src/pyMut/data/resources/vep/homo_sapiens_vep_114_GRCh38/homo_sapiens/114_GRCh38/chr_synonyms.txt --fasta ../../../src/pyMut/data/resources/genome/GRCh38/GRCh38.p14.genome.fa --pick --force_overwrite --output_file ../../../src/pyMut/data/examples/VCF/vep_annotation_01220108/subset_1k_variants_ALL.chr10.shapeit2_integrated_snvindels_v2a_27022019.GRCh38.phased_vep_protein_gene_variant_class.vcf --protein --uniprot --domains --symbol --variant_class --no_stats\n",
      "2025-08-01 01:22:56,797 | INFO | pyMut.annotate.vep_annotate | Unified VEP annotation completed successfully\n"
     ]
    },
    {
     "name": "stdout",
     "output_type": "stream",
     "text": [
      "✓ VCF annotation completed successfully\n",
      "Output: VEP output file: ../../../src/pyMut/data/examples/VCF/vep_annotation_01220108/subset_1k_variants_ALL.chr10.shapeit2_integrated_snvindels_v2a_27022019.GRCh38.phased_vep_protein_gene_variant_class.vcf\n"
     ]
    }
   ],
   "execution_count": 3
  },
  {
   "metadata": {},
   "cell_type": "markdown",
   "source": [
    "## Part 2: MAF File VEP Annotation\n",
    "\n",
    "We'll annotate the MAF file using VEP with protein-level annotations.\n"
   ],
   "id": "88e5ee3637f7b7c5"
  },
  {
   "metadata": {
    "ExecuteTime": {
     "end_time": "2025-07-31T23:23:29.632210Z",
     "start_time": "2025-07-31T23:22:56.806Z"
    }
   },
   "cell_type": "code",
   "source": [
    "if maf_exists and maf_cache_exists and maf_fasta_exists:\n",
    "    try:\n",
    "        success, result = wrap_maf_vep_annotate_protein(\n",
    "            MAF_FILE,\n",
    "            MAF_CACHE_DIR,\n",
    "            MAF_FASTA\n",
    "        )\n",
    "        \n",
    "        if success:\n",
    "            print(\"✓ MAF annotation completed successfully\")\n",
    "            print(f\"Output: {result}\")\n",
    "        else:\n",
    "            print(\"✗ MAF annotation failed\")\n",
    "            print(f\"Error: {result}\")\n",
    "            \n",
    "    except Exception as e:\n",
    "        print(f\"✗ Error during MAF annotation: {e}\")\n",
    "else:\n",
    "    missing_files = []\n",
    "    if not maf_exists:\n",
    "        missing_files.append(\"MAF file\")\n",
    "    if not maf_cache_exists:\n",
    "        missing_files.append(\"MAF cache directory\")\n",
    "    if not maf_fasta_exists:\n",
    "        missing_files.append(\"MAF FASTA file\")\n",
    "    \n",
    "    print(f\"✗ Cannot perform MAF annotation. Missing: {', '.join(missing_files)}\")\n"
   ],
   "id": "4415495eecec92a1",
   "outputs": [
    {
     "name": "stderr",
     "output_type": "stream",
     "text": [
      "2025-08-01 01:22:56,807 | INFO | pyMut.annotate.vep_annotate | Converting MAF file to region format: ../../../src/pyMut/data/examples/MAF/tcga_laml.maf.gz\n",
      "2025-08-01 01:22:56,808 | INFO | pyMut.annotate.vep_annotate | Converting MAF to region format: ../../../src/pyMut/data/examples/MAF/tcga_laml.maf.gz -> ../../../src/pyMut/data/examples/MAF/tcga_laml.region\n",
      "2025-08-01 01:22:56,815 | INFO | pyMut.annotate.vep_annotate | Successfully converted MAF to region format: ../../../src/pyMut/data/examples/MAF/tcga_laml.region\n",
      "2025-08-01 01:22:56,815 | INFO | pyMut.annotate.vep_annotate | Successfully converted MAF to region format: ../../../src/pyMut/data/examples/MAF/tcga_laml.region\n",
      "2025-08-01 01:22:56,815 | INFO | pyMut.annotate.vep_annotate | Extracted from cache: assembly=GRCh37, version=114\n",
      "2025-08-01 01:22:56,816 | INFO | pyMut.annotate.vep_annotate | Auto-constructed chr synonyms path: ../../../src/pyMut/data/resources/vep/homo_sapiens_vep_114_GRCh37/homo_sapiens/114_GRCh37/chr_synonyms.txt\n",
      "2025-08-01 01:22:56,816 | INFO | pyMut.annotate.vep_annotate | Running VEP annotation: vep --input_file ../../../src/pyMut/data/examples/MAF/tcga_laml.region --format region --offline --cache --cache_version 114 --dir_cache ../../../src/pyMut/data/resources/vep/homo_sapiens_vep_114_GRCh37 --assembly GRCh37 --synonyms ../../../src/pyMut/data/resources/vep/homo_sapiens_vep_114_GRCh37/homo_sapiens/114_GRCh37/chr_synonyms.txt --fasta ../../../src/pyMut/data/resources/genome/GRCh37/GRCh37.p13.genome.fa --protein --uniprot --domains --symbol --pick --keep_csq --force_overwrite --no_stats --output_file ../../../src/pyMut/data/examples/MAF/vep_annotation_01220108/tcga_laml.maf_vep_protein.txt\n",
      "2025-08-01 01:23:29,464 | INFO | pyMut.annotate.vep_annotate | VEP annotation completed successfully\n",
      "2025-08-01 01:23:29,464 | INFO | pyMut.annotate.vep_annotate | Merging VEP annotations with original MAF file...\n",
      "2025-08-01 01:23:29,464 | INFO | pyMut.utils.merge_vep_annotation | Reading MAF file: ../../../src/pyMut/data/examples/MAF/tcga_laml.maf.gz\n",
      "2025-08-01 01:23:29,471 | INFO | pyMut.utils.merge_vep_annotation | MAF file loaded: 2207 rows, 17 columns\n",
      "2025-08-01 01:23:29,471 | INFO | pyMut.utils.merge_vep_annotation | Reading VEP file: ../../../src/pyMut/data/examples/MAF/vep_annotation_01220108/tcga_laml.maf_vep_protein.txt\n",
      "2025-08-01 01:23:29,481 | INFO | pyMut.utils.merge_vep_annotation | VEP file loaded: 2206 rows, 14 columns\n",
      "2025-08-01 01:23:29,481 | INFO | pyMut.utils.merge_vep_annotation | Creating region keys for MAF data...\n",
      "2025-08-01 01:23:29,501 | INFO | pyMut.utils.merge_vep_annotation | Parsing VEP Extra column...\n",
      "2025-08-01 01:23:29,517 | INFO | pyMut.utils.merge_vep_annotation | Filtered to 2206 meaningful annotations\n",
      "2025-08-01 01:23:29,518 | INFO | pyMut.utils.merge_vep_annotation | Removing VEP duplicates...\n",
      "2025-08-01 01:23:29,520 | INFO | pyMut.utils.merge_vep_annotation | Removed 116 duplicate VEP entries\n",
      "2025-08-01 01:23:29,520 | INFO | pyMut.utils.merge_vep_annotation | Performing optimized merge with DuckDB...\n",
      "2025-08-01 01:23:29,586 | INFO | pyMut.utils.merge_vep_annotation | Merge completed: 2207 rows, 38 columns\n",
      "2025-08-01 01:23:29,586 | INFO | pyMut.utils.merge_vep_annotation | Saving annotated file to: ../../../src/pyMut/data/examples/MAF/tcga_laml_VEP_annotated.maf.gz\n",
      "2025-08-01 01:23:29,629 | INFO | pyMut.annotate.vep_annotate | Successfully merged VEP annotations. Merged file: ../../../src/pyMut/data/examples/MAF/tcga_laml_VEP_annotated.maf.gz\n",
      "2025-08-01 01:23:29,630 | INFO | pyMut.annotate.vep_annotate | Cleaned up temporary region file: ../../../src/pyMut/data/examples/MAF/tcga_laml.region\n"
     ]
    },
    {
     "name": "stdout",
     "output_type": "stream",
     "text": [
      "✓ MAF annotation completed successfully\n",
      "Output: VEP folder: ../../../src/pyMut/data/examples/MAF/vep_annotation_01220108/tcga_laml.maf_vep_protein.txt, Merged file: ../../../src/pyMut/data/examples/MAF/tcga_laml_VEP_annotated.maf.gz\n"
     ]
    }
   ],
   "execution_count": 4
  },
  {
   "metadata": {},
   "cell_type": "markdown",
   "source": [
    "## Summary\n",
    "\n",
    "This notebook demonstrated VEP annotation for both VCF and MAF files:\n",
    "\n",
    "### VCF Annotation\n",
    "- **Input**: VCF file with GRCh38 coordinates\n",
    "- **Annotations**: Protein effects, gene information, and variant classifications\n",
    "- **Function**: `wrap_vcf_vep_annotate_unified()`\n",
    "\n",
    "### MAF Annotation  \n",
    "- **Input**: MAF file with GRCh37 coordinates\n",
    "- **Annotations**: Protein-level effects\n",
    "- **Function**: `wrap_maf_vep_annotate_protein()`\n",
    "\n",
    "### Key Points\n",
    "- VEP requires appropriate cache directories and FASTA reference files\n",
    "- Different genome assemblies (GRCh37/GRCh38) require corresponding resources\n",
    "- The annotation functions handle file format conversion and VEP execution automatically\n",
    "- Output files contain the original data plus VEP annotation columns\n",
    "\n",
    "For more detailed VEP configuration options, refer to the function documentation and VEP official documentation.\n"
   ],
   "id": "2435360f25793af4"
  }
 ],
 "metadata": {
  "kernelspec": {
   "display_name": "Python 3",
   "language": "python",
   "name": "python3"
  },
  "language_info": {
   "codemirror_mode": {
    "name": "ipython",
    "version": 2
   },
   "file_extension": ".py",
   "mimetype": "text/x-python",
   "name": "python",
   "nbconvert_exporter": "python",
   "pygments_lexer": "ipython2",
   "version": "2.7.6"
  }
 },
 "nbformat": 4,
 "nbformat_minor": 5
}
