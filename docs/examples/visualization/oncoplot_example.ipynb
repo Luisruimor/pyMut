{
 "cells": [
  {
   "cell_type": "markdown",
   "id": "811c6fe2",
   "metadata": {},
   "source": [
    "# Example of oncoplot"
   ]
  },
  {
   "cell_type": "code",
   "execution_count": 2,
   "id": "8e178087",
   "metadata": {},
   "outputs": [
    {
     "name": "stderr",
     "output_type": "stream",
     "text": [
      "2025-07-19 20:40:31,936 | INFO | pyMut.input | Starting MAF reading: /home/xuscbart/pyMut/src/pyMut/data/examples/tcga_laml.maf.gz\n",
      "2025-07-19 20:40:31,937 | INFO | pyMut.input | Loading from cache: /home/xuscbart/pyMut/src/pyMut/data/examples/.pymut_cache/tcga_laml.maf_fb07faafa840e006.parquet\n",
      "2025-07-19 20:40:31,972 | INFO | pyMut.input | Cache loaded successfully in 0.04 seconds\n"
     ]
    }
   ],
   "source": [
    "import sys, os\n",
    "import pyMut # Import pyMut package\n",
    "from pyMut.input import read_maf\n",
    "\n",
    "# Determinate the project root using the location of the pyMut package\n",
    "project_root = os.path.abspath(os.path.join(os.path.dirname(pyMut.__file__), '..', '..'))\n",
    "\n",
    "# Verify that 'src' is in sys.path\n",
    "src_path = os.path.join(project_root, 'src')\n",
    "if src_path not in sys.path:\n",
    "    sys.path.append(src_path)\n",
    "    \n",
    "# Path to the MAF file\n",
    "maf_path = os.path.join(\n",
    "    project_root,\n",
    "    'src', 'pyMut', 'data', 'examples', 'tcga_laml.maf.gz'\n",
    ")\n",
    "\n",
    "# Read the MAF file and create the PyMutation object\n",
    "py_mutation = read_maf(maf_path)"
   ]
  }
 ],
 "metadata": {
  "kernelspec": {
   "display_name": "pyMut (Poetry)",
   "language": "python",
   "name": "pymut_poetry"
  },
  "language_info": {
   "codemirror_mode": {
    "name": "ipython",
    "version": 3
   },
   "file_extension": ".py",
   "mimetype": "text/x-python",
   "name": "python",
   "nbconvert_exporter": "python",
   "pygments_lexer": "ipython3",
   "version": "3.10.12"
  }
 },
 "nbformat": 4,
 "nbformat_minor": 5
}
