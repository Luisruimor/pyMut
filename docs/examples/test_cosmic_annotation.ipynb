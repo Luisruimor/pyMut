{
 "cells": [
  {
   "metadata": {},
   "cell_type": "markdown",
   "source": [
    "# COSMIC Cancer Gene Census Annotation Test\n",
    "\n",
    "This notebook tests the `maf_COSMIC_annotation` method with all available COSMIC columns.\n"
   ],
   "id": "d5ddbca87394697"
  },
  {
   "metadata": {
    "ExecuteTime": {
     "end_time": "2025-07-11T22:19:49.915971Z",
     "start_time": "2025-07-11T22:19:49.913597Z"
    }
   },
   "cell_type": "code",
   "source": [
    "import sys\n",
    "import pandas as pd\n",
    "from pathlib import Path\n",
    "import logging\n",
    "\n",
    "# Add src to path\n",
    "sys.path.insert(0, '../../src')\n",
    "\n",
    "from pyMut.annotate.cosmic_cancer_annotate import maf_COSMIC_annotation\n",
    "\n",
    "# Suppress verbose logging\n",
    "logging.getLogger().setLevel(logging.WARNING)\n"
   ],
   "id": "4b6e098a2b63ff6e",
   "outputs": [],
   "execution_count": 8
  },
  {
   "metadata": {},
   "cell_type": "markdown",
   "source": "## File Paths and Validation\n",
   "id": "2a309732626523d5"
  },
  {
   "metadata": {
    "ExecuteTime": {
     "end_time": "2025-07-11T22:19:49.933983Z",
     "start_time": "2025-07-11T22:19:49.931346Z"
    }
   },
   "cell_type": "code",
   "source": [
    "# Define file paths\n",
    "maf_file = Path(\"../../src/pyMut/data/examples/tcga_laml.maf.gz\")\n",
    "cosmic_file = Path(\n",
    "    \"../../src/pyMut/data/resources/Cosmic_CancerGeneCensus_Tsv_v102_GRCh38/Cosmic_CancerGeneCensus_v102_GRCh38.tsv.gz\")\n",
    "\n",
    "print(f\"MAF file exists: {maf_file.exists()}\")\n",
    "print(f\"COSMIC file exists: {cosmic_file.exists()}\")\n"
   ],
   "id": "a63a821fb75d1fa3",
   "outputs": [
    {
     "name": "stdout",
     "output_type": "stream",
     "text": [
      "MAF file exists: True\n",
      "COSMIC file exists: True\n"
     ]
    }
   ],
   "execution_count": 9
  },
  {
   "metadata": {},
   "cell_type": "markdown",
   "source": "## Preview COSMIC Data Columns\n",
   "id": "40c9070f209b00a0"
  },
  {
   "metadata": {
    "ExecuteTime": {
     "end_time": "2025-07-11T22:19:49.995668Z",
     "start_time": "2025-07-11T22:19:49.990025Z"
    }
   },
   "cell_type": "code",
   "source": [
    "# Preview COSMIC data structure\n",
    "import gzip\n",
    "with gzip.open(cosmic_file, 'rt') as f:\n",
    "    cosmic_df = pd.read_csv(f, sep='\\t', nrows=3)\n",
    "\n",
    "print(f\"COSMIC data shape: {cosmic_df.shape}\")\n",
    "print(f\"COSMIC columns ({len(cosmic_df.columns)}):\")\n",
    "for i, col in enumerate(cosmic_df.columns, 1):\n",
    "    print(f\"  {i:2d}. {col}\")\n"
   ],
   "id": "498050ce5618535e",
   "outputs": [
    {
     "name": "stdout",
     "output_type": "stream",
     "text": [
      "COSMIC data shape: (3, 21)\n",
      "COSMIC columns (21):\n",
      "   1. GENE_SYMBOL\n",
      "   2. NAME\n",
      "   3. COSMIC_GENE_ID\n",
      "   4. CHROMOSOME\n",
      "   5. GENOME_START\n",
      "   6. GENOME_STOP\n",
      "   7. CHR_BAND\n",
      "   8. SOMATIC\n",
      "   9. GERMLINE\n",
      "  10. TUMOUR_TYPES_SOMATIC\n",
      "  11. TUMOUR_TYPES_GERMLINE\n",
      "  12. CANCER_SYNDROME\n",
      "  13. TISSUE_TYPE\n",
      "  14. MOLECULAR_GENETICS\n",
      "  15. ROLE_IN_CANCER\n",
      "  16. MUTATION_TYPES\n",
      "  17. TRANSLOCATION_PARTNER\n",
      "  18. OTHER_GERMLINE_MUT\n",
      "  19. OTHER_SYNDROME\n",
      "  20. TIER\n",
      "  21. SYNONYMS\n"
     ]
    }
   ],
   "execution_count": 10
  },
  {
   "metadata": {},
   "cell_type": "markdown",
   "source": "## Run COSMIC Annotation (Uncompressed Output)\n",
   "id": "8e387ebbd4088548"
  },
  {
   "metadata": {
    "ExecuteTime": {
     "end_time": "2025-07-11T22:19:50.114713Z",
     "start_time": "2025-07-11T22:19:50.047880Z"
    }
   },
   "cell_type": "code",
   "source": [
    "# Run annotation with uncompressed output\n",
    "result_df, output_path = maf_COSMIC_annotation(\n",
    "    maf_file=maf_file,\n",
    "    annotation_table=cosmic_file,\n",
    "    synonyms_column=\"SYNONYMS\",\n",
    ")\n",
    "\n",
    "print(f\"Annotation completed!\")\n",
    "print(f\"Output file: {output_path}\")\n",
    "print(f\"Result shape: {result_df.shape}\")\n"
   ],
   "id": "c46d1b59bf673522",
   "outputs": [
    {
     "name": "stdout",
     "output_type": "stream",
     "text": [
      "Annotation completed!\n",
      "Output file: ../../src/pyMut/data/examples/tcga_laml_COSMIC_annotated.maf.gz\n",
      "Result shape: (2207, 37)\n"
     ]
    }
   ],
   "execution_count": 11
  },
  {
   "metadata": {},
   "cell_type": "markdown",
   "source": "## Results Summary\n",
   "id": "d0e7dea5afa3b5c4"
  },
  {
   "metadata": {
    "ExecuteTime": {
     "end_time": "2025-07-11T22:19:50.134008Z",
     "start_time": "2025-07-11T22:19:50.131546Z"
    }
   },
   "cell_type": "code",
   "source": [
    "# Show added COSMIC columns\n",
    "cosmic_columns = [col for col in result_df.columns if col.startswith('COSMIC_')]\n",
    "print(f\"Added {len(cosmic_columns)} COSMIC columns:\")\n",
    "for i, col in enumerate(cosmic_columns, 1):\n",
    "    print(f\"  {i:2d}. {col}\")\n"
   ],
   "id": "c8ca3abdfcf62c07",
   "outputs": [
    {
     "name": "stdout",
     "output_type": "stream",
     "text": [
      "Added 20 COSMIC columns:\n",
      "   1. COSMIC_NAME\n",
      "   2. COSMIC_COSMIC_GENE_ID\n",
      "   3. COSMIC_CHROMOSOME\n",
      "   4. COSMIC_GENOME_START\n",
      "   5. COSMIC_GENOME_STOP\n",
      "   6. COSMIC_CHR_BAND\n",
      "   7. COSMIC_SOMATIC\n",
      "   8. COSMIC_GERMLINE\n",
      "   9. COSMIC_TUMOUR_TYPES_SOMATIC\n",
      "  10. COSMIC_TUMOUR_TYPES_GERMLINE\n",
      "  11. COSMIC_CANCER_SYNDROME\n",
      "  12. COSMIC_TISSUE_TYPE\n",
      "  13. COSMIC_MOLECULAR_GENETICS\n",
      "  14. COSMIC_ROLE_IN_CANCER\n",
      "  15. COSMIC_MUTATION_TYPES\n",
      "  16. COSMIC_TRANSLOCATION_PARTNER\n",
      "  17. COSMIC_OTHER_GERMLINE_MUT\n",
      "  18. COSMIC_OTHER_SYNDROME\n",
      "  19. COSMIC_TIER\n",
      "  20. COSMIC_SYNONYMS\n"
     ]
    }
   ],
   "execution_count": 12
  },
  {
   "metadata": {
    "ExecuteTime": {
     "end_time": "2025-07-11T22:19:50.205963Z",
     "start_time": "2025-07-11T22:19:50.191957Z"
    }
   },
   "cell_type": "code",
   "source": [
    "# Check annotation coverage\n",
    "if cosmic_columns:\n",
    "    # Check for non-empty annotation values (not just non-null, since missing values are filled with empty strings)\n",
    "    has_annotation = result_df[cosmic_columns].apply(lambda x: x.str.strip() != \"\", axis=0).any(axis=1)\n",
    "    annotated_count = has_annotation.sum()\n",
    "    total_count = len(result_df)\n",
    "\n",
    "    print(f\"Annotation coverage:\")\n",
    "    print(f\"  Total mutations: {total_count}\")\n",
    "    print(f\"  With COSMIC annotation: {annotated_count}\")\n",
    "    print(f\"  Coverage: {annotated_count/total_count*100:.1f}%\")\n"
   ],
   "id": "7fb6de4200ee7b5b",
   "outputs": [
    {
     "name": "stdout",
     "output_type": "stream",
     "text": [
      "Annotation coverage:\n",
      "  Total mutations: 2207\n",
      "  With COSMIC annotation: 513\n",
      "  Coverage: 23.2%\n"
     ]
    }
   ],
   "execution_count": 13
  },
  {
   "metadata": {},
   "cell_type": "markdown",
   "source": "## Sample Annotated Data\n",
   "id": "e28cfa6904497514"
  },
  {
   "metadata": {
    "ExecuteTime": {
     "end_time": "2025-07-11T22:19:50.268825Z",
     "start_time": "2025-07-11T22:19:50.250500Z"
    }
   },
   "cell_type": "code",
   "source": [
    "# Show sample of annotated data\n",
    "if cosmic_columns:\n",
    "    has_annotation_mask = result_df[cosmic_columns].apply(lambda x: x.str.strip() != \"\", axis=0).any(axis=1)\n",
    "    annotated_rows = result_df[has_annotation_mask]\n",
    "\n",
    "    if len(annotated_rows) > 0:\n",
    "        print(\"Sample annotated mutations:\")\n",
    "        sample_cols = ['Hugo_Symbol', 'COSMIC_ROLE_IN_CANCER', 'COSMIC_TIER']\n",
    "        display_df = annotated_rows[sample_cols].drop_duplicates(subset=['Hugo_Symbol']).head(5)\n",
    "        display(display_df)\n",
    "    else:\n",
    "        print(\"No mutations found with COSMIC annotations\")\n"
   ],
   "id": "6bd6c20a7307d5d",
   "outputs": [
    {
     "name": "stdout",
     "output_type": "stream",
     "text": [
      "Sample annotated mutations:\n"
     ]
    },
    {
     "data": {
      "text/plain": [
       "   Hugo_Symbol COSMIC_ROLE_IN_CANCER COSMIC_TIER\n",
       "8         ABL1      oncogene, fusion         1.0\n",
       "40        AFF4      oncogene, fusion         1.0\n",
       "91     ARHGAP5              oncogene         2.0\n",
       "93   ARHGEF10L                   TSG         2.0\n",
       "99      ARID1A           TSG, fusion         1.0"
      ],
      "text/html": [
       "<div>\n",
       "<style scoped>\n",
       "    .dataframe tbody tr th:only-of-type {\n",
       "        vertical-align: middle;\n",
       "    }\n",
       "\n",
       "    .dataframe tbody tr th {\n",
       "        vertical-align: top;\n",
       "    }\n",
       "\n",
       "    .dataframe thead th {\n",
       "        text-align: right;\n",
       "    }\n",
       "</style>\n",
       "<table border=\"1\" class=\"dataframe\">\n",
       "  <thead>\n",
       "    <tr style=\"text-align: right;\">\n",
       "      <th></th>\n",
       "      <th>Hugo_Symbol</th>\n",
       "      <th>COSMIC_ROLE_IN_CANCER</th>\n",
       "      <th>COSMIC_TIER</th>\n",
       "    </tr>\n",
       "  </thead>\n",
       "  <tbody>\n",
       "    <tr>\n",
       "      <th>8</th>\n",
       "      <td>ABL1</td>\n",
       "      <td>oncogene, fusion</td>\n",
       "      <td>1.0</td>\n",
       "    </tr>\n",
       "    <tr>\n",
       "      <th>40</th>\n",
       "      <td>AFF4</td>\n",
       "      <td>oncogene, fusion</td>\n",
       "      <td>1.0</td>\n",
       "    </tr>\n",
       "    <tr>\n",
       "      <th>91</th>\n",
       "      <td>ARHGAP5</td>\n",
       "      <td>oncogene</td>\n",
       "      <td>2.0</td>\n",
       "    </tr>\n",
       "    <tr>\n",
       "      <th>93</th>\n",
       "      <td>ARHGEF10L</td>\n",
       "      <td>TSG</td>\n",
       "      <td>2.0</td>\n",
       "    </tr>\n",
       "    <tr>\n",
       "      <th>99</th>\n",
       "      <td>ARID1A</td>\n",
       "      <td>TSG, fusion</td>\n",
       "      <td>1.0</td>\n",
       "    </tr>\n",
       "  </tbody>\n",
       "</table>\n",
       "</div>"
      ]
     },
     "metadata": {},
     "output_type": "display_data"
    }
   ],
   "execution_count": 14
  }
 ],
 "metadata": {},
 "nbformat": 4,
 "nbformat_minor": 5
}
