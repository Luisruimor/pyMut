{
 "cells": [
  {
   "metadata": {},
   "cell_type": "markdown",
   "source": [
    "# Demostración del Análisis de Carga Mutacional (TMB)\n",
    "\n",
    "Este notebook demuestra cómo utilizar el método `calculate_tmb_analysis` de PyMutation para calcular la Carga Mutacional Tumoral (TMB) y generar los archivos de análisis correspondientes.\n",
    "\n",
    "## ¿Qué es TMB?\n",
    "La Carga Mutacional Tumoral (TMB) es una medida del número de mutaciones presentes en un tumor, normalizada por el tamaño del genoma interrogado. Es un biomarcador importante en oncología.\n"
   ],
   "id": "58eaf24d67bb30ba"
  },
  {
   "metadata": {},
   "cell_type": "markdown",
   "source": "## Configuración Inicial\n",
   "id": "429df00718bac734"
  },
  {
   "metadata": {
    "ExecuteTime": {
     "end_time": "2025-07-10T20:56:42.056301Z",
     "start_time": "2025-07-10T20:56:42.052031Z"
    }
   },
   "cell_type": "code",
   "source": [
    "import sys\n",
    "import os\n",
    "\n",
    "# Configurar el path para importar pyMut\n",
    "project_root = os.path.abspath('../../src')\n",
    "if project_root not in sys.path:\n",
    "    sys.path.append(project_root)\n",
    "\n",
    "print('✅ PYTHONPATH configurado para incluir:', project_root)\n"
   ],
   "id": "5f5e61510d5dd11b",
   "outputs": [
    {
     "name": "stdout",
     "output_type": "stream",
     "text": [
      "✅ PYTHONPATH configurado para incluir: /home/luisruimore/Escritorio/TFG/src\n"
     ]
    }
   ],
   "execution_count": 1
  },
  {
   "metadata": {
    "ExecuteTime": {
     "end_time": "2025-07-10T20:56:42.610282Z",
     "start_time": "2025-07-10T20:56:42.172783Z"
    }
   },
   "cell_type": "code",
   "source": [
    "# Importar PyMutation y cargar datos\n",
    "from pyMut.input import read_maf\n",
    "from pyMut.analysis.mutation_burden import add_tmb_method_to_pymutation\n",
    "\n",
    "# Asegurar que el método TMB esté disponible\n",
    "add_tmb_method_to_pymutation()\n",
    "\n",
    "print('✅ Módulos importados correctamente')\n"
   ],
   "id": "7ed9c00f74ddc9c6",
   "outputs": [
    {
     "name": "stdout",
     "output_type": "stream",
     "text": [
      "✅ Módulos importados correctamente\n"
     ]
    }
   ],
   "execution_count": 2
  },
  {
   "metadata": {},
   "cell_type": "markdown",
   "source": "## Cargar Datos de Ejemplo\n",
   "id": "6978e0da091de859"
  },
  {
   "metadata": {
    "ExecuteTime": {
     "end_time": "2025-07-10T20:56:42.657769Z",
     "start_time": "2025-07-10T20:56:42.617350Z"
    }
   },
   "cell_type": "code",
   "source": [
    "# Cargar el archivo MAF de ejemplo\n",
    "maf_path = os.path.join(project_root, 'pyMut', 'data', 'examples', 'tcga_laml.maf.gz')\n",
    "\n",
    "print(f'📂 Cargando archivo: {maf_path}')\n",
    "py_mutation = read_maf(maf_path)\n",
    "\n",
    "print(f\"✅ Datos cargados exitosamente\")\n",
    "print(f\"📊 Forma de los datos: {py_mutation.data.shape}\")\n",
    "print(f\"👥 Número de muestras: {len(py_mutation.samples)}\")\n",
    "print(f\"🧬 Primeras 3 muestras: {py_mutation.samples[:3]}\")\n"
   ],
   "id": "f738fba3c9ce7e6d",
   "outputs": [
    {
     "name": "stderr",
     "output_type": "stream",
     "text": [
      "2025-07-10 22:56:42,618 | INFO | pyMut.input | Starting MAF reading: /home/luisruimore/Escritorio/TFG/src/pyMut/data/examples/tcga_laml.maf.gz\n",
      "2025-07-10 22:56:42,619 | INFO | pyMut.input | Loading from cache: /home/luisruimore/Escritorio/TFG/src/pyMut/data/examples/.pymut_cache/tcga_laml.maf_1d12b7270b4f7707.parquet\n",
      "2025-07-10 22:56:42,655 | INFO | pyMut.input | Cache loaded successfully in 0.04 seconds\n"
     ]
    },
    {
     "name": "stdout",
     "output_type": "stream",
     "text": [
      "📂 Cargando archivo: /home/luisruimore/Escritorio/TFG/src/pyMut/data/examples/tcga_laml.maf.gz\n",
      "✅ Datos cargados exitosamente\n",
      "📊 Forma de los datos: (2207, 216)\n",
      "👥 Número de muestras: 193\n",
      "🧬 Primeras 3 muestras: ['TCGA-AB-2988', 'TCGA-AB-2869', 'TCGA-AB-3009']\n"
     ]
    }
   ],
   "execution_count": 3
  },
  {
   "metadata": {},
   "cell_type": "markdown",
   "source": [
    "## Explorar las Columnas de Clasificación de Variantes\n",
    "\n",
    "Antes de ejecutar el análisis TMB, veamos qué columnas de clasificación de variantes están disponibles:\n"
   ],
   "id": "babf1f2e1feec055"
  },
  {
   "metadata": {
    "ExecuteTime": {
     "end_time": "2025-07-10T20:56:42.669444Z",
     "start_time": "2025-07-10T20:56:42.666111Z"
    }
   },
   "cell_type": "code",
   "source": [
    "# Buscar columnas de clasificación de variantes\n",
    "import re\n",
    "\n",
    "pattern = re.compile(r'^(gencode_\\d+_)?variant[_]?classification$', flags=re.IGNORECASE)\n",
    "variant_cols = [col for col in py_mutation.data.columns if pattern.match(col)]\n",
    "\n",
    "print(\"🔍 Columnas de clasificación de variantes encontradas:\")\n",
    "if variant_cols:\n",
    "    for i, col in enumerate(variant_cols, 1):\n",
    "        print(f\"  {i}. {col}\")\n",
    "else:\n",
    "    print(\"  ❌ No se encontraron columnas de clasificación de variantes\")\n",
    "\n",
    "# Mostrar algunas columnas que contienen 'variant' en el nombre\n",
    "variant_like_cols = [col for col in py_mutation.data.columns if 'variant' in col.lower()]\n",
    "print(f\"\\n🔍 Columnas que contienen 'variant' ({len(variant_like_cols)}):\")\n",
    "for col in variant_like_cols[:5]:  # Mostrar solo las primeras 5\n",
    "    print(f\"  • {col}\")\n"
   ],
   "id": "b8036a1f8bc5a84f",
   "outputs": [
    {
     "name": "stdout",
     "output_type": "stream",
     "text": [
      "🔍 Columnas de clasificación de variantes encontradas:\n",
      "  1. Variant_Classification\n",
      "\n",
      "🔍 Columnas que contienen 'variant' (2):\n",
      "  • Variant_Classification\n",
      "  • Variant_Type\n"
     ]
    }
   ],
   "execution_count": 4
  },
  {
   "metadata": {},
   "cell_type": "markdown",
   "source": [
    "## Ejecutar Análisis TMB\n",
    "\n",
    "Ahora ejecutaremos el análisis de carga mutacional. El método generará dos archivos:\n",
    "1. **TMB_analysis.tsv**: Análisis por muestra con conteos de mutaciones y TMB normalizado\n",
    "2. **TMB_statistics.tsv**: Estadísticas globales (media, mediana, cuartiles, etc.)\n"
   ],
   "id": "fb70fbdaab498d6b"
  },
  {
   "metadata": {
    "ExecuteTime": {
     "end_time": "2025-07-10T20:56:42.715144Z",
     "start_time": "2025-07-10T20:56:42.712923Z"
    }
   },
   "cell_type": "code",
   "source": [
    "# Crear directorio para los resultados\n",
    "output_dir = \"results_tmb\"\n",
    "os.makedirs(output_dir, exist_ok=True)\n",
    "\n",
    "print(f\"📁 Directorio de salida: {output_dir}\")\n"
   ],
   "id": "c37367dcc39a5f80",
   "outputs": [
    {
     "name": "stdout",
     "output_type": "stream",
     "text": [
      "📁 Directorio de salida: results_tmb\n"
     ]
    }
   ],
   "execution_count": 5
  },
  {
   "metadata": {
    "ExecuteTime": {
     "end_time": "2025-07-10T20:56:58.421064Z",
     "start_time": "2025-07-10T20:56:42.759861Z"
    }
   },
   "cell_type": "code",
   "source": [
    "# Ejecutar el análisis TMB\n",
    "print(\"🧬 Ejecutando análisis de carga mutacional...\")\n",
    "print(\"⏳ Esto puede tomar unos momentos...\")\n",
    "\n",
    "try:\n",
    "    # Ejecutar análisis TMB con configuración estándar para WES\n",
    "    results = py_mutation.calculate_tmb_analysis(\n",
    "        genome_size_bp=60456963,  # Tamaño estándar para WES\n",
    "        output_dir=output_dir,\n",
    "        save_files=True\n",
    "    )\n",
    "    \n",
    "    print(\"✅ Análisis TMB completado exitosamente!\")\n",
    "    \n",
    "except Exception as e:\n",
    "    print(f\"❌ Error durante el análisis TMB: {e}\")\n",
    "    results = None\n"
   ],
   "id": "2ff82d5f63fb947f",
   "outputs": [
    {
     "name": "stderr",
     "output_type": "stream",
     "text": [
      "2025-07-10 22:56:42,761 | INFO | pyMut.analysis.mutation_burden | Auto-detected variant classification column: Variant_Classification\n"
     ]
    },
    {
     "name": "stdout",
     "output_type": "stream",
     "text": [
      "🧬 Ejecutando análisis de carga mutacional...\n",
      "⏳ Esto puede tomar unos momentos...\n"
     ]
    },
    {
     "name": "stderr",
     "output_type": "stream",
     "text": [
      "2025-07-10 22:56:58,414 | INFO | pyMut.analysis.mutation_burden | TMB analysis saved to: results_tmb/TMB_analysis.tsv\n",
      "2025-07-10 22:56:58,414 | INFO | pyMut.analysis.mutation_burden | TMB statistics saved to: results_tmb/TMB_statistics.tsv\n",
      "2025-07-10 22:56:58,414 | INFO | pyMut.analysis.mutation_burden | Analyzed 193 samples with 2207 total mutations\n",
      "2025-07-10 22:56:58,415 | INFO | pyMut.analysis.mutation_burden | ========================================\n",
      "2025-07-10 22:56:58,415 | INFO | pyMut.analysis.mutation_burden | TMB ANALYSIS SUMMARY\n",
      "2025-07-10 22:56:58,415 | INFO | pyMut.analysis.mutation_burden | ========================================\n",
      "2025-07-10 22:56:58,415 | INFO | pyMut.analysis.mutation_burden | • Total samples analyzed: 193\n",
      "2025-07-10 22:56:58,416 | INFO | pyMut.analysis.mutation_burden | • Average total mutations per sample: 11.4\n",
      "2025-07-10 22:56:58,416 | INFO | pyMut.analysis.mutation_burden | • Average non-synonymous mutations per sample: 9.0\n",
      "2025-07-10 22:56:58,416 | INFO | pyMut.analysis.mutation_burden | • Average normalized TMB (total): 0.189147 mutations/Mb\n",
      "2025-07-10 22:56:58,416 | INFO | pyMut.analysis.mutation_burden | • Average normalized TMB (non-synonymous): 0.148438 mutations/Mb\n",
      "2025-07-10 22:56:58,417 | INFO | pyMut.analysis.mutation_burden | • Sample with highest TMB: TCGA-AB-3009\n",
      "2025-07-10 22:56:58,417 | INFO | pyMut.analysis.mutation_burden |   - TMB value: 0.694709 mutations/Mb\n",
      "2025-07-10 22:56:58,417 | INFO | pyMut.analysis.mutation_burden | • Sample with lowest TMB: TCGA-AB-2903\n",
      "2025-07-10 22:56:58,418 | INFO | pyMut.analysis.mutation_burden |   - TMB value: 0.016541 mutations/Mb\n",
      "2025-07-10 22:56:58,419 | INFO | pyMut.analysis.mutation_burden | ========================================\n"
     ]
    },
    {
     "name": "stdout",
     "output_type": "stream",
     "text": [
      "✅ Análisis TMB completado exitosamente!\n"
     ]
    }
   ],
   "execution_count": 6
  },
  {
   "metadata": {},
   "cell_type": "markdown",
   "source": "## Explorar los Resultados\n",
   "id": "67c64754c737bbdf"
  },
  {
   "metadata": {
    "ExecuteTime": {
     "end_time": "2025-07-10T20:56:58.439181Z",
     "start_time": "2025-07-10T20:56:58.432011Z"
    }
   },
   "cell_type": "code",
   "source": [
    "if results:\n",
    "    # Obtener los DataFrames de resultados\n",
    "    analysis_df = results['analysis']\n",
    "    statistics_df = results['statistics']\n",
    "    \n",
    "    print(\"📊 RESULTADOS DEL ANÁLISIS TMB\")\n",
    "    print(\"=\" * 50)\n",
    "    print(f\"👥 Muestras analizadas: {len(analysis_df)}\")\n",
    "    print(f\"📈 Métricas calculadas: {len(statistics_df)}\")\n",
    "    \n",
    "    # Mostrar las primeras filas del análisis por muestra\n",
    "    print(\"\\n🔍 Primeras 5 muestras del análisis:\")\n",
    "    print(\"-\" * 40)\n",
    "    display(analysis_df.head())\n",
    "    \n",
    "else:\n",
    "    print(\"❌ No se pudieron obtener los resultados del análisis\")\n"
   ],
   "id": "bdbf2853909e71fa",
   "outputs": [
    {
     "name": "stdout",
     "output_type": "stream",
     "text": [
      "📊 RESULTADOS DEL ANÁLISIS TMB\n",
      "==================================================\n",
      "👥 Muestras analizadas: 193\n",
      "📈 Métricas calculadas: 4\n",
      "\n",
      "🔍 Primeras 5 muestras del análisis:\n",
      "----------------------------------------\n"
     ]
    },
    {
     "data": {
      "text/plain": [
       "         Sample  Total_Mutations  Non_Synonymous_Mutations  \\\n",
       "0  TCGA-AB-2988               15                        13   \n",
       "1  TCGA-AB-2869               12                         8   \n",
       "2  TCGA-AB-3009               42                        34   \n",
       "3  TCGA-AB-2830               17                        13   \n",
       "4  TCGA-AB-2887               15                        12   \n",
       "\n",
       "   TMB_Total_Normalized  TMB_Non_Synonymous_Normalized  \n",
       "0              0.248110                       0.215029  \n",
       "1              0.198488                       0.132326  \n",
       "2              0.694709                       0.562384  \n",
       "3              0.281192                       0.215029  \n",
       "4              0.248110                       0.198488  "
      ],
      "text/html": [
       "<div>\n",
       "<style scoped>\n",
       "    .dataframe tbody tr th:only-of-type {\n",
       "        vertical-align: middle;\n",
       "    }\n",
       "\n",
       "    .dataframe tbody tr th {\n",
       "        vertical-align: top;\n",
       "    }\n",
       "\n",
       "    .dataframe thead th {\n",
       "        text-align: right;\n",
       "    }\n",
       "</style>\n",
       "<table border=\"1\" class=\"dataframe\">\n",
       "  <thead>\n",
       "    <tr style=\"text-align: right;\">\n",
       "      <th></th>\n",
       "      <th>Sample</th>\n",
       "      <th>Total_Mutations</th>\n",
       "      <th>Non_Synonymous_Mutations</th>\n",
       "      <th>TMB_Total_Normalized</th>\n",
       "      <th>TMB_Non_Synonymous_Normalized</th>\n",
       "    </tr>\n",
       "  </thead>\n",
       "  <tbody>\n",
       "    <tr>\n",
       "      <th>0</th>\n",
       "      <td>TCGA-AB-2988</td>\n",
       "      <td>15</td>\n",
       "      <td>13</td>\n",
       "      <td>0.248110</td>\n",
       "      <td>0.215029</td>\n",
       "    </tr>\n",
       "    <tr>\n",
       "      <th>1</th>\n",
       "      <td>TCGA-AB-2869</td>\n",
       "      <td>12</td>\n",
       "      <td>8</td>\n",
       "      <td>0.198488</td>\n",
       "      <td>0.132326</td>\n",
       "    </tr>\n",
       "    <tr>\n",
       "      <th>2</th>\n",
       "      <td>TCGA-AB-3009</td>\n",
       "      <td>42</td>\n",
       "      <td>34</td>\n",
       "      <td>0.694709</td>\n",
       "      <td>0.562384</td>\n",
       "    </tr>\n",
       "    <tr>\n",
       "      <th>3</th>\n",
       "      <td>TCGA-AB-2830</td>\n",
       "      <td>17</td>\n",
       "      <td>13</td>\n",
       "      <td>0.281192</td>\n",
       "      <td>0.215029</td>\n",
       "    </tr>\n",
       "    <tr>\n",
       "      <th>4</th>\n",
       "      <td>TCGA-AB-2887</td>\n",
       "      <td>15</td>\n",
       "      <td>12</td>\n",
       "      <td>0.248110</td>\n",
       "      <td>0.198488</td>\n",
       "    </tr>\n",
       "  </tbody>\n",
       "</table>\n",
       "</div>"
      ]
     },
     "metadata": {},
     "output_type": "display_data"
    }
   ],
   "execution_count": 7
  },
  {
   "metadata": {},
   "cell_type": "markdown",
   "source": "## Estadísticas Globales\n",
   "id": "92b2fd747377db67"
  },
  {
   "metadata": {
    "ExecuteTime": {
     "end_time": "2025-07-10T20:56:58.494900Z",
     "start_time": "2025-07-10T20:56:58.486503Z"
    }
   },
   "cell_type": "code",
   "source": [
    "if results:\n",
    "    print(\"📈 ESTADÍSTICAS GLOBALES DEL TMB\")\n",
    "    print(\"=\" * 40)\n",
    "    display(statistics_df)\n",
    "    \n",
    "    # Mostrar algunas estadísticas clave\n",
    "    print(\"\\n🎯 ESTADÍSTICAS CLAVE:\")\n",
    "    print(\"-\" * 30)\n",
    "    \n",
    "    # TMB total normalizado\n",
    "    tmb_total_stats = statistics_df[statistics_df['Metric'] == 'TMB_Total_Normalized'].iloc[0]\n",
    "    print(f\"🧬 TMB Total Normalizado:\")\n",
    "    print(f\"   • Media: {tmb_total_stats['Mean']:.4f} mutaciones/Mb\")\n",
    "    print(f\"   • Mediana: {tmb_total_stats['Median']:.4f} mutaciones/Mb\")\n",
    "    print(f\"   • Rango: {tmb_total_stats['Min']:.4f} - {tmb_total_stats['Max']:.4f} mutaciones/Mb\")\n",
    "    \n",
    "    # TMB no sinónimo normalizado\n",
    "    tmb_nonsyn_stats = statistics_df[statistics_df['Metric'] == 'TMB_Non_Synonymous_Normalized'].iloc[0]\n",
    "    print(f\"\\n🎯 TMB No Sinónimo Normalizado:\")\n",
    "    print(f\"   • Media: {tmb_nonsyn_stats['Mean']:.4f} mutaciones/Mb\")\n",
    "    print(f\"   • Mediana: {tmb_nonsyn_stats['Median']:.4f} mutaciones/Mb\")\n",
    "    print(f\"   • Rango: {tmb_nonsyn_stats['Min']:.4f} - {tmb_nonsyn_stats['Max']:.4f} mutaciones/Mb\")\n"
   ],
   "id": "6326b301d110f491",
   "outputs": [
    {
     "name": "stdout",
     "output_type": "stream",
     "text": [
      "📈 ESTADÍSTICAS GLOBALES DEL TMB\n",
      "========================================\n"
     ]
    },
    {
     "data": {
      "text/plain": [
       "                          Metric  Count       Mean     Median       Min  \\\n",
       "0                Total_Mutations    193  11.435233  11.000000  1.000000   \n",
       "1       Non_Synonymous_Mutations    193   8.974093   9.000000  0.000000   \n",
       "2           TMB_Total_Normalized    193   0.189147   0.181948  0.016541   \n",
       "3  TMB_Non_Synonymous_Normalized    193   0.148438   0.148866  0.000000   \n",
       "\n",
       "         Max        Q1         Q3       Std  \n",
       "0  42.000000  6.000000  15.000000  6.752870  \n",
       "1  34.000000  5.000000  12.000000  5.452862  \n",
       "2   0.694709  0.099244   0.248110  0.111697  \n",
       "3   0.562384  0.082703   0.198488  0.090194  "
      ],
      "text/html": [
       "<div>\n",
       "<style scoped>\n",
       "    .dataframe tbody tr th:only-of-type {\n",
       "        vertical-align: middle;\n",
       "    }\n",
       "\n",
       "    .dataframe tbody tr th {\n",
       "        vertical-align: top;\n",
       "    }\n",
       "\n",
       "    .dataframe thead th {\n",
       "        text-align: right;\n",
       "    }\n",
       "</style>\n",
       "<table border=\"1\" class=\"dataframe\">\n",
       "  <thead>\n",
       "    <tr style=\"text-align: right;\">\n",
       "      <th></th>\n",
       "      <th>Metric</th>\n",
       "      <th>Count</th>\n",
       "      <th>Mean</th>\n",
       "      <th>Median</th>\n",
       "      <th>Min</th>\n",
       "      <th>Max</th>\n",
       "      <th>Q1</th>\n",
       "      <th>Q3</th>\n",
       "      <th>Std</th>\n",
       "    </tr>\n",
       "  </thead>\n",
       "  <tbody>\n",
       "    <tr>\n",
       "      <th>0</th>\n",
       "      <td>Total_Mutations</td>\n",
       "      <td>193</td>\n",
       "      <td>11.435233</td>\n",
       "      <td>11.000000</td>\n",
       "      <td>1.000000</td>\n",
       "      <td>42.000000</td>\n",
       "      <td>6.000000</td>\n",
       "      <td>15.000000</td>\n",
       "      <td>6.752870</td>\n",
       "    </tr>\n",
       "    <tr>\n",
       "      <th>1</th>\n",
       "      <td>Non_Synonymous_Mutations</td>\n",
       "      <td>193</td>\n",
       "      <td>8.974093</td>\n",
       "      <td>9.000000</td>\n",
       "      <td>0.000000</td>\n",
       "      <td>34.000000</td>\n",
       "      <td>5.000000</td>\n",
       "      <td>12.000000</td>\n",
       "      <td>5.452862</td>\n",
       "    </tr>\n",
       "    <tr>\n",
       "      <th>2</th>\n",
       "      <td>TMB_Total_Normalized</td>\n",
       "      <td>193</td>\n",
       "      <td>0.189147</td>\n",
       "      <td>0.181948</td>\n",
       "      <td>0.016541</td>\n",
       "      <td>0.694709</td>\n",
       "      <td>0.099244</td>\n",
       "      <td>0.248110</td>\n",
       "      <td>0.111697</td>\n",
       "    </tr>\n",
       "    <tr>\n",
       "      <th>3</th>\n",
       "      <td>TMB_Non_Synonymous_Normalized</td>\n",
       "      <td>193</td>\n",
       "      <td>0.148438</td>\n",
       "      <td>0.148866</td>\n",
       "      <td>0.000000</td>\n",
       "      <td>0.562384</td>\n",
       "      <td>0.082703</td>\n",
       "      <td>0.198488</td>\n",
       "      <td>0.090194</td>\n",
       "    </tr>\n",
       "  </tbody>\n",
       "</table>\n",
       "</div>"
      ]
     },
     "metadata": {},
     "output_type": "display_data"
    },
    {
     "name": "stdout",
     "output_type": "stream",
     "text": [
      "\n",
      "🎯 ESTADÍSTICAS CLAVE:\n",
      "------------------------------\n",
      "🧬 TMB Total Normalizado:\n",
      "   • Media: 0.1891 mutaciones/Mb\n",
      "   • Mediana: 0.1819 mutaciones/Mb\n",
      "   • Rango: 0.0165 - 0.6947 mutaciones/Mb\n",
      "\n",
      "🎯 TMB No Sinónimo Normalizado:\n",
      "   • Media: 0.1484 mutaciones/Mb\n",
      "   • Mediana: 0.1489 mutaciones/Mb\n",
      "   • Rango: 0.0000 - 0.5624 mutaciones/Mb\n"
     ]
    }
   ],
   "execution_count": 8
  }
 ],
 "metadata": {},
 "nbformat": 4,
 "nbformat_minor": 5
}
