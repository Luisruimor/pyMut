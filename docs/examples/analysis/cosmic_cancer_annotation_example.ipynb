{
 "cells": [
  {
   "metadata": {},
   "cell_type": "markdown",
   "source": [
    "# COSMIC Cancer Annotation Example\n",
    "\n",
    "This notebook demonstrates the `cosmic_cancer_annotate` functionality with both MAF and VCF data files.\n",
    "\n",
    "## Overview\n",
    "- Load MAF data using `read_maf`\n",
    "- Load VCF data using `read_vcf`\n",
    "- Apply COSMIC cancer annotation to both instances\n",
    "- Display annotated columns and results\n"
   ],
   "id": "2ea63cdcd46ebda7"
  },
  {
   "metadata": {
    "ExecuteTime": {
     "end_time": "2025-07-20T20:14:09.347190Z",
     "start_time": "2025-07-20T20:14:08.878315Z"
    }
   },
   "cell_type": "code",
   "source": [
    "# Setup and imports\n",
    "import sys\n",
    "import logging\n",
    "from pathlib import Path\n",
    "import pandas as pd\n",
    "\n",
    "# Add src to path\n",
    "sys.path.insert(0, str(Path.cwd() / \"src\"))\n",
    "\n",
    "# Configure logging to show only important messages\n",
    "logging.basicConfig(level=logging.WARNING)\n",
    "logger = logging.getLogger('pyMut')\n",
    "logger.setLevel(logging.INFO)\n",
    "\n",
    "# Import pyMut functions\n",
    "from pyMut.input import read_maf, read_vcf\n",
    "\n",
    "print(\"✓ Setup complete\")\n"
   ],
   "id": "99ecfe26549ea8f3",
   "outputs": [
    {
     "name": "stdout",
     "output_type": "stream",
     "text": [
      "✓ Setup complete\n"
     ]
    }
   ],
   "execution_count": 1
  },
  {
   "metadata": {},
   "cell_type": "markdown",
   "source": [
    "## Data File Paths\n",
    "\n",
    "Define the paths to our example data files and COSMIC annotation table.\n"
   ],
   "id": "2b31174b7c764a2e"
  },
  {
   "metadata": {
    "ExecuteTime": {
     "end_time": "2025-07-20T20:14:09.438044Z",
     "start_time": "2025-07-20T20:14:09.435310Z"
    }
   },
   "cell_type": "code",
   "source": [
    "# Data file paths\n",
    "MAF_FILE = \"../../../src/pyMut/data/examples/MAF/tcga_laml_VEP_annotated.maf.gz\"\n",
    "VCF_FILE = \"../../../src/pyMut/data/examples/VCF/subset_1k_variants_ALL.chr10.shapeit2_integrated_snvindels_v2a_27022019.GRCh38.phased_vep_protein_gene_variant_class.vcf\"\n",
    "COSMIC_ANNOTATION = \"../../../src/pyMut/data/resources/COSMIC/Cosmic_CancerGeneCensus_Tsv_v102_GRCh38/Cosmic_CancerGeneCensus_v102_GRCh38.tsv.gz\"\n",
    "\n",
    "# Verify files exist\n",
    "for file_path, name in [(MAF_FILE, \"MAF\"), (VCF_FILE, \"VCF\"), (COSMIC_ANNOTATION, \"COSMIC\")]:\n",
    "    if Path(file_path).exists():\n",
    "        print(f\"✓ {name} file found: {Path(file_path).name}\")\n",
    "    else:\n",
    "        print(f\"✗ {name} file not found: {file_path}\")\n"
   ],
   "id": "f1b9f85523b84a47",
   "outputs": [
    {
     "name": "stdout",
     "output_type": "stream",
     "text": [
      "✓ MAF file found: tcga_laml_VEP_annotated.maf.gz\n",
      "✓ VCF file found: subset_1k_variants_ALL.chr10.shapeit2_integrated_snvindels_v2a_27022019.GRCh38.phased_vep_protein_gene_variant_class.vcf\n",
      "✓ COSMIC file found: Cosmic_CancerGeneCensus_v102_GRCh38.tsv.gz\n"
     ]
    }
   ],
   "execution_count": 2
  },
  {
   "metadata": {},
   "cell_type": "markdown",
   "source": [
    "## 1. Load MAF Data\n",
    "\n",
    "Load the TCGA LAML MAF file using `read_maf`.\n"
   ],
   "id": "2325d8157dc2027d"
  },
  {
   "metadata": {
    "ExecuteTime": {
     "end_time": "2025-07-20T20:14:09.697788Z",
     "start_time": "2025-07-20T20:14:09.485414Z"
    }
   },
   "cell_type": "code",
   "source": [
    "# Load MAF data\n",
    "print(\"Loading MAF data...\")\n",
    "py_mut_maf = read_maf(MAF_FILE)\n",
    "\n",
    "print(f\"\\n📊 MAF Data Summary:\")\n",
    "print(f\"   Shape: {py_mut_maf.data.shape}\")\n",
    "print(f\"   Source: {py_mut_maf.metadata.source_format}\")\n",
    "print(f\"   Unique genes: {py_mut_maf.data['Hugo_Symbol'].nunique()}\")\n",
    "print(f\"   Unique samples: {py_mut_maf.data['Tumor_Sample_Barcode'].nunique()}\")\n",
    "\n",
    "# Show first few rows\n",
    "print(f\"\\n📋 First 3 rows:\")\n",
    "display(py_mut_maf.data[['Hugo_Symbol', 'Variant_Classification', 'Tumor_Sample_Barcode']].head(3))\n"
   ],
   "id": "e1057adba4c79833",
   "outputs": [
    {
     "name": "stderr",
     "output_type": "stream",
     "text": [
      "INFO:pyMut.input:Starting MAF reading: ../../../src/pyMut/data/examples/MAF/tcga_laml_VEP_annotated.maf.gz\n",
      "INFO:pyMut.input:Reading MAF with 'pyarrow' engine…\n",
      "INFO:pyMut.input:Reading with 'pyarrow' completed.\n",
      "INFO:pyMut.input:Detected 193 unique samples.\n"
     ]
    },
    {
     "name": "stdout",
     "output_type": "stream",
     "text": [
      "Loading MAF data...\n"
     ]
    },
    {
     "name": "stderr",
     "output_type": "stream",
     "text": [
      "INFO:pyMut.input:Saving to cache: ../../../src/pyMut/data/examples/MAF/.pymut_cache/tcga_laml_VEP_annotated.maf_53cd8e2f7bdc9e4b.parquet\n",
      "INFO:pyMut.input:MAF processed successfully: 2207 rows, 237 columns in 0.20 seconds\n"
     ]
    },
    {
     "name": "stdout",
     "output_type": "stream",
     "text": [
      "\n",
      "📊 MAF Data Summary:\n",
      "   Shape: (2207, 237)\n",
      "   Source: MAF\n",
      "   Unique genes: 1611\n",
      "   Unique samples: 193\n",
      "\n",
      "📋 First 3 rows:\n"
     ]
    },
    {
     "data": {
      "text/plain": [
       "  Hugo_Symbol Variant_Classification Tumor_Sample_Barcode\n",
       "0      ABCA10            SPLICE_SITE         TCGA-AB-2988\n",
       "1       ABCA4      MISSENSE_MUTATION         TCGA-AB-2869\n",
       "2      ABCB11      MISSENSE_MUTATION         TCGA-AB-3009"
      ],
      "text/html": [
       "<div>\n",
       "<style scoped>\n",
       "    .dataframe tbody tr th:only-of-type {\n",
       "        vertical-align: middle;\n",
       "    }\n",
       "\n",
       "    .dataframe tbody tr th {\n",
       "        vertical-align: top;\n",
       "    }\n",
       "\n",
       "    .dataframe thead th {\n",
       "        text-align: right;\n",
       "    }\n",
       "</style>\n",
       "<table border=\"1\" class=\"dataframe\">\n",
       "  <thead>\n",
       "    <tr style=\"text-align: right;\">\n",
       "      <th></th>\n",
       "      <th>Hugo_Symbol</th>\n",
       "      <th>Variant_Classification</th>\n",
       "      <th>Tumor_Sample_Barcode</th>\n",
       "    </tr>\n",
       "  </thead>\n",
       "  <tbody>\n",
       "    <tr>\n",
       "      <th>0</th>\n",
       "      <td>ABCA10</td>\n",
       "      <td>SPLICE_SITE</td>\n",
       "      <td>TCGA-AB-2988</td>\n",
       "    </tr>\n",
       "    <tr>\n",
       "      <th>1</th>\n",
       "      <td>ABCA4</td>\n",
       "      <td>MISSENSE_MUTATION</td>\n",
       "      <td>TCGA-AB-2869</td>\n",
       "    </tr>\n",
       "    <tr>\n",
       "      <th>2</th>\n",
       "      <td>ABCB11</td>\n",
       "      <td>MISSENSE_MUTATION</td>\n",
       "      <td>TCGA-AB-3009</td>\n",
       "    </tr>\n",
       "  </tbody>\n",
       "</table>\n",
       "</div>"
      ]
     },
     "metadata": {},
     "output_type": "display_data"
    }
   ],
   "execution_count": 3
  },
  {
   "metadata": {},
   "cell_type": "markdown",
   "source": [
    "## 2. Load VCF Data\n",
    "\n",
    "Load the 1000 Genomes VCF file using `read_vcf`.\n"
   ],
   "id": "4a21de51052a074a"
  },
  {
   "metadata": {
    "ExecuteTime": {
     "end_time": "2025-07-20T20:14:15.037331Z",
     "start_time": "2025-07-20T20:14:09.711286Z"
    }
   },
   "cell_type": "code",
   "source": [
    "# Load VCF data\n",
    "print(\"Loading VCF data...\")\n",
    "py_mut_vcf = read_vcf(VCF_FILE)\n",
    "\n",
    "print(f\"\\n📊 VCF Data Summary:\")\n",
    "print(f\"   Shape: {py_mut_vcf.data.shape}\")\n",
    "print(f\"   Source: {py_mut_vcf.metadata.source_format}\")\n",
    "print(f\"   Unique genes: {py_mut_vcf.data['Hugo_Symbol'].nunique()}\")\n",
    "print(f\"   Chromosome: {py_mut_vcf.data['CHROM'].unique()[0]}\")\n",
    "\n",
    "# Show first few rows\n",
    "print(f\"\\n📋 First 3 rows:\")\n",
    "display(py_mut_vcf.data[['Hugo_Symbol', 'CHROM', 'POS', 'REF', 'ALT', 'Variant_Classification']].head(3))\n"
   ],
   "id": "deff82dac21e35a1",
   "outputs": [
    {
     "name": "stderr",
     "output_type": "stream",
     "text": [
      "INFO:pyMut.input:Starting optimized VCF reading: ../../../src/pyMut/data/examples/VCF/subset_1k_variants_ALL.chr10.shapeit2_integrated_snvindels_v2a_27022019.GRCh38.phased_vep_protein_gene_variant_class.vcf\n",
      "INFO:pyMut.input:Reading VCF with pandas + pyarrow optimization...\n"
     ]
    },
    {
     "name": "stdout",
     "output_type": "stream",
     "text": [
      "Loading VCF data...\n"
     ]
    },
    {
     "name": "stderr",
     "output_type": "stream",
     "text": [
      "INFO:pyMut.input:Pandas reading completed.\n",
      "INFO:pyMut.input:Expanding INFO column with vectorized operations...\n",
      "INFO:pyMut.input:Expanding VEP CSQ annotations into individual columns...\n",
      "INFO:pyMut.input:CSQ expanded into 31 VEP annotation columns in 0.10 s\n",
      "INFO:pyMut.input:Generating Hugo_Symbol column from VEP_SYMBOL and VEP_NEAREST...\n",
      "INFO:pyMut.input:Hugo_Symbol column generated in 0.00 s\n",
      "INFO:pyMut.input:Generating Variant_Classification from VEP_Consequence and VEP_VARIANT_CLASS...\n",
      "INFO:pyMut.input:Variant_Classification generated in 0.22 s\n",
      "INFO:pyMut.input:Generating Variant_Type from VEP_VARIANT_CLASS...\n",
      "INFO:pyMut.input:Variant_Type generated in 0.21 s\n",
      "INFO:pyMut.input:Detected 2555 sample columns. Starting vectorized genotype conversion...\n",
      "INFO:pyMut.input:GT conversion: 3.55 s\n",
      "INFO:pyMut.input:Saving to cache: ../../../src/pyMut/data/examples/VCF/.pymut_cache/subset_1k_variants_ALL.chr10.shapeit2_integrated_snvindels_v2a_27022019.GRCh38.phased_vep_protein_gene_variant_class_ca5844434b994319.parquet\n",
      "INFO:pyMut.input:VCF processed successfully: 1000 rows, 2602 columns in 5.32 seconds\n"
     ]
    },
    {
     "name": "stdout",
     "output_type": "stream",
     "text": [
      "\n",
      "📊 VCF Data Summary:\n",
      "   Shape: (1000, 2602)\n",
      "   Source: VCF\n",
      "   Unique genes: 2\n",
      "   Chromosome: chr10\n",
      "\n",
      "📋 First 3 rows:\n"
     ]
    },
    {
     "data": {
      "text/plain": [
       "  Hugo_Symbol  CHROM    POS REF ALT Variant_Classification\n",
       "0       TUBB8  chr10  11501   C   A                 INTRON\n",
       "1       TUBB8  chr10  36097   G   A                 INTRON\n",
       "2       TUBB8  chr10  45900   C   T                3'FLANK"
      ],
      "text/html": [
       "<div>\n",
       "<style scoped>\n",
       "    .dataframe tbody tr th:only-of-type {\n",
       "        vertical-align: middle;\n",
       "    }\n",
       "\n",
       "    .dataframe tbody tr th {\n",
       "        vertical-align: top;\n",
       "    }\n",
       "\n",
       "    .dataframe thead th {\n",
       "        text-align: right;\n",
       "    }\n",
       "</style>\n",
       "<table border=\"1\" class=\"dataframe\">\n",
       "  <thead>\n",
       "    <tr style=\"text-align: right;\">\n",
       "      <th></th>\n",
       "      <th>Hugo_Symbol</th>\n",
       "      <th>CHROM</th>\n",
       "      <th>POS</th>\n",
       "      <th>REF</th>\n",
       "      <th>ALT</th>\n",
       "      <th>Variant_Classification</th>\n",
       "    </tr>\n",
       "  </thead>\n",
       "  <tbody>\n",
       "    <tr>\n",
       "      <th>0</th>\n",
       "      <td>TUBB8</td>\n",
       "      <td>chr10</td>\n",
       "      <td>11501</td>\n",
       "      <td>C</td>\n",
       "      <td>A</td>\n",
       "      <td>INTRON</td>\n",
       "    </tr>\n",
       "    <tr>\n",
       "      <th>1</th>\n",
       "      <td>TUBB8</td>\n",
       "      <td>chr10</td>\n",
       "      <td>36097</td>\n",
       "      <td>G</td>\n",
       "      <td>A</td>\n",
       "      <td>INTRON</td>\n",
       "    </tr>\n",
       "    <tr>\n",
       "      <th>2</th>\n",
       "      <td>TUBB8</td>\n",
       "      <td>chr10</td>\n",
       "      <td>45900</td>\n",
       "      <td>C</td>\n",
       "      <td>T</td>\n",
       "      <td>3'FLANK</td>\n",
       "    </tr>\n",
       "  </tbody>\n",
       "</table>\n",
       "</div>"
      ]
     },
     "metadata": {},
     "output_type": "display_data"
    }
   ],
   "execution_count": 4
  },
  {
   "metadata": {},
   "cell_type": "markdown",
   "source": [
    "## 3. Apply COSMIC Cancer Annotation to MAF Data\n",
    "\n",
    "Apply the `cosmic_cancer_annotate` method to the MAF data.\n"
   ],
   "id": "720d5a37ee038ab2"
  },
  {
   "metadata": {
    "ExecuteTime": {
     "end_time": "2025-07-20T20:14:15.172282Z",
     "start_time": "2025-07-20T20:14:15.049232Z"
    }
   },
   "cell_type": "code",
   "source": [
    "# Apply COSMIC annotation to MAF data\n",
    "print(\"🔬 Applying COSMIC cancer annotation to MAF data...\")\n",
    "\n",
    "# Apply annotation (in_place=False to get returned DataFrame)\n",
    "maf_annotated = py_mut_maf.cosmic_cancer_annotate(\n",
    "    annotation_table=COSMIC_ANNOTATION,\n",
    "    in_place=False\n",
    ")\n",
    "\n",
    "print(f\"\\n✅ MAF Annotation Complete!\")\n",
    "print(f\"   Original shape: {py_mut_maf.data.shape}\")\n",
    "print(f\"   Annotated shape: {maf_annotated.shape}\")\n",
    "\n",
    "# Show new annotation columns\n",
    "original_cols = set(py_mut_maf.data.columns)\n",
    "new_cols = [col for col in maf_annotated.columns if col not in original_cols]\n",
    "print(f\"\\n🏷️  New annotation columns ({len(new_cols)}):\")\n",
    "for col in new_cols:\n",
    "    print(f\"   • {col}\")\n",
    "\n",
    "# Show annotation results for genes with annotations\n",
    "annotated_genes = maf_annotated[maf_annotated['Is_Oncogene_any'] == True]\n",
    "if len(annotated_genes) > 0:\n",
    "    print(f\"\\n🎯 Genes with cancer annotations ({len(annotated_genes)} variants):\")\n",
    "    annotation_cols = ['Hugo_Symbol'] + [col for col in new_cols if col in maf_annotated.columns]\n",
    "    display(annotated_genes[annotation_cols].drop_duplicates('Hugo_Symbol').head(10))\n",
    "else:\n",
    "    print(\"\\n⚠️  No genes found with cancer annotations in this dataset\")\n"
   ],
   "id": "f18ff9f0499893a7",
   "outputs": [
    {
     "name": "stderr",
     "output_type": "stream",
     "text": [
      "INFO:pyMut.annotate.cosmic_cancer_annotate:DataFrame memory usage: 0.03 GB\n",
      "INFO:pyMut.annotate.cosmic_cancer_annotate:Using pandas backend for annotation\n",
      "INFO:pyMut.annotate.cosmic_cancer_annotate:Starting pandas annotation for DataFrame: 2207 rows, 237 columns\n",
      "INFO:pyMut.annotate.cosmic_cancer_annotate:Using MAF join column: Hugo_Symbol\n",
      "INFO:pyMut.annotate.cosmic_cancer_annotate:Reading annotation table: ../../../src/pyMut/data/resources/COSMIC/Cosmic_CancerGeneCensus_Tsv_v102_GRCh38/Cosmic_CancerGeneCensus_v102_GRCh38.tsv.gz\n",
      "INFO:pyMut.annotate.cosmic_cancer_annotate:Annotation table loaded: 758 rows, 21 columns\n",
      "INFO:pyMut.annotate.cosmic_cancer_annotate:Creating synonyms dictionary from column 'SYNONYMS'...\n",
      "INFO:pyMut.annotate.cosmic_cancer_annotate:Created synonyms dictionary with 4710 mappings\n",
      "INFO:pyMut.annotate.cosmic_cancer_annotate:Applying synonyms mapping to MAF data...\n",
      "INFO:pyMut.annotate.cosmic_cancer_annotate:Gene mapping results: 2202 direct matches, 5 synonym matches\n",
      "INFO:pyMut.annotate.cosmic_cancer_annotate:Performing annotation merge...\n",
      "INFO:pyMut.annotate.cosmic_cancer_annotate:COSMIC annotation completed: 2207 rows, 257 columns\n",
      "INFO:pyMut.annotate.cosmic_cancer_annotate:Added 20 COSMIC annotation columns\n",
      "INFO:pyMut.annotate.cosmic_cancer_annotate:Total annotation completed: 2207 rows, 257 columns\n",
      "INFO:pyMut.annotate.cosmic_cancer_annotate:Pandas annotation completed successfully\n",
      "INFO:pyMut.annotate.cosmic_cancer_annotate:KnownCancer annotation completed successfully\n",
      "INFO:pyMut.annotate.cosmic_cancer_annotate:Filtered to 2 annotation columns plus Is_Oncogene_any field\n"
     ]
    },
    {
     "name": "stdout",
     "output_type": "stream",
     "text": [
      "🔬 Applying COSMIC cancer annotation to MAF data...\n",
      "\n",
      "✅ MAF Annotation Complete!\n",
      "   Original shape: (2207, 237)\n",
      "   Annotated shape: (2207, 240)\n",
      "\n",
      "🏷️  New annotation columns (3):\n",
      "   • COSMIC_ROLE_IN_CANCER\n",
      "   • COSMIC_TIER\n",
      "   • Is_Oncogene_any\n",
      "\n",
      "🎯 Genes with cancer annotations (513 variants):\n"
     ]
    },
    {
     "data": {
      "text/plain": [
       "    Hugo_Symbol COSMIC_ROLE_IN_CANCER COSMIC_TIER  Is_Oncogene_any\n",
       "8          ABL1      oncogene, fusion         1.0             True\n",
       "40         AFF4      oncogene, fusion         1.0             True\n",
       "88      ARHGAP5              oncogene         2.0             True\n",
       "90    ARHGEF10L                   TSG         2.0             True\n",
       "96       ARID1A           TSG, fusion         1.0             True\n",
       "97        ARID2                   TSG         1.0             True\n",
       "107       ASXL1                   TSG         1.0             True\n",
       "112       ASXL2                   TSG         2.0             True\n",
       "125      ATP2B3                   TSG         1.0             True\n",
       "141       BACH1                   TSG         1.0             True"
      ],
      "text/html": [
       "<div>\n",
       "<style scoped>\n",
       "    .dataframe tbody tr th:only-of-type {\n",
       "        vertical-align: middle;\n",
       "    }\n",
       "\n",
       "    .dataframe tbody tr th {\n",
       "        vertical-align: top;\n",
       "    }\n",
       "\n",
       "    .dataframe thead th {\n",
       "        text-align: right;\n",
       "    }\n",
       "</style>\n",
       "<table border=\"1\" class=\"dataframe\">\n",
       "  <thead>\n",
       "    <tr style=\"text-align: right;\">\n",
       "      <th></th>\n",
       "      <th>Hugo_Symbol</th>\n",
       "      <th>COSMIC_ROLE_IN_CANCER</th>\n",
       "      <th>COSMIC_TIER</th>\n",
       "      <th>Is_Oncogene_any</th>\n",
       "    </tr>\n",
       "  </thead>\n",
       "  <tbody>\n",
       "    <tr>\n",
       "      <th>8</th>\n",
       "      <td>ABL1</td>\n",
       "      <td>oncogene, fusion</td>\n",
       "      <td>1.0</td>\n",
       "      <td>True</td>\n",
       "    </tr>\n",
       "    <tr>\n",
       "      <th>40</th>\n",
       "      <td>AFF4</td>\n",
       "      <td>oncogene, fusion</td>\n",
       "      <td>1.0</td>\n",
       "      <td>True</td>\n",
       "    </tr>\n",
       "    <tr>\n",
       "      <th>88</th>\n",
       "      <td>ARHGAP5</td>\n",
       "      <td>oncogene</td>\n",
       "      <td>2.0</td>\n",
       "      <td>True</td>\n",
       "    </tr>\n",
       "    <tr>\n",
       "      <th>90</th>\n",
       "      <td>ARHGEF10L</td>\n",
       "      <td>TSG</td>\n",
       "      <td>2.0</td>\n",
       "      <td>True</td>\n",
       "    </tr>\n",
       "    <tr>\n",
       "      <th>96</th>\n",
       "      <td>ARID1A</td>\n",
       "      <td>TSG, fusion</td>\n",
       "      <td>1.0</td>\n",
       "      <td>True</td>\n",
       "    </tr>\n",
       "    <tr>\n",
       "      <th>97</th>\n",
       "      <td>ARID2</td>\n",
       "      <td>TSG</td>\n",
       "      <td>1.0</td>\n",
       "      <td>True</td>\n",
       "    </tr>\n",
       "    <tr>\n",
       "      <th>107</th>\n",
       "      <td>ASXL1</td>\n",
       "      <td>TSG</td>\n",
       "      <td>1.0</td>\n",
       "      <td>True</td>\n",
       "    </tr>\n",
       "    <tr>\n",
       "      <th>112</th>\n",
       "      <td>ASXL2</td>\n",
       "      <td>TSG</td>\n",
       "      <td>2.0</td>\n",
       "      <td>True</td>\n",
       "    </tr>\n",
       "    <tr>\n",
       "      <th>125</th>\n",
       "      <td>ATP2B3</td>\n",
       "      <td>TSG</td>\n",
       "      <td>1.0</td>\n",
       "      <td>True</td>\n",
       "    </tr>\n",
       "    <tr>\n",
       "      <th>141</th>\n",
       "      <td>BACH1</td>\n",
       "      <td>TSG</td>\n",
       "      <td>1.0</td>\n",
       "      <td>True</td>\n",
       "    </tr>\n",
       "  </tbody>\n",
       "</table>\n",
       "</div>"
      ]
     },
     "metadata": {},
     "output_type": "display_data"
    }
   ],
   "execution_count": 5
  },
  {
   "metadata": {},
   "cell_type": "markdown",
   "source": [
    "## 4. Apply COSMIC Cancer Annotation to VCF Data\n",
    "\n",
    "Apply the `cosmic_cancer_annotate` method to the VCF data.\n"
   ],
   "id": "d75998cd505cf90c"
  },
  {
   "metadata": {
    "ExecuteTime": {
     "end_time": "2025-07-20T20:14:15.857301Z",
     "start_time": "2025-07-20T20:14:15.200828Z"
    }
   },
   "cell_type": "code",
   "source": [
    "# Apply COSMIC annotation to VCF data\n",
    "print(\"🔬 Applying COSMIC cancer annotation to VCF data...\")\n",
    "\n",
    "# Apply annotation (in_place=False to get returned DataFrame)\n",
    "vcf_annotated = py_mut_vcf.cosmic_cancer_annotate(\n",
    "    annotation_table=COSMIC_ANNOTATION,\n",
    "    in_place=False\n",
    ")\n",
    "\n",
    "print(f\"\\n✅ VCF Annotation Complete!\")\n",
    "print(f\"   Original shape: {py_mut_vcf.data.shape}\")\n",
    "print(f\"   Annotated shape: {vcf_annotated.shape}\")\n",
    "\n",
    "# Show new annotation columns\n",
    "original_cols = set(py_mut_vcf.data.columns)\n",
    "new_cols = [col for col in vcf_annotated.columns if col not in original_cols]\n",
    "print(f\"\\n🏷️  New annotation columns ({len(new_cols)}):\")\n",
    "for col in new_cols:\n",
    "    print(f\"   • {col}\")\n",
    "\n",
    "# Show annotation results for genes with annotations\n",
    "annotated_genes = vcf_annotated[vcf_annotated['Is_Oncogene_any'] == True]\n",
    "if len(annotated_genes) > 0:\n",
    "    print(f\"\\n🎯 Genes with cancer annotations ({len(annotated_genes)} variants):\")\n",
    "    annotation_cols = ['Hugo_Symbol', 'CHROM', 'POS'] + [col for col in new_cols if col in vcf_annotated.columns]\n",
    "    display(annotated_genes[annotation_cols].drop_duplicates('Hugo_Symbol').head(10))\n",
    "else:\n",
    "    print(\"\\n⚠️  No genes found with cancer annotations in this dataset\")\n"
   ],
   "id": "5b22e3cd5d48a5cf",
   "outputs": [
    {
     "name": "stdout",
     "output_type": "stream",
     "text": [
      "🔬 Applying COSMIC cancer annotation to VCF data...\n"
     ]
    },
    {
     "name": "stderr",
     "output_type": "stream",
     "text": [
      "INFO:pyMut.annotate.cosmic_cancer_annotate:DataFrame memory usage: 0.15 GB\n",
      "INFO:pyMut.annotate.cosmic_cancer_annotate:Using pandas backend for annotation\n",
      "INFO:pyMut.annotate.cosmic_cancer_annotate:Starting pandas annotation for DataFrame: 1000 rows, 2602 columns\n",
      "INFO:pyMut.annotate.cosmic_cancer_annotate:Using MAF join column: Hugo_Symbol\n",
      "INFO:pyMut.annotate.cosmic_cancer_annotate:Reading annotation table: ../../../src/pyMut/data/resources/COSMIC/Cosmic_CancerGeneCensus_Tsv_v102_GRCh38/Cosmic_CancerGeneCensus_v102_GRCh38.tsv.gz\n",
      "INFO:pyMut.annotate.cosmic_cancer_annotate:Annotation table loaded: 758 rows, 21 columns\n",
      "INFO:pyMut.annotate.cosmic_cancer_annotate:Creating synonyms dictionary from column 'SYNONYMS'...\n",
      "INFO:pyMut.annotate.cosmic_cancer_annotate:Created synonyms dictionary with 4710 mappings\n",
      "INFO:pyMut.annotate.cosmic_cancer_annotate:Applying synonyms mapping to MAF data...\n",
      "INFO:pyMut.annotate.cosmic_cancer_annotate:Gene mapping results: 1000 direct matches, 0 synonym matches\n",
      "INFO:pyMut.annotate.cosmic_cancer_annotate:Performing annotation merge...\n",
      "INFO:pyMut.annotate.cosmic_cancer_annotate:COSMIC annotation completed: 1000 rows, 2622 columns\n",
      "INFO:pyMut.annotate.cosmic_cancer_annotate:Added 20 COSMIC annotation columns\n",
      "INFO:pyMut.annotate.cosmic_cancer_annotate:Total annotation completed: 1000 rows, 2622 columns\n",
      "INFO:pyMut.annotate.cosmic_cancer_annotate:Pandas annotation completed successfully\n",
      "INFO:pyMut.annotate.cosmic_cancer_annotate:KnownCancer annotation completed successfully\n",
      "INFO:pyMut.annotate.cosmic_cancer_annotate:Filtered to 2 annotation columns plus Is_Oncogene_any field\n"
     ]
    },
    {
     "name": "stdout",
     "output_type": "stream",
     "text": [
      "\n",
      "✅ VCF Annotation Complete!\n",
      "   Original shape: (1000, 2602)\n",
      "   Annotated shape: (1000, 2605)\n",
      "\n",
      "🏷️  New annotation columns (3):\n",
      "   • COSMIC_ROLE_IN_CANCER\n",
      "   • COSMIC_TIER\n",
      "   • Is_Oncogene_any\n",
      "\n",
      "⚠️  No genes found with cancer annotations in this dataset\n"
     ]
    }
   ],
   "execution_count": 6
  },
  {
   "metadata": {},
   "cell_type": "markdown",
   "source": [
    "## 5. Summary and Comparison\n",
    "\n",
    "Compare the annotation results between MAF and VCF data.\n"
   ],
   "id": "ebb6435fcfc2098"
  },
  {
   "metadata": {
    "ExecuteTime": {
     "end_time": "2025-07-20T20:14:15.887006Z",
     "start_time": "2025-07-20T20:14:15.876192Z"
    }
   },
   "cell_type": "code",
   "source": [
    "# Summary comparison\n",
    "print(\"📊 COSMIC Cancer Annotation Summary\")\n",
    "print(\"=\" * 50)\n",
    "\n",
    "# MAF results\n",
    "maf_oncogenes = maf_annotated[maf_annotated['Is_Oncogene_any'] == True]['Hugo_Symbol'].nunique()\n",
    "maf_total_genes = maf_annotated['Hugo_Symbol'].nunique()\n",
    "maf_cosmic_role = maf_annotated['COSMIC_ROLE_IN_CANCER'].value_counts().to_dict() if 'COSMIC_ROLE_IN_CANCER' in maf_annotated.columns else {}\n",
    "\n",
    "print(f\"\\n🧬 MAF Data Results:\")\n",
    "print(f\"   Total unique genes: {maf_total_genes}\")\n",
    "print(f\"   Genes with cancer annotations: {maf_oncogenes}\")\n",
    "print(f\"   Annotation rate: {maf_oncogenes/maf_total_genes*100:.1f}%\")\n",
    "if maf_cosmic_role:\n",
    "    print(f\"   COSMIC roles found: {list(maf_cosmic_role.keys())}\")\n",
    "\n",
    "# VCF results\n",
    "vcf_oncogenes = vcf_annotated[vcf_annotated['Is_Oncogene_any'] == True]['Hugo_Symbol'].nunique()\n",
    "vcf_total_genes = vcf_annotated['Hugo_Symbol'].nunique()\n",
    "vcf_cosmic_role = vcf_annotated['COSMIC_ROLE_IN_CANCER'].value_counts().to_dict() if 'COSMIC_ROLE_IN_CANCER' in vcf_annotated.columns else {}\n",
    "\n",
    "print(f\"\\n🧬 VCF Data Results:\")\n",
    "print(f\"   Total unique genes: {vcf_total_genes}\")\n",
    "print(f\"   Genes with cancer annotations: {vcf_oncogenes}\")\n",
    "print(f\"   Annotation rate: {vcf_oncogenes/vcf_total_genes*100:.1f}%\")\n",
    "if vcf_cosmic_role:\n",
    "    print(f\"   COSMIC roles found: {list(vcf_cosmic_role.keys())}\")\n",
    "\n",
    "print(f\"\\n✅ Annotation process completed successfully for both datasets!\")\n"
   ],
   "id": "31b05cdaf93e88dc",
   "outputs": [
    {
     "name": "stdout",
     "output_type": "stream",
     "text": [
      "📊 COSMIC Cancer Annotation Summary\n",
      "==================================================\n",
      "\n",
      "🧬 MAF Data Results:\n",
      "   Total unique genes: 1611\n",
      "   Genes with cancer annotations: 136\n",
      "   Annotation rate: 8.4%\n",
      "   COSMIC roles found: ['', 'oncogene', 'TSG', 'oncogene, TSG, fusion', 'oncogene, fusion', 'fusion', 'oncogene, TSG', 'TSG, fusion']\n",
      "\n",
      "🧬 VCF Data Results:\n",
      "   Total unique genes: 2\n",
      "   Genes with cancer annotations: 0\n",
      "   Annotation rate: 0.0%\n",
      "   COSMIC roles found: ['']\n",
      "\n",
      "✅ Annotation process completed successfully for both datasets!\n"
     ]
    }
   ],
   "execution_count": 7
  },
  {
   "metadata": {},
   "cell_type": "markdown",
   "source": [
    "## 6. Detailed Annotation Results\n",
    "\n",
    "Show detailed annotation information for genes that have COSMIC annotations.\n"
   ],
   "id": "84339729a684876b"
  },
  {
   "metadata": {
    "ExecuteTime": {
     "end_time": "2025-07-20T20:14:15.939802Z",
     "start_time": "2025-07-20T20:14:15.930674Z"
    }
   },
   "cell_type": "code",
   "source": [
    "# Show detailed annotation results\n",
    "print(\"🔍 Detailed Annotation Results\")\n",
    "print(\"=\" * 40)\n",
    "\n",
    "# Function to show annotation details\n",
    "def show_annotation_details(data, dataset_name):\n",
    "    print(f\"\\n📋 {dataset_name} - Genes with COSMIC annotations:\")\n",
    "    \n",
    "    # Get genes with annotations\n",
    "    annotated = data[data['Is_Oncogene_any'] == True]\n",
    "    \n",
    "    if len(annotated) == 0:\n",
    "        print(\"   No genes with COSMIC annotations found.\")\n",
    "        return\n",
    "    \n",
    "    # Show annotation columns\n",
    "    annotation_cols = [col for col in data.columns if col.startswith('COSMIC_') or col == 'Is_Oncogene_any']\n",
    "    \n",
    "    if annotation_cols:\n",
    "        gene_annotations = annotated[['Hugo_Symbol'] + annotation_cols].drop_duplicates('Hugo_Symbol')\n",
    "        \n",
    "        print(f\"   Found {len(gene_annotations)} unique genes with annotations:\")\n",
    "        \n",
    "        # Show each annotated gene\n",
    "        for _, row in gene_annotations.head(10).iterrows():\n",
    "            gene = row['Hugo_Symbol']\n",
    "            role = row.get('COSMIC_ROLE_IN_CANCER', 'N/A')\n",
    "            tier = row.get('COSMIC_TIER', 'N/A')\n",
    "            oncogene = row.get('Is_Oncogene_any', False)\n",
    "            \n",
    "            print(f\"   • {gene}: Role={role}, Tier={tier}, Oncogene={oncogene}\")\n",
    "        \n",
    "        if len(gene_annotations) > 10:\n",
    "            print(f\"   ... and {len(gene_annotations) - 10} more genes\")\n",
    "\n",
    "# Show details for both datasets\n",
    "show_annotation_details(maf_annotated, \"MAF Dataset\")\n",
    "show_annotation_details(vcf_annotated, \"VCF Dataset\")\n"
   ],
   "id": "da8b4685c88ef485",
   "outputs": [
    {
     "name": "stdout",
     "output_type": "stream",
     "text": [
      "🔍 Detailed Annotation Results\n",
      "========================================\n",
      "\n",
      "📋 MAF Dataset - Genes with COSMIC annotations:\n",
      "   Found 136 unique genes with annotations:\n",
      "   • ABL1: Role=oncogene, fusion, Tier=1.0, Oncogene=True\n",
      "   • AFF4: Role=oncogene, fusion, Tier=1.0, Oncogene=True\n",
      "   • ARHGAP5: Role=oncogene, Tier=2.0, Oncogene=True\n",
      "   • ARHGEF10L: Role=TSG, Tier=2.0, Oncogene=True\n",
      "   • ARID1A: Role=TSG, fusion, Tier=1.0, Oncogene=True\n",
      "   • ARID2: Role=TSG, Tier=1.0, Oncogene=True\n",
      "   • ASXL1: Role=TSG, Tier=1.0, Oncogene=True\n",
      "   • ASXL2: Role=TSG, Tier=2.0, Oncogene=True\n",
      "   • ATP2B3: Role=TSG, Tier=1.0, Oncogene=True\n",
      "   • BACH1: Role=TSG, Tier=1.0, Oncogene=True\n",
      "   ... and 126 more genes\n",
      "\n",
      "📋 VCF Dataset - Genes with COSMIC annotations:\n",
      "   No genes with COSMIC annotations found.\n"
     ]
    }
   ],
   "execution_count": 8
  }
 ],
 "metadata": {},
 "nbformat": 4,
 "nbformat_minor": 5
}
