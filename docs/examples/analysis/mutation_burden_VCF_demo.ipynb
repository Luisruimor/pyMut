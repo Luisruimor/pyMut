{
 "cells": [
  {
   "cell_type": "markdown",
   "id": "82a2393394339de7",
   "metadata": {},
   "source": [
    "# Demostración del Análisis de Carga Mutacional (TMB) con VCF\n",
    "\n",
    "Este notebook demuestra cómo utilizar el método `calculate_tmb_analysis` de PyMutation para calcular la Carga Mutacional Tumoral (TMB) utilizando archivos VCF y generar los archivos de análisis correspondientes.\n",
    "\n",
    "## ¿Qué es TMB?\n",
    "La Carga Mutacional Tumoral (TMB) es una medida del número de mutaciones presentes en un tumor, normalizada por el tamaño del genoma interrogado. Es un biomarcador importante en oncología.\n"
   ]
  },
  {
   "cell_type": "markdown",
   "id": "cccd9fafdb13903d",
   "metadata": {},
   "source": [
    "## Configuración Inicial\n"
   ]
  },
  {
   "cell_type": "code",
   "execution_count": 1,
   "id": "1c308cd51404561d",
   "metadata": {
    "ExecuteTime": {
     "end_time": "2025-07-21T00:55:27.293569Z",
     "start_time": "2025-07-21T00:55:27.289624Z"
    }
   },
   "outputs": [
    {
     "name": "stdout",
     "output_type": "stream",
     "text": [
      "✅ PYTHONPATH configurado para incluir: /home/luisruimore/Escritorio/TFG/src\n",
      "📁 Directorio del proyecto: /home/luisruimore/Escritorio/TFG\n"
     ]
    }
   ],
   "source": [
    "import sys\n",
    "import os\n",
    "\n",
    "# Método compatible con Jupyter notebooks para encontrar el directorio del proyecto\n",
    "# Asumimos que estamos en docs/examples/analysis/ y necesitamos ir 3 niveles arriba\n",
    "try:\n",
    "    # Intentar usar __file__ si está disponible (scripts .py)\n",
    "    script_dir = os.path.dirname(__file__)\n",
    "    project_root = os.path.abspath(os.path.join(script_dir, '..', '..', '..'))\n",
    "except NameError:\n",
    "    # Si __file__ no está definido (Jupyter notebooks), usar el directorio actual\n",
    "    # y navegar hacia arriba hasta encontrar el directorio del proyecto\n",
    "    current_dir = os.getcwd()\n",
    "    \n",
    "    # Buscar el directorio que contiene 'src' y 'docs' (indicadores del proyecto root)\n",
    "    project_root = current_dir\n",
    "    while project_root != os.path.dirname(project_root):  # No hemos llegado al root del sistema\n",
    "        if (os.path.exists(os.path.join(project_root, 'src')) and \n",
    "            os.path.exists(os.path.join(project_root, 'docs'))):\n",
    "            break\n",
    "        project_root = os.path.dirname(project_root)\n",
    "    \n",
    "    # Si no encontramos el proyecto, asumir que estamos en docs/examples/analysis/\n",
    "    if not (os.path.exists(os.path.join(project_root, 'src')) and \n",
    "            os.path.exists(os.path.join(project_root, 'docs'))):\n",
    "        project_root = os.path.abspath(os.path.join(current_dir, '..', '..', '..'))\n",
    "\n",
    "# Configurar el path para importar pyMut\n",
    "src_path = os.path.join(project_root, 'src')\n",
    "if src_path not in sys.path:\n",
    "    sys.path.append(src_path)\n",
    "\n",
    "print('✅ PYTHONPATH configurado para incluir:', src_path)\n",
    "print(f'📁 Directorio del proyecto: {project_root}')"
   ]
  },
  {
   "cell_type": "code",
   "execution_count": 2,
   "id": "7a8df151a3938ea5",
   "metadata": {
    "ExecuteTime": {
     "end_time": "2025-07-21T00:55:27.887484Z",
     "start_time": "2025-07-21T00:55:27.459939Z"
    }
   },
   "outputs": [
    {
     "name": "stdout",
     "output_type": "stream",
     "text": [
      "✅ Módulos importados correctamente\n"
     ]
    }
   ],
   "source": [
    "# Importar PyMutation y cargar datos\n",
    "from pyMut.input import read_vcf\n",
    "from pyMut.analysis.mutation_burden import add_tmb_method_to_pymutation\n",
    "\n",
    "# Asegurar que el método TMB esté disponible\n",
    "add_tmb_method_to_pymutation()\n",
    "\n",
    "print('✅ Módulos importados correctamente')\n"
   ]
  },
  {
   "cell_type": "markdown",
   "id": "5a652a9fea9262ea",
   "metadata": {},
   "source": [
    "## Cargar Datos de Ejemplo VCF\n"
   ]
  },
  {
   "cell_type": "code",
   "execution_count": 3,
   "id": "1c3da1c7f36f6a16",
   "metadata": {
    "ExecuteTime": {
     "end_time": "2025-07-21T00:55:28.040526Z",
     "start_time": "2025-07-21T00:55:27.894208Z"
    }
   },
   "outputs": [
    {
     "name": "stderr",
     "output_type": "stream",
     "text": [
      "2025-07-21 02:55:27,896 | INFO | pyMut.input | Starting optimized VCF reading: /home/luisruimore/Escritorio/TFG/src/pyMut/data/examples/VCF/subset_1k_variants_ALL.chr10.shapeit2_integrated_snvindels_v2a_27022019.GRCh38.phased_vep_protein_gene_variant_class.vcf\n",
      "2025-07-21 02:55:27,898 | INFO | pyMut.input | Loading from cache: /home/luisruimore/Escritorio/TFG/src/pyMut/data/examples/VCF/.pymut_cache/subset_1k_variants_ALL.chr10.shapeit2_integrated_snvindels_v2a_27022019.GRCh38.phased_vep_protein_gene_variant_class_493be66263d09147.parquet\n",
      "2025-07-21 02:55:28,038 | INFO | pyMut.input | Cache loaded successfully in 0.14 seconds\n"
     ]
    },
    {
     "name": "stdout",
     "output_type": "stream",
     "text": [
      "📂 Cargando archivo VCF: /home/luisruimore/Escritorio/TFG/src/pyMut/data/examples/VCF/subset_1k_variants_ALL.chr10.shapeit2_integrated_snvindels_v2a_27022019.GRCh38.phased_vep_protein_gene_variant_class.vcf\n",
      "✅ Datos VCF cargados exitosamente\n",
      "📊 Forma de los datos: (1000, 2602)\n",
      "👥 Número de muestras: 2555\n",
      "🧬 Primeras 3 muestras: ['HG00096', 'HG00097', 'HG00099']\n"
     ]
    }
   ],
   "source": [
    "# Cargar el archivo VCF de ejemplo\n",
    "vcf_path = os.path.join(project_root, 'src', 'pyMut', 'data', 'examples', 'VCF', 'subset_1k_variants_ALL.chr10.shapeit2_integrated_snvindels_v2a_27022019.GRCh38.phased_vep_protein_gene_variant_class.vcf')\n",
    "\n",
    "print(f'📂 Cargando archivo VCF: {vcf_path}')\n",
    "py_mutation = read_vcf(\n",
    "    path=vcf_path,\n",
    "    create_index=True,  # Crear índice Tabix si es necesario\n",
    "    cache_dir=None      # Usar directorio de caché por defecto\n",
    ")\n",
    "\n",
    "print(f\"✅ Datos VCF cargados exitosamente\")\n",
    "print(f\"📊 Forma de los datos: {py_mutation.data.shape}\")\n",
    "print(f\"👥 Número de muestras: {len(py_mutation.samples)}\")\n",
    "print(f\"🧬 Primeras 3 muestras: {py_mutation.samples[:3]}\")\n"
   ]
  },
  {
   "cell_type": "markdown",
   "id": "bb4fb022556bcc3b",
   "metadata": {},
   "source": [
    "## Explorar las Columnas de Clasificación de Variantes\n",
    "\n",
    "Antes de ejecutar el análisis TMB, veamos qué columnas de clasificación de variantes están disponibles en el archivo VCF:\n"
   ]
  },
  {
   "cell_type": "code",
   "execution_count": 4,
   "id": "e9a9f141a5644c7c",
   "metadata": {
    "ExecuteTime": {
     "end_time": "2025-07-21T00:55:28.053506Z",
     "start_time": "2025-07-21T00:55:28.049520Z"
    }
   },
   "outputs": [
    {
     "name": "stdout",
     "output_type": "stream",
     "text": [
      "🔍 Columnas de clasificación de variantes encontradas:\n",
      "  1. Variant_Classification\n",
      "\n",
      "🔍 Columnas que contienen 'variant' (3):\n",
      "  • VEP_VARIANT_CLASS\n",
      "  • Variant_Classification\n",
      "  • Variant_Type\n",
      "\n",
      "📋 Información del archivo VCF:\n",
      "  • Columnas totales: 2602\n",
      "  • Primeras 10 columnas: ['CHROM', 'POS', 'ID', 'REF', 'ALT', 'QUAL', 'FILTER', 'HG00096', 'HG00097', 'HG00099']\n"
     ]
    }
   ],
   "source": [
    "# Buscar columnas de clasificación de variantes\n",
    "import re\n",
    "\n",
    "pattern = re.compile(r'^(gencode_\\d+_)?variant[_]?classification$', flags=re.IGNORECASE)\n",
    "variant_cols = [col for col in py_mutation.data.columns if pattern.match(col)]\n",
    "\n",
    "print(\"🔍 Columnas de clasificación de variantes encontradas:\")\n",
    "if variant_cols:\n",
    "    for i, col in enumerate(variant_cols, 1):\n",
    "        print(f\"  {i}. {col}\")\n",
    "else:\n",
    "    print(\"  ❌ No se encontraron columnas de clasificación de variantes\")\n",
    "\n",
    "# Mostrar algunas columnas que contienen 'variant' en el nombre\n",
    "variant_like_cols = [col for col in py_mutation.data.columns if 'variant' in col.lower()]\n",
    "print(f\"\\n🔍 Columnas que contienen 'variant' ({len(variant_like_cols)}):\")\n",
    "for col in variant_like_cols[:5]:  # Mostrar solo las primeras 5\n",
    "    print(f\"  • {col}\")\n",
    "\n",
    "# Mostrar información específica de VCF\n",
    "print(f\"\\n📋 Información del archivo VCF:\")\n",
    "print(f\"  • Columnas totales: {len(py_mutation.data.columns)}\")\n",
    "print(f\"  • Primeras 10 columnas: {list(py_mutation.data.columns[:10])}\")\n"
   ]
  },
  {
   "cell_type": "markdown",
   "id": "a10d69e5812ae711",
   "metadata": {},
   "source": [
    "## Ejecutar Análisis TMB\n",
    "\n",
    "Ahora ejecutaremos el análisis de carga mutacional usando los datos del archivo VCF. El método generará dos archivos:\n",
    "1. **TMB_analysis.tsv**: Análisis por muestra con conteos de mutaciones y TMB normalizado\n",
    "2. **TMB_statistics.tsv**: Estadísticas globales (media, mediana, cuartiles, etc.)\n"
   ]
  },
  {
   "cell_type": "code",
   "execution_count": 5,
   "id": "60cf321c9cf4d632",
   "metadata": {
    "ExecuteTime": {
     "end_time": "2025-07-21T00:55:28.098033Z",
     "start_time": "2025-07-21T00:55:28.095688Z"
    }
   },
   "outputs": [
    {
     "name": "stdout",
     "output_type": "stream",
     "text": [
      "📁 Directorio de salida: results_tmb_vcf\n"
     ]
    }
   ],
   "source": [
    "# Crear directorio para los resultados\n",
    "output_dir = \"results_tmb_vcf\"\n",
    "os.makedirs(output_dir, exist_ok=True)\n",
    "\n",
    "print(f\"📁 Directorio de salida: {output_dir}\")\n"
   ]
  },
  {
   "cell_type": "code",
   "execution_count": 6,
   "id": "e208394297d85887",
   "metadata": {
    "ExecuteTime": {
     "end_time": "2025-07-21T00:57:33.130647Z",
     "start_time": "2025-07-21T00:55:28.142775Z"
    }
   },
   "outputs": [
    {
     "name": "stderr",
     "output_type": "stream",
     "text": [
      "2025-07-21 02:55:28,144 | INFO | pyMut.analysis.mutation_burden | Auto-detected variant classification column: Variant_Classification\n"
     ]
    },
    {
     "name": "stdout",
     "output_type": "stream",
     "text": [
      "🧬 Ejecutando análisis de carga mutacional con datos VCF...\n",
      "⏳ Esto puede tomar unos momentos...\n"
     ]
    },
    {
     "name": "stderr",
     "output_type": "stream",
     "text": [
      "2025-07-21 02:57:33,123 | INFO | pyMut.analysis.mutation_burden | TMB analysis saved to: results_tmb_vcf/TMB_analysis.tsv\n",
      "2025-07-21 02:57:33,123 | INFO | pyMut.analysis.mutation_burden | TMB statistics saved to: results_tmb_vcf/TMB_statistics.tsv\n",
      "2025-07-21 02:57:33,124 | INFO | pyMut.analysis.mutation_burden | Analyzed 2555 samples with 1000 total mutations\n",
      "2025-07-21 02:57:33,124 | INFO | pyMut.analysis.mutation_burden | ========================================\n",
      "2025-07-21 02:57:33,124 | INFO | pyMut.analysis.mutation_burden | TMB ANALYSIS SUMMARY\n",
      "2025-07-21 02:57:33,124 | INFO | pyMut.analysis.mutation_burden | ========================================\n",
      "2025-07-21 02:57:33,125 | INFO | pyMut.analysis.mutation_burden | • Total samples analyzed: 2555\n",
      "2025-07-21 02:57:33,125 | INFO | pyMut.analysis.mutation_burden | • Average total mutations per sample: 73.6\n",
      "2025-07-21 02:57:33,125 | INFO | pyMut.analysis.mutation_burden | • Average non-synonymous mutations per sample: 0.6\n",
      "2025-07-21 02:57:33,126 | INFO | pyMut.analysis.mutation_burden | • Average normalized TMB (total): 1.217919 mutations/Mb\n",
      "2025-07-21 02:57:33,126 | INFO | pyMut.analysis.mutation_burden | • Average normalized TMB (non-synonymous): 0.010183 mutations/Mb\n",
      "2025-07-21 02:57:33,127 | INFO | pyMut.analysis.mutation_burden | • Sample with highest TMB: HG03376\n",
      "2025-07-21 02:57:33,127 | INFO | pyMut.analysis.mutation_burden |   - TMB value: 2.745755 mutations/Mb\n",
      "2025-07-21 02:57:33,128 | INFO | pyMut.analysis.mutation_burden | • Sample with lowest TMB: VT\n",
      "2025-07-21 02:57:33,128 | INFO | pyMut.analysis.mutation_burden |   - TMB value: 0.000000 mutations/Mb\n",
      "2025-07-21 02:57:33,128 | INFO | pyMut.analysis.mutation_burden | ========================================\n"
     ]
    },
    {
     "name": "stdout",
     "output_type": "stream",
     "text": [
      "✅ Análisis TMB completado exitosamente!\n"
     ]
    }
   ],
   "source": [
    "# Ejecutar el análisis TMB\n",
    "print(\"🧬 Ejecutando análisis de carga mutacional con datos VCF...\")\n",
    "print(\"⏳ Esto puede tomar unos momentos...\")\n",
    "\n",
    "try:\n",
    "    # Ejecutar análisis TMB con configuración estándar para WES\n",
    "    results = py_mutation.calculate_tmb_analysis(\n",
    "        genome_size_bp=60456963,  # Tamaño estándar para WES\n",
    "        output_dir=output_dir,\n",
    "        save_files=True\n",
    "    )\n",
    "    \n",
    "    print(\"✅ Análisis TMB completado exitosamente!\")\n",
    "    \n",
    "except Exception as e:\n",
    "    print(f\"❌ Error durante el análisis TMB: {e}\")\n",
    "    results = None\n"
   ]
  },
  {
   "cell_type": "markdown",
   "id": "7862e62176c42f85",
   "metadata": {},
   "source": [
    "## Explorar los Resultados\n"
   ]
  },
  {
   "cell_type": "code",
   "execution_count": 7,
   "id": "2fa24c7728621063",
   "metadata": {
    "ExecuteTime": {
     "end_time": "2025-07-21T00:57:33.212474Z",
     "start_time": "2025-07-21T00:57:33.202537Z"
    }
   },
   "outputs": [
    {
     "name": "stdout",
     "output_type": "stream",
     "text": [
      "📊 RESULTADOS DEL ANÁLISIS TMB (VCF)\n",
      "==================================================\n",
      "👥 Muestras analizadas: 2555\n",
      "📈 Métricas calculadas: 4\n",
      "\n",
      "🔍 Primeras 5 muestras del análisis:\n",
      "----------------------------------------\n"
     ]
    },
    {
     "data": {
      "text/html": [
       "<div>\n",
       "<style scoped>\n",
       "    .dataframe tbody tr th:only-of-type {\n",
       "        vertical-align: middle;\n",
       "    }\n",
       "\n",
       "    .dataframe tbody tr th {\n",
       "        vertical-align: top;\n",
       "    }\n",
       "\n",
       "    .dataframe thead th {\n",
       "        text-align: right;\n",
       "    }\n",
       "</style>\n",
       "<table border=\"1\" class=\"dataframe\">\n",
       "  <thead>\n",
       "    <tr style=\"text-align: right;\">\n",
       "      <th></th>\n",
       "      <th>Sample</th>\n",
       "      <th>Total_Mutations</th>\n",
       "      <th>Non_Synonymous_Mutations</th>\n",
       "      <th>TMB_Total_Normalized</th>\n",
       "      <th>TMB_Non_Synonymous_Normalized</th>\n",
       "    </tr>\n",
       "  </thead>\n",
       "  <tbody>\n",
       "    <tr>\n",
       "      <th>0</th>\n",
       "      <td>HG00096</td>\n",
       "      <td>49</td>\n",
       "      <td>0</td>\n",
       "      <td>0.810494</td>\n",
       "      <td>0.000000</td>\n",
       "    </tr>\n",
       "    <tr>\n",
       "      <th>1</th>\n",
       "      <td>HG00097</td>\n",
       "      <td>48</td>\n",
       "      <td>0</td>\n",
       "      <td>0.793953</td>\n",
       "      <td>0.000000</td>\n",
       "    </tr>\n",
       "    <tr>\n",
       "      <th>2</th>\n",
       "      <td>HG00099</td>\n",
       "      <td>52</td>\n",
       "      <td>1</td>\n",
       "      <td>0.860116</td>\n",
       "      <td>0.016541</td>\n",
       "    </tr>\n",
       "    <tr>\n",
       "      <th>3</th>\n",
       "      <td>HG00100</td>\n",
       "      <td>70</td>\n",
       "      <td>1</td>\n",
       "      <td>1.157848</td>\n",
       "      <td>0.016541</td>\n",
       "    </tr>\n",
       "    <tr>\n",
       "      <th>4</th>\n",
       "      <td>HG00101</td>\n",
       "      <td>80</td>\n",
       "      <td>1</td>\n",
       "      <td>1.323255</td>\n",
       "      <td>0.016541</td>\n",
       "    </tr>\n",
       "  </tbody>\n",
       "</table>\n",
       "</div>"
      ],
      "text/plain": [
       "    Sample  Total_Mutations  Non_Synonymous_Mutations  TMB_Total_Normalized  \\\n",
       "0  HG00096               49                         0              0.810494   \n",
       "1  HG00097               48                         0              0.793953   \n",
       "2  HG00099               52                         1              0.860116   \n",
       "3  HG00100               70                         1              1.157848   \n",
       "4  HG00101               80                         1              1.323255   \n",
       "\n",
       "   TMB_Non_Synonymous_Normalized  \n",
       "0                       0.000000  \n",
       "1                       0.000000  \n",
       "2                       0.016541  \n",
       "3                       0.016541  \n",
       "4                       0.016541  "
      ]
     },
     "metadata": {},
     "output_type": "display_data"
    }
   ],
   "source": [
    "if results:\n",
    "    # Obtener los DataFrames de resultados\n",
    "    analysis_df = results['analysis']\n",
    "    statistics_df = results['statistics']\n",
    "    \n",
    "    print(\"📊 RESULTADOS DEL ANÁLISIS TMB (VCF)\")\n",
    "    print(\"=\" * 50)\n",
    "    print(f\"👥 Muestras analizadas: {len(analysis_df)}\")\n",
    "    print(f\"📈 Métricas calculadas: {len(statistics_df)}\")\n",
    "    \n",
    "    # Mostrar las primeras filas del análisis por muestra\n",
    "    print(\"\\n🔍 Primeras 5 muestras del análisis:\")\n",
    "    print(\"-\" * 40)\n",
    "    display(analysis_df.head())\n",
    "    \n",
    "else:\n",
    "    print(\"❌ No se pudieron obtener los resultados del análisis\")\n"
   ]
  },
  {
   "cell_type": "markdown",
   "id": "3311b16c84120128",
   "metadata": {},
   "source": [
    "## Estadísticas Globales\n"
   ]
  },
  {
   "cell_type": "code",
   "execution_count": 8,
   "id": "10b6b41fccdf4b6b",
   "metadata": {
    "ExecuteTime": {
     "end_time": "2025-07-21T00:57:33.269871Z",
     "start_time": "2025-07-21T00:57:33.259607Z"
    }
   },
   "outputs": [
    {
     "name": "stdout",
     "output_type": "stream",
     "text": [
      "📈 ESTADÍSTICAS GLOBALES DEL TMB (VCF)\n",
      "========================================\n"
     ]
    },
    {
     "data": {
      "text/html": [
       "<div>\n",
       "<style scoped>\n",
       "    .dataframe tbody tr th:only-of-type {\n",
       "        vertical-align: middle;\n",
       "    }\n",
       "\n",
       "    .dataframe tbody tr th {\n",
       "        vertical-align: top;\n",
       "    }\n",
       "\n",
       "    .dataframe thead th {\n",
       "        text-align: right;\n",
       "    }\n",
       "</style>\n",
       "<table border=\"1\" class=\"dataframe\">\n",
       "  <thead>\n",
       "    <tr style=\"text-align: right;\">\n",
       "      <th></th>\n",
       "      <th>Metric</th>\n",
       "      <th>Count</th>\n",
       "      <th>Mean</th>\n",
       "      <th>Median</th>\n",
       "      <th>Min</th>\n",
       "      <th>Max</th>\n",
       "      <th>Q1</th>\n",
       "      <th>Q3</th>\n",
       "      <th>Std</th>\n",
       "    </tr>\n",
       "  </thead>\n",
       "  <tbody>\n",
       "    <tr>\n",
       "      <th>0</th>\n",
       "      <td>Total_Mutations</td>\n",
       "      <td>2555</td>\n",
       "      <td>73.631703</td>\n",
       "      <td>70.000000</td>\n",
       "      <td>0.0</td>\n",
       "      <td>166.000000</td>\n",
       "      <td>50.000000</td>\n",
       "      <td>103.000000</td>\n",
       "      <td>35.754549</td>\n",
       "    </tr>\n",
       "    <tr>\n",
       "      <th>1</th>\n",
       "      <td>Non_Synonymous_Mutations</td>\n",
       "      <td>2555</td>\n",
       "      <td>0.615656</td>\n",
       "      <td>0.000000</td>\n",
       "      <td>0.0</td>\n",
       "      <td>4.000000</td>\n",
       "      <td>0.000000</td>\n",
       "      <td>1.000000</td>\n",
       "      <td>0.745798</td>\n",
       "    </tr>\n",
       "    <tr>\n",
       "      <th>2</th>\n",
       "      <td>TMB_Total_Normalized</td>\n",
       "      <td>2555</td>\n",
       "      <td>1.217919</td>\n",
       "      <td>1.157848</td>\n",
       "      <td>0.0</td>\n",
       "      <td>2.745755</td>\n",
       "      <td>0.827035</td>\n",
       "      <td>1.703691</td>\n",
       "      <td>0.591405</td>\n",
       "    </tr>\n",
       "    <tr>\n",
       "      <th>3</th>\n",
       "      <td>TMB_Non_Synonymous_Normalized</td>\n",
       "      <td>2555</td>\n",
       "      <td>0.010183</td>\n",
       "      <td>0.000000</td>\n",
       "      <td>0.0</td>\n",
       "      <td>0.066163</td>\n",
       "      <td>0.000000</td>\n",
       "      <td>0.016541</td>\n",
       "      <td>0.012336</td>\n",
       "    </tr>\n",
       "  </tbody>\n",
       "</table>\n",
       "</div>"
      ],
      "text/plain": [
       "                          Metric  Count       Mean     Median  Min  \\\n",
       "0                Total_Mutations   2555  73.631703  70.000000  0.0   \n",
       "1       Non_Synonymous_Mutations   2555   0.615656   0.000000  0.0   \n",
       "2           TMB_Total_Normalized   2555   1.217919   1.157848  0.0   \n",
       "3  TMB_Non_Synonymous_Normalized   2555   0.010183   0.000000  0.0   \n",
       "\n",
       "          Max         Q1          Q3        Std  \n",
       "0  166.000000  50.000000  103.000000  35.754549  \n",
       "1    4.000000   0.000000    1.000000   0.745798  \n",
       "2    2.745755   0.827035    1.703691   0.591405  \n",
       "3    0.066163   0.000000    0.016541   0.012336  "
      ]
     },
     "metadata": {},
     "output_type": "display_data"
    },
    {
     "name": "stdout",
     "output_type": "stream",
     "text": [
      "\n",
      "🎯 ESTADÍSTICAS CLAVE:\n",
      "------------------------------\n",
      "🧬 TMB Total Normalizado:\n",
      "   • Media: 1.2179 mutaciones/Mb\n",
      "   • Mediana: 1.1578 mutaciones/Mb\n",
      "   • Rango: 0.0000 - 2.7458 mutaciones/Mb\n",
      "\n",
      "🎯 TMB No Sinónimo Normalizado:\n",
      "   • Media: 0.0102 mutaciones/Mb\n",
      "   • Mediana: 0.0000 mutaciones/Mb\n",
      "   • Rango: 0.0000 - 0.0662 mutaciones/Mb\n"
     ]
    }
   ],
   "source": [
    "if results:\n",
    "    print(\"📈 ESTADÍSTICAS GLOBALES DEL TMB (VCF)\")\n",
    "    print(\"=\" * 40)\n",
    "    display(statistics_df)\n",
    "    \n",
    "    # Mostrar algunas estadísticas clave\n",
    "    print(\"\\n🎯 ESTADÍSTICAS CLAVE:\")\n",
    "    print(\"-\" * 30)\n",
    "    \n",
    "    # TMB total normalizado\n",
    "    tmb_total_stats = statistics_df[statistics_df['Metric'] == 'TMB_Total_Normalized'].iloc[0]\n",
    "    print(f\"🧬 TMB Total Normalizado:\")\n",
    "    print(f\"   • Media: {tmb_total_stats['Mean']:.4f} mutaciones/Mb\")\n",
    "    print(f\"   • Mediana: {tmb_total_stats['Median']:.4f} mutaciones/Mb\")\n",
    "    print(f\"   • Rango: {tmb_total_stats['Min']:.4f} - {tmb_total_stats['Max']:.4f} mutaciones/Mb\")\n",
    "    \n",
    "    # TMB no sinónimo normalizado\n",
    "    tmb_nonsyn_stats = statistics_df[statistics_df['Metric'] == 'TMB_Non_Synonymous_Normalized'].iloc[0]\n",
    "    print(f\"\\n🎯 TMB No Sinónimo Normalizado:\")\n",
    "    print(f\"   • Media: {tmb_nonsyn_stats['Mean']:.4f} mutaciones/Mb\")\n",
    "    print(f\"   • Mediana: {tmb_nonsyn_stats['Median']:.4f} mutaciones/Mb\")\n",
    "    print(f\"   • Rango: {tmb_nonsyn_stats['Min']:.4f} - {tmb_nonsyn_stats['Max']:.4f} mutaciones/Mb\")\n"
   ]
  },
  {
   "cell_type": "markdown",
   "id": "ec3c494ba34fe05b",
   "metadata": {},
   "source": [
    "## Comparación VCF vs MAF\n",
    "\n",
    "Este ejemplo demuestra cómo PyMutation puede procesar tanto archivos MAF como VCF para el análisis de carga mutacional:\n",
    "\n",
    "### Ventajas del formato VCF:\n",
    "- **Formato estándar**: VCF es el formato estándar para variantes genómicas\n",
    "- **Información completa**: Incluye información detallada sobre genotipos y calidad\n",
    "- **Compatibilidad**: Compatible con herramientas de análisis genómico estándar\n",
    "- **Anotaciones VEP**: Puede incluir anotaciones de Variant Effect Predictor\n",
    "\n",
    "### Consideraciones:\n",
    "- **Procesamiento**: Los archivos VCF pueden requerir más tiempo de procesamiento inicial\n",
    "- **Memoria**: Archivos VCF grandes pueden requerir más memoria\n",
    "- **Caché**: PyMutation utiliza caché automático para acelerar cargas posteriores\n",
    "\n",
    "### Uso recomendado:\n",
    "- Utiliza VCF cuando tengas datos de secuenciación directos\n",
    "- Utiliza MAF cuando trabajes con datos de estudios de cáncer ya procesados\n",
    "- Ambos formatos producen resultados equivalentes para el análisis TMB"
   ]
  }
 ],
 "metadata": {
  "kernelspec": {
   "display_name": "Python 3 (ipykernel)",
   "language": "python",
   "name": "python3"
  },
  "language_info": {
   "codemirror_mode": {
    "name": "ipython",
    "version": 3
   },
   "file_extension": ".py",
   "mimetype": "text/x-python",
   "name": "python",
   "nbconvert_exporter": "python",
   "pygments_lexer": "ipython3",
   "version": "3.10.17"
  }
 },
 "nbformat": 4,
 "nbformat_minor": 5
}
