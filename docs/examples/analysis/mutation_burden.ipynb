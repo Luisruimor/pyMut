{
 "cells": [
  {
   "metadata": {},
   "cell_type": "markdown",
   "source": [
    "# Tumor Mutational Burden (TMB) Analysis with PyMut-Bio\n",
    "\n",
    "This notebook demonstrates how to use the `calculate_tmb_analysis` method from PyMut-Bio to calculate Tumor Mutational Burden (TMB) and generate the corresponding analysis files.\n",
    "\n",
    "## What is TMB?\n",
    "Tumor Mutational Burden (TMB) is a measure of the number of mutations present in a tumor, normalized by the size of the interrogated genome. It is an important biomarker in oncology.\n"
   ],
   "id": "e37220fde4f928d2"
  },
  {
   "metadata": {},
   "cell_type": "markdown",
   "source": "## Initial Setup\n",
   "id": "2f0935e74452135f"
  },
  {
   "metadata": {
    "ExecuteTime": {
     "end_time": "2025-07-31T22:45:36.923287Z",
     "start_time": "2025-07-31T22:45:36.340018Z"
    }
   },
   "cell_type": "code",
   "source": [
    "import os\n",
    "from pyMut.input import read_maf\n",
    "\n",
    "print('✅ Modules imported successfully')\n"
   ],
   "id": "502e89474426c04f",
   "outputs": [
    {
     "name": "stdout",
     "output_type": "stream",
     "text": [
      "✅ Modules imported successfully\n"
     ]
    }
   ],
   "execution_count": 1
  },
  {
   "metadata": {},
   "cell_type": "markdown",
   "source": [
    "## Load Example Data\n",
    "\n",
    "For this example, you will need a MAF file. You can use your own data or download example data from TCGA.\n"
   ],
   "id": "f0df3cadacd34f5b"
  },
  {
   "metadata": {
    "ExecuteTime": {
     "end_time": "2025-07-31T22:46:29.699721Z",
     "start_time": "2025-07-31T22:45:36.995160Z"
    }
   },
   "cell_type": "code",
   "source": [
    "maf_path = \"../../../src/pyMut/data/examples/MAF/tcga_laml.maf.gz\"  # Replace with the path to your MAF file\n",
    "\n",
    "# Check if the file exists\n",
    "if not os.path.exists(maf_path):\n",
    "    print(f\"❌ File not found: {maf_path}\")\n",
    "    print(\"📝 Please specify the correct path to your MAF file in the 'maf_path' variable\")\n",
    "    print(\"💡 You can download example data from TCGA or use your own data\")\n",
    "else:\n",
    "    print(f'📂 Loading file: {maf_path}')\n",
    "    py_mutation = read_maf(maf_path, assembly=\"37\")\n",
    "    \n",
    "    print(\"✅ Data loaded successfully\")\n",
    "    print(f\"📊 Data shape: {py_mutation.data.shape}\")\n",
    "    print(f\"👥 Number of samples: {len(py_mutation.samples)}\")\n",
    "    print(f\"🧬 First 3 samples: {py_mutation.samples[:3]}\")\n"
   ],
   "id": "e3adefdadbbc50f1",
   "outputs": [
    {
     "name": "stderr",
     "output_type": "stream",
     "text": [
      "2025-08-01 00:45:36,996 | INFO | pyMut.input | Starting MAF reading: ../../../src/pyMut/data/examples/MAF/tcga_laml.maf.gz\n",
      "2025-08-01 00:45:36,998 | INFO | pyMut.input | Reading MAF with 'pyarrow' engine…\n",
      "2025-08-01 00:45:37,007 | INFO | pyMut.input | Reading with 'pyarrow' completed.\n",
      "2025-08-01 00:45:37,013 | INFO | pyMut.input | Detected 193 unique samples.\n",
      "2025-08-01 00:45:37,098 | INFO | pyMut.input | Consolidating duplicate variants across samples...\n",
      "2025-08-01 00:45:37,111 | INFO | pyMut.input | Consolidating variants using vectorized operations...\n"
     ]
    },
    {
     "name": "stdout",
     "output_type": "stream",
     "text": [
      "📂 Loading file: ../../../src/pyMut/data/examples/MAF/tcga_laml.maf.gz\n"
     ]
    },
    {
     "name": "stderr",
     "output_type": "stream",
     "text": [
      "2025-08-01 00:46:29,613 | INFO | pyMut.input | Variant consolidation completed in 52.51 seconds\n",
      "2025-08-01 00:46:29,620 | INFO | pyMut.input | Consolidated 2207 rows into 2091 unique variants\n",
      "2025-08-01 00:46:29,635 | INFO | pyMut.input | Saving to cache: ../../../src/pyMut/data/examples/MAF/.pymut_cache/tcga_laml.maf_8bfbda65c4b23428.parquet\n",
      "2025-08-01 00:46:29,697 | INFO | pyMut.input | MAF processed successfully: 2091 rows, 216 columns in 52.70 seconds\n"
     ]
    },
    {
     "name": "stdout",
     "output_type": "stream",
     "text": [
      "✅ Data loaded successfully\n",
      "📊 Data shape: (2091, 216)\n",
      "👥 Number of samples: 193\n",
      "🧬 First 3 samples: ['TCGA-AB-2988', 'TCGA-AB-2869', 'TCGA-AB-3009']\n"
     ]
    }
   ],
   "execution_count": 2
  },
  {
   "metadata": {},
   "cell_type": "markdown",
   "source": [
    "## Explore Variant Classification Columns\n",
    "\n",
    "Before running the TMB analysis, let's see what variant classification columns are available:\n"
   ],
   "id": "3db18d2e476165ef"
  },
  {
   "metadata": {
    "ExecuteTime": {
     "end_time": "2025-07-31T22:46:29.722824Z",
     "start_time": "2025-07-31T22:46:29.718899Z"
    }
   },
   "cell_type": "code",
   "source": [
    "# Search for variant classification columns\n",
    "import re\n",
    "\n",
    "pattern = re.compile(r'^(gencode_\\d+_)?variant[_]?classification$', flags=re.IGNORECASE)\n",
    "variant_cols = [col for col in py_mutation.data.columns if pattern.match(col)]\n",
    "\n",
    "print(\"🔍 Variant classification columns found:\")\n",
    "if variant_cols:\n",
    "    for i, col in enumerate(variant_cols, 1):\n",
    "        print(f\"  {i}. {col}\")\n",
    "else:\n",
    "    print(\"  ❌ No variant classification columns found\")\n",
    "\n",
    "# Show some columns that contain 'variant' in the name\n",
    "variant_like_cols = [col for col in py_mutation.data.columns if 'variant' in col.lower()]\n",
    "print(f\"\\n🔍 Columns containing 'variant' ({len(variant_like_cols)}):\")\n",
    "for col in variant_like_cols[:5]:  # Show only the first 5\n",
    "    print(f\"  • {col}\")\n"
   ],
   "id": "736f847c840e59f7",
   "outputs": [
    {
     "name": "stdout",
     "output_type": "stream",
     "text": [
      "🔍 Variant classification columns found:\n",
      "  1. Variant_Classification\n",
      "\n",
      "🔍 Columns containing 'variant' (2):\n",
      "  • Variant_Classification\n",
      "  • Variant_Type\n"
     ]
    }
   ],
   "execution_count": 3
  },
  {
   "metadata": {},
   "cell_type": "markdown",
   "source": [
    "## Run TMB Analysis\n",
    "\n",
    "Now we will run the mutational burden analysis. The method will generate two files:\n",
    "1. **TMB_analysis.tsv**: Per-sample analysis with mutation counts and normalized TMB\n",
    "2. **TMB_statistics.tsv**: Global statistics (mean, median, quartiles, etc.)\n"
   ],
   "id": "5dbc0298f6aa335b"
  },
  {
   "metadata": {
    "ExecuteTime": {
     "end_time": "2025-07-31T22:46:29.763857Z",
     "start_time": "2025-07-31T22:46:29.760367Z"
    }
   },
   "cell_type": "code",
   "source": [
    "# Create directory for results\n",
    "output_dir = \"results_tmb\"\n",
    "os.makedirs(output_dir, exist_ok=True)\n",
    "\n",
    "print(f\"📁 Output directory: {output_dir}\")\n"
   ],
   "id": "bdfeb9a56d76a23d",
   "outputs": [
    {
     "name": "stdout",
     "output_type": "stream",
     "text": [
      "📁 Output directory: results_tmb\n"
     ]
    }
   ],
   "execution_count": 4
  },
  {
   "metadata": {
    "ExecuteTime": {
     "end_time": "2025-07-31T22:46:45.061954Z",
     "start_time": "2025-07-31T22:46:29.808263Z"
    }
   },
   "cell_type": "code",
   "source": [
    "# Run TMB analysis\n",
    "print(\"🧬 Running mutational burden analysis...\")\n",
    "print(\"⏳ This may take a few moments...\")\n",
    "\n",
    "try:\n",
    "    # Run TMB analysis with standard configuration for WES\n",
    "    results = py_mutation.calculate_tmb_analysis(\n",
    "        genome_size_bp=60456963,  # Standard size for WES\n",
    "        output_dir=output_dir,\n",
    "        save_files=True\n",
    "    )\n",
    "    \n",
    "    print(\"✅ TMB analysis completed successfully!\")\n",
    "    \n",
    "except Exception as e:\n",
    "    print(f\"❌ Error during TMB analysis: {e}\")\n",
    "    results = None\n"
   ],
   "id": "4dd194e6c27513d2",
   "outputs": [
    {
     "name": "stderr",
     "output_type": "stream",
     "text": [
      "2025-08-01 00:46:29,809 | INFO | pyMut.analysis.mutation_burden | Auto-detected variant classification column: Variant_Classification\n"
     ]
    },
    {
     "name": "stdout",
     "output_type": "stream",
     "text": [
      "🧬 Running mutational burden analysis...\n",
      "⏳ This may take a few moments...\n"
     ]
    },
    {
     "name": "stderr",
     "output_type": "stream",
     "text": [
      "2025-08-01 00:46:45,054 | INFO | pyMut.analysis.mutation_burden | TMB analysis saved to: results_tmb/TMB_analysis.tsv\n",
      "2025-08-01 00:46:45,054 | INFO | pyMut.analysis.mutation_burden | TMB statistics saved to: results_tmb/TMB_statistics.tsv\n",
      "2025-08-01 00:46:45,054 | INFO | pyMut.analysis.mutation_burden | Analyzed 193 samples with 2091 total mutations\n",
      "2025-08-01 00:46:45,055 | INFO | pyMut.analysis.mutation_burden | TMB ANALYSIS SUMMARY\n",
      "2025-08-01 00:46:45,055 | INFO | pyMut.analysis.mutation_burden | • Total samples analyzed: 193\n",
      "2025-08-01 00:46:45,055 | INFO | pyMut.analysis.mutation_burden | • Average total mutations per sample: 11.4\n",
      "2025-08-01 00:46:45,056 | INFO | pyMut.analysis.mutation_burden | • Average non-synonymous mutations per sample: 9.0\n",
      "2025-08-01 00:46:45,057 | INFO | pyMut.analysis.mutation_burden | • Average normalized TMB (total): 0.189147 mutations/Mb\n",
      "2025-08-01 00:46:45,057 | INFO | pyMut.analysis.mutation_burden | • Average normalized TMB (non-synonymous): 0.148438 mutations/Mb\n",
      "2025-08-01 00:46:45,057 | INFO | pyMut.analysis.mutation_burden | • Sample with highest TMB: TCGA-AB-3009\n",
      "2025-08-01 00:46:45,058 | INFO | pyMut.analysis.mutation_burden |   - TMB value: 0.694709 mutations/Mb\n",
      "2025-08-01 00:46:45,058 | INFO | pyMut.analysis.mutation_burden | • Sample with lowest TMB: TCGA-AB-2903\n",
      "2025-08-01 00:46:45,059 | INFO | pyMut.analysis.mutation_burden |   - TMB value: 0.016541 mutations/Mb\n"
     ]
    },
    {
     "name": "stdout",
     "output_type": "stream",
     "text": [
      "✅ TMB analysis completed successfully!\n"
     ]
    }
   ],
   "execution_count": 5
  },
  {
   "metadata": {},
   "cell_type": "markdown",
   "source": "## Explore Results\n",
   "id": "f01db775eaf996e2"
  },
  {
   "metadata": {
    "ExecuteTime": {
     "end_time": "2025-07-31T22:46:45.128338Z",
     "start_time": "2025-07-31T22:46:45.117904Z"
    }
   },
   "cell_type": "code",
   "source": [
    "if results:\n",
    "    # Get the results DataFrames\n",
    "    analysis_df = results['analysis']\n",
    "    statistics_df = results['statistics']\n",
    "    \n",
    "    print(\"📊 TMB ANALYSIS RESULTS\")\n",
    "    print(\"=\" * 50)\n",
    "    print(f\"👥 Samples analyzed: {len(analysis_df)}\")\n",
    "    print(f\"📈 Metrics calculated: {len(statistics_df)}\")\n",
    "    \n",
    "    # Show the first rows of the per-sample analysis\n",
    "    print(\"\\n🔍 First 5 samples from analysis:\")\n",
    "    print(\"-\" * 40)\n",
    "    display(analysis_df.head())\n",
    "    \n",
    "else:\n",
    "    print(\"❌ Could not obtain analysis results\")\n"
   ],
   "id": "23929ca06da87d41",
   "outputs": [
    {
     "name": "stdout",
     "output_type": "stream",
     "text": [
      "📊 TMB ANALYSIS RESULTS\n",
      "==================================================\n",
      "👥 Samples analyzed: 193\n",
      "📈 Metrics calculated: 4\n",
      "\n",
      "🔍 First 5 samples from analysis:\n",
      "----------------------------------------\n"
     ]
    },
    {
     "data": {
      "text/plain": [
       "         Sample  Total_Mutations  Non_Synonymous_Mutations  \\\n",
       "0  TCGA-AB-2988               15                        13   \n",
       "1  TCGA-AB-2869               12                         8   \n",
       "2  TCGA-AB-3009               42                        34   \n",
       "3  TCGA-AB-2830               17                        13   \n",
       "4  TCGA-AB-2887               15                        12   \n",
       "\n",
       "   TMB_Total_Normalized  TMB_Non_Synonymous_Normalized  \n",
       "0              0.248110                       0.215029  \n",
       "1              0.198488                       0.132326  \n",
       "2              0.694709                       0.562384  \n",
       "3              0.281192                       0.215029  \n",
       "4              0.248110                       0.198488  "
      ],
      "text/html": [
       "<div>\n",
       "<style scoped>\n",
       "    .dataframe tbody tr th:only-of-type {\n",
       "        vertical-align: middle;\n",
       "    }\n",
       "\n",
       "    .dataframe tbody tr th {\n",
       "        vertical-align: top;\n",
       "    }\n",
       "\n",
       "    .dataframe thead th {\n",
       "        text-align: right;\n",
       "    }\n",
       "</style>\n",
       "<table border=\"1\" class=\"dataframe\">\n",
       "  <thead>\n",
       "    <tr style=\"text-align: right;\">\n",
       "      <th></th>\n",
       "      <th>Sample</th>\n",
       "      <th>Total_Mutations</th>\n",
       "      <th>Non_Synonymous_Mutations</th>\n",
       "      <th>TMB_Total_Normalized</th>\n",
       "      <th>TMB_Non_Synonymous_Normalized</th>\n",
       "    </tr>\n",
       "  </thead>\n",
       "  <tbody>\n",
       "    <tr>\n",
       "      <th>0</th>\n",
       "      <td>TCGA-AB-2988</td>\n",
       "      <td>15</td>\n",
       "      <td>13</td>\n",
       "      <td>0.248110</td>\n",
       "      <td>0.215029</td>\n",
       "    </tr>\n",
       "    <tr>\n",
       "      <th>1</th>\n",
       "      <td>TCGA-AB-2869</td>\n",
       "      <td>12</td>\n",
       "      <td>8</td>\n",
       "      <td>0.198488</td>\n",
       "      <td>0.132326</td>\n",
       "    </tr>\n",
       "    <tr>\n",
       "      <th>2</th>\n",
       "      <td>TCGA-AB-3009</td>\n",
       "      <td>42</td>\n",
       "      <td>34</td>\n",
       "      <td>0.694709</td>\n",
       "      <td>0.562384</td>\n",
       "    </tr>\n",
       "    <tr>\n",
       "      <th>3</th>\n",
       "      <td>TCGA-AB-2830</td>\n",
       "      <td>17</td>\n",
       "      <td>13</td>\n",
       "      <td>0.281192</td>\n",
       "      <td>0.215029</td>\n",
       "    </tr>\n",
       "    <tr>\n",
       "      <th>4</th>\n",
       "      <td>TCGA-AB-2887</td>\n",
       "      <td>15</td>\n",
       "      <td>12</td>\n",
       "      <td>0.248110</td>\n",
       "      <td>0.198488</td>\n",
       "    </tr>\n",
       "  </tbody>\n",
       "</table>\n",
       "</div>"
      ]
     },
     "metadata": {},
     "output_type": "display_data"
    }
   ],
   "execution_count": 6
  },
  {
   "metadata": {},
   "cell_type": "markdown",
   "source": "## Global Statistics\n",
   "id": "1278714486483530"
  },
  {
   "metadata": {
    "ExecuteTime": {
     "end_time": "2025-07-31T22:46:45.182830Z",
     "start_time": "2025-07-31T22:46:45.170969Z"
    }
   },
   "cell_type": "code",
   "source": [
    "if results:\n",
    "    print(\"📈 TMB GLOBAL STATISTICS\")\n",
    "    print(\"=\" * 40)\n",
    "    display(statistics_df)\n",
    "    \n",
    "    # Show some key statistics\n",
    "    print(\"\\n🎯 KEY STATISTICS:\")\n",
    "    print(\"-\" * 30)\n",
    "    \n",
    "    # Total normalized TMB\n",
    "    tmb_total_stats = statistics_df[statistics_df['Metric'] == 'TMB_Total_Normalized'].iloc[0]\n",
    "    print(\"🧬 Total Normalized TMB:\")\n",
    "    print(f\"   • Mean: {tmb_total_stats['Mean']:.4f} mutations/Mb\")\n",
    "    print(f\"   • Median: {tmb_total_stats['Median']:.4f} mutations/Mb\")\n",
    "    print(f\"   • Range: {tmb_total_stats['Min']:.4f} - {tmb_total_stats['Max']:.4f} mutations/Mb\")\n",
    "    \n",
    "    # Non-synonymous normalized TMB\n",
    "    tmb_nonsyn_stats = statistics_df[statistics_df['Metric'] == 'TMB_Non_Synonymous_Normalized'].iloc[0]\n",
    "    print(\"\\n🎯 Non-Synonymous Normalized TMB:\")\n",
    "    print(f\"   • Mean: {tmb_nonsyn_stats['Mean']:.4f} mutations/Mb\")\n",
    "    print(f\"   • Median: {tmb_nonsyn_stats['Median']:.4f} mutations/Mb\")\n",
    "    print(f\"   • Range: {tmb_nonsyn_stats['Min']:.4f} - {tmb_nonsyn_stats['Max']:.4f} mutations/Mb\")\n"
   ],
   "id": "5f04216c44ea77d0",
   "outputs": [
    {
     "name": "stdout",
     "output_type": "stream",
     "text": [
      "📈 TMB GLOBAL STATISTICS\n",
      "========================================\n"
     ]
    },
    {
     "data": {
      "text/plain": [
       "                          Metric  Count       Mean     Median       Min  \\\n",
       "0                Total_Mutations    193  11.435233  11.000000  1.000000   \n",
       "1       Non_Synonymous_Mutations    193   8.974093   9.000000  0.000000   \n",
       "2           TMB_Total_Normalized    193   0.189147   0.181948  0.016541   \n",
       "3  TMB_Non_Synonymous_Normalized    193   0.148438   0.148866  0.000000   \n",
       "\n",
       "         Max        Q1         Q3       Std  \n",
       "0  42.000000  6.000000  15.000000  6.752870  \n",
       "1  34.000000  5.000000  12.000000  5.452862  \n",
       "2   0.694709  0.099244   0.248110  0.111697  \n",
       "3   0.562384  0.082703   0.198488  0.090194  "
      ],
      "text/html": [
       "<div>\n",
       "<style scoped>\n",
       "    .dataframe tbody tr th:only-of-type {\n",
       "        vertical-align: middle;\n",
       "    }\n",
       "\n",
       "    .dataframe tbody tr th {\n",
       "        vertical-align: top;\n",
       "    }\n",
       "\n",
       "    .dataframe thead th {\n",
       "        text-align: right;\n",
       "    }\n",
       "</style>\n",
       "<table border=\"1\" class=\"dataframe\">\n",
       "  <thead>\n",
       "    <tr style=\"text-align: right;\">\n",
       "      <th></th>\n",
       "      <th>Metric</th>\n",
       "      <th>Count</th>\n",
       "      <th>Mean</th>\n",
       "      <th>Median</th>\n",
       "      <th>Min</th>\n",
       "      <th>Max</th>\n",
       "      <th>Q1</th>\n",
       "      <th>Q3</th>\n",
       "      <th>Std</th>\n",
       "    </tr>\n",
       "  </thead>\n",
       "  <tbody>\n",
       "    <tr>\n",
       "      <th>0</th>\n",
       "      <td>Total_Mutations</td>\n",
       "      <td>193</td>\n",
       "      <td>11.435233</td>\n",
       "      <td>11.000000</td>\n",
       "      <td>1.000000</td>\n",
       "      <td>42.000000</td>\n",
       "      <td>6.000000</td>\n",
       "      <td>15.000000</td>\n",
       "      <td>6.752870</td>\n",
       "    </tr>\n",
       "    <tr>\n",
       "      <th>1</th>\n",
       "      <td>Non_Synonymous_Mutations</td>\n",
       "      <td>193</td>\n",
       "      <td>8.974093</td>\n",
       "      <td>9.000000</td>\n",
       "      <td>0.000000</td>\n",
       "      <td>34.000000</td>\n",
       "      <td>5.000000</td>\n",
       "      <td>12.000000</td>\n",
       "      <td>5.452862</td>\n",
       "    </tr>\n",
       "    <tr>\n",
       "      <th>2</th>\n",
       "      <td>TMB_Total_Normalized</td>\n",
       "      <td>193</td>\n",
       "      <td>0.189147</td>\n",
       "      <td>0.181948</td>\n",
       "      <td>0.016541</td>\n",
       "      <td>0.694709</td>\n",
       "      <td>0.099244</td>\n",
       "      <td>0.248110</td>\n",
       "      <td>0.111697</td>\n",
       "    </tr>\n",
       "    <tr>\n",
       "      <th>3</th>\n",
       "      <td>TMB_Non_Synonymous_Normalized</td>\n",
       "      <td>193</td>\n",
       "      <td>0.148438</td>\n",
       "      <td>0.148866</td>\n",
       "      <td>0.000000</td>\n",
       "      <td>0.562384</td>\n",
       "      <td>0.082703</td>\n",
       "      <td>0.198488</td>\n",
       "      <td>0.090194</td>\n",
       "    </tr>\n",
       "  </tbody>\n",
       "</table>\n",
       "</div>"
      ]
     },
     "metadata": {},
     "output_type": "display_data"
    },
    {
     "name": "stdout",
     "output_type": "stream",
     "text": [
      "\n",
      "🎯 KEY STATISTICS:\n",
      "------------------------------\n",
      "🧬 Total Normalized TMB:\n",
      "   • Mean: 0.1891 mutations/Mb\n",
      "   • Median: 0.1819 mutations/Mb\n",
      "   • Range: 0.0165 - 0.6947 mutations/Mb\n",
      "\n",
      "🎯 Non-Synonymous Normalized TMB:\n",
      "   • Mean: 0.1484 mutations/Mb\n",
      "   • Median: 0.1489 mutations/Mb\n",
      "   • Range: 0.0000 - 0.5624 mutations/Mb\n"
     ]
    }
   ],
   "execution_count": 7
  },
  {
   "metadata": {},
   "cell_type": "markdown",
   "source": [
    "## Important Notes\n",
    "\n",
    "- **Genome size**: The parameter `genome_size_bp=60456963` corresponds to the standard size for Whole Exome Sequencing (WES). Adjust this value according to your sequencing type:\n",
    "  - WES: ~60 Mb\n",
    "  - WGS: ~3000 Mb\n",
    "  - Targeted panel: specific panel size\n",
    "\n",
    "- **Output files**: The TSV files are saved in the specified directory and contain:\n",
    "  - `TMB_analysis.tsv`: Detailed per-sample analysis\n",
    "  - `TMB_statistics.tsv`: Summary statistics of the dataset\n",
    "\n",
    "- **Interpretation**: TMB values are expressed in mutations per megabase (mutations/Mb) and can be used as a biomarker for immunotherapy treatments.\n"
   ],
   "id": "5a806221f3f6ef21"
  }
 ],
 "metadata": {
  "kernelspec": {
   "display_name": "Python 3",
   "language": "python",
   "name": "python3"
  },
  "language_info": {
   "codemirror_mode": {
    "name": "ipython",
    "version": 2
   },
   "file_extension": ".py",
   "mimetype": "text/x-python",
   "name": "python",
   "nbconvert_exporter": "python",
   "pygments_lexer": "ipython2",
   "version": "2.7.6"
  }
 },
 "nbformat": 4,
 "nbformat_minor": 5
}
