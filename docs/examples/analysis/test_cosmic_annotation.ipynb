{
 "cells": [
  {
   "metadata": {},
   "cell_type": "markdown",
   "source": [
    "# COSMIC Cancer Gene Census and OncoKB Annotation Test\n",
    "\n",
    "This notebook tests the `maf_COSMIC_annotation` method with all available COSMIC columns and OncoKB annotations.\n"
   ],
   "id": "d5ddbca87394697"
  },
  {
   "metadata": {
    "ExecuteTime": {
     "end_time": "2025-07-12T00:17:02.333137Z",
     "start_time": "2025-07-12T00:17:01.871578Z"
    }
   },
   "cell_type": "code",
   "source": [
    "import sys\n",
    "import pandas as pd\n",
    "from pathlib import Path\n",
    "import logging\n",
    "\n",
    "# Add src to path\n",
    "sys.path.insert(0, '../../src')\n",
    "\n",
    "from pyMut.annotate.cosmic_cancer_annotate import maf_COSMIC_OncoKB_annotation\n",
    "\n",
    "# Suppress verbose logging\n",
    "logging.getLogger().setLevel(logging.WARNING)\n"
   ],
   "id": "4b6e098a2b63ff6e",
   "outputs": [],
   "execution_count": 1
  },
  {
   "metadata": {},
   "cell_type": "markdown",
   "source": "## File Paths and Validation\n",
   "id": "2a309732626523d5"
  },
  {
   "metadata": {
    "ExecuteTime": {
     "end_time": "2025-07-12T00:17:02.412093Z",
     "start_time": "2025-07-12T00:17:02.409752Z"
    }
   },
   "cell_type": "code",
   "source": [
    "# Define file paths\n",
    "maf_file = Path(\"../../src/pyMut/data/examples/tcga_laml.maf.gz\")\n",
    "cosmic_file = Path(\n",
    "    \"../../src/pyMut/data/resources/Cosmic_CancerGeneCensus_Tsv_v102_GRCh38/Cosmic_CancerGeneCensus_v102_GRCh38.tsv.gz\")\n",
    "oncokb_file = Path(\"../../src/pyMut/data/resources/OncoKb/cancerGeneList.tsv\")\n",
    "\n",
    "print(f\"MAF file exists: {maf_file.exists()}\")\n",
    "print(f\"COSMIC file exists: {cosmic_file.exists()}\")\n",
    "print(f\"OncoKB file exists: {oncokb_file.exists()}\")\n"
   ],
   "id": "a63a821fb75d1fa3",
   "outputs": [
    {
     "name": "stdout",
     "output_type": "stream",
     "text": [
      "MAF file exists: True\n",
      "COSMIC file exists: True\n",
      "OncoKB file exists: True\n"
     ]
    }
   ],
   "execution_count": 2
  },
  {
   "metadata": {},
   "cell_type": "markdown",
   "source": "## Preview COSMIC Data Columns\n",
   "id": "40c9070f209b00a0"
  },
  {
   "metadata": {
    "ExecuteTime": {
     "end_time": "2025-07-12T00:17:02.466364Z",
     "start_time": "2025-07-12T00:17:02.458949Z"
    }
   },
   "cell_type": "code",
   "source": [
    "# Preview COSMIC data structure\n",
    "import gzip\n",
    "with gzip.open(cosmic_file, 'rt') as f:\n",
    "    cosmic_df = pd.read_csv(f, sep='\\t', nrows=3)\n",
    "\n",
    "print(f\"COSMIC data shape: {cosmic_df.shape}\")\n",
    "print(f\"COSMIC columns ({len(cosmic_df.columns)}):\")\n",
    "for i, col in enumerate(cosmic_df.columns, 1):\n",
    "    print(f\"  {i:2d}. {col}\")\n"
   ],
   "id": "498050ce5618535e",
   "outputs": [
    {
     "name": "stdout",
     "output_type": "stream",
     "text": [
      "COSMIC data shape: (3, 21)\n",
      "COSMIC columns (21):\n",
      "   1. GENE_SYMBOL\n",
      "   2. NAME\n",
      "   3. COSMIC_GENE_ID\n",
      "   4. CHROMOSOME\n",
      "   5. GENOME_START\n",
      "   6. GENOME_STOP\n",
      "   7. CHR_BAND\n",
      "   8. SOMATIC\n",
      "   9. GERMLINE\n",
      "  10. TUMOUR_TYPES_SOMATIC\n",
      "  11. TUMOUR_TYPES_GERMLINE\n",
      "  12. CANCER_SYNDROME\n",
      "  13. TISSUE_TYPE\n",
      "  14. MOLECULAR_GENETICS\n",
      "  15. ROLE_IN_CANCER\n",
      "  16. MUTATION_TYPES\n",
      "  17. TRANSLOCATION_PARTNER\n",
      "  18. OTHER_GERMLINE_MUT\n",
      "  19. OTHER_SYNDROME\n",
      "  20. TIER\n",
      "  21. SYNONYMS\n"
     ]
    }
   ],
   "execution_count": 3
  },
  {
   "metadata": {},
   "cell_type": "markdown",
   "source": "## Preview OncoKB Data Columns\n",
   "id": "73f149d46c531c21"
  },
  {
   "metadata": {
    "ExecuteTime": {
     "end_time": "2025-07-12T00:17:02.511305Z",
     "start_time": "2025-07-12T00:17:02.507145Z"
    }
   },
   "cell_type": "code",
   "source": [
    "# Preview OncoKB data structure\n",
    "oncokb_df = pd.read_csv(oncokb_file, sep='\\t', nrows=3)\n",
    "\n",
    "print(f\"OncoKB data shape: {oncokb_df.shape}\")\n",
    "print(f\"OncoKB columns ({len(oncokb_df.columns)}):\")\n",
    "for i, col in enumerate(oncokb_df.columns, 1):\n",
    "    print(f\"  {i:2d}. {col}\")\n"
   ],
   "id": "7ebbb3d11e8408b4",
   "outputs": [
    {
     "name": "stdout",
     "output_type": "stream",
     "text": [
      "OncoKB data shape: (3, 17)\n",
      "OncoKB columns (17):\n",
      "   1. Hugo Symbol\n",
      "   2. Entrez Gene ID\n",
      "   3. GRCh37 Isoform\n",
      "   4. GRCh37 RefSeq\n",
      "   5. GRCh38 Isoform\n",
      "   6. GRCh38 RefSeq\n",
      "   7. Is Oncogene\n",
      "   8. Is Tumor Suppressor Gene\n",
      "   9. # of occurrence within resources (Column J-P)\n",
      "  10. OncoKB Annotated\n",
      "  11. MSK-IMPACT\n",
      "  12. MSK-HEME\n",
      "  13. FOUNDATION ONE\n",
      "  14. FOUNDATION ONE HEME\n",
      "  15. Vogelstein\n",
      "  16. COSMIC CGC (v99)\n",
      "  17. Gene Aliases\n"
     ]
    }
   ],
   "execution_count": 4
  },
  {
   "metadata": {},
   "cell_type": "markdown",
   "source": "## Run COSMIC + OncoKB Annotation (Uncompressed Output)\n",
   "id": "bc9981cb806270bc"
  },
  {
   "metadata": {
    "ExecuteTime": {
     "end_time": "2025-07-12T00:17:02.669729Z",
     "start_time": "2025-07-12T00:17:02.557999Z"
    }
   },
   "cell_type": "code",
   "source": [
    "# Run annotation with uncompressed output (COSMIC + OncoKB)\n",
    "result_df, output_path = maf_COSMIC_OncoKB_annotation(\n",
    "    maf_file=maf_file,\n",
    "    annotation_table=cosmic_file,\n",
    "    oncokb_table=oncokb_file,\n",
    "    synonyms_column=\"SYNONYMS\",\n",
    ")\n",
    "\n",
    "print(f\"Annotation completed!\")\n",
    "print(f\"Output file: {output_path}\")\n",
    "print(f\"Result shape: {result_df.shape}\")\n"
   ],
   "id": "c46d1b59bf673522",
   "outputs": [
    {
     "name": "stdout",
     "output_type": "stream",
     "text": [
      "Annotation completed!\n",
      "Output file: ../../src/pyMut/data/examples/tcga_laml_COSMIC_OncoKB_annotated.maf.gz\n",
      "Result shape: (2207, 53)\n"
     ]
    }
   ],
   "execution_count": 5
  },
  {
   "metadata": {},
   "cell_type": "markdown",
   "source": "## Results Summary\n",
   "id": "d0e7dea5afa3b5c4"
  },
  {
   "metadata": {
    "ExecuteTime": {
     "end_time": "2025-07-12T00:17:02.687794Z",
     "start_time": "2025-07-12T00:17:02.684893Z"
    }
   },
   "cell_type": "code",
   "source": [
    "# Show added COSMIC columns\n",
    "cosmic_columns = [col for col in result_df.columns if col.startswith('COSMIC_')]\n",
    "print(f\"Added {len(cosmic_columns)} COSMIC columns:\")\n",
    "for i, col in enumerate(cosmic_columns, 1):\n",
    "    print(f\"  {i:2d}. {col}\")\n",
    "\n",
    "print()  # Empty line for separation\n",
    "\n",
    "# Show added OncoKB columns\n",
    "oncokb_columns = [col for col in result_df.columns if col.startswith('OncoKB_')]\n",
    "print(f\"Added {len(oncokb_columns)} OncoKB columns:\")\n",
    "for i, col in enumerate(oncokb_columns, 1):\n",
    "    print(f\"  {i:2d}. {col}\")\n"
   ],
   "id": "c8ca3abdfcf62c07",
   "outputs": [
    {
     "name": "stdout",
     "output_type": "stream",
     "text": [
      "Added 20 COSMIC columns:\n",
      "   1. COSMIC_NAME\n",
      "   2. COSMIC_COSMIC_GENE_ID\n",
      "   3. COSMIC_CHROMOSOME\n",
      "   4. COSMIC_GENOME_START\n",
      "   5. COSMIC_GENOME_STOP\n",
      "   6. COSMIC_CHR_BAND\n",
      "   7. COSMIC_SOMATIC\n",
      "   8. COSMIC_GERMLINE\n",
      "   9. COSMIC_TUMOUR_TYPES_SOMATIC\n",
      "  10. COSMIC_TUMOUR_TYPES_GERMLINE\n",
      "  11. COSMIC_CANCER_SYNDROME\n",
      "  12. COSMIC_TISSUE_TYPE\n",
      "  13. COSMIC_MOLECULAR_GENETICS\n",
      "  14. COSMIC_ROLE_IN_CANCER\n",
      "  15. COSMIC_MUTATION_TYPES\n",
      "  16. COSMIC_TRANSLOCATION_PARTNER\n",
      "  17. COSMIC_OTHER_GERMLINE_MUT\n",
      "  18. COSMIC_OTHER_SYNDROME\n",
      "  19. COSMIC_TIER\n",
      "  20. COSMIC_SYNONYMS\n",
      "\n",
      "Added 16 OncoKB columns:\n",
      "   1. OncoKB_Entrez Gene ID\n",
      "   2. OncoKB_GRCh37 Isoform\n",
      "   3. OncoKB_GRCh37 RefSeq\n",
      "   4. OncoKB_GRCh38 Isoform\n",
      "   5. OncoKB_GRCh38 RefSeq\n",
      "   6. OncoKB_Is Oncogene\n",
      "   7. OncoKB_Is Tumor Suppressor Gene\n",
      "   8. OncoKB_# of occurrence within resources (Column J-P)\n",
      "   9. OncoKB_OncoKB Annotated\n",
      "  10. OncoKB_MSK-IMPACT\n",
      "  11. OncoKB_MSK-HEME\n",
      "  12. OncoKB_FOUNDATION ONE\n",
      "  13. OncoKB_FOUNDATION ONE HEME\n",
      "  14. OncoKB_Vogelstein\n",
      "  15. OncoKB_COSMIC CGC (v99)\n",
      "  16. OncoKB_Gene Aliases\n"
     ]
    }
   ],
   "execution_count": 6
  },
  {
   "metadata": {
    "ExecuteTime": {
     "end_time": "2025-07-12T00:17:02.783507Z",
     "start_time": "2025-07-12T00:17:02.744015Z"
    }
   },
   "cell_type": "code",
   "source": [
    "# Check annotation coverage\n",
    "total_count = len(result_df)\n",
    "print(f\"Annotation coverage:\")\n",
    "print(f\"  Total mutations: {total_count}\")\n",
    "\n",
    "if cosmic_columns:\n",
    "    # Check for non-empty COSMIC annotation values\n",
    "    has_cosmic_annotation = result_df[cosmic_columns].apply(lambda x: x.str.strip() != \"\", axis=0).any(axis=1)\n",
    "    cosmic_annotated_count = has_cosmic_annotation.sum()\n",
    "    print(f\"  With COSMIC annotation: {cosmic_annotated_count}\")\n",
    "    print(f\"  COSMIC coverage: {cosmic_annotated_count/total_count*100:.1f}%\")\n",
    "\n",
    "if oncokb_columns:\n",
    "    # Check for non-empty OncoKB annotation values\n",
    "    has_oncokb_annotation = result_df[oncokb_columns].apply(lambda x: x.str.strip() != \"\", axis=0).any(axis=1)\n",
    "    oncokb_annotated_count = has_oncokb_annotation.sum()\n",
    "    print(f\"  With OncoKB annotation: {oncokb_annotated_count}\")\n",
    "    print(f\"  OncoKB coverage: {oncokb_annotated_count/total_count*100:.1f}%\")\n",
    "\n",
    "# Check for mutations with both annotations\n",
    "if cosmic_columns and oncokb_columns:\n",
    "    has_both_annotations = (\n",
    "        result_df[cosmic_columns].apply(lambda x: x.str.strip() != \"\", axis=0).any(axis=1) &\n",
    "        result_df[oncokb_columns].apply(lambda x: x.str.strip() != \"\", axis=0).any(axis=1)\n",
    "    )\n",
    "    both_annotated_count = has_both_annotations.sum()\n",
    "    print(f\"  With both COSMIC and OncoKB annotation: {both_annotated_count}\")\n",
    "    print(f\"  Both annotations coverage: {both_annotated_count/total_count*100:.1f}%\")\n"
   ],
   "id": "7fb6de4200ee7b5b",
   "outputs": [
    {
     "name": "stdout",
     "output_type": "stream",
     "text": [
      "Annotation coverage:\n",
      "  Total mutations: 2207\n",
      "  With COSMIC annotation: 513\n",
      "  COSMIC coverage: 23.2%\n",
      "  With OncoKB annotation: 565\n",
      "  OncoKB coverage: 25.6%\n",
      "  With both COSMIC and OncoKB annotation: 485\n",
      "  Both annotations coverage: 22.0%\n"
     ]
    }
   ],
   "execution_count": 7
  },
  {
   "metadata": {},
   "cell_type": "markdown",
   "source": "## Sample Annotated Data\n",
   "id": "e28cfa6904497514"
  },
  {
   "metadata": {
    "ExecuteTime": {
     "end_time": "2025-07-12T00:17:02.854461Z",
     "start_time": "2025-07-12T00:17:02.829268Z"
    }
   },
   "cell_type": "code",
   "source": [
    "# Show sample of annotated data\n",
    "all_annotation_columns = cosmic_columns + oncokb_columns\n",
    "if all_annotation_columns:\n",
    "    has_annotation_mask = result_df[all_annotation_columns].apply(lambda x: x.str.strip() != \"\", axis=0).any(axis=1)\n",
    "    annotated_rows = result_df[has_annotation_mask]\n",
    "\n",
    "    if len(annotated_rows) > 0:\n",
    "        print(\"Sample annotated mutations (COSMIC + OncoKB):\")\n",
    "\n",
    "        # Select sample columns from both COSMIC and OncoKB\n",
    "        sample_cols = ['Hugo_Symbol']\n",
    "\n",
    "        # Add some key COSMIC columns if they exist\n",
    "        cosmic_sample_cols = ['COSMIC_ROLE_IN_CANCER', 'COSMIC_TIER']\n",
    "        for col in cosmic_sample_cols:\n",
    "            if col in annotated_rows.columns:\n",
    "                sample_cols.append(col)\n",
    "\n",
    "        # Add some key OncoKB columns if they exist\n",
    "        oncokb_sample_cols = ['OncoKB_Is Oncogene', 'OncoKB_Is Tumor Suppressor Gene', 'OncoKB_OncoKB Annotated']\n",
    "        for col in oncokb_sample_cols:\n",
    "            if col in annotated_rows.columns:\n",
    "                sample_cols.append(col)\n",
    "\n",
    "        display_df = annotated_rows[sample_cols].head(5)\n",
    "        display(display_df)\n",
    "    else:\n",
    "        print(\"No mutations found with annotations\")\n"
   ],
   "id": "6bd6c20a7307d5d",
   "outputs": [
    {
     "name": "stdout",
     "output_type": "stream",
     "text": [
      "Sample annotated mutations (COSMIC + OncoKB):\n"
     ]
    },
    {
     "data": {
      "text/plain": [
       "   Hugo_Symbol COSMIC_ROLE_IN_CANCER COSMIC_TIER OncoKB_Is Oncogene  \\\n",
       "8         ABL1      oncogene, fusion         1.0                Yes   \n",
       "40        AFF4      oncogene, fusion         1.0                Yes   \n",
       "58       ALOX5                                                  Yes   \n",
       "70     ANKRD26                                                  Yes   \n",
       "91     ARHGAP5              oncogene         2.0                      \n",
       "\n",
       "   OncoKB_Is Tumor Suppressor Gene OncoKB_OncoKB Annotated  \n",
       "8                               No                     Yes  \n",
       "40                              No                     Yes  \n",
       "58                             Yes                     Yes  \n",
       "70                              No                     Yes  \n",
       "91                                                          "
      ],
      "text/html": [
       "<div>\n",
       "<style scoped>\n",
       "    .dataframe tbody tr th:only-of-type {\n",
       "        vertical-align: middle;\n",
       "    }\n",
       "\n",
       "    .dataframe tbody tr th {\n",
       "        vertical-align: top;\n",
       "    }\n",
       "\n",
       "    .dataframe thead th {\n",
       "        text-align: right;\n",
       "    }\n",
       "</style>\n",
       "<table border=\"1\" class=\"dataframe\">\n",
       "  <thead>\n",
       "    <tr style=\"text-align: right;\">\n",
       "      <th></th>\n",
       "      <th>Hugo_Symbol</th>\n",
       "      <th>COSMIC_ROLE_IN_CANCER</th>\n",
       "      <th>COSMIC_TIER</th>\n",
       "      <th>OncoKB_Is Oncogene</th>\n",
       "      <th>OncoKB_Is Tumor Suppressor Gene</th>\n",
       "      <th>OncoKB_OncoKB Annotated</th>\n",
       "    </tr>\n",
       "  </thead>\n",
       "  <tbody>\n",
       "    <tr>\n",
       "      <th>8</th>\n",
       "      <td>ABL1</td>\n",
       "      <td>oncogene, fusion</td>\n",
       "      <td>1.0</td>\n",
       "      <td>Yes</td>\n",
       "      <td>No</td>\n",
       "      <td>Yes</td>\n",
       "    </tr>\n",
       "    <tr>\n",
       "      <th>40</th>\n",
       "      <td>AFF4</td>\n",
       "      <td>oncogene, fusion</td>\n",
       "      <td>1.0</td>\n",
       "      <td>Yes</td>\n",
       "      <td>No</td>\n",
       "      <td>Yes</td>\n",
       "    </tr>\n",
       "    <tr>\n",
       "      <th>58</th>\n",
       "      <td>ALOX5</td>\n",
       "      <td></td>\n",
       "      <td></td>\n",
       "      <td>Yes</td>\n",
       "      <td>Yes</td>\n",
       "      <td>Yes</td>\n",
       "    </tr>\n",
       "    <tr>\n",
       "      <th>70</th>\n",
       "      <td>ANKRD26</td>\n",
       "      <td></td>\n",
       "      <td></td>\n",
       "      <td>Yes</td>\n",
       "      <td>No</td>\n",
       "      <td>Yes</td>\n",
       "    </tr>\n",
       "    <tr>\n",
       "      <th>91</th>\n",
       "      <td>ARHGAP5</td>\n",
       "      <td>oncogene</td>\n",
       "      <td>2.0</td>\n",
       "      <td></td>\n",
       "      <td></td>\n",
       "      <td></td>\n",
       "    </tr>\n",
       "  </tbody>\n",
       "</table>\n",
       "</div>"
      ]
     },
     "metadata": {},
     "output_type": "display_data"
    }
   ],
   "execution_count": 8
  }
 ],
 "metadata": {},
 "nbformat": 4,
 "nbformat_minor": 5
}
