{
 "cells": [
  {
   "metadata": {},
   "cell_type": "markdown",
   "source": [
    "# Tissue Expression Filter Test with TCGA LAML Data\n",
    "\n",
    "Testing tissue expression functionality with real TCGA Acute Myeloid Leukemia data.\n"
   ],
   "id": "8e7f46b9bf9878dc"
  },
  {
   "metadata": {
    "ExecuteTime": {
     "end_time": "2025-07-30T21:17:51.113056Z",
     "start_time": "2025-07-30T21:17:51.110718Z"
    }
   },
   "cell_type": "code",
   "source": [
    "import sys\n",
    "import os\n",
    "import pandas as pd\n",
    "from IPython.display import display\n",
    "\n",
    "# Add src to path\n",
    "sys.path.insert(0, os.path.join('..', '..', '..', 'src'))\n",
    "\n",
    "from pyMut.input import read_maf\n",
    "from pyMut.filters.tissue_expression import tissue_expression\n"
   ],
   "id": "8b6ffbbad5daadc3",
   "outputs": [],
   "execution_count": 3
  },
  {
   "metadata": {},
   "cell_type": "markdown",
   "source": "## Load TCGA LAML Dataset\n",
   "id": "777d6af37d9fa76b"
  },
  {
   "metadata": {
    "ExecuteTime": {
     "end_time": "2025-07-30T21:17:51.189246Z",
     "start_time": "2025-07-30T21:17:51.158751Z"
    }
   },
   "cell_type": "code",
   "source": [
    "# Load real TCGA LAML data\n",
    "maf_path = os.path.join('..', '..', '..', 'src', 'pyMut', 'data', 'examples', 'MAF','tcga_laml.maf.gz')\n",
    "# TCGA data is typically based on GRCh37 assembly\n",
    "py_mut = read_maf(maf_path, assembly=\"37\")\n",
    "\n",
    "print(f\"Loaded TCGA LAML data: {len(py_mut.data)} variants\")\n",
    "print(f\"Unique genes: {py_mut.data['Hugo_Symbol'].nunique()}\")\n",
    "print(f\"Unique samples: {py_mut.data['Tumor_Sample_Barcode'].nunique()}\")\n"
   ],
   "id": "36aaada734a1efa0",
   "outputs": [
    {
     "name": "stderr",
     "output_type": "stream",
     "text": [
      "2025-07-30 23:17:51,159 | INFO | pyMut.input | Starting MAF reading: ../../../src/pyMut/data/examples/MAF/tcga_laml.maf.gz\n",
      "2025-07-30 23:17:51,160 | INFO | pyMut.input | Loading from cache: ../../../src/pyMut/data/examples/MAF/.pymut_cache/tcga_laml.maf_3515f757055e6890.parquet\n",
      "2025-07-30 23:17:51,186 | INFO | pyMut.input | Cache loaded successfully in 0.03 seconds\n"
     ]
    },
    {
     "name": "stdout",
     "output_type": "stream",
     "text": [
      "Loaded TCGA LAML data: 2207 variants\n",
      "Unique genes: 1611\n",
      "Unique samples: 193\n"
     ]
    }
   ],
   "execution_count": 4
  },
  {
   "metadata": {},
   "cell_type": "markdown",
   "source": "## Test 1: Individual Gene Expression (with prints)\n",
   "id": "e48ba409d6e35f20"
  },
  {
   "metadata": {
    "ExecuteTime": {
     "end_time": "2025-07-30T21:17:51.295263Z",
     "start_time": "2025-07-30T21:17:51.205198Z"
    }
   },
   "cell_type": "code",
   "source": [
    "# Test individual gene expression with genes from the dataset\n",
    "sample_genes = py_mut.data['Hugo_Symbol'].value_counts().head(3).index.tolist()\n",
    "print(f\"Testing genes: {sample_genes}\")\n",
    "\n",
    "for gene in sample_genes:\n",
    "    result_laml = tissue_expression(gene, [\"LAML\", 5])  # LAML = Acute Myeloid Leukemia\n",
    "    result_blca = tissue_expression(gene, [\"BLCA\", 5])  # BLCA = Bladder Cancer\n",
    "    print(f\"{gene} - LAML (>5): {result_laml}, BLCA (>5): {result_blca}\")\n"
   ],
   "id": "dbb62b6906d1027f",
   "outputs": [
    {
     "name": "stdout",
     "output_type": "stream",
     "text": [
      "Testing genes: ['DNMT3A', 'FLT3', 'NPM1']\n",
      "DNMT3A - LAML (>5): False, BLCA (>5): False\n",
      "FLT3 - LAML (>5): False, BLCA (>5): False\n",
      "NPM1 - LAML (>5): False, BLCA (>5): True\n"
     ]
    }
   ],
   "execution_count": 5
  },
  {
   "metadata": {},
   "cell_type": "markdown",
   "source": "## Test 2: PyMutation Object Filtering\n",
   "id": "94e5f9b57a0be3b9"
  },
  {
   "metadata": {
    "ExecuteTime": {
     "end_time": "2025-07-30T21:17:51.597894Z",
     "start_time": "2025-07-30T21:17:51.300481Z"
    }
   },
   "cell_type": "code",
   "source": [
    "print(f\"Original TCGA data: {len(py_mut.data)} variants\")\n",
    "\n",
    "# Filter by LAML tissue (should keep many since this is LAML data)\n",
    "filtered_laml = py_mut.filter_by_tissue_expression([('LAML', 5)])\n",
    "print(f\"LAML expressed (>5): {len(filtered_laml.data)} variants\")\n",
    "\n",
    "\n",
    "# Filter by multiple tissues\n",
    "filtered_multi = py_mut.filter_by_tissue_expression([('LAML', 5), ('BRCA', 3), ('LUAD', 4)])\n",
    "print(f\"Multi-tissue expressed: {len(filtered_multi.data)} variants\")\n",
    "\n",
    "\n",
    "# Filter for NOT expressed in LAML with high threshold\n",
    "filtered_not = py_mut.filter_by_tissue_expression([('LAML', 50)], keep_expressed=False)\n",
    "print(f\"NOT highly expressed in LAML: {len(filtered_not.data)} variants\")\n"
   ],
   "id": "6289638b453b17d",
   "outputs": [
    {
     "name": "stdout",
     "output_type": "stream",
     "text": [
      "Original TCGA data: 2207 variants\n",
      "LAML expressed (>5): 0 variants\n",
      "Multi-tissue expressed: 1010 variants\n",
      "NOT highly expressed in LAML: 2207 variants\n"
     ]
    }
   ],
   "execution_count": 6
  },
  {
   "metadata": {},
   "cell_type": "markdown",
   "source": "## Test 3: Tissue Expression Results Analysis\n",
   "id": "be4c1174defe4462"
  },
  {
   "metadata": {
    "ExecuteTime": {
     "end_time": "2025-07-30T21:17:51.621053Z",
     "start_time": "2025-07-30T21:17:51.605591Z"
    }
   },
   "cell_type": "code",
   "source": [
    "# Display tissue expression results dataframes\n",
    "print(\"📊 Detailed tissue expression analysis results:\")\n",
    "\n",
    "if hasattr(filtered_multi, 'tissue_expression_results'):\n",
    "    results_df = filtered_multi.tissue_expression_results\n",
    "    print(f\"\\nResults dataframe shape: {results_df.shape}\")\n",
    "    print(\"Columns:\", list(results_df.columns))\n",
    "\n",
    "    print(\"\\n📊 Complete tissue expression results:\")\n",
    "    display(results_df)\n",
    "\n",
    "    # Create summary statistics table\n",
    "    summary_stats = []\n",
    "    for col in results_df.columns:\n",
    "        if col.endswith('_expressed'):\n",
    "            tissue = col.replace('_expressed', '')\n",
    "            count = results_df[col].sum()\n",
    "            total = len(results_df)\n",
    "            percentage = (count / total * 100) if total > 0 else 0\n",
    "            summary_stats.append({\n",
    "                'Tissue': tissue,\n",
    "                'Expressed_Count': count,\n",
    "                'Total_Genes': total,\n",
    "                'Percentage': f\"{percentage:.1f}%\"\n",
    "            })\n",
    "\n",
    "    if summary_stats:\n",
    "        print(\"\\n📊 Summary statistics by tissue:\")\n",
    "        summary_df = pd.DataFrame(summary_stats)\n",
    "        display(summary_df)\n",
    "else:\n",
    "    print(\"❌ Results dataframe not found\")\n"
   ],
   "id": "cfc52d6cd465ab4b",
   "outputs": [
    {
     "name": "stdout",
     "output_type": "stream",
     "text": [
      "📊 Detailed tissue expression analysis results:\n",
      "\n",
      "Results dataframe shape: (2207, 9)\n",
      "Columns: ['Index', 'Gene_Symbol', 'Expressed_in_Any_Tissue', 'LAML_expressed', 'LAML_threshold', 'BRCA_expressed', 'BRCA_threshold', 'LUAD_expressed', 'LUAD_threshold']\n",
      "\n",
      "📊 Complete tissue expression results:\n"
     ]
    },
    {
     "data": {
      "text/plain": [
       "      Index Gene_Symbol  Expressed_in_Any_Tissue  LAML_expressed  \\\n",
       "0         0      ABCA10                    False           False   \n",
       "1         1       ABCA4                    False           False   \n",
       "2         2      ABCB11                    False           False   \n",
       "3         3      ABCC11                    False           False   \n",
       "4         4       ABCC3                     True           False   \n",
       "...     ...         ...                      ...             ...   \n",
       "2202   2202      ZNF827                     True           False   \n",
       "2203   2203       ZNF99                    False           False   \n",
       "2204   2204        ZPBP                    False           False   \n",
       "2205   2205     ZSCAN21                     True           False   \n",
       "2206   2206     ZSCAN5A                    False           False   \n",
       "\n",
       "      LAML_threshold  BRCA_expressed  BRCA_threshold  LUAD_expressed  \\\n",
       "0                  5           False               3           False   \n",
       "1                  5           False               3           False   \n",
       "2                  5           False               3           False   \n",
       "3                  5           False               3           False   \n",
       "4                  5           False               3            True   \n",
       "...              ...             ...             ...             ...   \n",
       "2202               5            True               3           False   \n",
       "2203               5           False               3           False   \n",
       "2204               5           False               3           False   \n",
       "2205               5            True               3           False   \n",
       "2206               5           False               3           False   \n",
       "\n",
       "      LUAD_threshold  \n",
       "0                  4  \n",
       "1                  4  \n",
       "2                  4  \n",
       "3                  4  \n",
       "4                  4  \n",
       "...              ...  \n",
       "2202               4  \n",
       "2203               4  \n",
       "2204               4  \n",
       "2205               4  \n",
       "2206               4  \n",
       "\n",
       "[2207 rows x 9 columns]"
      ],
      "text/html": [
       "<div>\n",
       "<style scoped>\n",
       "    .dataframe tbody tr th:only-of-type {\n",
       "        vertical-align: middle;\n",
       "    }\n",
       "\n",
       "    .dataframe tbody tr th {\n",
       "        vertical-align: top;\n",
       "    }\n",
       "\n",
       "    .dataframe thead th {\n",
       "        text-align: right;\n",
       "    }\n",
       "</style>\n",
       "<table border=\"1\" class=\"dataframe\">\n",
       "  <thead>\n",
       "    <tr style=\"text-align: right;\">\n",
       "      <th></th>\n",
       "      <th>Index</th>\n",
       "      <th>Gene_Symbol</th>\n",
       "      <th>Expressed_in_Any_Tissue</th>\n",
       "      <th>LAML_expressed</th>\n",
       "      <th>LAML_threshold</th>\n",
       "      <th>BRCA_expressed</th>\n",
       "      <th>BRCA_threshold</th>\n",
       "      <th>LUAD_expressed</th>\n",
       "      <th>LUAD_threshold</th>\n",
       "    </tr>\n",
       "  </thead>\n",
       "  <tbody>\n",
       "    <tr>\n",
       "      <th>0</th>\n",
       "      <td>0</td>\n",
       "      <td>ABCA10</td>\n",
       "      <td>False</td>\n",
       "      <td>False</td>\n",
       "      <td>5</td>\n",
       "      <td>False</td>\n",
       "      <td>3</td>\n",
       "      <td>False</td>\n",
       "      <td>4</td>\n",
       "    </tr>\n",
       "    <tr>\n",
       "      <th>1</th>\n",
       "      <td>1</td>\n",
       "      <td>ABCA4</td>\n",
       "      <td>False</td>\n",
       "      <td>False</td>\n",
       "      <td>5</td>\n",
       "      <td>False</td>\n",
       "      <td>3</td>\n",
       "      <td>False</td>\n",
       "      <td>4</td>\n",
       "    </tr>\n",
       "    <tr>\n",
       "      <th>2</th>\n",
       "      <td>2</td>\n",
       "      <td>ABCB11</td>\n",
       "      <td>False</td>\n",
       "      <td>False</td>\n",
       "      <td>5</td>\n",
       "      <td>False</td>\n",
       "      <td>3</td>\n",
       "      <td>False</td>\n",
       "      <td>4</td>\n",
       "    </tr>\n",
       "    <tr>\n",
       "      <th>3</th>\n",
       "      <td>3</td>\n",
       "      <td>ABCC11</td>\n",
       "      <td>False</td>\n",
       "      <td>False</td>\n",
       "      <td>5</td>\n",
       "      <td>False</td>\n",
       "      <td>3</td>\n",
       "      <td>False</td>\n",
       "      <td>4</td>\n",
       "    </tr>\n",
       "    <tr>\n",
       "      <th>4</th>\n",
       "      <td>4</td>\n",
       "      <td>ABCC3</td>\n",
       "      <td>True</td>\n",
       "      <td>False</td>\n",
       "      <td>5</td>\n",
       "      <td>False</td>\n",
       "      <td>3</td>\n",
       "      <td>True</td>\n",
       "      <td>4</td>\n",
       "    </tr>\n",
       "    <tr>\n",
       "      <th>...</th>\n",
       "      <td>...</td>\n",
       "      <td>...</td>\n",
       "      <td>...</td>\n",
       "      <td>...</td>\n",
       "      <td>...</td>\n",
       "      <td>...</td>\n",
       "      <td>...</td>\n",
       "      <td>...</td>\n",
       "      <td>...</td>\n",
       "    </tr>\n",
       "    <tr>\n",
       "      <th>2202</th>\n",
       "      <td>2202</td>\n",
       "      <td>ZNF827</td>\n",
       "      <td>True</td>\n",
       "      <td>False</td>\n",
       "      <td>5</td>\n",
       "      <td>True</td>\n",
       "      <td>3</td>\n",
       "      <td>False</td>\n",
       "      <td>4</td>\n",
       "    </tr>\n",
       "    <tr>\n",
       "      <th>2203</th>\n",
       "      <td>2203</td>\n",
       "      <td>ZNF99</td>\n",
       "      <td>False</td>\n",
       "      <td>False</td>\n",
       "      <td>5</td>\n",
       "      <td>False</td>\n",
       "      <td>3</td>\n",
       "      <td>False</td>\n",
       "      <td>4</td>\n",
       "    </tr>\n",
       "    <tr>\n",
       "      <th>2204</th>\n",
       "      <td>2204</td>\n",
       "      <td>ZPBP</td>\n",
       "      <td>False</td>\n",
       "      <td>False</td>\n",
       "      <td>5</td>\n",
       "      <td>False</td>\n",
       "      <td>3</td>\n",
       "      <td>False</td>\n",
       "      <td>4</td>\n",
       "    </tr>\n",
       "    <tr>\n",
       "      <th>2205</th>\n",
       "      <td>2205</td>\n",
       "      <td>ZSCAN21</td>\n",
       "      <td>True</td>\n",
       "      <td>False</td>\n",
       "      <td>5</td>\n",
       "      <td>True</td>\n",
       "      <td>3</td>\n",
       "      <td>False</td>\n",
       "      <td>4</td>\n",
       "    </tr>\n",
       "    <tr>\n",
       "      <th>2206</th>\n",
       "      <td>2206</td>\n",
       "      <td>ZSCAN5A</td>\n",
       "      <td>False</td>\n",
       "      <td>False</td>\n",
       "      <td>5</td>\n",
       "      <td>False</td>\n",
       "      <td>3</td>\n",
       "      <td>False</td>\n",
       "      <td>4</td>\n",
       "    </tr>\n",
       "  </tbody>\n",
       "</table>\n",
       "<p>2207 rows × 9 columns</p>\n",
       "</div>"
      ]
     },
     "metadata": {},
     "output_type": "display_data"
    },
    {
     "name": "stdout",
     "output_type": "stream",
     "text": [
      "\n",
      "📊 Summary statistics by tissue:\n"
     ]
    },
    {
     "data": {
      "text/plain": [
       "  Tissue  Expressed_Count  Total_Genes Percentage\n",
       "0   LAML                0         2207       0.0%\n",
       "1   BRCA              981         2207      44.4%\n",
       "2   LUAD              849         2207      38.5%"
      ],
      "text/html": [
       "<div>\n",
       "<style scoped>\n",
       "    .dataframe tbody tr th:only-of-type {\n",
       "        vertical-align: middle;\n",
       "    }\n",
       "\n",
       "    .dataframe tbody tr th {\n",
       "        vertical-align: top;\n",
       "    }\n",
       "\n",
       "    .dataframe thead th {\n",
       "        text-align: right;\n",
       "    }\n",
       "</style>\n",
       "<table border=\"1\" class=\"dataframe\">\n",
       "  <thead>\n",
       "    <tr style=\"text-align: right;\">\n",
       "      <th></th>\n",
       "      <th>Tissue</th>\n",
       "      <th>Expressed_Count</th>\n",
       "      <th>Total_Genes</th>\n",
       "      <th>Percentage</th>\n",
       "    </tr>\n",
       "  </thead>\n",
       "  <tbody>\n",
       "    <tr>\n",
       "      <th>0</th>\n",
       "      <td>LAML</td>\n",
       "      <td>0</td>\n",
       "      <td>2207</td>\n",
       "      <td>0.0%</td>\n",
       "    </tr>\n",
       "    <tr>\n",
       "      <th>1</th>\n",
       "      <td>BRCA</td>\n",
       "      <td>981</td>\n",
       "      <td>2207</td>\n",
       "      <td>44.4%</td>\n",
       "    </tr>\n",
       "    <tr>\n",
       "      <th>2</th>\n",
       "      <td>LUAD</td>\n",
       "      <td>849</td>\n",
       "      <td>2207</td>\n",
       "      <td>38.5%</td>\n",
       "    </tr>\n",
       "  </tbody>\n",
       "</table>\n",
       "</div>"
      ]
     },
     "metadata": {},
     "output_type": "display_data"
    }
   ],
   "execution_count": 7
  }
 ],
 "metadata": {},
 "nbformat": 4,
 "nbformat_minor": 5
}
