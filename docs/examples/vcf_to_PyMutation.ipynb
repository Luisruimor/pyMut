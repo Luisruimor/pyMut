{
 "cells": [
  {
   "metadata": {},
   "cell_type": "markdown",
   "source": "# VCF to PyMutation Conversion\n",
   "id": "859ba7e963744fa1"
  },
  {
   "metadata": {
    "ExecuteTime": {
     "end_time": "2025-07-10T21:59:18.543172Z",
     "start_time": "2025-07-10T21:59:18.538989Z"
    }
   },
   "cell_type": "code",
   "source": [
    "import sys\n",
    "import os\n",
    "\n",
    "# Configurar el directorio del proyecto\n",
    "project_root = os.path.abspath(os.path.join(os.getcwd(), '..', 'src'))\n",
    "if project_root not in sys.path:\n",
    "    sys.path.append(project_root)\n",
    "\n",
    "print('✅ PYTHONPATH configurado para incluir:', project_root)\n"
   ],
   "id": "97b7e8a3a632a9ce",
   "outputs": [
    {
     "name": "stdout",
     "output_type": "stream",
     "text": [
      "✅ PYTHONPATH configurado para incluir: /home/luisruimore/Escritorio/TFG/docs/src\n"
     ]
    }
   ],
   "execution_count": 1
  },
  {
   "metadata": {},
   "cell_type": "markdown",
   "source": "## Importar la función read_vcf\n",
   "id": "fc782d7699f7987c"
  },
  {
   "metadata": {
    "ExecuteTime": {
     "end_time": "2025-07-10T21:59:19.126680Z",
     "start_time": "2025-07-10T21:59:18.658580Z"
    }
   },
   "cell_type": "code",
   "source": [
    "from pyMut import read_vcf\n",
    "\n",
    "print(\"✅ Función read_vcf importada correctamente\")\n"
   ],
   "id": "d7bc84a5f1dc8c3e",
   "outputs": [
    {
     "name": "stdout",
     "output_type": "stream",
     "text": [
      "✅ Función read_vcf importada correctamente\n"
     ]
    }
   ],
   "execution_count": 2
  },
  {
   "metadata": {},
   "cell_type": "markdown",
   "source": "## Definir ruta del archivo subset de 250k\n",
   "id": "8230ea724b1f48e0"
  },
  {
   "metadata": {
    "ExecuteTime": {
     "end_time": "2025-07-10T21:59:19.151328Z",
     "start_time": "2025-07-10T21:59:19.148715Z"
    }
   },
   "cell_type": "code",
   "source": [
    "# Ruta al archivo VCF de subset de 250k variantes\n",
    "vcf_path = \"../../src/pyMut/data/subsets/subset_50k_variants.vcf\"\n",
    "\n",
    "print(\"📁 Archivo a procesar:\")\n",
    "print(f\"  - 50k subset: {vcf_path}\")\n",
    "\n",
    "# Verificar que el archivo existe\n",
    "if os.path.exists(vcf_path):\n",
    "    print(\"✅ Archivo encontrado\")\n",
    "else:\n",
    "    print(\"❌ Archivo no encontrado\")\n"
   ],
   "id": "3b7ba734c53ba92b",
   "outputs": [
    {
     "name": "stdout",
     "output_type": "stream",
     "text": [
      "📁 Archivo a procesar:\n",
      "  - 50k subset: ../../src/pyMut/data/subsets/subset_50k_variants.vcf\n",
      "✅ Archivo encontrado\n"
     ]
    }
   ],
   "execution_count": 3
  },
  {
   "metadata": {},
   "cell_type": "markdown",
   "source": [
    "## Leer archivo VCF de 50k con configuración optimizada\n",
    "\n",
    "Usamos la configuración optimizada de pandas + PyArrow:\n"
   ],
   "id": "72ddb1efa44a89"
  },
  {
   "metadata": {
    "ExecuteTime": {
     "end_time": "2025-07-10T22:02:00.908343Z",
     "start_time": "2025-07-10T21:59:19.196326Z"
    }
   },
   "cell_type": "code",
   "source": [
    "print(\"📖 Leyendo archivo subset de 50k variantes...\")\n",
    "\n",
    "try:\n",
    "    # Leer con configuración optimizada (solo pandas + PyArrow)\n",
    "    pymutation_obj = read_vcf(vcf_path)\n",
    "\n",
    "    print(\"✅ Objeto PyMutation creado exitosamente\")\n",
    "    print(f\"   Forma del DataFrame: {pymutation_obj.data.shape}\")\n",
    "    print(f\"   Número de variantes: {len(pymutation_obj.data)}\")\n",
    "    print(f\"   Número de columnas: {len(pymutation_obj.data.columns)}\")\n",
    "\n",
    "except Exception as e:\n",
    "    print(f\"❌ Error al leer el archivo: {e}\")\n",
    "    import traceback\n",
    "    traceback.print_exc()\n",
    "\n"
   ],
   "id": "afe3cd00589a5cdf",
   "outputs": [
    {
     "name": "stderr",
     "output_type": "stream",
     "text": [
      "2025-07-10 23:59:19,197 | INFO | pyMut.input | Starting optimized VCF reading: ../../src/pyMut/data/subsets/subset_50k_variants.vcf\n",
      "2025-07-10 23:59:19,198 | INFO | pyMut.input | ============================================================\n",
      "2025-07-10 23:59:19,198 | INFO | pyMut.input | SYSTEM CONFIGURATION\n",
      "2025-07-10 23:59:19,198 | INFO | pyMut.input | ============================================================\n",
      "2025-07-10 23:59:19,198 | INFO | pyMut.input | CPU: 12 cores available\n",
      "2025-07-10 23:59:19,199 | INFO | pyMut.input | MEMORY:\n",
      "2025-07-10 23:59:19,199 | INFO | pyMut.input |   Total: 31.26 GB\n",
      "2025-07-10 23:59:19,199 | INFO | pyMut.input |   Available: 18.50 GB\n",
      "2025-07-10 23:59:19,200 | INFO | pyMut.input |   Used: 12.13 GB (40.8%)\n",
      "2025-07-10 23:59:19,200 | INFO | pyMut.input | DISK (current directory):\n",
      "2025-07-10 23:59:19,200 | INFO | pyMut.input |   Total: 409.14 GB\n",
      "2025-07-10 23:59:19,200 | INFO | pyMut.input |   Free: 114.78 GB\n",
      "2025-07-10 23:59:19,201 | INFO | pyMut.input |   Used: 273.51 GB (66.9%)\n",
      "2025-07-10 23:59:19,201 | INFO | pyMut.input | AVAILABLE LIBRARIES:\n",
      "2025-07-10 23:59:19,201 | INFO | pyMut.input |   PyArrow: ✓\n",
      "2025-07-10 23:59:19,201 | INFO | pyMut.input |   cyvcf2: ✓\n",
      "2025-07-10 23:59:19,202 | INFO | pyMut.input |   psutil: ✓\n",
      "2025-07-10 23:59:19,202 | INFO | pyMut.input | ============================================================\n",
      "2025-07-10 23:59:19,203 | INFO | pyMut.input | Reading VCF with pandas + pyarrow optimization...\n"
     ]
    },
    {
     "name": "stdout",
     "output_type": "stream",
     "text": [
      "📖 Leyendo archivo subset de 50k variantes...\n"
     ]
    },
    {
     "name": "stderr",
     "output_type": "stream",
     "text": [
      "2025-07-10 23:59:31,613 | INFO | pyMut.input | Pandas reading completed.\n",
      "2025-07-10 23:59:31,667 | INFO | pyMut.input | Expanding INFO column with vectorized operations...\n",
      "2025-07-10 23:59:32,221 | INFO | pyMut.input | Detected 2555 sample columns. Starting vectorized genotype conversion...\n",
      "2025-07-11 00:01:51,822 | INFO | pyMut.input | GT conversion: 139.60 s\n",
      "2025-07-11 00:01:53,459 | INFO | pyMut.input | Saving to cache: ../../src/pyMut/data/subsets/.pymut_cache/subset_50k_variants_1f276734705b29b3.parquet\n",
      "2025-07-11 00:02:00,901 | INFO | pyMut.input | VCF processed successfully: 50000 rows, 2569 columns in 161.70 seconds\n"
     ]
    },
    {
     "name": "stdout",
     "output_type": "stream",
     "text": [
      "✅ Objeto PyMutation creado exitosamente\n",
      "   Forma del DataFrame: (50000, 2569)\n",
      "   Número de variantes: 50000\n",
      "   Número de columnas: 2569\n"
     ]
    }
   ],
   "execution_count": 4
  },
  {
   "metadata": {},
   "cell_type": "markdown",
   "source": "## Mostrar primeras filas del DataFrame\n",
   "id": "edba9489ca6e5371"
  },
  {
   "metadata": {
    "ExecuteTime": {
     "end_time": "2025-07-10T22:02:00.984131Z",
     "start_time": "2025-07-10T22:02:00.970012Z"
    }
   },
   "cell_type": "code",
   "source": [
    "print(\"\\n🔍 Primeras 3 filas del subset de 50k:\")\n",
    "pymutation_obj.head(3)\n"
   ],
   "id": "c49a3dad446978d8",
   "outputs": [
    {
     "name": "stdout",
     "output_type": "stream",
     "text": [
      "\n",
      "🔍 Primeras 3 filas del subset de 50k:\n"
     ]
    },
    {
     "data": {
      "text/plain": [
       "   CHROM    POS ID REF ALT QUAL FILTER HG00096 HG00097 HG00099  ... VT NS  \\\n",
       "0  chr10  11501  .   C   A    .   PASS     C|A     C|C     C|C  ...  .  .   \n",
       "1  chr10  36097  .   G   A    .   PASS     G|A     A|G     G|G  ...  .  .   \n",
       "2  chr10  45900  .   C   T    .   PASS     C|C     C|C     C|C  ...  .  .   \n",
       "\n",
       "  EX_TARGET                                               INFO FORMAT   AC  \\\n",
       "0         .  AC=286;AN=5096;DP=20462;AF=0.06;EAS_AF=0;EUR_A...     GT  286   \n",
       "1         .  AC=992;AN=5096;DP=18607;AF=0.19;EAS_AF=0.26;EU...     GT  992   \n",
       "2         .  AC=2;AN=5096;DP=19215;AF=0;EAS_AF=0;EUR_AF=0;A...     GT    2   \n",
       "\n",
       "     AN     DP    AF AFR_AF  \n",
       "0  5096  20462  0.06   0.08  \n",
       "1  5096  18607  0.19   0.18  \n",
       "2  5096  19215     0      0  \n",
       "\n",
       "[3 rows x 2569 columns]"
      ],
      "text/html": [
       "<div>\n",
       "<style scoped>\n",
       "    .dataframe tbody tr th:only-of-type {\n",
       "        vertical-align: middle;\n",
       "    }\n",
       "\n",
       "    .dataframe tbody tr th {\n",
       "        vertical-align: top;\n",
       "    }\n",
       "\n",
       "    .dataframe thead th {\n",
       "        text-align: right;\n",
       "    }\n",
       "</style>\n",
       "<table border=\"1\" class=\"dataframe\">\n",
       "  <thead>\n",
       "    <tr style=\"text-align: right;\">\n",
       "      <th></th>\n",
       "      <th>CHROM</th>\n",
       "      <th>POS</th>\n",
       "      <th>ID</th>\n",
       "      <th>REF</th>\n",
       "      <th>ALT</th>\n",
       "      <th>QUAL</th>\n",
       "      <th>FILTER</th>\n",
       "      <th>HG00096</th>\n",
       "      <th>HG00097</th>\n",
       "      <th>HG00099</th>\n",
       "      <th>...</th>\n",
       "      <th>VT</th>\n",
       "      <th>NS</th>\n",
       "      <th>EX_TARGET</th>\n",
       "      <th>INFO</th>\n",
       "      <th>FORMAT</th>\n",
       "      <th>AC</th>\n",
       "      <th>AN</th>\n",
       "      <th>DP</th>\n",
       "      <th>AF</th>\n",
       "      <th>AFR_AF</th>\n",
       "    </tr>\n",
       "  </thead>\n",
       "  <tbody>\n",
       "    <tr>\n",
       "      <th>0</th>\n",
       "      <td>chr10</td>\n",
       "      <td>11501</td>\n",
       "      <td>.</td>\n",
       "      <td>C</td>\n",
       "      <td>A</td>\n",
       "      <td>.</td>\n",
       "      <td>PASS</td>\n",
       "      <td>C|A</td>\n",
       "      <td>C|C</td>\n",
       "      <td>C|C</td>\n",
       "      <td>...</td>\n",
       "      <td>.</td>\n",
       "      <td>.</td>\n",
       "      <td>.</td>\n",
       "      <td>AC=286;AN=5096;DP=20462;AF=0.06;EAS_AF=0;EUR_A...</td>\n",
       "      <td>GT</td>\n",
       "      <td>286</td>\n",
       "      <td>5096</td>\n",
       "      <td>20462</td>\n",
       "      <td>0.06</td>\n",
       "      <td>0.08</td>\n",
       "    </tr>\n",
       "    <tr>\n",
       "      <th>1</th>\n",
       "      <td>chr10</td>\n",
       "      <td>36097</td>\n",
       "      <td>.</td>\n",
       "      <td>G</td>\n",
       "      <td>A</td>\n",
       "      <td>.</td>\n",
       "      <td>PASS</td>\n",
       "      <td>G|A</td>\n",
       "      <td>A|G</td>\n",
       "      <td>G|G</td>\n",
       "      <td>...</td>\n",
       "      <td>.</td>\n",
       "      <td>.</td>\n",
       "      <td>.</td>\n",
       "      <td>AC=992;AN=5096;DP=18607;AF=0.19;EAS_AF=0.26;EU...</td>\n",
       "      <td>GT</td>\n",
       "      <td>992</td>\n",
       "      <td>5096</td>\n",
       "      <td>18607</td>\n",
       "      <td>0.19</td>\n",
       "      <td>0.18</td>\n",
       "    </tr>\n",
       "    <tr>\n",
       "      <th>2</th>\n",
       "      <td>chr10</td>\n",
       "      <td>45900</td>\n",
       "      <td>.</td>\n",
       "      <td>C</td>\n",
       "      <td>T</td>\n",
       "      <td>.</td>\n",
       "      <td>PASS</td>\n",
       "      <td>C|C</td>\n",
       "      <td>C|C</td>\n",
       "      <td>C|C</td>\n",
       "      <td>...</td>\n",
       "      <td>.</td>\n",
       "      <td>.</td>\n",
       "      <td>.</td>\n",
       "      <td>AC=2;AN=5096;DP=19215;AF=0;EAS_AF=0;EUR_AF=0;A...</td>\n",
       "      <td>GT</td>\n",
       "      <td>2</td>\n",
       "      <td>5096</td>\n",
       "      <td>19215</td>\n",
       "      <td>0</td>\n",
       "      <td>0</td>\n",
       "    </tr>\n",
       "  </tbody>\n",
       "</table>\n",
       "<p>3 rows × 2569 columns</p>\n",
       "</div>"
      ]
     },
     "execution_count": 5,
     "metadata": {},
     "output_type": "execute_result"
    }
   ],
   "execution_count": 5
  }
 ],
 "metadata": {},
 "nbformat": 4,
 "nbformat_minor": 5
}
